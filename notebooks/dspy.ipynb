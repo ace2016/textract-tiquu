{
 "cells": [
  {
   "cell_type": "code",
   "execution_count": null,
   "id": "cd3144c7",
   "metadata": {},
   "outputs": [],
   "source": [
    "import os\n",
    "import re\n",
    "import sys\n",
    "\n",
    "import dspy\n",
    "from rich import print\n",
    "from sentence_transformers import SentenceTransformer, util\n",
    "\n",
    "src_parent = os.path.abspath(os.path.join(os.path.dirname(os.getcwd())))\n",
    "sys.path.append(src_parent)\n",
    "\n",
    "from text_processing.examples import InputOutput, get_all_examples"
   ]
  },
  {
   "cell_type": "code",
   "execution_count": null,
   "id": "ab0caaa2",
   "metadata": {},
   "outputs": [],
   "source": []
  },
  {
   "cell_type": "code",
   "execution_count": 24,
   "id": "04ceb1a8",
   "metadata": {},
   "outputs": [
    {
     "name": "stderr",
     "output_type": "stream",
     "text": [
      "[nltk_data] Downloading package punkt to /home/thankgod/nltk_data...\n",
      "[nltk_data]   Package punkt is already up-to-date!\n"
     ]
    },
    {
     "data": {
      "text/plain": [
       "True"
      ]
     },
     "execution_count": 24,
     "metadata": {},
     "output_type": "execute_result"
    }
   ],
   "source": [
    "import nltk\n",
    "from nltk.tokenize import sent_tokenize\n",
    "\n",
    "# Make sure you have the punkt tokenizer downloaded\n",
    "nltk.download('punkt')\n",
    "\n"
   ]
  },
  {
   "cell_type": "code",
   "execution_count": null,
   "id": "c62502ee",
   "metadata": {},
   "outputs": [
    {
     "data": {
      "text/html": [
       "<pre style=\"white-space:pre;overflow-x:auto;line-height:normal;font-family:Menlo,'DejaVu Sans Mono',consolas,'Courier New',monospace\"><span style=\"color: #008080; text-decoration-color: #008080; font-weight: bold\">1</span>: \n",
       "The concept of sustainability was originally coined in forestry, where it means never harvesting\n",
       "more than what the forest yields in new growth.\n",
       "</pre>\n"
      ],
      "text/plain": [
       "\u001b[1;36m1\u001b[0m: \n",
       "The concept of sustainability was originally coined in forestry, where it means never harvesting\n",
       "more than what the forest yields in new growth.\n"
      ]
     },
     "metadata": {},
     "output_type": "display_data"
    },
    {
     "data": {
      "text/html": [
       "<pre style=\"white-space:pre;overflow-x:auto;line-height:normal;font-family:Menlo,'DejaVu Sans Mono',consolas,'Courier New',monospace\"><span style=\"color: #008080; text-decoration-color: #008080; font-weight: bold\">2</span>: The word Nachhaltigkeit <span style=\"font-weight: bold\">(</span>the German term for\n",
       "sustainability<span style=\"font-weight: bold\">)</span> was first used with this meaning in <span style=\"color: #008080; text-decoration-color: #008080; font-weight: bold\">1713</span>.\n",
       "</pre>\n"
      ],
      "text/plain": [
       "\u001b[1;36m2\u001b[0m: The word Nachhaltigkeit \u001b[1m(\u001b[0mthe German term for\n",
       "sustainability\u001b[1m)\u001b[0m was first used with this meaning in \u001b[1;36m1713\u001b[0m.\n"
      ]
     },
     "metadata": {},
     "output_type": "display_data"
    },
    {
     "data": {
      "text/html": [
       "<pre style=\"white-space:pre;overflow-x:auto;line-height:normal;font-family:Menlo,'DejaVu Sans Mono',consolas,'Courier New',monospace\"><span style=\"color: #008080; text-decoration-color: #008080; font-weight: bold\">3</span>: The concern with preserving natural\n",
       "resources for the future is perennial, of course: undoubtedly our Palaeolithic ancestors worried about\n",
       "their prey becoming extinct, and early farmers must have been apprehensive about maintaining soil\n",
       "fertility.\n",
       "</pre>\n"
      ],
      "text/plain": [
       "\u001b[1;36m3\u001b[0m: The concern with preserving natural\n",
       "resources for the future is perennial, of course: undoubtedly our Palaeolithic ancestors worried about\n",
       "their prey becoming extinct, and early farmers must have been apprehensive about maintaining soil\n",
       "fertility.\n"
      ]
     },
     "metadata": {},
     "output_type": "display_data"
    }
   ],
   "source": [
    "text = \"\"\"\n",
    "The concept of sustainability was originally coined in forestry, where it means never harvesting\n",
    "more than what the forest yields in new growth. The word Nachhaltigkeit (the German term for\n",
    "sustainability) was first used with this meaning in 1713. The concern with preserving natural\n",
    "resources for the future is perennial, of course: undoubtedly our Palaeolithic ancestors worried about\n",
    "their prey becoming extinct, and early farmers must have been apprehensive about maintaining soil\n",
    "fertility.\n",
    "\"\"\"\n",
    "\n"
   ]
  },
  {
   "cell_type": "code",
   "execution_count": null,
   "id": "3345c85f",
   "metadata": {},
   "outputs": [],
   "source": []
  },
  {
   "cell_type": "code",
   "execution_count": null,
   "id": "c87f0c93",
   "metadata": {},
   "outputs": [],
   "source": []
  },
  {
   "cell_type": "code",
   "execution_count": null,
   "id": "5a38d15c",
   "metadata": {},
   "outputs": [],
   "source": []
  },
  {
   "cell_type": "code",
   "execution_count": null,
   "id": "98b990db",
   "metadata": {},
   "outputs": [],
   "source": []
  },
  {
   "cell_type": "code",
   "execution_count": null,
   "id": "eec6d412",
   "metadata": {},
   "outputs": [],
   "source": []
  },
  {
   "cell_type": "code",
   "execution_count": 130,
   "id": "1b323781",
   "metadata": {},
   "outputs": [
    {
     "data": {
      "text/plain": [
       "Prediction(\n",
       "    answer='Hello!'\n",
       ")"
      ]
     },
     "execution_count": 130,
     "metadata": {},
     "output_type": "execute_result"
    }
   ],
   "source": [
    "gpt4 = dspy.LM(\"openai/gpt-4o-mini\", api_key=os.getenv(\"OPENAI_API_KEY\"))\n",
    "llama1b = dspy.LM(\"ollama_chat/llama3.2:1b\", api_base=\"http://localhost:11434\")\n",
    "gemma1b = dspy.LM(\"ollama_chat/gemma3:1b\", api_base=\"http://localhost:11434\") #not capable\n",
    "gemma3_270 = dspy.LM(\"ollama_chat/gemma3:270m\", api_base=\"http://localhost:11434\")\n",
    "\n",
    "dspy.configure(lm=gpt4)\n",
    "\n",
    "\n",
    "dspy.Predict(\"question -> answer\")(question=\"say hello!\")"
   ]
  },
  {
   "cell_type": "code",
   "execution_count": 13,
   "id": "329dfc29",
   "metadata": {},
   "outputs": [],
   "source": [
    "# dspy.settings.configure(lm=lm)"
   ]
  },
  {
   "cell_type": "code",
   "execution_count": null,
   "id": "a14d4273",
   "metadata": {},
   "outputs": [
    {
     "data": {
      "text/plain": [
       "Prediction(\n",
       "    answer='Hello! How can I assist you today?'\n",
       ")"
      ]
     },
     "execution_count": 14,
     "metadata": {},
     "output_type": "execute_result"
    }
   ],
   "source": []
  },
  {
   "cell_type": "code",
   "execution_count": 15,
   "id": "0d14bbc6",
   "metadata": {},
   "outputs": [
    {
     "data": {
      "text/plain": [
       "['\\n            The concept of sustainability was originally coined in forestry,\\n            where it means never harvesting more than what the forest yields in new growth [2].\\n            The word Nachhaltigkeit (the German term for sustainability)\\n            was first used with this meaning in 1713 [3].\\n            The concern with preserving natural resources for the future is perennial,\\n            of course: undoubtedly our Palaeolithic ancestors worried about their prey\\n            becoming extinct, and early farmers must have been apprehensive about maintaining soil\\n            fertility. Traditional beliefs enjoined thinking in terms of stewardship and concern\\n            for future generations, as expressed in the oft-quoted words of a Nigerian tribal\\n            chief who saw the community as consisting of “many dead, few living and countless\\n            others unborn” [4,5]. Perhaps there have always been two opposing views of the relation\\n            between humankind and nature: one which stresses adaptation and harmony, and another\\n            which sees nature as something to be conquered. While this latter view may have been\\n            rather dominant in Western civilization at least in recent centuries, its counterpoint\\n            has never been absent.\\n        ',\n",
       " '\\n            Sustainability (without necessarily using the word) is a natural topic of study for economists:\\n            after all, the scarcity of resources is of central concern to the dismal science.\\n            A famous example is the work of Thomas Malthus, who published his theory about looming mass starvation\\n            (due to the inability of available agricultural land to feed an expanding population) in 1798.\\n            A theory on the optimal rate of exploitation of non-renewable resources which is still relevant today was\\n            formulated by Harold Hotelling, an American economist, in 1931 [6]. We shall have more to say about his views later.\\n            A milestone in capturing the attention of global public policy was the report of the Club of Rome [7],\\n            which predicted that many natural resources crucial to our survival would be exhausted within one or two generations.\\n            Such pessimism is unbecoming in public policy which is, after all, supposed to be about improving things.\\n            Therefore, the report of the UN World Commission on Environment and Development, better known as the Brundtland\\n            Report after its chairperson, was welcomed for showing a way out of impending doom. It was this report which adopted\\n            the concept of sustainability and gave it the widespread recognition it enjoys today.\\n        ',\n",
       " '\\n            The question which Brundtland and her colleagues posed themselves was: how can the aspirations of the world’s\\n            nations for a better life be reconciled with limited natural resources and the dangers of environmental degradation?\\n            Their answer is sustainable development, in the Commission’s words: development that meets the needs of the present without\\n            compromising the ability of future generations to meet their own needs [1]. Thus, environmental concerns are important,\\n            but the basic argument is one of welfare, seen in a context of inter-generational equity. We should care for the environment\\n            not because of its intrinsic value, but in order to preserve resources for our children. Since that time, there have been two\\n            major developments in the concept of sustainability: one, its interpretation in terms of three dimensions, which must be in\\n            harmony—social, economic and environmental. Two, the distinction between ‘strong’ and ‘weak’ sustainability.\\n            These two developments are discussed critically in the Sections 3–4 and 5–6, respectively.\\n         ']"
      ]
     },
     "execution_count": 15,
     "metadata": {},
     "output_type": "execute_result"
    }
   ],
   "source": [
    "get_all_examples()[0].output"
   ]
  },
  {
   "cell_type": "code",
   "execution_count": 16,
   "id": "3bdb5180",
   "metadata": {},
   "outputs": [],
   "source": [
    "#text = get_example(0).output[0]\n",
    "def strip_text(text):\n",
    "    return re.sub(r'\\s+', ' ', text.strip())"
   ]
  },
  {
   "cell_type": "code",
   "execution_count": 17,
   "id": "05a72a7d",
   "metadata": {},
   "outputs": [
    {
     "data": {
      "text/plain": [
       "[Example({'text_block': 'The concept of sustainability was originally coined in forestry, where it means never harvesting more than what the forest yields in new growth [2]. The word Nachhaltigkeit (the German term for sustainability) was first used with this meaning in 1713 [3]. The concern with preserving natural resources for the future is perennial, of course: undoubtedly our Palaeolithic ancestors worried about their prey becoming extinct, and early farmers must have been apprehensive about maintaining soil fertility. Traditional beliefs enjoined thinking in terms of stewardship and concern for future generations, as expressed in the oft-quoted words of a Nigerian tribal chief who saw the community as consisting of “many dead, few living and countless others unborn” [4,5]. Perhaps there have always been two opposing views of the relation between humankind and nature: one which stresses adaptation and harmony, and another which sees nature as something to be conquered. While this latter view may have been rather dominant in Western civilization at least in recent centuries, its counterpoint has never been absent. Sustainability (without necessarily using the word) is a natural topic of study for economists: after all, the scarcity of resources is of central concern to the dismal science. A famous example is the work of Thomas Malthus, who published his theory about looming mass starvation (due to the inability of available agricultural land to feed an expanding population) in 1798. A theory on the optimal rate of exploitation of non-renewable resource which is still relevant today was formulated by Harold Hotelling, an American economist, in 1931 [6]. We shall have more to say about his views later. A milestone in capturing the attention of global public policy was the report of the Club of Rome [7], which predicted that many natural resources crucial to our survival would be exhausted within one or two generations. Such pessimism is unbecoming in public policy which is, after all, supposed to be about improving things. Therefore, the report of the UN World Commission on Environment and Development, better known as the Brundtland Report after its chairperson, was welcomed for showing a way out of impending doom. It was this report which adopted the concept of sustainability and gave it the widespread recognition it enjoys today. The question which Brundtland and her colleagues posed themselves was: how can the aspirations of the world’s nations for a better life be reconciled with limited natural resources and the dangers of environmental degradation? Their answer is sustainable development, in the Commission’s words: development that meets the needs of the present without compromising the ability of future generations to meet their own needs [1]. Thus, environmental concerns are important, but the basic argument is one of welfare, seen in a context of inter-generational equity. We should care for the environment not because of its intrinsic value, but in order to preserve resources for our children. Since that time, there have been two major developments in the concept of sustainability: one, its interpretation in terms of three dimensions, which must be in harmony: social, economic and environmental. Two, the distinction between ‘strong’ and ‘weak’ sustainability. These two developments are discussed critically in the Sections 3–4 and 5–6, respectively.', 'splits': ['The concept of sustainability was originally coined in forestry, where it means never harvesting more than what the forest yields in new growth [2]. The word Nachhaltigkeit (the German term for sustainability) was first used with this meaning in 1713 [3]. The concern with preserving natural resources for the future is perennial, of course: undoubtedly our Palaeolithic ancestors worried about their prey becoming extinct, and early farmers must have been apprehensive about maintaining soil fertility. Traditional beliefs enjoined thinking in terms of stewardship and concern for future generations, as expressed in the oft-quoted words of a Nigerian tribal chief who saw the community as consisting of “many dead, few living and countless others unborn” [4,5]. Perhaps there have always been two opposing views of the relation between humankind and nature: one which stresses adaptation and harmony, and another which sees nature as something to be conquered. While this latter view may have been rather dominant in Western civilization at least in recent centuries, its counterpoint has never been absent.', 'Sustainability (without necessarily using the word) is a natural topic of study for economists: after all, the scarcity of resources is of central concern to the dismal science. A famous example is the work of Thomas Malthus, who published his theory about looming mass starvation (due to the inability of available agricultural land to feed an expanding population) in 1798. A theory on the optimal rate of exploitation of non-renewable resources which is still relevant today was formulated by Harold Hotelling, an American economist, in 1931 [6]. We shall have more to say about his views later. A milestone in capturing the attention of global public policy was the report of the Club of Rome [7], which predicted that many natural resources crucial to our survival would be exhausted within one or two generations. Such pessimism is unbecoming in public policy which is, after all, supposed to be about improving things. Therefore, the report of the UN World Commission on Environment and Development, better known as the Brundtland Report after its chairperson, was welcomed for showing a way out of impending doom. It was this report which adopted the concept of sustainability and gave it the widespread recognition it enjoys today.', 'The question which Brundtland and her colleagues posed themselves was: how can the aspirations of the world’s nations for a better life be reconciled with limited natural resources and the dangers of environmental degradation? Their answer is sustainable development, in the Commission’s words: development that meets the needs of the present without compromising the ability of future generations to meet their own needs [1]. Thus, environmental concerns are important, but the basic argument is one of welfare, seen in a context of inter-generational equity. We should care for the environment not because of its intrinsic value, but in order to preserve resources for our children. Since that time, there have been two major developments in the concept of sustainability: one, its interpretation in terms of three dimensions, which must be in harmony—social, economic and environmental. Two, the distinction between ‘strong’ and ‘weak’ sustainability. These two developments are discussed critically in the Sections 3–4 and 5–6, respectively.']}) (input_keys={'text_block'}),\n",
       " Example({'text_block': 'The Brundtland report speaks of two concerns that should be reconciled: development and the environment. They can also be interpreted as needs versus resources, or as the short versus the long term. Today, however, sustainability is almost always seen in terms of three dimensions: social, economic and environmental [8-11]. This is embodied in the definition of sustainability adopted by the United Nations in its Agenda for Development: Development is a multidimensional undertaking to achieve a higher quality of life for all people. Economic development, social development and environmental protection are interdependent and mutually reinforcing components of sustainable development [12]. But what are economic and social development and how are they different? Robert Gibson, a political scientist, says that the distinction is needed because “material gains are not sufficient measures or preservers of human well-being” [13]. The same author also suggests that the three dimensions or ‘pillars’ reflect the disciplines of those who study sustainability, adding for good measure that a cultural and a political pillar could also be included [13]. Gibson himself, by the way, rejects the idea of pillars altogether and instead formulates seven principles on which sustainability could be based. The idea of sustainability having three dimensions stems from the Triple Bottom Line concept, coined by Elkington [14]. As the term bottom line suggests, it originates from the world of management science, and Elkington intended it as a way to operationalize corporate social responsibility. To the conventional bottom line (profit) should be added care for the environment (the planet) as well as being good to people, for instance by providing facilities for the handicapped and hiring minorities (the social dimension). The goals of business, however, are very different from those of public policy. Although, as in business, revenue is needed to cover government expenditure, maximizing the excess of revenue over expenditure is not normally considered an appropriate goal for government policy. Government is not supposed to be a profit-making venture. The ‘profit’ pillar is therefore translated as the money made by the entire country, expressed as gross domestic product (GDP). This then is the economic dimension, and the social dimension (‘people’) is everything else connected with human aspirations: equity (translated as income distribution), inclusion (commonly operationalized as employment) and health (expressed by an indicator such as life expectancy or access to medical services). However, the equation of ‘economic’ with money is a very limited view of economics. Moreover, the view is further restricted if we confine ourselves to the aggregate amount, and not with its distribution or with what the money can buy. GDP is intended as a measure of welfare, and as such it is a very useful but also a very incomplete and biased one. It is useful for measuring the amount of economic activity and because there are relatively good data for it; but it needs to complemented by other indices, such as the Human Development Index. These are subjects of study for both economics and sociology, and there is no good reason to call one aspect economic and the others social. The sociologist would ask what welfare is and how it can be measured (an issue discussed in the next section), whereas the economist’s task would be to assess, given human aspirations and the scarcity of resources, what course of action is likely to produce the highest degree of satisfaction of those aspirations. If there is good reason from a conceptual point of view to prefer a single socio-economic dimension, what of its usefulness to policy analysts? Let us consider a hypothetical project which scores very well on the environmental dimension but rather poorly on both the social and the economic one. This might easily lead a policy-maker to conclude that the project is, on the whole, not a good idea. A two-dimensional approach might bring about the opposite judgment: its environmental benefits come at a cost in terms of welfare. The environmental dimension may thus receive less weight in a three-dimensional approach. Indeed, some authors explicitly state that the three dimensions should receive equal weight [15]. Since socio-economic aspects are mostly about the well-being of the present generation and environmental ones are about caring for the future, this means the former become twice as important as the latter—which violates the Brundtland requirement that development should not take place at the expense of future generations. Worse, perhaps, is that the contradiction between our desire for a better life and our concern for what this may do to the environment is obscured by conceptualizing these two concerns into three dimensions, and then suggesting that a solution is possible where all three are in harmony. Sustainability then becomes a concept that is equivalent to ‘good’ and thus devoid of any specific meaning—a blanket concept to assure stakeholders of the policy’s good intentions. The strength and relevance of the original Brundtland concept was precisely that it posed the question of how to reconcile one goal ‘development’ with another ‘sustainability’. The two goals are often in tension. Therefore, we propose to use the word sustainability in the sense as it was intended by the Brundtland Commission, and not as it has been coined later by corporate types and policy-makers. In the words of Robert Solow [16]: If ‘sustainability’ is anything more than a slogan or expression of emotion, it must amount to an injunction to preserve productive capacity for the indefinite future. Such a concept must be confronted with the socio-economic dimension of human aspirations for a better life: welfare, well-being, development or some similar concept. Which of these concepts it should be is the topic of the following section, before returning to our exploration of sustainability.', 'splits': ['The Brundtland report speaks of two concerns that should be reconciled: development and the environment. They can also be interpreted as needs versus resources, or as the short versus the long term. Today, however, sustainability is almost always seen in terms of three dimensions: social, economic and environmental [8–11]. This is embodied in the definition of sustainability adopted by the United Nations in its Agenda for Development: Development is a multidimensional undertaking to achieve a higher quality of life for all people. Economic development, social development and environmental protection are interdependent and mutually reinforcing components of sustainable development [12]. But what are economic and social development and how are they different? Robert Gibson, a political scientist, says that the distinction is needed because “material gains are not sufficient measures or preservers of human well-being” [13]. The same author also suggests that the three dimensions or ‘pillars’ reflect the disciplines of those who study sustainability, adding for good measure that a cultural and a political pillar could also be included [13]. Gibson himself, by the way, rejects the idea of pillars altogether and instead formulates seven principles on which sustainability could be based.', 'The idea of sustainability having three dimensions stems from the Triple Bottom Line concept, coined by Elkington [14]. As the term bottom line suggests, it originates from the world of management science, and Elkington intended it as a way to operationalize corporate social responsibility. To the conventional bottom line (profit) should be added care for the environment (the planet) as well as being good to people, for instance by providing facilities for the handicapped and hiring minorities (the social dimension). The goals of business, however, are very different from those of public policy. Although, as in business, revenue is needed to cover government expenditure, maximizing the excess of revenue over expenditure is not normally considered an appropriate goal for government policy. Government is not supposed to be a profit-making venture. The ‘profit’ pillar is therefore translated as the money made by the entire country, expressed as gross domestic product (GDP). This then is the economic dimension, and the social dimension (‘people’) is everything else connected with human aspirations: equity (translated as income distribution), inclusion (commonly operationalized as employment) and health (expressed by an indicator such as life expectancy or access to medical services).', 'However, the equation of ‘economic’ with money is a very limited view of economics. Moreover, the view is further restricted if we confine ourselves to the aggregate amount, and not with its distribution or with what the money can buy. GDP is intended as a measure of welfare, and as such it is a very useful but also a very incomplete and biased one. It is useful for measuring the amount of economic activity and because there are relatively good data for it; but it needs to be complemented by other indices, such as the Human Development Index. These are subjects of study for both economics and sociology, and there is no good reason to call one aspect economic and the others social. The sociologist would ask what welfare is and how it can be measured (an issue discussed in the next section), whereas the economist’s task would be to assess, given human aspirations and the scarcity of resources, what course of action is likely to produce the highest degree of satisfaction of those aspirations. If there is good reason from a conceptual point of view to prefer a single socio-economic dimension, what of its usefulness to policy analysts?', 'Let us consider a hypothetical project which scores very well on the environmental dimension but rather poorly on both the social and the economic one. This might easily lead a policy-maker to conclude that the project is, on the whole, not a good idea. A two-dimensional approach might bring about the opposite judgment: its environmental benefits come at a cost in terms of welfare. The environmental dimension may thus receive less weight in a three-dimensional approach. Indeed, some authors explicitly state that the three dimensions should receive equal weight [15]. Since socio-economic aspects are mostly about the well-being of the present generation and environmental ones are about caring for the future, this means the former become twice as important as the latter—which violates the Brundtland requirement that development should not take place at the expense of future generations. Worse, perhaps, is that the contradiction between our desire for a better life and our concern for what this may do to the environment is obscured by conceptualizing these two concerns into three dimensions, and then suggesting that a solution is possible where all three are in harmony. Sustainability then becomes a concept that is equivalent to ‘good’ and thus devoid of any specific meaning—a blanket concept to assure stakeholders of the policy’s good intentions. The strength and relevance of the original Brundtland concept was precisely that it posed the question of how to reconcile one goal ‘development’ with another ‘sustainability’. The two goals are often in tension. Therefore, we propose to use the word sustainability in the sense as it was intended by the Brundtland Commission, and not as it has been coined later by corporate types and policy-makers. In the words of Robert Solow [16]: If ‘sustainability’ is anything more than a slogan or expression of emotion, it must amount to an injunction to preserve productive capacity for the indefinite future. Such a concept must be confronted with the socio-economic dimension of human aspirations for a better life: welfare, well-being, development or some similar concept. Which of these concepts it should be is the topic of the following section, before returning to our exploration of sustainability.']}) (input_keys={'text_block'})]"
      ]
     },
     "execution_count": 17,
     "metadata": {},
     "output_type": "execute_result"
    }
   ],
   "source": [
    "def chunk_examples(examples : list[InputOutput]) -> list([dspy.Example]):\n",
    "    return [\n",
    "        dspy.Example(\n",
    "        text_block=strip_text(examples()[i].input), \n",
    "        splits=[strip_text(output) for output in examples()[i].output]\n",
    "        ).with_inputs(\"text_block\")\n",
    "        for i in range(len(examples()))\n",
    "    ]\n",
    "\n",
    "data=chunk_examples(get_all_examples)\n",
    "data"
   ]
  },
  {
   "cell_type": "code",
   "execution_count": 18,
   "id": "e423f1b4",
   "metadata": {},
   "outputs": [
    {
     "data": {
      "text/plain": [
       "'The concept of sustainability was originally coined in forestry, where it means never harvesting more than what the forest yields in new growth [2]. The word Nachhaltigkeit (the German term for sustainability) was first used with this meaning in 1713 [3]. The concern with preserving natural resources for the future is perennial, of course: undoubtedly our Palaeolithic ancestors worried about their prey becoming extinct, and early farmers must have been apprehensive about maintaining soil fertility. Traditional beliefs enjoined thinking in terms of stewardship and concern for future generations, as expressed in the oft-quoted words of a Nigerian tribal chief who saw the community as consisting of “many dead, few living and countless others unborn” [4,5]. Perhaps there have always been two opposing views of the relation between humankind and nature: one which stresses adaptation and harmony, and another which sees nature as something to be conquered. While this latter view may have been rather dominant in Western civilization at least in recent centuries, its counterpoint has never been absent. Sustainability (without necessarily using the word) is a natural topic of study for economists: after all, the scarcity of resources is of central concern to the dismal science. A famous example is the work of Thomas Malthus, who published his theory about looming mass starvation (due to the inability of available agricultural land to feed an expanding population) in 1798. A theory on the optimal rate of exploitation of non-renewable resource which is still relevant today was formulated by Harold Hotelling, an American economist, in 1931 [6]. We shall have more to say about his views later. A milestone in capturing the attention of global public policy was the report of the Club of Rome [7], which predicted that many natural resources crucial to our survival would be exhausted within one or two generations. Such pessimism is unbecoming in public policy which is, after all, supposed to be about improving things. Therefore, the report of the UN World Commission on Environment and Development, better known as the Brundtland Report after its chairperson, was welcomed for showing a way out of impending doom. It was this report which adopted the concept of sustainability and gave it the widespread recognition it enjoys today. The question which Brundtland and her colleagues posed themselves was: how can the aspirations of the world’s nations for a better life be reconciled with limited natural resources and the dangers of environmental degradation? Their answer is sustainable development, in the Commission’s words: development that meets the needs of the present without compromising the ability of future generations to meet their own needs [1]. Thus, environmental concerns are important, but the basic argument is one of welfare, seen in a context of inter-generational equity. We should care for the environment not because of its intrinsic value, but in order to preserve resources for our children. Since that time, there have been two major developments in the concept of sustainability: one, its interpretation in terms of three dimensions, which must be in harmony: social, economic and environmental. Two, the distinction between ‘strong’ and ‘weak’ sustainability. These two developments are discussed critically in the Sections 3–4 and 5–6, respectively.'"
      ]
     },
     "execution_count": 18,
     "metadata": {},
     "output_type": "execute_result"
    }
   ],
   "source": [
    "data[0].text_block"
   ]
  },
  {
   "cell_type": "code",
   "execution_count": 19,
   "id": "54461df8",
   "metadata": {},
   "outputs": [],
   "source": [
    "#from typing import List\n",
    "\n",
    "class TextSplitter(dspy.Signature):\n",
    "    text_block: str = dspy.InputField(desc=\"Full text block\")\n",
    "    splits: list[str] = dspy.OutputField(desc=\"No paraphrase of full text block in a list of semantically consistent splits usually 100-250 words in each split\")\n"
   ]
  },
  {
   "cell_type": "code",
   "execution_count": 20,
   "id": "e0fe9a1b",
   "metadata": {},
   "outputs": [
    {
     "data": {
      "text/plain": [
       "[\"The Brundtland report speaks of two concerns that should be reconciled: development and the environment. They can also be interpreted as needs versus resources, or as the short versus the long term. Today, however, sustainability is almost always seen in terms of three dimensions: social, economic and environmental. This is embodied in the definition of sustainability adopted by the United Nations in its Agenda for Development: Development is a multidimensional undertaking to achieve a higher quality of life for all people. Economic development, social development and environmental protection are interdependent and mutually reinforcing components of sustainable development. But what are economic and social development and how are they different? Robert Gibson, a political scientist, says that the distinction is needed because 'material gains are not sufficient measures or preservers of human well-being.' The same author also suggests that the three dimensions or 'pillars' reflect the disciplines of those who study sustainability, adding for good measure that a cultural and a political pillar could also be included.\",\n",
       " 'Gibson himself, by the way, rejects the idea of pillars altogether and instead formulates seven principles on which sustainability could be based. The idea of sustainability having three dimensions stems from the Triple Bottom Line concept, coined by Elkington. As the term bottom line suggests, it originates from the world of management science, and Elkington intended it as a way to operationalize corporate social responsibility. To the conventional bottom line (profit) should be added care for the environment (the planet) as well as being good to people, for instance by providing facilities for the handicapped and hiring minorities (the social dimension). The goals of business, however, are very different from those of public policy. Although, as in business, revenue is needed to cover government expenditure, maximizing the excess of revenue over expenditure is not normally considered an appropriate goal for government policy. Government is not supposed to be a profit-making venture.',\n",
       " \"The 'profit' pillar is therefore translated as the money made by the entire country, expressed as gross domestic product (GDP). This then is the economic dimension, and the social dimension ('people') is everything else connected with human aspirations: equity (translated as income distribution), inclusion (commonly operationalized as employment) and health (expressed by an indicator such as life expectancy or access to medical services). However, the equation of 'economic' with money is a very limited view of economics. Moreover, the view is further restricted if we confine ourselves to the aggregate amount, and not with its distribution or with what the money can buy. GDP is intended as a measure of welfare, and as such it is a very useful but also a very incomplete and biased one. It is useful for measuring the amount of economic activity and because there are relatively good data for it; but it needs to be complemented by other indices, such as the Human Development Index.\",\n",
       " \"These are subjects of study for both economics and sociology, and there is no good reason to call one aspect economic and the others social. The sociologist would ask what welfare is and how it can be measured (an issue discussed in the next section), whereas the economist's task would be to assess, given human aspirations and the scarcity of resources, what course of action is likely to produce the highest degree of satisfaction of those aspirations. If there is good reason from a conceptual point of view to prefer a single socio-economic dimension, what of its usefulness to policy analysts? Let us consider a hypothetical project which scores very well on the environmental dimension but rather poorly on both the social and the economic one. This might easily lead a policy-maker to conclude that the project is, on the whole, not a good idea.\",\n",
       " 'A two-dimensional approach might bring about the opposite judgment: its environmental benefits come at a cost in terms of welfare. The environmental dimension may thus receive less weight in a three-dimensional approach. Indeed, some authors explicitly state that the three dimensions should receive equal weight. Since socio-economic aspects are mostly about the well-being of the present generation and environmental ones are about caring for the future, this means the former become twice as important as the latter—which violates the Brundtland requirement that development should not take place at the expense of future generations. Worse, perhaps, is that the contradiction between our desire for a better life and our concern for what this may do to the environment is obscured by conceptualizing these two concerns into three dimensions, and then suggesting that a solution is possible where all three are in harmony.',\n",
       " \"Sustainability then becomes a concept that is equivalent to 'good' and thus devoid of any specific meaning—a blanket concept to assure stakeholders of the policy's good intentions. The strength and relevance of the original Brundtland concept was precisely that it posed the question of how to reconcile one goal 'development' with another 'sustainability'. The two goals are often in tension. Therefore, we propose to use the word sustainability in the sense as it was intended by the Brundtland Commission, and not as it has been coined later by corporate types and policy-makers. In the words of Robert Solow: If 'sustainability' is anything more than a slogan or expression of emotion, it must amount to an injunction to preserve productive capacity for the indefinite future. Such a concept must be confronted with the socio-economic dimension of human aspirations for a better life: welfare, well-being, development or some similar concept.\"]"
      ]
     },
     "execution_count": 20,
     "metadata": {},
     "output_type": "execute_result"
    }
   ],
   "source": [
    "dspy.Predict(TextSplitter)(text_block=data[1].text_block).splits"
   ]
  },
  {
   "cell_type": "code",
   "execution_count": 21,
   "id": "8af7b26c",
   "metadata": {},
   "outputs": [
    {
     "data": {
      "text/plain": [
       "['The Brundtland report speaks of two concerns that should be reconciled: development and the environment. They can also be interpreted as needs versus resources, or as the short versus the long term. Today, however, sustainability is almost always seen in terms of three dimensions: social, economic and environmental [8–11]. This is embodied in the definition of sustainability adopted by the United Nations in its Agenda for Development: Development is a multidimensional undertaking to achieve a higher quality of life for all people. Economic development, social development and environmental protection are interdependent and mutually reinforcing components of sustainable development [12]. But what are economic and social development and how are they different? Robert Gibson, a political scientist, says that the distinction is needed because “material gains are not sufficient measures or preservers of human well-being” [13]. The same author also suggests that the three dimensions or ‘pillars’ reflect the disciplines of those who study sustainability, adding for good measure that a cultural and a political pillar could also be included [13]. Gibson himself, by the way, rejects the idea of pillars altogether and instead formulates seven principles on which sustainability could be based.',\n",
       " 'The idea of sustainability having three dimensions stems from the Triple Bottom Line concept, coined by Elkington [14]. As the term bottom line suggests, it originates from the world of management science, and Elkington intended it as a way to operationalize corporate social responsibility. To the conventional bottom line (profit) should be added care for the environment (the planet) as well as being good to people, for instance by providing facilities for the handicapped and hiring minorities (the social dimension). The goals of business, however, are very different from those of public policy. Although, as in business, revenue is needed to cover government expenditure, maximizing the excess of revenue over expenditure is not normally considered an appropriate goal for government policy. Government is not supposed to be a profit-making venture. The ‘profit’ pillar is therefore translated as the money made by the entire country, expressed as gross domestic product (GDP). This then is the economic dimension, and the social dimension (‘people’) is everything else connected with human aspirations: equity (translated as income distribution), inclusion (commonly operationalized as employment) and health (expressed by an indicator such as life expectancy or access to medical services).',\n",
       " 'However, the equation of ‘economic’ with money is a very limited view of economics. Moreover, the view is further restricted if we confine ourselves to the aggregate amount, and not with its distribution or with what the money can buy. GDP is intended as a measure of welfare, and as such it is a very useful but also a very incomplete and biased one. It is useful for measuring the amount of economic activity and because there are relatively good data for it; but it needs to be complemented by other indices, such as the Human Development Index. These are subjects of study for both economics and sociology, and there is no good reason to call one aspect economic and the others social. The sociologist would ask what welfare is and how it can be measured (an issue discussed in the next section), whereas the economist’s task would be to assess, given human aspirations and the scarcity of resources, what course of action is likely to produce the highest degree of satisfaction of those aspirations. If there is good reason from a conceptual point of view to prefer a single socio-economic dimension, what of its usefulness to policy analysts?',\n",
       " 'Let us consider a hypothetical project which scores very well on the environmental dimension but rather poorly on both the social and the economic one. This might easily lead a policy-maker to conclude that the project is, on the whole, not a good idea. A two-dimensional approach might bring about the opposite judgment: its environmental benefits come at a cost in terms of welfare. The environmental dimension may thus receive less weight in a three-dimensional approach. Indeed, some authors explicitly state that the three dimensions should receive equal weight [15]. Since socio-economic aspects are mostly about the well-being of the present generation and environmental ones are about caring for the future, this means the former become twice as important as the latter—which violates the Brundtland requirement that development should not take place at the expense of future generations. Worse, perhaps, is that the contradiction between our desire for a better life and our concern for what this may do to the environment is obscured by conceptualizing these two concerns into three dimensions, and then suggesting that a solution is possible where all three are in harmony. Sustainability then becomes a concept that is equivalent to ‘good’ and thus devoid of any specific meaning—a blanket concept to assure stakeholders of the policy’s good intentions. The strength and relevance of the original Brundtland concept was precisely that it posed the question of how to reconcile one goal ‘development’ with another ‘sustainability’. The two goals are often in tension. Therefore, we propose to use the word sustainability in the sense as it was intended by the Brundtland Commission, and not as it has been coined later by corporate types and policy-makers. In the words of Robert Solow [16]: If ‘sustainability’ is anything more than a slogan or expression of emotion, it must amount to an injunction to preserve productive capacity for the indefinite future. Such a concept must be confronted with the socio-economic dimension of human aspirations for a better life: welfare, well-being, development or some similar concept. Which of these concepts it should be is the topic of the following section, before returning to our exploration of sustainability.']"
      ]
     },
     "execution_count": 21,
     "metadata": {},
     "output_type": "execute_result"
    }
   ],
   "source": [
    "data[1].splits"
   ]
  },
  {
   "cell_type": "code",
   "execution_count": 105,
   "id": "fcd561bc",
   "metadata": {},
   "outputs": [
    {
     "data": {
      "text/html": [
       "<pre style=\"white-space:pre;overflow-x:auto;line-height:normal;font-family:Menlo,'DejaVu Sans Mono',consolas,'Courier New',monospace\">The Brundtland report speaks of two concerns that should be reconciled: development and the environment. They can \n",
       "also be interpreted as needs versus resources, or as the short versus the long term. Today, however, sustainability\n",
       "is almost always seen in terms of three dimensions: social, economic and environmental <span style=\"font-weight: bold\">[</span><span style=\"color: #008080; text-decoration-color: #008080; font-weight: bold\">8</span>-<span style=\"color: #008080; text-decoration-color: #008080; font-weight: bold\">11</span><span style=\"font-weight: bold\">]</span>. This is embodied in \n",
       "the definition of sustainability adopted by the United Nations in its Agenda for Development: Development is a \n",
       "multidimensional undertaking to achieve a higher quality of life for all people. Economic development, social \n",
       "development and environmental protection are interdependent and mutually reinforcing components of sustainable \n",
       "development <span style=\"font-weight: bold\">[</span><span style=\"color: #008080; text-decoration-color: #008080; font-weight: bold\">12</span><span style=\"font-weight: bold\">]</span>. But what are economic and social development and how are they different? Robert Gibson, a \n",
       "political scientist, says that the distinction is needed because “material gains are not sufficient measures or \n",
       "preservers of human well-being” <span style=\"font-weight: bold\">[</span><span style=\"color: #008080; text-decoration-color: #008080; font-weight: bold\">13</span><span style=\"font-weight: bold\">]</span>. The same author also suggests that the three dimensions or ‘pillars’ reflect \n",
       "the disciplines of those who study sustainability, adding for good measure that a cultural and a political pillar \n",
       "could also be included <span style=\"font-weight: bold\">[</span><span style=\"color: #008080; text-decoration-color: #008080; font-weight: bold\">13</span><span style=\"font-weight: bold\">]</span>. Gibson himself, by the way, rejects the idea of pillars altogether and instead \n",
       "formulates seven principles on which sustainability could be based. The idea of sustainability having three \n",
       "dimensions stems from the Triple Bottom Line concept, coined by Elkington <span style=\"font-weight: bold\">[</span><span style=\"color: #008080; text-decoration-color: #008080; font-weight: bold\">14</span><span style=\"font-weight: bold\">]</span>. As the term bottom line suggests, \n",
       "it originates from the world of management science, and Elkington intended it as a way to operationalize corporate \n",
       "social responsibility. To the conventional bottom line <span style=\"font-weight: bold\">(</span>profit<span style=\"font-weight: bold\">)</span> should be added care for the environment <span style=\"font-weight: bold\">(</span>the \n",
       "planet<span style=\"font-weight: bold\">)</span> as well as being good to people, for instance by providing facilities for the handicapped and hiring \n",
       "minorities <span style=\"font-weight: bold\">(</span>the social dimension<span style=\"font-weight: bold\">)</span>. The goals of business, however, are very different from those of public policy. \n",
       "Although, as in business, revenue is needed to cover government expenditure, maximizing the excess of revenue over \n",
       "expenditure is not normally considered an appropriate goal for government policy. Government is not supposed to be \n",
       "a profit-making venture. The ‘profit’ pillar is therefore translated as the money made by the entire country, \n",
       "expressed as gross domestic product <span style=\"font-weight: bold\">(</span>GDP<span style=\"font-weight: bold\">)</span>. This then is the economic dimension, and the social dimension <span style=\"font-weight: bold\">(</span>‘people’<span style=\"font-weight: bold\">)</span>\n",
       "is everything else connected with human aspirations: equity <span style=\"font-weight: bold\">(</span>translated as income distribution<span style=\"font-weight: bold\">)</span>, inclusion \n",
       "<span style=\"font-weight: bold\">(</span>commonly operationalized as employment<span style=\"font-weight: bold\">)</span> and health <span style=\"font-weight: bold\">(</span>expressed by an indicator such as life expectancy or access to\n",
       "medical services<span style=\"font-weight: bold\">)</span>. However, the equation of ‘economic’ with money is a very limited view of economics. Moreover, \n",
       "the view is further restricted if we confine ourselves to the aggregate amount, and not with its distribution or \n",
       "with what the money can buy. GDP is intended as a measure of welfare, and as such it is a very useful but also a \n",
       "very incomplete and biased one. It is useful for measuring the amount of economic activity and because there are \n",
       "relatively good data for it; but it needs to complemented by other indices, such as the Human Development Index. \n",
       "These are subjects of study for both economics and sociology, and there is no good reason to call one aspect \n",
       "economic and the others social. The sociologist would ask what welfare is and how it can be measured <span style=\"font-weight: bold\">(</span>an issue \n",
       "discussed in the next section<span style=\"font-weight: bold\">)</span>, whereas the economist’s task would be to assess, given human aspirations and the \n",
       "scarcity of resources, what course of action is likely to produce the highest degree of satisfaction of those \n",
       "aspirations. If there is good reason from a conceptual point of view to prefer a single socio-economic dimension, \n",
       "what of its usefulness to policy analysts? Let us consider a hypothetical project which scores very well on the \n",
       "environmental dimension but rather poorly on both the social and the economic one. This might easily lead a \n",
       "policy-maker to conclude that the project is, on the whole, not a good idea. A two-dimensional approach might bring\n",
       "about the opposite judgment: its environmental benefits come at a cost in terms of welfare. The environmental \n",
       "dimension may thus receive less weight in a three-dimensional approach. Indeed, some authors explicitly state that \n",
       "the three dimensions should receive equal weight <span style=\"font-weight: bold\">[</span><span style=\"color: #008080; text-decoration-color: #008080; font-weight: bold\">15</span><span style=\"font-weight: bold\">]</span>. Since socio-economic aspects are mostly about the well-being\n",
       "of the present generation and environmental ones are about caring for the future, this means the former become \n",
       "twice as important as the latter—which violates the Brundtland requirement that development should not take place \n",
       "at the expense of future generations. Worse, perhaps, is that the contradiction between our desire for a better \n",
       "life and our concern for what this may do to the environment is obscured by conceptualizing these two concerns into\n",
       "three dimensions, and then suggesting that a solution is possible where all three are in harmony. Sustainability \n",
       "then becomes a concept that is equivalent to ‘good’ and thus devoid of any specific meaning—a blanket concept to \n",
       "assure stakeholders of the policy’s good intentions. The strength and relevance of the original Brundtland concept \n",
       "was precisely that it posed the question of how to reconcile one goal ‘development’ with another ‘sustainability’. \n",
       "The two goals are often in tension. Therefore, we propose to use the word sustainability in the sense as it was \n",
       "intended by the Brundtland Commission, and not as it has been coined later by corporate types and policy-makers. In\n",
       "the words of Robert Solow <span style=\"font-weight: bold\">[</span><span style=\"color: #008080; text-decoration-color: #008080; font-weight: bold\">16</span><span style=\"font-weight: bold\">]</span>: If ‘sustainability’ is anything more than a slogan or expression of emotion, it \n",
       "must amount to an injunction to preserve productive capacity for the indefinite future. Such a concept must be \n",
       "confronted with the socio-economic dimension of human aspirations for a better life: welfare, well-being, \n",
       "development or some similar concept. Which of these concepts it should be is the topic of the following section, \n",
       "before returning to our exploration of sustainability.\n",
       "</pre>\n"
      ],
      "text/plain": [
       "The Brundtland report speaks of two concerns that should be reconciled: development and the environment. They can \n",
       "also be interpreted as needs versus resources, or as the short versus the long term. Today, however, sustainability\n",
       "is almost always seen in terms of three dimensions: social, economic and environmental \u001b[1m[\u001b[0m\u001b[1;36m8\u001b[0m-\u001b[1;36m11\u001b[0m\u001b[1m]\u001b[0m. This is embodied in \n",
       "the definition of sustainability adopted by the United Nations in its Agenda for Development: Development is a \n",
       "multidimensional undertaking to achieve a higher quality of life for all people. Economic development, social \n",
       "development and environmental protection are interdependent and mutually reinforcing components of sustainable \n",
       "development \u001b[1m[\u001b[0m\u001b[1;36m12\u001b[0m\u001b[1m]\u001b[0m. But what are economic and social development and how are they different? Robert Gibson, a \n",
       "political scientist, says that the distinction is needed because “material gains are not sufficient measures or \n",
       "preservers of human well-being” \u001b[1m[\u001b[0m\u001b[1;36m13\u001b[0m\u001b[1m]\u001b[0m. The same author also suggests that the three dimensions or ‘pillars’ reflect \n",
       "the disciplines of those who study sustainability, adding for good measure that a cultural and a political pillar \n",
       "could also be included \u001b[1m[\u001b[0m\u001b[1;36m13\u001b[0m\u001b[1m]\u001b[0m. Gibson himself, by the way, rejects the idea of pillars altogether and instead \n",
       "formulates seven principles on which sustainability could be based. The idea of sustainability having three \n",
       "dimensions stems from the Triple Bottom Line concept, coined by Elkington \u001b[1m[\u001b[0m\u001b[1;36m14\u001b[0m\u001b[1m]\u001b[0m. As the term bottom line suggests, \n",
       "it originates from the world of management science, and Elkington intended it as a way to operationalize corporate \n",
       "social responsibility. To the conventional bottom line \u001b[1m(\u001b[0mprofit\u001b[1m)\u001b[0m should be added care for the environment \u001b[1m(\u001b[0mthe \n",
       "planet\u001b[1m)\u001b[0m as well as being good to people, for instance by providing facilities for the handicapped and hiring \n",
       "minorities \u001b[1m(\u001b[0mthe social dimension\u001b[1m)\u001b[0m. The goals of business, however, are very different from those of public policy. \n",
       "Although, as in business, revenue is needed to cover government expenditure, maximizing the excess of revenue over \n",
       "expenditure is not normally considered an appropriate goal for government policy. Government is not supposed to be \n",
       "a profit-making venture. The ‘profit’ pillar is therefore translated as the money made by the entire country, \n",
       "expressed as gross domestic product \u001b[1m(\u001b[0mGDP\u001b[1m)\u001b[0m. This then is the economic dimension, and the social dimension \u001b[1m(\u001b[0m‘people’\u001b[1m)\u001b[0m\n",
       "is everything else connected with human aspirations: equity \u001b[1m(\u001b[0mtranslated as income distribution\u001b[1m)\u001b[0m, inclusion \n",
       "\u001b[1m(\u001b[0mcommonly operationalized as employment\u001b[1m)\u001b[0m and health \u001b[1m(\u001b[0mexpressed by an indicator such as life expectancy or access to\n",
       "medical services\u001b[1m)\u001b[0m. However, the equation of ‘economic’ with money is a very limited view of economics. Moreover, \n",
       "the view is further restricted if we confine ourselves to the aggregate amount, and not with its distribution or \n",
       "with what the money can buy. GDP is intended as a measure of welfare, and as such it is a very useful but also a \n",
       "very incomplete and biased one. It is useful for measuring the amount of economic activity and because there are \n",
       "relatively good data for it; but it needs to complemented by other indices, such as the Human Development Index. \n",
       "These are subjects of study for both economics and sociology, and there is no good reason to call one aspect \n",
       "economic and the others social. The sociologist would ask what welfare is and how it can be measured \u001b[1m(\u001b[0man issue \n",
       "discussed in the next section\u001b[1m)\u001b[0m, whereas the economist’s task would be to assess, given human aspirations and the \n",
       "scarcity of resources, what course of action is likely to produce the highest degree of satisfaction of those \n",
       "aspirations. If there is good reason from a conceptual point of view to prefer a single socio-economic dimension, \n",
       "what of its usefulness to policy analysts? Let us consider a hypothetical project which scores very well on the \n",
       "environmental dimension but rather poorly on both the social and the economic one. This might easily lead a \n",
       "policy-maker to conclude that the project is, on the whole, not a good idea. A two-dimensional approach might bring\n",
       "about the opposite judgment: its environmental benefits come at a cost in terms of welfare. The environmental \n",
       "dimension may thus receive less weight in a three-dimensional approach. Indeed, some authors explicitly state that \n",
       "the three dimensions should receive equal weight \u001b[1m[\u001b[0m\u001b[1;36m15\u001b[0m\u001b[1m]\u001b[0m. Since socio-economic aspects are mostly about the well-being\n",
       "of the present generation and environmental ones are about caring for the future, this means the former become \n",
       "twice as important as the latter—which violates the Brundtland requirement that development should not take place \n",
       "at the expense of future generations. Worse, perhaps, is that the contradiction between our desire for a better \n",
       "life and our concern for what this may do to the environment is obscured by conceptualizing these two concerns into\n",
       "three dimensions, and then suggesting that a solution is possible where all three are in harmony. Sustainability \n",
       "then becomes a concept that is equivalent to ‘good’ and thus devoid of any specific meaning—a blanket concept to \n",
       "assure stakeholders of the policy’s good intentions. The strength and relevance of the original Brundtland concept \n",
       "was precisely that it posed the question of how to reconcile one goal ‘development’ with another ‘sustainability’. \n",
       "The two goals are often in tension. Therefore, we propose to use the word sustainability in the sense as it was \n",
       "intended by the Brundtland Commission, and not as it has been coined later by corporate types and policy-makers. In\n",
       "the words of Robert Solow \u001b[1m[\u001b[0m\u001b[1;36m16\u001b[0m\u001b[1m]\u001b[0m: If ‘sustainability’ is anything more than a slogan or expression of emotion, it \n",
       "must amount to an injunction to preserve productive capacity for the indefinite future. Such a concept must be \n",
       "confronted with the socio-economic dimension of human aspirations for a better life: welfare, well-being, \n",
       "development or some similar concept. Which of these concepts it should be is the topic of the following section, \n",
       "before returning to our exploration of sustainability.\n"
      ]
     },
     "metadata": {},
     "output_type": "display_data"
    }
   ],
   "source": [
    "text_input = data[1].text_block\n",
    "print(text_input)"
   ]
  },
  {
   "cell_type": "code",
   "execution_count": 106,
   "id": "661eacee",
   "metadata": {},
   "outputs": [
    {
     "data": {
      "text/html": [
       "<pre style=\"white-space:pre;overflow-x:auto;line-height:normal;font-family:Menlo,'DejaVu Sans Mono',consolas,'Courier New',monospace\"><span style=\"color: #008080; text-decoration-color: #008080; font-weight: bold\">1</span>: The Brundtland report speaks of two concerns that should be reconciled: development and the environment.\n",
       "</pre>\n"
      ],
      "text/plain": [
       "\u001b[1;36m1\u001b[0m: The Brundtland report speaks of two concerns that should be reconciled: development and the environment.\n"
      ]
     },
     "metadata": {},
     "output_type": "display_data"
    },
    {
     "data": {
      "text/html": [
       "<pre style=\"white-space:pre;overflow-x:auto;line-height:normal;font-family:Menlo,'DejaVu Sans Mono',consolas,'Courier New',monospace\"><span style=\"color: #008080; text-decoration-color: #008080; font-weight: bold\">2</span>: They can also be interpreted as needs versus resources, or as the short versus the long term.\n",
       "</pre>\n"
      ],
      "text/plain": [
       "\u001b[1;36m2\u001b[0m: They can also be interpreted as needs versus resources, or as the short versus the long term.\n"
      ]
     },
     "metadata": {},
     "output_type": "display_data"
    },
    {
     "data": {
      "text/html": [
       "<pre style=\"white-space:pre;overflow-x:auto;line-height:normal;font-family:Menlo,'DejaVu Sans Mono',consolas,'Courier New',monospace\"><span style=\"color: #008080; text-decoration-color: #008080; font-weight: bold\">3</span>: Today, however, sustainability is almost always seen in terms of three dimensions: social, economic and \n",
       "environmental <span style=\"font-weight: bold\">[</span><span style=\"color: #008080; text-decoration-color: #008080; font-weight: bold\">8</span>-<span style=\"color: #008080; text-decoration-color: #008080; font-weight: bold\">11</span><span style=\"font-weight: bold\">]</span>.\n",
       "</pre>\n"
      ],
      "text/plain": [
       "\u001b[1;36m3\u001b[0m: Today, however, sustainability is almost always seen in terms of three dimensions: social, economic and \n",
       "environmental \u001b[1m[\u001b[0m\u001b[1;36m8\u001b[0m-\u001b[1;36m11\u001b[0m\u001b[1m]\u001b[0m.\n"
      ]
     },
     "metadata": {},
     "output_type": "display_data"
    },
    {
     "data": {
      "text/html": [
       "<pre style=\"white-space:pre;overflow-x:auto;line-height:normal;font-family:Menlo,'DejaVu Sans Mono',consolas,'Courier New',monospace\"><span style=\"color: #008080; text-decoration-color: #008080; font-weight: bold\">4</span>: This is embodied in the definition of sustainability adopted by the United Nations in its Agenda for \n",
       "Development: Development is a multidimensional undertaking to achieve a higher quality of life for all people.\n",
       "</pre>\n"
      ],
      "text/plain": [
       "\u001b[1;36m4\u001b[0m: This is embodied in the definition of sustainability adopted by the United Nations in its Agenda for \n",
       "Development: Development is a multidimensional undertaking to achieve a higher quality of life for all people.\n"
      ]
     },
     "metadata": {},
     "output_type": "display_data"
    },
    {
     "data": {
      "text/html": [
       "<pre style=\"white-space:pre;overflow-x:auto;line-height:normal;font-family:Menlo,'DejaVu Sans Mono',consolas,'Courier New',monospace\"><span style=\"color: #008080; text-decoration-color: #008080; font-weight: bold\">5</span>: Economic development, social development and environmental protection are interdependent and mutually \n",
       "reinforcing components of sustainable development <span style=\"font-weight: bold\">[</span><span style=\"color: #008080; text-decoration-color: #008080; font-weight: bold\">12</span><span style=\"font-weight: bold\">]</span>.\n",
       "</pre>\n"
      ],
      "text/plain": [
       "\u001b[1;36m5\u001b[0m: Economic development, social development and environmental protection are interdependent and mutually \n",
       "reinforcing components of sustainable development \u001b[1m[\u001b[0m\u001b[1;36m12\u001b[0m\u001b[1m]\u001b[0m.\n"
      ]
     },
     "metadata": {},
     "output_type": "display_data"
    },
    {
     "data": {
      "text/html": [
       "<pre style=\"white-space:pre;overflow-x:auto;line-height:normal;font-family:Menlo,'DejaVu Sans Mono',consolas,'Courier New',monospace\"><span style=\"color: #008080; text-decoration-color: #008080; font-weight: bold\">6</span>: But what are economic and social development and how are they different?\n",
       "</pre>\n"
      ],
      "text/plain": [
       "\u001b[1;36m6\u001b[0m: But what are economic and social development and how are they different?\n"
      ]
     },
     "metadata": {},
     "output_type": "display_data"
    },
    {
     "data": {
      "text/html": [
       "<pre style=\"white-space:pre;overflow-x:auto;line-height:normal;font-family:Menlo,'DejaVu Sans Mono',consolas,'Courier New',monospace\"><span style=\"color: #008080; text-decoration-color: #008080; font-weight: bold\">7</span>: Robert Gibson, a political scientist, says that the distinction is needed because “material gains are not \n",
       "sufficient measures or preservers of human well-being” <span style=\"font-weight: bold\">[</span><span style=\"color: #008080; text-decoration-color: #008080; font-weight: bold\">13</span><span style=\"font-weight: bold\">]</span>.\n",
       "</pre>\n"
      ],
      "text/plain": [
       "\u001b[1;36m7\u001b[0m: Robert Gibson, a political scientist, says that the distinction is needed because “material gains are not \n",
       "sufficient measures or preservers of human well-being” \u001b[1m[\u001b[0m\u001b[1;36m13\u001b[0m\u001b[1m]\u001b[0m.\n"
      ]
     },
     "metadata": {},
     "output_type": "display_data"
    },
    {
     "data": {
      "text/html": [
       "<pre style=\"white-space:pre;overflow-x:auto;line-height:normal;font-family:Menlo,'DejaVu Sans Mono',consolas,'Courier New',monospace\"><span style=\"color: #008080; text-decoration-color: #008080; font-weight: bold\">8</span>: The same author also suggests that the three dimensions or ‘pillars’ reflect the disciplines of those who study \n",
       "sustainability, adding for good measure that a cultural and a political pillar could also be included <span style=\"font-weight: bold\">[</span><span style=\"color: #008080; text-decoration-color: #008080; font-weight: bold\">13</span><span style=\"font-weight: bold\">]</span>.\n",
       "</pre>\n"
      ],
      "text/plain": [
       "\u001b[1;36m8\u001b[0m: The same author also suggests that the three dimensions or ‘pillars’ reflect the disciplines of those who study \n",
       "sustainability, adding for good measure that a cultural and a political pillar could also be included \u001b[1m[\u001b[0m\u001b[1;36m13\u001b[0m\u001b[1m]\u001b[0m.\n"
      ]
     },
     "metadata": {},
     "output_type": "display_data"
    },
    {
     "data": {
      "text/html": [
       "<pre style=\"white-space:pre;overflow-x:auto;line-height:normal;font-family:Menlo,'DejaVu Sans Mono',consolas,'Courier New',monospace\"><span style=\"color: #008080; text-decoration-color: #008080; font-weight: bold\">9</span>: Gibson himself, by the way, rejects the idea of pillars altogether and instead formulates seven principles on \n",
       "which sustainability could be based.\n",
       "</pre>\n"
      ],
      "text/plain": [
       "\u001b[1;36m9\u001b[0m: Gibson himself, by the way, rejects the idea of pillars altogether and instead formulates seven principles on \n",
       "which sustainability could be based.\n"
      ]
     },
     "metadata": {},
     "output_type": "display_data"
    },
    {
     "data": {
      "text/html": [
       "<pre style=\"white-space:pre;overflow-x:auto;line-height:normal;font-family:Menlo,'DejaVu Sans Mono',consolas,'Courier New',monospace\"><span style=\"color: #008080; text-decoration-color: #008080; font-weight: bold\">10</span>: The idea of sustainability having three dimensions stems from the Triple Bottom Line concept, coined by \n",
       "Elkington <span style=\"font-weight: bold\">[</span><span style=\"color: #008080; text-decoration-color: #008080; font-weight: bold\">14</span><span style=\"font-weight: bold\">]</span>.\n",
       "</pre>\n"
      ],
      "text/plain": [
       "\u001b[1;36m10\u001b[0m: The idea of sustainability having three dimensions stems from the Triple Bottom Line concept, coined by \n",
       "Elkington \u001b[1m[\u001b[0m\u001b[1;36m14\u001b[0m\u001b[1m]\u001b[0m.\n"
      ]
     },
     "metadata": {},
     "output_type": "display_data"
    },
    {
     "data": {
      "text/html": [
       "<pre style=\"white-space:pre;overflow-x:auto;line-height:normal;font-family:Menlo,'DejaVu Sans Mono',consolas,'Courier New',monospace\"><span style=\"color: #008080; text-decoration-color: #008080; font-weight: bold\">11</span>: As the term bottom line suggests, it originates from the world of management science, and Elkington intended it\n",
       "as a way to operationalize corporate social responsibility.\n",
       "</pre>\n"
      ],
      "text/plain": [
       "\u001b[1;36m11\u001b[0m: As the term bottom line suggests, it originates from the world of management science, and Elkington intended it\n",
       "as a way to operationalize corporate social responsibility.\n"
      ]
     },
     "metadata": {},
     "output_type": "display_data"
    },
    {
     "data": {
      "text/html": [
       "<pre style=\"white-space:pre;overflow-x:auto;line-height:normal;font-family:Menlo,'DejaVu Sans Mono',consolas,'Courier New',monospace\"><span style=\"color: #008080; text-decoration-color: #008080; font-weight: bold\">12</span>: To the conventional bottom line <span style=\"font-weight: bold\">(</span>profit<span style=\"font-weight: bold\">)</span> should be added care for the environment <span style=\"font-weight: bold\">(</span>the planet<span style=\"font-weight: bold\">)</span> as well as being\n",
       "good to people, for instance by providing facilities for the handicapped and hiring minorities <span style=\"font-weight: bold\">(</span>the social \n",
       "dimension<span style=\"font-weight: bold\">)</span>.\n",
       "</pre>\n"
      ],
      "text/plain": [
       "\u001b[1;36m12\u001b[0m: To the conventional bottom line \u001b[1m(\u001b[0mprofit\u001b[1m)\u001b[0m should be added care for the environment \u001b[1m(\u001b[0mthe planet\u001b[1m)\u001b[0m as well as being\n",
       "good to people, for instance by providing facilities for the handicapped and hiring minorities \u001b[1m(\u001b[0mthe social \n",
       "dimension\u001b[1m)\u001b[0m.\n"
      ]
     },
     "metadata": {},
     "output_type": "display_data"
    },
    {
     "data": {
      "text/html": [
       "<pre style=\"white-space:pre;overflow-x:auto;line-height:normal;font-family:Menlo,'DejaVu Sans Mono',consolas,'Courier New',monospace\"><span style=\"color: #008080; text-decoration-color: #008080; font-weight: bold\">13</span>: The goals of business, however, are very different from those of public policy.\n",
       "</pre>\n"
      ],
      "text/plain": [
       "\u001b[1;36m13\u001b[0m: The goals of business, however, are very different from those of public policy.\n"
      ]
     },
     "metadata": {},
     "output_type": "display_data"
    },
    {
     "data": {
      "text/html": [
       "<pre style=\"white-space:pre;overflow-x:auto;line-height:normal;font-family:Menlo,'DejaVu Sans Mono',consolas,'Courier New',monospace\"><span style=\"color: #008080; text-decoration-color: #008080; font-weight: bold\">14</span>: Although, as in business, revenue is needed to cover government expenditure, maximizing the excess of revenue \n",
       "over expenditure is not normally considered an appropriate goal for government policy.\n",
       "</pre>\n"
      ],
      "text/plain": [
       "\u001b[1;36m14\u001b[0m: Although, as in business, revenue is needed to cover government expenditure, maximizing the excess of revenue \n",
       "over expenditure is not normally considered an appropriate goal for government policy.\n"
      ]
     },
     "metadata": {},
     "output_type": "display_data"
    },
    {
     "data": {
      "text/html": [
       "<pre style=\"white-space:pre;overflow-x:auto;line-height:normal;font-family:Menlo,'DejaVu Sans Mono',consolas,'Courier New',monospace\"><span style=\"color: #008080; text-decoration-color: #008080; font-weight: bold\">15</span>: Government is not supposed to be a profit-making venture.\n",
       "</pre>\n"
      ],
      "text/plain": [
       "\u001b[1;36m15\u001b[0m: Government is not supposed to be a profit-making venture.\n"
      ]
     },
     "metadata": {},
     "output_type": "display_data"
    },
    {
     "data": {
      "text/html": [
       "<pre style=\"white-space:pre;overflow-x:auto;line-height:normal;font-family:Menlo,'DejaVu Sans Mono',consolas,'Courier New',monospace\"><span style=\"color: #008080; text-decoration-color: #008080; font-weight: bold\">16</span>: The ‘profit’ pillar is therefore translated as the money made by the entire country, expressed as gross \n",
       "domestic product <span style=\"font-weight: bold\">(</span>GDP<span style=\"font-weight: bold\">)</span>.\n",
       "</pre>\n"
      ],
      "text/plain": [
       "\u001b[1;36m16\u001b[0m: The ‘profit’ pillar is therefore translated as the money made by the entire country, expressed as gross \n",
       "domestic product \u001b[1m(\u001b[0mGDP\u001b[1m)\u001b[0m.\n"
      ]
     },
     "metadata": {},
     "output_type": "display_data"
    },
    {
     "data": {
      "text/html": [
       "<pre style=\"white-space:pre;overflow-x:auto;line-height:normal;font-family:Menlo,'DejaVu Sans Mono',consolas,'Courier New',monospace\"><span style=\"color: #008080; text-decoration-color: #008080; font-weight: bold\">17</span>: This then is the economic dimension, and the social dimension <span style=\"font-weight: bold\">(</span>‘people’<span style=\"font-weight: bold\">)</span> is everything else connected with \n",
       "human aspirations: equity <span style=\"font-weight: bold\">(</span>translated as income distribution<span style=\"font-weight: bold\">)</span>, inclusion <span style=\"font-weight: bold\">(</span>commonly operationalized as employment<span style=\"font-weight: bold\">)</span> \n",
       "and health <span style=\"font-weight: bold\">(</span>expressed by an indicator such as life expectancy or access to medical services<span style=\"font-weight: bold\">)</span>.\n",
       "</pre>\n"
      ],
      "text/plain": [
       "\u001b[1;36m17\u001b[0m: This then is the economic dimension, and the social dimension \u001b[1m(\u001b[0m‘people’\u001b[1m)\u001b[0m is everything else connected with \n",
       "human aspirations: equity \u001b[1m(\u001b[0mtranslated as income distribution\u001b[1m)\u001b[0m, inclusion \u001b[1m(\u001b[0mcommonly operationalized as employment\u001b[1m)\u001b[0m \n",
       "and health \u001b[1m(\u001b[0mexpressed by an indicator such as life expectancy or access to medical services\u001b[1m)\u001b[0m.\n"
      ]
     },
     "metadata": {},
     "output_type": "display_data"
    },
    {
     "data": {
      "text/html": [
       "<pre style=\"white-space:pre;overflow-x:auto;line-height:normal;font-family:Menlo,'DejaVu Sans Mono',consolas,'Courier New',monospace\"><span style=\"color: #008080; text-decoration-color: #008080; font-weight: bold\">18</span>: However, the equation of ‘economic’ with money is a very limited view of economics.\n",
       "</pre>\n"
      ],
      "text/plain": [
       "\u001b[1;36m18\u001b[0m: However, the equation of ‘economic’ with money is a very limited view of economics.\n"
      ]
     },
     "metadata": {},
     "output_type": "display_data"
    },
    {
     "data": {
      "text/html": [
       "<pre style=\"white-space:pre;overflow-x:auto;line-height:normal;font-family:Menlo,'DejaVu Sans Mono',consolas,'Courier New',monospace\"><span style=\"color: #008080; text-decoration-color: #008080; font-weight: bold\">19</span>: Moreover, the view is further restricted if we confine ourselves to the aggregate amount, and not with its \n",
       "distribution or with what the money can buy.\n",
       "</pre>\n"
      ],
      "text/plain": [
       "\u001b[1;36m19\u001b[0m: Moreover, the view is further restricted if we confine ourselves to the aggregate amount, and not with its \n",
       "distribution or with what the money can buy.\n"
      ]
     },
     "metadata": {},
     "output_type": "display_data"
    },
    {
     "data": {
      "text/html": [
       "<pre style=\"white-space:pre;overflow-x:auto;line-height:normal;font-family:Menlo,'DejaVu Sans Mono',consolas,'Courier New',monospace\"><span style=\"color: #008080; text-decoration-color: #008080; font-weight: bold\">20</span>: GDP is intended as a measure of welfare, and as such it is a very useful but also a very incomplete and biased \n",
       "one.\n",
       "</pre>\n"
      ],
      "text/plain": [
       "\u001b[1;36m20\u001b[0m: GDP is intended as a measure of welfare, and as such it is a very useful but also a very incomplete and biased \n",
       "one.\n"
      ]
     },
     "metadata": {},
     "output_type": "display_data"
    },
    {
     "data": {
      "text/html": [
       "<pre style=\"white-space:pre;overflow-x:auto;line-height:normal;font-family:Menlo,'DejaVu Sans Mono',consolas,'Courier New',monospace\"><span style=\"color: #008080; text-decoration-color: #008080; font-weight: bold\">21</span>: It is useful for measuring the amount of economic activity and because there are relatively good data for it; \n",
       "but it needs to complemented by other indices, such as the Human Development Index.\n",
       "</pre>\n"
      ],
      "text/plain": [
       "\u001b[1;36m21\u001b[0m: It is useful for measuring the amount of economic activity and because there are relatively good data for it; \n",
       "but it needs to complemented by other indices, such as the Human Development Index.\n"
      ]
     },
     "metadata": {},
     "output_type": "display_data"
    },
    {
     "data": {
      "text/html": [
       "<pre style=\"white-space:pre;overflow-x:auto;line-height:normal;font-family:Menlo,'DejaVu Sans Mono',consolas,'Courier New',monospace\"><span style=\"color: #008080; text-decoration-color: #008080; font-weight: bold\">22</span>: These are subjects of study for both economics and sociology, and there is no good reason to call one aspect \n",
       "economic and the others social.\n",
       "</pre>\n"
      ],
      "text/plain": [
       "\u001b[1;36m22\u001b[0m: These are subjects of study for both economics and sociology, and there is no good reason to call one aspect \n",
       "economic and the others social.\n"
      ]
     },
     "metadata": {},
     "output_type": "display_data"
    },
    {
     "data": {
      "text/html": [
       "<pre style=\"white-space:pre;overflow-x:auto;line-height:normal;font-family:Menlo,'DejaVu Sans Mono',consolas,'Courier New',monospace\"><span style=\"color: #008080; text-decoration-color: #008080; font-weight: bold\">23</span>: The sociologist would ask what welfare is and how it can be measured <span style=\"font-weight: bold\">(</span>an issue discussed in the next section<span style=\"font-weight: bold\">)</span>, \n",
       "whereas the economist’s task would be to assess, given human aspirations and the scarcity of resources, what course\n",
       "of action is likely to produce the highest degree of satisfaction of those aspirations.\n",
       "</pre>\n"
      ],
      "text/plain": [
       "\u001b[1;36m23\u001b[0m: The sociologist would ask what welfare is and how it can be measured \u001b[1m(\u001b[0man issue discussed in the next section\u001b[1m)\u001b[0m, \n",
       "whereas the economist’s task would be to assess, given human aspirations and the scarcity of resources, what course\n",
       "of action is likely to produce the highest degree of satisfaction of those aspirations.\n"
      ]
     },
     "metadata": {},
     "output_type": "display_data"
    },
    {
     "data": {
      "text/html": [
       "<pre style=\"white-space:pre;overflow-x:auto;line-height:normal;font-family:Menlo,'DejaVu Sans Mono',consolas,'Courier New',monospace\"><span style=\"color: #008080; text-decoration-color: #008080; font-weight: bold\">24</span>: If there is good reason from a conceptual point of view to prefer a single socio-economic dimension, what of \n",
       "its usefulness to policy analysts?\n",
       "</pre>\n"
      ],
      "text/plain": [
       "\u001b[1;36m24\u001b[0m: If there is good reason from a conceptual point of view to prefer a single socio-economic dimension, what of \n",
       "its usefulness to policy analysts?\n"
      ]
     },
     "metadata": {},
     "output_type": "display_data"
    },
    {
     "data": {
      "text/html": [
       "<pre style=\"white-space:pre;overflow-x:auto;line-height:normal;font-family:Menlo,'DejaVu Sans Mono',consolas,'Courier New',monospace\"><span style=\"color: #008080; text-decoration-color: #008080; font-weight: bold\">25</span>: Let us consider a hypothetical project which scores very well on the environmental dimension but rather poorly \n",
       "on both the social and the economic one.\n",
       "</pre>\n"
      ],
      "text/plain": [
       "\u001b[1;36m25\u001b[0m: Let us consider a hypothetical project which scores very well on the environmental dimension but rather poorly \n",
       "on both the social and the economic one.\n"
      ]
     },
     "metadata": {},
     "output_type": "display_data"
    },
    {
     "data": {
      "text/html": [
       "<pre style=\"white-space:pre;overflow-x:auto;line-height:normal;font-family:Menlo,'DejaVu Sans Mono',consolas,'Courier New',monospace\"><span style=\"color: #008080; text-decoration-color: #008080; font-weight: bold\">26</span>: This might easily lead a policy-maker to conclude that the project is, on the whole, not a good idea.\n",
       "</pre>\n"
      ],
      "text/plain": [
       "\u001b[1;36m26\u001b[0m: This might easily lead a policy-maker to conclude that the project is, on the whole, not a good idea.\n"
      ]
     },
     "metadata": {},
     "output_type": "display_data"
    },
    {
     "data": {
      "text/html": [
       "<pre style=\"white-space:pre;overflow-x:auto;line-height:normal;font-family:Menlo,'DejaVu Sans Mono',consolas,'Courier New',monospace\"><span style=\"color: #008080; text-decoration-color: #008080; font-weight: bold\">27</span>: A two-dimensional approach might bring about the opposite judgment: its environmental benefits come at a cost \n",
       "in terms of welfare.\n",
       "</pre>\n"
      ],
      "text/plain": [
       "\u001b[1;36m27\u001b[0m: A two-dimensional approach might bring about the opposite judgment: its environmental benefits come at a cost \n",
       "in terms of welfare.\n"
      ]
     },
     "metadata": {},
     "output_type": "display_data"
    },
    {
     "data": {
      "text/html": [
       "<pre style=\"white-space:pre;overflow-x:auto;line-height:normal;font-family:Menlo,'DejaVu Sans Mono',consolas,'Courier New',monospace\"><span style=\"color: #008080; text-decoration-color: #008080; font-weight: bold\">28</span>: The environmental dimension may thus receive less weight in a three-dimensional approach.\n",
       "</pre>\n"
      ],
      "text/plain": [
       "\u001b[1;36m28\u001b[0m: The environmental dimension may thus receive less weight in a three-dimensional approach.\n"
      ]
     },
     "metadata": {},
     "output_type": "display_data"
    },
    {
     "data": {
      "text/html": [
       "<pre style=\"white-space:pre;overflow-x:auto;line-height:normal;font-family:Menlo,'DejaVu Sans Mono',consolas,'Courier New',monospace\"><span style=\"color: #008080; text-decoration-color: #008080; font-weight: bold\">29</span>: Indeed, some authors explicitly state that the three dimensions should receive equal weight <span style=\"font-weight: bold\">[</span><span style=\"color: #008080; text-decoration-color: #008080; font-weight: bold\">15</span><span style=\"font-weight: bold\">]</span>.\n",
       "</pre>\n"
      ],
      "text/plain": [
       "\u001b[1;36m29\u001b[0m: Indeed, some authors explicitly state that the three dimensions should receive equal weight \u001b[1m[\u001b[0m\u001b[1;36m15\u001b[0m\u001b[1m]\u001b[0m.\n"
      ]
     },
     "metadata": {},
     "output_type": "display_data"
    },
    {
     "data": {
      "text/html": [
       "<pre style=\"white-space:pre;overflow-x:auto;line-height:normal;font-family:Menlo,'DejaVu Sans Mono',consolas,'Courier New',monospace\"><span style=\"color: #008080; text-decoration-color: #008080; font-weight: bold\">30</span>: Since socio-economic aspects are mostly about the well-being of the present generation and environmental ones \n",
       "are about caring for the future, this means the former become twice as important as the latter—which violates the \n",
       "Brundtland requirement that development should not take place at the expense of future generations.\n",
       "</pre>\n"
      ],
      "text/plain": [
       "\u001b[1;36m30\u001b[0m: Since socio-economic aspects are mostly about the well-being of the present generation and environmental ones \n",
       "are about caring for the future, this means the former become twice as important as the latter—which violates the \n",
       "Brundtland requirement that development should not take place at the expense of future generations.\n"
      ]
     },
     "metadata": {},
     "output_type": "display_data"
    },
    {
     "data": {
      "text/html": [
       "<pre style=\"white-space:pre;overflow-x:auto;line-height:normal;font-family:Menlo,'DejaVu Sans Mono',consolas,'Courier New',monospace\"><span style=\"color: #008080; text-decoration-color: #008080; font-weight: bold\">31</span>: Worse, perhaps, is that the contradiction between our desire for a better life and our concern for what this \n",
       "may do to the environment is obscured by conceptualizing these two concerns into three dimensions, and then \n",
       "suggesting that a solution is possible where all three are in harmony.\n",
       "</pre>\n"
      ],
      "text/plain": [
       "\u001b[1;36m31\u001b[0m: Worse, perhaps, is that the contradiction between our desire for a better life and our concern for what this \n",
       "may do to the environment is obscured by conceptualizing these two concerns into three dimensions, and then \n",
       "suggesting that a solution is possible where all three are in harmony.\n"
      ]
     },
     "metadata": {},
     "output_type": "display_data"
    },
    {
     "data": {
      "text/html": [
       "<pre style=\"white-space:pre;overflow-x:auto;line-height:normal;font-family:Menlo,'DejaVu Sans Mono',consolas,'Courier New',monospace\"><span style=\"color: #008080; text-decoration-color: #008080; font-weight: bold\">32</span>: Sustainability then becomes a concept that is equivalent to ‘good’ and thus devoid of any specific meaning—a \n",
       "blanket concept to assure stakeholders of the policy’s good intentions.\n",
       "</pre>\n"
      ],
      "text/plain": [
       "\u001b[1;36m32\u001b[0m: Sustainability then becomes a concept that is equivalent to ‘good’ and thus devoid of any specific meaning—a \n",
       "blanket concept to assure stakeholders of the policy’s good intentions.\n"
      ]
     },
     "metadata": {},
     "output_type": "display_data"
    },
    {
     "data": {
      "text/html": [
       "<pre style=\"white-space:pre;overflow-x:auto;line-height:normal;font-family:Menlo,'DejaVu Sans Mono',consolas,'Courier New',monospace\"><span style=\"color: #008080; text-decoration-color: #008080; font-weight: bold\">33</span>: The strength and relevance of the original Brundtland concept was precisely that it posed the question of how \n",
       "to reconcile one goal ‘development’ with another ‘sustainability’.\n",
       "</pre>\n"
      ],
      "text/plain": [
       "\u001b[1;36m33\u001b[0m: The strength and relevance of the original Brundtland concept was precisely that it posed the question of how \n",
       "to reconcile one goal ‘development’ with another ‘sustainability’.\n"
      ]
     },
     "metadata": {},
     "output_type": "display_data"
    },
    {
     "data": {
      "text/html": [
       "<pre style=\"white-space:pre;overflow-x:auto;line-height:normal;font-family:Menlo,'DejaVu Sans Mono',consolas,'Courier New',monospace\"><span style=\"color: #008080; text-decoration-color: #008080; font-weight: bold\">34</span>: The two goals are often in tension.\n",
       "</pre>\n"
      ],
      "text/plain": [
       "\u001b[1;36m34\u001b[0m: The two goals are often in tension.\n"
      ]
     },
     "metadata": {},
     "output_type": "display_data"
    },
    {
     "data": {
      "text/html": [
       "<pre style=\"white-space:pre;overflow-x:auto;line-height:normal;font-family:Menlo,'DejaVu Sans Mono',consolas,'Courier New',monospace\"><span style=\"color: #008080; text-decoration-color: #008080; font-weight: bold\">35</span>: Therefore, we propose to use the word sustainability in the sense as it was intended by the Brundtland \n",
       "Commission, and not as it has been coined later by corporate types and policy-makers.\n",
       "</pre>\n"
      ],
      "text/plain": [
       "\u001b[1;36m35\u001b[0m: Therefore, we propose to use the word sustainability in the sense as it was intended by the Brundtland \n",
       "Commission, and not as it has been coined later by corporate types and policy-makers.\n"
      ]
     },
     "metadata": {},
     "output_type": "display_data"
    },
    {
     "data": {
      "text/html": [
       "<pre style=\"white-space:pre;overflow-x:auto;line-height:normal;font-family:Menlo,'DejaVu Sans Mono',consolas,'Courier New',monospace\"><span style=\"color: #008080; text-decoration-color: #008080; font-weight: bold\">36</span>: In the words of Robert Solow <span style=\"font-weight: bold\">[</span><span style=\"color: #008080; text-decoration-color: #008080; font-weight: bold\">16</span><span style=\"font-weight: bold\">]</span>: If ‘sustainability’ is anything more than a slogan or expression of emotion,\n",
       "it must amount to an injunction to preserve productive capacity for the indefinite future.\n",
       "</pre>\n"
      ],
      "text/plain": [
       "\u001b[1;36m36\u001b[0m: In the words of Robert Solow \u001b[1m[\u001b[0m\u001b[1;36m16\u001b[0m\u001b[1m]\u001b[0m: If ‘sustainability’ is anything more than a slogan or expression of emotion,\n",
       "it must amount to an injunction to preserve productive capacity for the indefinite future.\n"
      ]
     },
     "metadata": {},
     "output_type": "display_data"
    },
    {
     "data": {
      "text/html": [
       "<pre style=\"white-space:pre;overflow-x:auto;line-height:normal;font-family:Menlo,'DejaVu Sans Mono',consolas,'Courier New',monospace\"><span style=\"color: #008080; text-decoration-color: #008080; font-weight: bold\">37</span>: Such a concept must be confronted with the socio-economic dimension of human aspirations for a better life: \n",
       "welfare, well-being, development or some similar concept.\n",
       "</pre>\n"
      ],
      "text/plain": [
       "\u001b[1;36m37\u001b[0m: Such a concept must be confronted with the socio-economic dimension of human aspirations for a better life: \n",
       "welfare, well-being, development or some similar concept.\n"
      ]
     },
     "metadata": {},
     "output_type": "display_data"
    },
    {
     "data": {
      "text/html": [
       "<pre style=\"white-space:pre;overflow-x:auto;line-height:normal;font-family:Menlo,'DejaVu Sans Mono',consolas,'Courier New',monospace\"><span style=\"color: #008080; text-decoration-color: #008080; font-weight: bold\">38</span>: Which of these concepts it should be is the topic of the following section, before returning to our exploration\n",
       "of sustainability.\n",
       "</pre>\n"
      ],
      "text/plain": [
       "\u001b[1;36m38\u001b[0m: Which of these concepts it should be is the topic of the following section, before returning to our exploration\n",
       "of sustainability.\n"
      ]
     },
     "metadata": {},
     "output_type": "display_data"
    }
   ],
   "source": [
    "# Split into sentences\n",
    "sentences = sent_tokenize(text_input)\n",
    "\n",
    "for i, sentence in enumerate(sentences, 1):\n",
    "    print(f\"{i}: {sentence}\")"
   ]
  },
  {
   "cell_type": "code",
   "execution_count": null,
   "id": "f816f9d3",
   "metadata": {},
   "outputs": [],
   "source": [
    "# sentences[0], sentences[1]\n",
    "\n",
    "# class CompareSentence(dspy.Signature):\n",
    "#     sentence1: str = dspy.InputField(desc=\"Previous Sentence\")\n",
    "#     sentence2: str = dspy.InputField(desc=\"Current Sentence\")\n",
    "#     output: bool = dspy.OutputField(desc=\"Decide if sentence 2 is a likely continuation of sentence 3 up to 90 percent sematic consitency\")\n",
    "    "
   ]
  },
  {
   "cell_type": "code",
   "execution_count": null,
   "id": "438b6602",
   "metadata": {},
   "outputs": [],
   "source": []
  },
  {
   "cell_type": "code",
   "execution_count": 53,
   "id": "8f4af392",
   "metadata": {},
   "outputs": [
    {
     "data": {
      "text/plain": [
       "['The concept of sustainability was originally coined in forestry, where it means never harvesting more than what the forest yields in new growth [2].',\n",
       " 'The word Nachhaltigkeit (the German term for sustainability) was first used with this meaning in 1713 [3].']"
      ]
     },
     "execution_count": 53,
     "metadata": {},
     "output_type": "execute_result"
    }
   ],
   "source": [
    "sentences[0:2]"
   ]
  },
  {
   "cell_type": "code",
   "execution_count": 64,
   "id": "271e179b",
   "metadata": {},
   "outputs": [],
   "source": [
    "model = SentenceTransformer(\"all-MiniLM-L6-v2\")\n",
    "\n",
    "# Create embeddings\n",
    "embedding1 = model.encode(sentences[0], convert_to_tensor=True)\n",
    "embedding2 = model.encode(sentences[1], convert_to_tensor=True)\n",
    "score = util.pytorch_cos_sim(embedding1, embedding2).item()"
   ]
  },
  {
   "cell_type": "code",
   "execution_count": null,
   "id": "1a169a76",
   "metadata": {},
   "outputs": [],
   "source": []
  },
  {
   "cell_type": "code",
   "execution_count": 49,
   "id": "ef16a077",
   "metadata": {},
   "outputs": [
    {
     "data": {
      "text/plain": [
       "['The word Nachhaltigkeit (the German term for sustainability) was first used with this meaning in 1713 [3].',\n",
       " 'The concern with preserving natural resources for the future is perennial, of course: undoubtedly our Palaeolithic ancestors worried about their prey becoming extinct, and early farmers must have been apprehensive about maintaining soil fertility.']"
      ]
     },
     "execution_count": 49,
     "metadata": {},
     "output_type": "execute_result"
    }
   ],
   "source": [
    "sentences[1:3]"
   ]
  },
  {
   "cell_type": "code",
   "execution_count": 117,
   "id": "01993cbf",
   "metadata": {},
   "outputs": [],
   "source": [
    "class CompareSentence(dspy.Signature):\n",
    "    sentence1: str = dspy.InputField(desc=\"Previous sentence\")\n",
    "    sentence2: str = dspy.InputField(desc=\"Next sentence\")\n",
    "    similarity_score: float = dspy.InputField(desc=\"Cosine similarity between sentence embeddings (range -1 to 1)\")\n",
    "    relation: str = dspy.OutputField(desc=\"Relationship type\")\n",
    "    keep_together: bool = dspy.OutputField(desc=\"True if they belong in the same chunk\")\n"
   ]
  },
  {
   "cell_type": "code",
   "execution_count": 118,
   "id": "6f92360b",
   "metadata": {},
   "outputs": [
    {
     "data": {
      "text/html": [
       "<pre style=\"white-space:pre;overflow-x:auto;line-height:normal;font-family:Menlo,'DejaVu Sans Mono',consolas,'Courier New',monospace\"><span style=\"color: #800080; text-decoration-color: #800080; font-weight: bold\">Prediction</span><span style=\"font-weight: bold\">(</span>\n",
       "    <span style=\"color: #808000; text-decoration-color: #808000\">reasoning</span>=<span style=\"color: #008000; text-decoration-color: #008000\">'The two sentences discuss the concept of corporate social responsibility (CSR) and its connection to</span>\n",
       "<span style=\"color: #008000; text-decoration-color: #008000\">management science. Elkington’s goal was to translate CSR into a practical, operational framework.'</span>,\n",
       "    <span style=\"color: #808000; text-decoration-color: #808000\">relation</span>=<span style=\"color: #008000; text-decoration-color: #008000\">'operationalize'</span>,\n",
       "    <span style=\"color: #808000; text-decoration-color: #808000\">keep_together</span>=<span style=\"color: #00ff00; text-decoration-color: #00ff00; font-style: italic\">True</span>\n",
       "<span style=\"font-weight: bold\">)</span>\n",
       "</pre>\n"
      ],
      "text/plain": [
       "\u001b[1;35mPrediction\u001b[0m\u001b[1m(\u001b[0m\n",
       "    \u001b[33mreasoning\u001b[0m=\u001b[32m'The two sentences discuss the concept of corporate social responsibility \u001b[0m\u001b[32m(\u001b[0m\u001b[32mCSR\u001b[0m\u001b[32m)\u001b[0m\u001b[32m and its connection to\u001b[0m\n",
       "\u001b[32mmanagement science. Elkington’s goal was to translate CSR into a practical, operational framework.'\u001b[0m,\n",
       "    \u001b[33mrelation\u001b[0m=\u001b[32m'operationalize'\u001b[0m,\n",
       "    \u001b[33mkeep_together\u001b[0m=\u001b[3;92mTrue\u001b[0m\n",
       "\u001b[1m)\u001b[0m\n"
      ]
     },
     "metadata": {},
     "output_type": "display_data"
    }
   ],
   "source": [
    "sentence_comparison = dspy.ChainOfThought(CompareSentence)\n",
    "prediction = sentence_comparison(sentence1=sentences[10], sentence2=sentences[11], similarity_score=score)\n",
    "print(prediction)"
   ]
  },
  {
   "cell_type": "code",
   "execution_count": 131,
   "id": "641fcb2f",
   "metadata": {},
   "outputs": [],
   "source": [
    "class DecideChunkSplit(dspy.Signature):\n",
    "    context: str = dspy.InputField(desc=\"Previous 3–5 sentences\")\n",
    "    candidate_sentence: str = dspy.InputField(desc=\"Next sentence to consider\")\n",
    "    similarity_score: float = dspy.InputField(desc=\"Cosine similarity between candidate and previous sentences\")\n",
    "    keep_together: bool = dspy.OutputField(desc=\"True if sentence continues current block, else False\")\n",
    "    #reasoning: str = dspy.OutputField(desc=\"Brief explanation for the decision\")\n"
   ]
  },
  {
   "cell_type": "code",
   "execution_count": 132,
   "id": "57b80999",
   "metadata": {},
   "outputs": [],
   "source": [
    "window_size = 3\n",
    "chunks = []\n",
    "current_chunk = []\n",
    "\n",
    "for i, sent in enumerate(sentences):\n",
    "    current_chunk.append(sent)\n",
    "    if i >= window_size:\n",
    "        context = \" \".join(current_chunk[-window_size:])\n",
    "        sim_score = float(util.pytorch_cos_sim(\n",
    "            model.encode(sent, convert_to_tensor=True),\n",
    "            model.encode(\" \".join(current_chunk[-window_size-1:-1]), convert_to_tensor=True)\n",
    "        ).item())\n",
    "        \n",
    "        sentence_comparison = dspy.ChainOfThought(DecideChunkSplit)\n",
    "        decision = sentence_comparison(\n",
    "                context=context,\n",
    "                candidate_sentence=sent,\n",
    "                similarity_score=sim_score\n",
    "            )\n",
    "        \n",
    "        if not decision.keep_together:\n",
    "            # Split here\n",
    "            chunks.append(\" \".join(current_chunk[:-1]))\n",
    "            current_chunk = [sent]\n"
   ]
  },
  {
   "cell_type": "code",
   "execution_count": 133,
   "id": "c22bba3b",
   "metadata": {},
   "outputs": [
    {
     "data": {
      "text/plain": [
       "['The Brundtland report speaks of two concerns that should be reconciled: development and the environment. They can also be interpreted as needs versus resources, or as the short versus the long term. Today, however, sustainability is almost always seen in terms of three dimensions: social, economic and environmental [8-11].',\n",
       " 'This is embodied in the definition of sustainability adopted by the United Nations in its Agenda for Development: Development is a multidimensional undertaking to achieve a higher quality of life for all people. Economic development, social development and environmental protection are interdependent and mutually reinforcing components of sustainable development [12]. But what are economic and social development and how are they different?',\n",
       " 'Robert Gibson, a political scientist, says that the distinction is needed because “material gains are not sufficient measures or preservers of human well-being” [13].',\n",
       " 'The same author also suggests that the three dimensions or ‘pillars’ reflect the disciplines of those who study sustainability, adding for good measure that a cultural and a political pillar could also be included [13].',\n",
       " 'Gibson himself, by the way, rejects the idea of pillars altogether and instead formulates seven principles on which sustainability could be based.',\n",
       " 'The idea of sustainability having three dimensions stems from the Triple Bottom Line concept, coined by Elkington [14].',\n",
       " 'As the term bottom line suggests, it originates from the world of management science, and Elkington intended it as a way to operationalize corporate social responsibility.',\n",
       " 'To the conventional bottom line (profit) should be added care for the environment (the planet) as well as being good to people, for instance by providing facilities for the handicapped and hiring minorities (the social dimension).',\n",
       " 'The goals of business, however, are very different from those of public policy.',\n",
       " 'Although, as in business, revenue is needed to cover government expenditure, maximizing the excess of revenue over expenditure is not normally considered an appropriate goal for government policy. Government is not supposed to be a profit-making venture.',\n",
       " 'The ‘profit’ pillar is therefore translated as the money made by the entire country, expressed as gross domestic product (GDP).',\n",
       " 'This then is the economic dimension, and the social dimension (‘people’) is everything else connected with human aspirations: equity (translated as income distribution), inclusion (commonly operationalized as employment) and health (expressed by an indicator such as life expectancy or access to medical services).',\n",
       " 'However, the equation of ‘economic’ with money is a very limited view of economics.',\n",
       " 'Moreover, the view is further restricted if we confine ourselves to the aggregate amount, and not with its distribution or with what the money can buy.',\n",
       " 'GDP is intended as a measure of welfare, and as such it is a very useful but also a very incomplete and biased one.',\n",
       " 'It is useful for measuring the amount of economic activity and because there are relatively good data for it; but it needs to complemented by other indices, such as the Human Development Index.',\n",
       " 'These are subjects of study for both economics and sociology, and there is no good reason to call one aspect economic and the others social.',\n",
       " 'The sociologist would ask what welfare is and how it can be measured (an issue discussed in the next section), whereas the economist’s task would be to assess, given human aspirations and the scarcity of resources, what course of action is likely to produce the highest degree of satisfaction of those aspirations.',\n",
       " 'If there is good reason from a conceptual point of view to prefer a single socio-economic dimension, what of its usefulness to policy analysts?',\n",
       " 'Let us consider a hypothetical project which scores very well on the environmental dimension but rather poorly on both the social and the economic one.',\n",
       " 'This might easily lead a policy-maker to conclude that the project is, on the whole, not a good idea.',\n",
       " 'A two-dimensional approach might bring about the opposite judgment: its environmental benefits come at a cost in terms of welfare. The environmental dimension may thus receive less weight in a three-dimensional approach.',\n",
       " 'Indeed, some authors explicitly state that the three dimensions should receive equal weight [15].',\n",
       " 'Since socio-economic aspects are mostly about the well-being of the present generation and environmental ones are about caring for the future, this means the former become twice as important as the latter—which violates the Brundtland requirement that development should not take place at the expense of future generations.',\n",
       " 'Worse, perhaps, is that the contradiction between our desire for a better life and our concern for what this may do to the environment is obscured by conceptualizing these two concerns into three dimensions, and then suggesting that a solution is possible where all three are in harmony.',\n",
       " 'Sustainability then becomes a concept that is equivalent to ‘good’ and thus devoid of any specific meaning—a blanket concept to assure stakeholders of the policy’s good intentions.',\n",
       " 'The strength and relevance of the original Brundtland concept was precisely that it posed the question of how to reconcile one goal ‘development’ with another ‘sustainability’.',\n",
       " 'The two goals are often in tension.',\n",
       " 'Therefore, we propose to use the word sustainability in the sense as it was intended by the Brundtland Commission, and not as it has been coined later by corporate types and policy-makers.',\n",
       " 'In the words of Robert Solow [16]: If ‘sustainability’ is anything more than a slogan or expression of emotion, it must amount to an injunction to preserve productive capacity for the indefinite future.',\n",
       " 'Such a concept must be confronted with the socio-economic dimension of human aspirations for a better life: welfare, well-being, development or some similar concept.']"
      ]
     },
     "execution_count": 133,
     "metadata": {},
     "output_type": "execute_result"
    }
   ],
   "source": [
    "chunks"
   ]
  },
  {
   "cell_type": "code",
   "execution_count": null,
   "id": "8f1a8e2f",
   "metadata": {},
   "outputs": [],
   "source": []
  },
  {
   "cell_type": "code",
   "execution_count": null,
   "id": "6b8734f7",
   "metadata": {},
   "outputs": [],
   "source": []
  },
  {
   "cell_type": "code",
   "execution_count": 107,
   "id": "b2850819",
   "metadata": {},
   "outputs": [
    {
     "data": {
      "text/plain": [
       "array([[1.        , 0.32952085, 0.41659182, ..., 0.38608938, 0.3074102 ,\n",
       "        0.4594906 ],\n",
       "       [0.32952085, 1.        , 0.30671704, ..., 0.3280038 , 0.36409843,\n",
       "        0.41086665],\n",
       "       [0.41659182, 0.30671704, 1.0000001 , ..., 0.5469956 , 0.39978334,\n",
       "        0.58567995],\n",
       "       ...,\n",
       "       [0.38608938, 0.3280038 , 0.5469956 , ..., 1.0000001 , 0.36492258,\n",
       "        0.5056557 ],\n",
       "       [0.3074102 , 0.36409843, 0.39978334, ..., 0.36492258, 1.        ,\n",
       "        0.3486545 ],\n",
       "       [0.4594906 , 0.41086665, 0.58567995, ..., 0.5056557 , 0.3486545 ,\n",
       "        1.        ]], shape=(38, 38), dtype=float32)"
      ]
     },
     "execution_count": 107,
     "metadata": {},
     "output_type": "execute_result"
    }
   ],
   "source": [
    "embeddings = model.encode(sentences, convert_to_tensor=True)\n",
    "similarities = util.pytorch_cos_sim(embeddings, embeddings).cpu().numpy()\n",
    "similarities"
   ]
  },
  {
   "cell_type": "code",
   "execution_count": 94,
   "id": "24d449e9",
   "metadata": {},
   "outputs": [],
   "source": [
    "import numpy as np"
   ]
  },
  {
   "cell_type": "code",
   "execution_count": 112,
   "id": "d7f7953a",
   "metadata": {},
   "outputs": [
    {
     "data": {
      "text/html": [
       "<pre style=\"white-space:pre;overflow-x:auto;line-height:normal;font-family:Menlo,'DejaVu Sans Mono',consolas,'Courier New',monospace\">Cut points:\n",
       "<span style=\"font-weight: bold\">[</span><span style=\"color: #008080; text-decoration-color: #008080; font-weight: bold\">12</span>, <span style=\"color: #008080; text-decoration-color: #008080; font-weight: bold\">16</span>, <span style=\"color: #008080; text-decoration-color: #008080; font-weight: bold\">27</span>, <span style=\"color: #008080; text-decoration-color: #008080; font-weight: bold\">29</span>, <span style=\"color: #008080; text-decoration-color: #008080; font-weight: bold\">33</span>, <span style=\"color: #008080; text-decoration-color: #008080; font-weight: bold\">36</span><span style=\"font-weight: bold\">]</span>\n",
       "</pre>\n"
      ],
      "text/plain": [
       "Cut points:\n",
       "\u001b[1m[\u001b[0m\u001b[1;36m12\u001b[0m, \u001b[1;36m16\u001b[0m, \u001b[1;36m27\u001b[0m, \u001b[1;36m29\u001b[0m, \u001b[1;36m33\u001b[0m, \u001b[1;36m36\u001b[0m\u001b[1m]\u001b[0m\n"
      ]
     },
     "metadata": {},
     "output_type": "display_data"
    }
   ],
   "source": [
    "window_size = 2  # number of previous sentences to compare\n",
    "threshold = 0.3 # similarity below which a cut is likely\n",
    "cut_points = []\n",
    "\n",
    "for i in range(1, len(sentences)):\n",
    "    # compare sentence i to previous window\n",
    "    prev_window = embeddings[max(0, i-window_size):i]\n",
    "    avg_similarity = np.mean(util.pytorch_cos_sim(embeddings[i], prev_window).cpu().numpy())\n",
    "    \n",
    "    if avg_similarity < threshold:\n",
    "        cut_points.append(i)\n",
    "\n",
    "print(\"Cut points:\", cut_points)\n"
   ]
  },
  {
   "cell_type": "code",
   "execution_count": 99,
   "id": "92036df5",
   "metadata": {},
   "outputs": [
    {
     "data": {
      "text/html": [
       "<pre style=\"white-space:pre;overflow-x:auto;line-height:normal;font-family:Menlo,'DejaVu Sans Mono',consolas,'Courier New',monospace\">Chunk <span style=\"color: #008080; text-decoration-color: #008080; font-weight: bold\">1</span> <span style=\"font-weight: bold\">(</span><span style=\"color: #008080; text-decoration-color: #008080; font-weight: bold\">75</span> words<span style=\"font-weight: bold\">)</span>:\n",
       "The concept of sustainability was originally coined in forestry, where it means never harvesting more than what the\n",
       "forest yields in new growth <span style=\"font-weight: bold\">[</span><span style=\"color: #008080; text-decoration-color: #008080; font-weight: bold\">2</span><span style=\"font-weight: bold\">]</span>. The word Nachhaltigkeit <span style=\"font-weight: bold\">(</span>the German term for sustainability<span style=\"font-weight: bold\">)</span> was first used with \n",
       "this meaning in <span style=\"color: #008080; text-decoration-color: #008080; font-weight: bold\">1713</span> <span style=\"font-weight: bold\">[</span><span style=\"color: #008080; text-decoration-color: #008080; font-weight: bold\">3</span><span style=\"font-weight: bold\">]</span>. The concern with preserving natural resources for the future is perennial, of course: \n",
       "undoubtedly our Palaeolithic ancestors worried about their prey becoming extinct, and early farmers must have been \n",
       "apprehensive about maintaining soil fertility.\n",
       "---\n",
       "</pre>\n"
      ],
      "text/plain": [
       "Chunk \u001b[1;36m1\u001b[0m \u001b[1m(\u001b[0m\u001b[1;36m75\u001b[0m words\u001b[1m)\u001b[0m:\n",
       "The concept of sustainability was originally coined in forestry, where it means never harvesting more than what the\n",
       "forest yields in new growth \u001b[1m[\u001b[0m\u001b[1;36m2\u001b[0m\u001b[1m]\u001b[0m. The word Nachhaltigkeit \u001b[1m(\u001b[0mthe German term for sustainability\u001b[1m)\u001b[0m was first used with \n",
       "this meaning in \u001b[1;36m1713\u001b[0m \u001b[1m[\u001b[0m\u001b[1;36m3\u001b[0m\u001b[1m]\u001b[0m. The concern with preserving natural resources for the future is perennial, of course: \n",
       "undoubtedly our Palaeolithic ancestors worried about their prey becoming extinct, and early farmers must have been \n",
       "apprehensive about maintaining soil fertility.\n",
       "---\n"
      ]
     },
     "metadata": {},
     "output_type": "display_data"
    },
    {
     "data": {
      "text/html": [
       "<pre style=\"white-space:pre;overflow-x:auto;line-height:normal;font-family:Menlo,'DejaVu Sans Mono',consolas,'Courier New',monospace\">Chunk <span style=\"color: #008080; text-decoration-color: #008080; font-weight: bold\">2</span> <span style=\"font-weight: bold\">(</span><span style=\"color: #008080; text-decoration-color: #008080; font-weight: bold\">181</span> words<span style=\"font-weight: bold\">)</span>:\n",
       "Traditional beliefs enjoined thinking in terms of stewardship and concern for future generations, as expressed in \n",
       "the oft-quoted words of a Nigerian tribal chief who saw the community as consisting of “many dead, few living and \n",
       "countless others unborn” <span style=\"font-weight: bold\">[</span><span style=\"color: #008080; text-decoration-color: #008080; font-weight: bold\">4</span>,<span style=\"color: #008080; text-decoration-color: #008080; font-weight: bold\">5</span><span style=\"font-weight: bold\">]</span>. Perhaps there have always been two opposing views of the relation between humankind\n",
       "and nature: one which stresses adaptation and harmony, and another which sees nature as something to be conquered. \n",
       "While this latter view may have been rather dominant in Western civilization at least in recent centuries, its \n",
       "counterpoint has never been absent. Sustainability <span style=\"font-weight: bold\">(</span>without necessarily using the word<span style=\"font-weight: bold\">)</span> is a natural topic of study\n",
       "for economists: after all, the scarcity of resources is of central concern to the dismal science. A famous example \n",
       "is the work of Thomas Malthus, who published his theory about looming mass starvation <span style=\"font-weight: bold\">(</span>due to the inability of \n",
       "available agricultural land to feed an expanding population<span style=\"font-weight: bold\">)</span> in <span style=\"color: #008080; text-decoration-color: #008080; font-weight: bold\">1798</span>. A theory on the optimal rate of exploitation \n",
       "of non-renewable resource which is still relevant today was formulated by Harold Hotelling, an American economist, \n",
       "in <span style=\"color: #008080; text-decoration-color: #008080; font-weight: bold\">1931</span> <span style=\"font-weight: bold\">[</span><span style=\"color: #008080; text-decoration-color: #008080; font-weight: bold\">6</span><span style=\"font-weight: bold\">]</span>.\n",
       "---\n",
       "</pre>\n"
      ],
      "text/plain": [
       "Chunk \u001b[1;36m2\u001b[0m \u001b[1m(\u001b[0m\u001b[1;36m181\u001b[0m words\u001b[1m)\u001b[0m:\n",
       "Traditional beliefs enjoined thinking in terms of stewardship and concern for future generations, as expressed in \n",
       "the oft-quoted words of a Nigerian tribal chief who saw the community as consisting of “many dead, few living and \n",
       "countless others unborn” \u001b[1m[\u001b[0m\u001b[1;36m4\u001b[0m,\u001b[1;36m5\u001b[0m\u001b[1m]\u001b[0m. Perhaps there have always been two opposing views of the relation between humankind\n",
       "and nature: one which stresses adaptation and harmony, and another which sees nature as something to be conquered. \n",
       "While this latter view may have been rather dominant in Western civilization at least in recent centuries, its \n",
       "counterpoint has never been absent. Sustainability \u001b[1m(\u001b[0mwithout necessarily using the word\u001b[1m)\u001b[0m is a natural topic of study\n",
       "for economists: after all, the scarcity of resources is of central concern to the dismal science. A famous example \n",
       "is the work of Thomas Malthus, who published his theory about looming mass starvation \u001b[1m(\u001b[0mdue to the inability of \n",
       "available agricultural land to feed an expanding population\u001b[1m)\u001b[0m in \u001b[1;36m1798\u001b[0m. A theory on the optimal rate of exploitation \n",
       "of non-renewable resource which is still relevant today was formulated by Harold Hotelling, an American economist, \n",
       "in \u001b[1;36m1931\u001b[0m \u001b[1m[\u001b[0m\u001b[1;36m6\u001b[0m\u001b[1m]\u001b[0m.\n",
       "---\n"
      ]
     },
     "metadata": {},
     "output_type": "display_data"
    },
    {
     "data": {
      "text/html": [
       "<pre style=\"white-space:pre;overflow-x:auto;line-height:normal;font-family:Menlo,'DejaVu Sans Mono',consolas,'Courier New',monospace\">Chunk <span style=\"color: #008080; text-decoration-color: #008080; font-weight: bold\">3</span> <span style=\"font-weight: bold\">(</span><span style=\"color: #008080; text-decoration-color: #008080; font-weight: bold\">258</span> words<span style=\"font-weight: bold\">)</span>:\n",
       "We shall have more to say about his views later. A milestone in capturing the attention of global public policy was\n",
       "the report of the Club of Rome <span style=\"font-weight: bold\">[</span><span style=\"color: #008080; text-decoration-color: #008080; font-weight: bold\">7</span><span style=\"font-weight: bold\">]</span>, which predicted that many natural resources crucial to our survival would be \n",
       "exhausted within one or two generations. Such pessimism is unbecoming in public policy which is, after all, \n",
       "supposed to be about improving things. Therefore, the report of the UN World Commission on Environment and \n",
       "Development, better known as the Brundtland Report after its chairperson, was welcomed for showing a way out of \n",
       "impending doom. It was this report which adopted the concept of sustainability and gave it the widespread \n",
       "recognition it enjoys today. The question which Brundtland and her colleagues posed themselves was: how can the \n",
       "aspirations of the world’s nations for a better life be reconciled with limited natural resources and the dangers \n",
       "of environmental degradation? Their answer is sustainable development, in the Commission’s words: development that \n",
       "meets the needs of the present without compromising the ability of future generations to meet their own needs <span style=\"font-weight: bold\">[</span><span style=\"color: #008080; text-decoration-color: #008080; font-weight: bold\">1</span><span style=\"font-weight: bold\">]</span>. \n",
       "Thus, environmental concerns are important, but the basic argument is one of welfare, seen in a context of \n",
       "inter-generational equity. We should care for the environment not because of its intrinsic value, but in order to \n",
       "preserve resources for our children. Since that time, there have been two major developments in the concept of \n",
       "sustainability: one, its interpretation in terms of three dimensions, which must be in harmony: social, economic \n",
       "and environmental. Two, the distinction between ‘strong’ and ‘weak’ sustainability.\n",
       "---\n",
       "</pre>\n"
      ],
      "text/plain": [
       "Chunk \u001b[1;36m3\u001b[0m \u001b[1m(\u001b[0m\u001b[1;36m258\u001b[0m words\u001b[1m)\u001b[0m:\n",
       "We shall have more to say about his views later. A milestone in capturing the attention of global public policy was\n",
       "the report of the Club of Rome \u001b[1m[\u001b[0m\u001b[1;36m7\u001b[0m\u001b[1m]\u001b[0m, which predicted that many natural resources crucial to our survival would be \n",
       "exhausted within one or two generations. Such pessimism is unbecoming in public policy which is, after all, \n",
       "supposed to be about improving things. Therefore, the report of the UN World Commission on Environment and \n",
       "Development, better known as the Brundtland Report after its chairperson, was welcomed for showing a way out of \n",
       "impending doom. It was this report which adopted the concept of sustainability and gave it the widespread \n",
       "recognition it enjoys today. The question which Brundtland and her colleagues posed themselves was: how can the \n",
       "aspirations of the world’s nations for a better life be reconciled with limited natural resources and the dangers \n",
       "of environmental degradation? Their answer is sustainable development, in the Commission’s words: development that \n",
       "meets the needs of the present without compromising the ability of future generations to meet their own needs \u001b[1m[\u001b[0m\u001b[1;36m1\u001b[0m\u001b[1m]\u001b[0m. \n",
       "Thus, environmental concerns are important, but the basic argument is one of welfare, seen in a context of \n",
       "inter-generational equity. We should care for the environment not because of its intrinsic value, but in order to \n",
       "preserve resources for our children. Since that time, there have been two major developments in the concept of \n",
       "sustainability: one, its interpretation in terms of three dimensions, which must be in harmony: social, economic \n",
       "and environmental. Two, the distinction between ‘strong’ and ‘weak’ sustainability.\n",
       "---\n"
      ]
     },
     "metadata": {},
     "output_type": "display_data"
    },
    {
     "data": {
      "text/html": [
       "<pre style=\"white-space:pre;overflow-x:auto;line-height:normal;font-family:Menlo,'DejaVu Sans Mono',consolas,'Courier New',monospace\">Chunk <span style=\"color: #008080; text-decoration-color: #008080; font-weight: bold\">4</span> <span style=\"font-weight: bold\">(</span><span style=\"color: #008080; text-decoration-color: #008080; font-weight: bold\">13</span> words<span style=\"font-weight: bold\">)</span>:\n",
       "These two developments are discussed critically in the Sections <span style=\"color: #008080; text-decoration-color: #008080; font-weight: bold\">3</span>–<span style=\"color: #008080; text-decoration-color: #008080; font-weight: bold\">4</span> and <span style=\"color: #008080; text-decoration-color: #008080; font-weight: bold\">5</span>–<span style=\"color: #008080; text-decoration-color: #008080; font-weight: bold\">6</span>, respectively.\n",
       "---\n",
       "</pre>\n"
      ],
      "text/plain": [
       "Chunk \u001b[1;36m4\u001b[0m \u001b[1m(\u001b[0m\u001b[1;36m13\u001b[0m words\u001b[1m)\u001b[0m:\n",
       "These two developments are discussed critically in the Sections \u001b[1;36m3\u001b[0m–\u001b[1;36m4\u001b[0m and \u001b[1;36m5\u001b[0m–\u001b[1;36m6\u001b[0m, respectively.\n",
       "---\n"
      ]
     },
     "metadata": {},
     "output_type": "display_data"
    }
   ],
   "source": [
    "chunks = []\n",
    "start = 0\n",
    "for cut in cut_points + [len(sentences)]:\n",
    "    chunk = \" \".join(sentences[start:cut])\n",
    "    chunks.append(chunk)\n",
    "    start = cut\n",
    "\n",
    "# Each chunk is now a semantically consistent block\n",
    "for idx, c in enumerate(chunks, 1):\n",
    "    print(f\"Chunk {idx} ({len(c.split())} words):\\n{c}\\n---\")\n"
   ]
  },
  {
   "cell_type": "code",
   "execution_count": null,
   "id": "9b39fe56",
   "metadata": {},
   "outputs": [],
   "source": []
  },
  {
   "cell_type": "code",
   "execution_count": null,
   "id": "5468bd9e",
   "metadata": {},
   "outputs": [],
   "source": []
  },
  {
   "cell_type": "code",
   "execution_count": null,
   "id": "2e7e878f",
   "metadata": {},
   "outputs": [
    {
     "data": {
      "text/html": [
       "<pre style=\"white-space:pre;overflow-x:auto;line-height:normal;font-family:Menlo,'DejaVu Sans Mono',consolas,'Courier New',monospace\"><span style=\"color: #800080; text-decoration-color: #800080; font-weight: bold\">Predict</span><span style=\"font-weight: bold\">(</span><span style=\"color: #800080; text-decoration-color: #800080; font-weight: bold\">Prediction</span><span style=\"font-weight: bold\">(</span>\n",
       "    <span style=\"color: #808000; text-decoration-color: #808000\">reasoning</span>=<span style=\"color: #008000; text-decoration-color: #008000\">'Sentence2 expands on the theme of concern for future generations and stewardship of natural </span>\n",
       "<span style=\"color: #008000; text-decoration-color: #008000\">resources, which aligns with the topic introduced in sentence1. It provides an example of traditional beliefs that </span>\n",
       "<span style=\"color: #008000; text-decoration-color: #008000\">emphasize this concern, thereby elaborating on the historical context of resource preservation mentioned in </span>\n",
       "<span style=\"color: #008000; text-decoration-color: #008000\">sentence1.'</span>,\n",
       "    <span style=\"color: #808000; text-decoration-color: #808000\">relation</span>=<span style=\"color: #008000; text-decoration-color: #008000\">'elaboration'</span>,\n",
       "    <span style=\"color: #808000; text-decoration-color: #808000\">score</span>=<span style=\"color: #008080; text-decoration-color: #008080; font-weight: bold\">0.85</span>,\n",
       "    <span style=\"color: #808000; text-decoration-color: #808000\">keep_together</span>=<span style=\"color: #00ff00; text-decoration-color: #00ff00; font-style: italic\">True</span>\n",
       "<span style=\"font-weight: bold\">))</span>\n",
       "</pre>\n"
      ],
      "text/plain": [
       "\u001b[1;35mPredict\u001b[0m\u001b[1m(\u001b[0m\u001b[1;35mPrediction\u001b[0m\u001b[1m(\u001b[0m\n",
       "    \u001b[33mreasoning\u001b[0m=\u001b[32m'Sentence2 expands on the theme of concern for future generations and stewardship of natural \u001b[0m\n",
       "\u001b[32mresources, which aligns with the topic introduced in sentence1. It provides an example of traditional beliefs that \u001b[0m\n",
       "\u001b[32memphasize this concern, thereby elaborating on the historical context of resource preservation mentioned in \u001b[0m\n",
       "\u001b[32msentence1.'\u001b[0m,\n",
       "    \u001b[33mrelation\u001b[0m=\u001b[32m'elaboration'\u001b[0m,\n",
       "    \u001b[33mscore\u001b[0m=\u001b[1;36m0\u001b[0m\u001b[1;36m.85\u001b[0m,\n",
       "    \u001b[33mkeep_together\u001b[0m=\u001b[3;92mTrue\u001b[0m\n",
       "\u001b[1m)\u001b[0m\u001b[1m)\u001b[0m\n"
      ]
     },
     "metadata": {},
     "output_type": "display_data"
    }
   ],
   "source": [
    "\n",
    "sentence_comparison = dspy.ChainOfThought(CompareSentence)\n",
    "prediction = dspy.Predict(sentence_comparison(sentence1=sentences[1:2], sentence2=sentences[3]))\n",
    "print(prediction)"
   ]
  },
  {
   "cell_type": "code",
   "execution_count": null,
   "id": "7b38fcae",
   "metadata": {},
   "outputs": [],
   "source": []
  },
  {
   "cell_type": "code",
   "execution_count": null,
   "id": "45ccb21d",
   "metadata": {},
   "outputs": [],
   "source": []
  },
  {
   "cell_type": "code",
   "execution_count": null,
   "id": "cbfcc874",
   "metadata": {},
   "outputs": [],
   "source": []
  },
  {
   "cell_type": "code",
   "execution_count": null,
   "id": "fee9702e",
   "metadata": {},
   "outputs": [],
   "source": []
  },
  {
   "cell_type": "code",
   "execution_count": 22,
   "id": "5b4dd580",
   "metadata": {},
   "outputs": [
    {
     "data": {
      "text/html": [
       "<pre style=\"white-space:pre;overflow-x:auto;line-height:normal;font-family:Menlo,'DejaVu Sans Mono',consolas,'Courier New',monospace\"><span style=\"color: #800080; text-decoration-color: #800080; font-weight: bold\">Prediction</span><span style=\"font-weight: bold\">(</span>\n",
       "    <span style=\"color: #808000; text-decoration-color: #808000\">reasoning</span>=<span style=\"color: #008000; text-decoration-color: #008000\">'The text block discusses the concept of sustainability, emphasizing the need to reconcile </span>\n",
       "<span style=\"color: #008000; text-decoration-color: #008000\">development with environmental concerns. It highlights the three dimensions of sustainability—social, economic, and</span>\n",
       "<span style=\"color: #008000; text-decoration-color: #008000\">environmental—while critiquing the limitations of traditional economic measures like GDP. The text also addresses </span>\n",
       "<span style=\"color: #008000; text-decoration-color: #008000\">the potential pitfalls of a three-dimensional approach to sustainability, suggesting that it may obscure the </span>\n",
       "<span style=\"color: #008000; text-decoration-color: #008000\">tension between development and environmental protection. The author advocates for a return to the original </span>\n",
       "<span style=\"color: #008000; text-decoration-color: #008000\">Brundtland definition of sustainability, which emphasizes the importance of preserving productive capacity for </span>\n",
       "<span style=\"color: #008000; text-decoration-color: #008000\">future generations. The splits will focus on these key themes, ensuring that each segment maintains coherence and </span>\n",
       "<span style=\"color: #008000; text-decoration-color: #008000\">covers the essential points without paraphrasing.'</span>,\n",
       "    <span style=\"color: #808000; text-decoration-color: #808000\">splits</span>=<span style=\"font-weight: bold\">[</span><span style=\"color: #008000; text-decoration-color: #008000\">'The Brundtland report speaks of two concerns that should be reconciled: development and the </span>\n",
       "<span style=\"color: #008000; text-decoration-color: #008000\">environment. They can also be interpreted as needs versus resources, or as the short versus the long term. Today, </span>\n",
       "<span style=\"color: #008000; text-decoration-color: #008000\">however, sustainability is almost always seen in terms of three dimensions: social, economic and environmental. </span>\n",
       "<span style=\"color: #008000; text-decoration-color: #008000\">This is embodied in the definition of sustainability adopted by the United Nations in its Agenda for Development: </span>\n",
       "<span style=\"color: #008000; text-decoration-color: #008000\">Development is a multidimensional undertaking to achieve a higher quality of life for all people. Economic </span>\n",
       "<span style=\"color: #008000; text-decoration-color: #008000\">development, social development and environmental protection are interdependent and mutually reinforcing components</span>\n",
       "<span style=\"color: #008000; text-decoration-color: #008000\">of sustainable development.'</span>, <span style=\"color: #008000; text-decoration-color: #008000\">\"But what are economic and social development and how are they different? Robert </span>\n",
       "<span style=\"color: #008000; text-decoration-color: #008000\">Gibson, a political scientist, says that the distinction is needed because 'material gains are not sufficient </span>\n",
       "<span style=\"color: #008000; text-decoration-color: #008000\">measures or preservers of human well-being.' The same author also suggests that the three dimensions or 'pillars' </span>\n",
       "<span style=\"color: #008000; text-decoration-color: #008000\">reflect the disciplines of those who study sustainability, adding for good measure that a cultural and a political </span>\n",
       "<span style=\"color: #008000; text-decoration-color: #008000\">pillar could also be included. Gibson himself, by the way, rejects the idea of pillars altogether and instead </span>\n",
       "<span style=\"color: #008000; text-decoration-color: #008000\">formulates seven principles on which sustainability could be based.\"</span>, <span style=\"color: #008000; text-decoration-color: #008000\">'The idea of sustainability having three </span>\n",
       "<span style=\"color: #008000; text-decoration-color: #008000\">dimensions stems from the Triple Bottom Line concept, coined by Elkington. As the term bottom line suggests, it </span>\n",
       "<span style=\"color: #008000; text-decoration-color: #008000\">originates from the world of management science, and Elkington intended it as a way to operationalize corporate </span>\n",
       "<span style=\"color: #008000; text-decoration-color: #008000\">social responsibility. To the conventional bottom line (profit) should be added care for the environment (the </span>\n",
       "<span style=\"color: #008000; text-decoration-color: #008000\">planet) as well as being good to people, for instance by providing facilities for the handicapped and hiring </span>\n",
       "<span style=\"color: #008000; text-decoration-color: #008000\">minorities (the social dimension).'</span>, <span style=\"color: #008000; text-decoration-color: #008000\">\"The goals of business, however, are very different from those of public </span>\n",
       "<span style=\"color: #008000; text-decoration-color: #008000\">policy. Although, as in business, revenue is needed to cover government expenditure, maximizing the excess of </span>\n",
       "<span style=\"color: #008000; text-decoration-color: #008000\">revenue over expenditure is not normally considered an appropriate goal for government policy. Government is not </span>\n",
       "<span style=\"color: #008000; text-decoration-color: #008000\">supposed to be a profit-making venture. The 'profit' pillar is therefore translated as the money made by the entire</span>\n",
       "<span style=\"color: #008000; text-decoration-color: #008000\">country, expressed as gross domestic product (GDP). This then is the economic dimension, and the social dimension </span>\n",
       "<span style=\"color: #008000; text-decoration-color: #008000\">('people') is everything else connected with human aspirations: equity, inclusion, and health.\"</span>, <span style=\"color: #008000; text-decoration-color: #008000\">\"However, the </span>\n",
       "<span style=\"color: #008000; text-decoration-color: #008000\">equation of 'economic' with money is a very limited view of economics. Moreover, the view is further restricted if </span>\n",
       "<span style=\"color: #008000; text-decoration-color: #008000\">we confine ourselves to the aggregate amount, and not with its distribution or with what the money can buy. GDP is </span>\n",
       "<span style=\"color: #008000; text-decoration-color: #008000\">intended as a measure of welfare, and as such it is a very useful but also a very incomplete and biased one. It is </span>\n",
       "<span style=\"color: #008000; text-decoration-color: #008000\">useful for measuring the amount of economic activity and because there are relatively good data for it; but it </span>\n",
       "<span style=\"color: #008000; text-decoration-color: #008000\">needs to be complemented by other indices, such as the Human Development Index.\"</span>, <span style=\"color: #008000; text-decoration-color: #008000\">'These are subjects of study for </span>\n",
       "<span style=\"color: #008000; text-decoration-color: #008000\">both economics and sociology, and there is no good reason to call one aspect economic and the others social. The </span>\n",
       "<span style=\"color: #008000; text-decoration-color: #008000\">sociologist would ask what welfare is and how it can be measured, whereas the economist’s task would be to assess, </span>\n",
       "<span style=\"color: #008000; text-decoration-color: #008000\">given human aspirations and the scarcity of resources, what course of action is likely to produce the highest </span>\n",
       "<span style=\"color: #008000; text-decoration-color: #008000\">degree of satisfaction of those aspirations. If there is good reason from a conceptual point of view to prefer a </span>\n",
       "<span style=\"color: #008000; text-decoration-color: #008000\">single socio-economic dimension, what of its usefulness to policy analysts?'</span>, <span style=\"color: #008000; text-decoration-color: #008000\">'Let us consider a hypothetical </span>\n",
       "<span style=\"color: #008000; text-decoration-color: #008000\">project which scores very well on the environmental dimension but rather poorly on both the social and the economic</span>\n",
       "<span style=\"color: #008000; text-decoration-color: #008000\">one. This might easily lead a policy-maker to conclude that the project is, on the whole, not a good idea. A </span>\n",
       "<span style=\"color: #008000; text-decoration-color: #008000\">two-dimensional approach might bring about the opposite judgment: its environmental benefits come at a cost in </span>\n",
       "<span style=\"color: #008000; text-decoration-color: #008000\">terms of welfare. The environmental dimension may thus receive less weight in a three-dimensional approach.'</span>, \n",
       "<span style=\"color: #008000; text-decoration-color: #008000\">'Indeed, some authors explicitly state that the three dimensions should receive equal weight. Since socio-economic </span>\n",
       "<span style=\"color: #008000; text-decoration-color: #008000\">aspects are mostly about the well-being of the present generation and environmental ones are about caring for the </span>\n",
       "<span style=\"color: #008000; text-decoration-color: #008000\">future, this means the former become twice as important as the latter—which violates the Brundtland requirement </span>\n",
       "<span style=\"color: #008000; text-decoration-color: #008000\">that development should not take place at the expense of future generations.'</span>, <span style=\"color: #008000; text-decoration-color: #008000\">\"Worse, perhaps, is that the </span>\n",
       "<span style=\"color: #008000; text-decoration-color: #008000\">contradiction between our desire for a better life and our concern for what this may do to the environment is </span>\n",
       "<span style=\"color: #008000; text-decoration-color: #008000\">obscured by conceptualizing these two concerns into three dimensions, and then suggesting that a solution is </span>\n",
       "<span style=\"color: #008000; text-decoration-color: #008000\">possible where all three are in harmony. Sustainability then becomes a concept that is equivalent to 'good' and </span>\n",
       "<span style=\"color: #008000; text-decoration-color: #008000\">thus devoid of any specific meaning—a blanket concept to assure stakeholders of the policy’s good intentions.\"</span>, \n",
       "<span style=\"color: #008000; text-decoration-color: #008000\">\"The strength and relevance of the original Brundtland concept was precisely that it posed the question of how to </span>\n",
       "<span style=\"color: #008000; text-decoration-color: #008000\">reconcile one goal 'development' with another 'sustainability'. The two goals are often in tension. Therefore, we </span>\n",
       "<span style=\"color: #008000; text-decoration-color: #008000\">propose to use the word sustainability in the sense as it was intended by the Brundtland Commission, and not as it </span>\n",
       "<span style=\"color: #008000; text-decoration-color: #008000\">has been coined later by corporate types and policy-makers.\"</span>, <span style=\"color: #008000; text-decoration-color: #008000\">\"In the words of Robert Solow: If 'sustainability' is</span>\n",
       "<span style=\"color: #008000; text-decoration-color: #008000\">anything more than a slogan or expression of emotion, it must amount to an injunction to preserve productive </span>\n",
       "<span style=\"color: #008000; text-decoration-color: #008000\">capacity for the indefinite future. Such a concept must be confronted with the socio-economic dimension of human </span>\n",
       "<span style=\"color: #008000; text-decoration-color: #008000\">aspirations for a better life: welfare, well-being, development or some similar concept. Which of these concepts it</span>\n",
       "<span style=\"color: #008000; text-decoration-color: #008000\">should be is the topic of the following section, before returning to our exploration of sustainability.\"</span><span style=\"font-weight: bold\">]</span>\n",
       "<span style=\"font-weight: bold\">)</span>\n",
       "</pre>\n"
      ],
      "text/plain": [
       "\u001b[1;35mPrediction\u001b[0m\u001b[1m(\u001b[0m\n",
       "    \u001b[33mreasoning\u001b[0m=\u001b[32m'The text block discusses the concept of sustainability, emphasizing the need to reconcile \u001b[0m\n",
       "\u001b[32mdevelopment with environmental concerns. It highlights the three dimensions of sustainability—social, economic, and\u001b[0m\n",
       "\u001b[32menvironmental—while critiquing the limitations of traditional economic measures like GDP. The text also addresses \u001b[0m\n",
       "\u001b[32mthe potential pitfalls of a three-dimensional approach to sustainability, suggesting that it may obscure the \u001b[0m\n",
       "\u001b[32mtension between development and environmental protection. The author advocates for a return to the original \u001b[0m\n",
       "\u001b[32mBrundtland definition of sustainability, which emphasizes the importance of preserving productive capacity for \u001b[0m\n",
       "\u001b[32mfuture generations. The splits will focus on these key themes, ensuring that each segment maintains coherence and \u001b[0m\n",
       "\u001b[32mcovers the essential points without paraphrasing.'\u001b[0m,\n",
       "    \u001b[33msplits\u001b[0m=\u001b[1m[\u001b[0m\u001b[32m'The Brundtland report speaks of two concerns that should be reconciled: development and the \u001b[0m\n",
       "\u001b[32menvironment. They can also be interpreted as needs versus resources, or as the short versus the long term. Today, \u001b[0m\n",
       "\u001b[32mhowever, sustainability is almost always seen in terms of three dimensions: social, economic and environmental. \u001b[0m\n",
       "\u001b[32mThis is embodied in the definition of sustainability adopted by the United Nations in its Agenda for Development: \u001b[0m\n",
       "\u001b[32mDevelopment is a multidimensional undertaking to achieve a higher quality of life for all people. Economic \u001b[0m\n",
       "\u001b[32mdevelopment, social development and environmental protection are interdependent and mutually reinforcing components\u001b[0m\n",
       "\u001b[32mof sustainable development.'\u001b[0m, \u001b[32m\"But what are economic and social development and how are they different? Robert \u001b[0m\n",
       "\u001b[32mGibson, a political scientist, says that the distinction is needed because 'material gains are not sufficient \u001b[0m\n",
       "\u001b[32mmeasures or preservers of human well-being.' The same author also suggests that the three dimensions or 'pillars' \u001b[0m\n",
       "\u001b[32mreflect the disciplines of those who study sustainability, adding for good measure that a cultural and a political \u001b[0m\n",
       "\u001b[32mpillar could also be included. Gibson himself, by the way, rejects the idea of pillars altogether and instead \u001b[0m\n",
       "\u001b[32mformulates seven principles on which sustainability could be based.\"\u001b[0m, \u001b[32m'The idea of sustainability having three \u001b[0m\n",
       "\u001b[32mdimensions stems from the Triple Bottom Line concept, coined by Elkington. As the term bottom line suggests, it \u001b[0m\n",
       "\u001b[32moriginates from the world of management science, and Elkington intended it as a way to operationalize corporate \u001b[0m\n",
       "\u001b[32msocial responsibility. To the conventional bottom line \u001b[0m\u001b[32m(\u001b[0m\u001b[32mprofit\u001b[0m\u001b[32m)\u001b[0m\u001b[32m should be added care for the environment \u001b[0m\u001b[32m(\u001b[0m\u001b[32mthe \u001b[0m\n",
       "\u001b[32mplanet\u001b[0m\u001b[32m)\u001b[0m\u001b[32m as well as being good to people, for instance by providing facilities for the handicapped and hiring \u001b[0m\n",
       "\u001b[32mminorities \u001b[0m\u001b[32m(\u001b[0m\u001b[32mthe social dimension\u001b[0m\u001b[32m)\u001b[0m\u001b[32m.'\u001b[0m, \u001b[32m\"The goals of business, however, are very different from those of public \u001b[0m\n",
       "\u001b[32mpolicy. Although, as in business, revenue is needed to cover government expenditure, maximizing the excess of \u001b[0m\n",
       "\u001b[32mrevenue over expenditure is not normally considered an appropriate goal for government policy. Government is not \u001b[0m\n",
       "\u001b[32msupposed to be a profit-making venture. The 'profit' pillar is therefore translated as the money made by the entire\u001b[0m\n",
       "\u001b[32mcountry, expressed as gross domestic product \u001b[0m\u001b[32m(\u001b[0m\u001b[32mGDP\u001b[0m\u001b[32m)\u001b[0m\u001b[32m. This then is the economic dimension, and the social dimension \u001b[0m\n",
       "\u001b[32m(\u001b[0m\u001b[32m'people'\u001b[0m\u001b[32m)\u001b[0m\u001b[32m is everything else connected with human aspirations: equity, inclusion, and health.\"\u001b[0m, \u001b[32m\"However, the \u001b[0m\n",
       "\u001b[32mequation of 'economic' with money is a very limited view of economics. Moreover, the view is further restricted if \u001b[0m\n",
       "\u001b[32mwe confine ourselves to the aggregate amount, and not with its distribution or with what the money can buy. GDP is \u001b[0m\n",
       "\u001b[32mintended as a measure of welfare, and as such it is a very useful but also a very incomplete and biased one. It is \u001b[0m\n",
       "\u001b[32museful for measuring the amount of economic activity and because there are relatively good data for it; but it \u001b[0m\n",
       "\u001b[32mneeds to be complemented by other indices, such as the Human Development Index.\"\u001b[0m, \u001b[32m'These are subjects of study for \u001b[0m\n",
       "\u001b[32mboth economics and sociology, and there is no good reason to call one aspect economic and the others social. The \u001b[0m\n",
       "\u001b[32msociologist would ask what welfare is and how it can be measured, whereas the economist’s task would be to assess, \u001b[0m\n",
       "\u001b[32mgiven human aspirations and the scarcity of resources, what course of action is likely to produce the highest \u001b[0m\n",
       "\u001b[32mdegree of satisfaction of those aspirations. If there is good reason from a conceptual point of view to prefer a \u001b[0m\n",
       "\u001b[32msingle socio-economic dimension, what of its usefulness to policy analysts?'\u001b[0m, \u001b[32m'Let us consider a hypothetical \u001b[0m\n",
       "\u001b[32mproject which scores very well on the environmental dimension but rather poorly on both the social and the economic\u001b[0m\n",
       "\u001b[32mone. This might easily lead a policy-maker to conclude that the project is, on the whole, not a good idea. A \u001b[0m\n",
       "\u001b[32mtwo-dimensional approach might bring about the opposite judgment: its environmental benefits come at a cost in \u001b[0m\n",
       "\u001b[32mterms of welfare. The environmental dimension may thus receive less weight in a three-dimensional approach.'\u001b[0m, \n",
       "\u001b[32m'Indeed, some authors explicitly state that the three dimensions should receive equal weight. Since socio-economic \u001b[0m\n",
       "\u001b[32maspects are mostly about the well-being of the present generation and environmental ones are about caring for the \u001b[0m\n",
       "\u001b[32mfuture, this means the former become twice as important as the latter—which violates the Brundtland requirement \u001b[0m\n",
       "\u001b[32mthat development should not take place at the expense of future generations.'\u001b[0m, \u001b[32m\"Worse, perhaps, is that the \u001b[0m\n",
       "\u001b[32mcontradiction between our desire for a better life and our concern for what this may do to the environment is \u001b[0m\n",
       "\u001b[32mobscured by conceptualizing these two concerns into three dimensions, and then suggesting that a solution is \u001b[0m\n",
       "\u001b[32mpossible where all three are in harmony. Sustainability then becomes a concept that is equivalent to 'good' and \u001b[0m\n",
       "\u001b[32mthus devoid of any specific meaning—a blanket concept to assure stakeholders of the policy’s good intentions.\"\u001b[0m, \n",
       "\u001b[32m\"The strength and relevance of the original Brundtland concept was precisely that it posed the question of how to \u001b[0m\n",
       "\u001b[32mreconcile one goal 'development' with another 'sustainability'. The two goals are often in tension. Therefore, we \u001b[0m\n",
       "\u001b[32mpropose to use the word sustainability in the sense as it was intended by the Brundtland Commission, and not as it \u001b[0m\n",
       "\u001b[32mhas been coined later by corporate types and policy-makers.\"\u001b[0m, \u001b[32m\"In the words of Robert Solow: If 'sustainability' is\u001b[0m\n",
       "\u001b[32manything more than a slogan or expression of emotion, it must amount to an injunction to preserve productive \u001b[0m\n",
       "\u001b[32mcapacity for the indefinite future. Such a concept must be confronted with the socio-economic dimension of human \u001b[0m\n",
       "\u001b[32maspirations for a better life: welfare, well-being, development or some similar concept. Which of these concepts it\u001b[0m\n",
       "\u001b[32mshould be is the topic of the following section, before returning to our exploration of sustainability.\"\u001b[0m\u001b[1m]\u001b[0m\n",
       "\u001b[1m)\u001b[0m\n"
      ]
     },
     "metadata": {},
     "output_type": "display_data"
    }
   ],
   "source": [
    "prediction = dspy.ChainOfThought(TextSplitter)(text_block=data[1].text_block)\n",
    "print(prediction)"
   ]
  },
  {
   "cell_type": "code",
   "execution_count": null,
   "id": "77ac1aff",
   "metadata": {},
   "outputs": [],
   "source": []
  },
  {
   "cell_type": "code",
   "execution_count": null,
   "id": "87f15232",
   "metadata": {},
   "outputs": [],
   "source": []
  },
  {
   "cell_type": "code",
   "execution_count": null,
   "id": "8429e00c",
   "metadata": {},
   "outputs": [],
   "source": []
  },
  {
   "cell_type": "code",
   "execution_count": 45,
   "id": "17cd0913",
   "metadata": {},
   "outputs": [],
   "source": [
    "# dspy.Predict(dspy.ChainOfThought(TextSplitter)) (text_block=data[0].text_block).splits"
   ]
  },
  {
   "cell_type": "code",
   "execution_count": null,
   "id": "06880eb2",
   "metadata": {},
   "outputs": [
    {
     "data": {
      "text/plain": [
       "False"
      ]
     },
     "execution_count": 29,
     "metadata": {},
     "output_type": "execute_result"
    }
   ],
   "source": [
    "# generate_splits = dspy.Predict(TextSplitter)\n",
    "# prediction = generate_splits(text_block=data[0].text_block)\n",
    "# data[0].splits == prediction"
   ]
  },
  {
   "cell_type": "markdown",
   "id": "40b44733",
   "metadata": {},
   "source": []
  },
  {
   "cell_type": "code",
   "execution_count": 30,
   "id": "7e3faa77",
   "metadata": {},
   "outputs": [
    {
     "data": {
      "text/plain": [
       "['The concept of sustainability was originally coined in forestry, where it means never harvesting more than what the forest yields in new growth [2]. The word Nachhaltigkeit (the German term for sustainability) was first used with this meaning in 1713 [3]. The concern with preserving natural resources for the future is perennial, of course: undoubtedly our Palaeolithic ancestors worried about their prey becoming extinct, and early farmers must have been apprehensive about maintaining soil fertility. Traditional beliefs enjoined thinking in terms of stewardship and concern for future generations, as expressed in the oft-quoted words of a Nigerian tribal chief who saw the community as consisting of “many dead, few living and countless others unborn” [4,5]. Perhaps there have always been two opposing views of the relation between humankind and nature: one which stresses adaptation and harmony, and another which sees nature as something to be conquered. While this latter view may have been rather dominant in Western civilization at least in recent centuries, its counterpoint has never been absent.',\n",
       " 'Sustainability (without necessarily using the word) is a natural topic of study for economists: after all, the scarcity of resources is of central concern to the dismal science. A famous example is the work of Thomas Malthus, who published his theory about looming mass starvation (due to the inability of available agricultural land to feed an expanding population) in 1798. A theory on the optimal rate of exploitation of non-renewable resources which is still relevant today was formulated by Harold Hotelling, an American economist, in 1931 [6]. We shall have more to say about his views later. A milestone in capturing the attention of global public policy was the report of the Club of Rome [7], which predicted that many natural resources crucial to our survival would be exhausted within one or two generations. Such pessimism is unbecoming in public policy which is, after all, supposed to be about improving things. Therefore, the report of the UN World Commission on Environment and Development, better known as the Brundtland Report after its chairperson, was welcomed for showing a way out of impending doom. It was this report which adopted the concept of sustainability and gave it the widespread recognition it enjoys today.',\n",
       " 'The question which Brundtland and her colleagues posed themselves was: how can the aspirations of the world’s nations for a better life be reconciled with limited natural resources and the dangers of environmental degradation? Their answer is sustainable development, in the Commission’s words: development that meets the needs of the present without compromising the ability of future generations to meet their own needs [1]. Thus, environmental concerns are important, but the basic argument is one of welfare, seen in a context of inter-generational equity. We should care for the environment not because of its intrinsic value, but in order to preserve resources for our children. Since that time, there have been two major developments in the concept of sustainability: one, its interpretation in terms of three dimensions, which must be in harmony—social, economic and environmental. Two, the distinction between ‘strong’ and ‘weak’ sustainability. These two developments are discussed critically in the Sections 3–4 and 5–6, respectively.']"
      ]
     },
     "execution_count": 30,
     "metadata": {},
     "output_type": "execute_result"
    }
   ],
   "source": [
    "data[0].splits "
   ]
  },
  {
   "cell_type": "code",
   "execution_count": 31,
   "id": "eef630d8",
   "metadata": {},
   "outputs": [
    {
     "data": {
      "text/plain": [
       "[\"The concept of sustainability was originally coined in forestry, where it means never harvesting more than what the forest yields in new growth. The word Nachhaltigkeit (the German term for sustainability) was first used with this meaning in 1713. The concern with preserving natural resources for the future is perennial, of course: undoubtedly our Palaeolithic ancestors worried about their prey becoming extinct, and early farmers must have been apprehensive about maintaining soil fertility. Traditional beliefs enjoined thinking in terms of stewardship and concern for future generations, as expressed in the oft-quoted words of a Nigerian tribal chief who saw the community as consisting of 'many dead, few living and countless others unborn'. Perhaps there have always been two opposing views of the relation between humankind and nature: one which stresses adaptation and harmony, and another which sees nature as something to be conquered.\",\n",
       " 'While this latter view may have been rather dominant in Western civilization at least in recent centuries, its counterpoint has never been absent. Sustainability (without necessarily using the word) is a natural topic of study for economists: after all, the scarcity of resources is of central concern to the dismal science. A famous example is the work of Thomas Malthus, who published his theory about looming mass starvation (due to the inability of available agricultural land to feed an expanding population) in 1798. A theory on the optimal rate of exploitation of non-renewable resource which is still relevant today was formulated by Harold Hotelling, an American economist, in 1931. We shall have more to say about his views later.',\n",
       " 'A milestone in capturing the attention of global public policy was the report of the Club of Rome, which predicted that many natural resources crucial to our survival would be exhausted within one or two generations. Such pessimism is unbecoming in public policy which is, after all, supposed to be about improving things. Therefore, the report of the UN World Commission on Environment and Development, better known as the Brundtland Report after its chairperson, was welcomed for showing a way out of impending doom. It was this report which adopted the concept of sustainability and gave it the widespread recognition it enjoys today.',\n",
       " 'The question which Brundtland and her colleagues posed themselves was: how can the aspirations of the world’s nations for a better life be reconciled with limited natural resources and the dangers of environmental degradation? Their answer is sustainable development, in the Commission’s words: development that meets the needs of the present without compromising the ability of future generations to meet their own needs. Thus, environmental concerns are important, but the basic argument is one of welfare, seen in a context of inter-generational equity. We should care for the environment not because of its intrinsic value, but in order to preserve resources for our children.',\n",
       " 'Since that time, there have been two major developments in the concept of sustainability: one, its interpretation in terms of three dimensions, which must be in harmony: social, economic and environmental. Two, the distinction between ‘strong’ and ‘weak’ sustainability. These two developments are discussed critically in the Sections 3–4 and 5–6, respectively.']"
      ]
     },
     "execution_count": 31,
     "metadata": {},
     "output_type": "execute_result"
    }
   ],
   "source": [
    "prediction.splits"
   ]
  },
  {
   "cell_type": "code",
   "execution_count": 17,
   "id": "34266351",
   "metadata": {},
   "outputs": [
    {
     "data": {
      "text/plain": [
       "False"
      ]
     },
     "execution_count": 17,
     "metadata": {},
     "output_type": "execute_result"
    }
   ],
   "source": [
    "data[0].splits == prediction.splits"
   ]
  },
  {
   "cell_type": "code",
   "execution_count": null,
   "id": "76433cd3",
   "metadata": {},
   "outputs": [],
   "source": []
  },
  {
   "cell_type": "code",
   "execution_count": null,
   "id": "9db68828",
   "metadata": {},
   "outputs": [],
   "source": []
  },
  {
   "cell_type": "code",
   "execution_count": 20,
   "id": "d00204ab",
   "metadata": {},
   "outputs": [
    {
     "name": "stdout",
     "output_type": "stream",
     "text": [
      "Average Metric: 0.00 / 2 (0.0%): 100%|██████████| 2/2 [00:00<00:00, 1226.05it/s]"
     ]
    },
    {
     "name": "stderr",
     "output_type": "stream",
     "text": [
      "2025/08/14 17:39:04 INFO dspy.evaluate.evaluate: Average Metric: 0 / 2 (0.0%)\n"
     ]
    },
    {
     "name": "stdout",
     "output_type": "stream",
     "text": [
      "\n"
     ]
    },
    {
     "data": {
      "text/plain": [
       "0.0"
      ]
     },
     "execution_count": 20,
     "metadata": {},
     "output_type": "execute_result"
    }
   ],
   "source": [
    "\n",
    "def text_splitter_metric(example: dspy.Example, prediction, trace=None) -> bool:\n",
    "    return prediction.splits == example.splits\n",
    "\n",
    "\n",
    "evaluate_correctness = dspy.Evaluate(\n",
    "    devset=data,\n",
    "    metric=text_splitter_metric,\n",
    "    num_threads=24,\n",
    "    display_progress=True,\n",
    "    diplay_table=True\n",
    ")\n",
    "\n",
    "evaluate_correctness(text_splitter, devset=data)"
   ]
  },
  {
   "cell_type": "code",
   "execution_count": null,
   "id": "de51a3fd",
   "metadata": {},
   "outputs": [],
   "source": []
  },
  {
   "cell_type": "code",
   "execution_count": null,
   "id": "6ed0d61f",
   "metadata": {},
   "outputs": [],
   "source": []
  },
  {
   "cell_type": "code",
   "execution_count": null,
   "id": "bd7c35bb",
   "metadata": {},
   "outputs": [],
   "source": []
  },
  {
   "cell_type": "code",
   "execution_count": null,
   "id": "aaefb788",
   "metadata": {},
   "outputs": [],
   "source": []
  },
  {
   "cell_type": "code",
   "execution_count": 27,
   "id": "c9ddc87c",
   "metadata": {},
   "outputs": [
    {
     "name": "stderr",
     "output_type": "stream",
     "text": [
      "100%|██████████| 2/2 [00:13<00:00,  6.59s/it]\n"
     ]
    },
    {
     "name": "stdout",
     "output_type": "stream",
     "text": [
      "Bootstrapped 0 full traces after 1 examples for up to 1 rounds, amounting to 2 attempts.\n"
     ]
    }
   ],
   "source": [
    "mipro_optimizer = dspy.MIPROv2(\n",
    "    metric=text_splitter_metric,\n",
    "    auto=\"medium\",\n",
    ")\n",
    "bootstap_optimizer = dspy.BootstrapFewShot(\n",
    "    metric=text_splitter_metric,\n",
    "    #auto=\"medium\",\n",
    ")\n",
    "optimized_text_splitter = bootstap_optimizer.compile(\n",
    "    text_splitter,\n",
    "    trainset=data,\n",
    "    #max_bootstrapped_demos=4,\n",
    "    # minibatch=False\n",
    "    #requires_permission_to_run=False\n",
    ")"
   ]
  },
  {
   "cell_type": "code",
   "execution_count": null,
   "id": "a1aa5c62",
   "metadata": {},
   "outputs": [],
   "source": []
  },
  {
   "cell_type": "code",
   "execution_count": null,
   "id": "324bb1da",
   "metadata": {},
   "outputs": [],
   "source": []
  },
  {
   "cell_type": "code",
   "execution_count": null,
   "id": "8fde76c5",
   "metadata": {},
   "outputs": [],
   "source": []
  },
  {
   "cell_type": "code",
   "execution_count": null,
   "id": "2b1b27d2",
   "metadata": {},
   "outputs": [],
   "source": []
  },
  {
   "cell_type": "code",
   "execution_count": 12,
   "id": "ff91041f",
   "metadata": {},
   "outputs": [
    {
     "name": "stdout",
     "output_type": "stream",
     "text": [
      "\n",
      "\n",
      "\n",
      "\n",
      "\u001b[34m[2025-08-14T17:05:47.010257]\u001b[0m\n",
      "\n",
      "\u001b[31mSystem message:\u001b[0m\n",
      "\n",
      "Your input fields are:\n",
      "1. `text_block` (str): Full text block\n",
      "Your output fields are:\n",
      "1. `reasoning` (str): \n",
      "2. `splits` (list[str]): Exact splits of text chunks usually 100-200 words from text block\n",
      "All interactions will be structured in the following way, with the appropriate values filled in.\n",
      "\n",
      "[[ ## text_block ## ]]\n",
      "{text_block}\n",
      "\n",
      "[[ ## reasoning ## ]]\n",
      "{reasoning}\n",
      "\n",
      "[[ ## splits ## ]]\n",
      "{splits}        # note: the value you produce must adhere to the JSON schema: {\"type\": \"array\", \"items\": {\"type\": \"string\"}}\n",
      "\n",
      "[[ ## completed ## ]]\n",
      "In adhering to this structure, your objective is: \n",
      "        You are a sustainability expert tasked with analyzing the provided text block. Your goal is to identify and produce key splits that reflect the multifaceted nature of sustainability, incorporating historical influences, economic theories, and philosophical viewpoints. Consider how these elements interact and contribute to a deeper understanding of sustainability beyond environmental issues.\n",
      "\n",
      "\n",
      "\u001b[31mUser message:\u001b[0m\n",
      "\n",
      "Respond with the corresponding output fields, starting with the field `[[ ## reasoning ## ]]`, then `[[ ## splits ## ]]` (must be formatted as a valid Python list[str]), and then ending with the marker for `[[ ## completed ## ]]`.\n",
      "\n",
      "\n",
      "\u001b[31mResponse:\u001b[0m\n",
      "\n",
      "\u001b[32m[[ ## reasoning ## ]]\n",
      "The text block likely discusses various aspects of sustainability, including its historical context, economic implications, and philosophical perspectives. By breaking the text into manageable chunks of 100-200 words, we can better analyze how these elements interconnect and contribute to a comprehensive understanding of sustainability. This approach allows for a nuanced exploration of sustainability that goes beyond mere environmental concerns, incorporating social, economic, and ethical dimensions.\n",
      "\n",
      "[[ ## splits ## ]]\n",
      "[\"The concept of sustainability has evolved over time, influenced by historical events and cultural shifts. Initially, sustainability was primarily associated with environmental conservation, but as society progressed, it began to encompass broader economic and social dimensions. This evolution reflects a growing awareness of the interconnectedness of ecological health, economic stability, and social equity.\", \n",
      "\"Economically, sustainability challenges traditional growth models that prioritize short-term profits over long-term viability. Theories such as circular economy and sustainable development advocate for systems that minimize waste and promote resource efficiency. These economic frameworks encourage businesses and governments to rethink their strategies in favor of practices that support both the planet and people.\", \n",
      "\"Philosophically, sustainability raises questions about our ethical responsibilities to future generations and the natural world. Different philosophical viewpoints, from utilitarianism to deep ecology, offer diverse perspectives on how we should value nature and make decisions that affect the environment. This ethical dimension is crucial for fostering a culture of sustainability that prioritizes long-term well-being over immediate gains.\", \n",
      "\"Furthermore, the integration of sustainability into policy-making reflects a shift in societal values. Policymakers are increasingly recognizing the importance of sustainable practices in addressing global challenges such as climate change, resource depletion, and social inequality. This recognition is essential for creating frameworks that support sustainable development at local, national, and global levels.\", \n",
      "\"In conclusion, sustainability is a multifaceted concept that requires a holistic approach. By examining its historical roots, economic implications, and philosophical underpinnings, we can develop a deeper understanding of what it means to live sustainably. This understanding is vital for creating effective strategies that address the complex challenges we face today.\"]\n",
      "\n",
      "[[ ## completed ## ]]\u001b[0m\n",
      "\n",
      "\n",
      "\n",
      "\n",
      "\n"
     ]
    },
    {
     "data": {
      "text/html": [
       "<pre style=\"white-space:pre;overflow-x:auto;line-height:normal;font-family:Menlo,'DejaVu Sans Mono',consolas,'Courier New',monospace\"><span style=\"color: #800080; text-decoration-color: #800080; font-style: italic\">None</span>\n",
       "</pre>\n"
      ],
      "text/plain": [
       "\u001b[3;35mNone\u001b[0m\n"
      ]
     },
     "metadata": {},
     "output_type": "display_data"
    }
   ],
   "source": [
    "print(dspy.inspect_history(n=1))"
   ]
  },
  {
   "cell_type": "code",
   "execution_count": null,
   "id": "0968d786",
   "metadata": {},
   "outputs": [],
   "source": []
  }
 ],
 "metadata": {
  "kernelspec": {
   "display_name": "textract-tiquu (3.10.12)",
   "language": "python",
   "name": "python3"
  },
  "language_info": {
   "codemirror_mode": {
    "name": "ipython",
    "version": 3
   },
   "file_extension": ".py",
   "mimetype": "text/x-python",
   "name": "python",
   "nbconvert_exporter": "python",
   "pygments_lexer": "ipython3",
   "version": "3.10.12"
  }
 },
 "nbformat": 4,
 "nbformat_minor": 5
}
