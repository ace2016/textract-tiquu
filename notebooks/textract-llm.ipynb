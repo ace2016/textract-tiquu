{
 "cells": [
  {
   "cell_type": "code",
   "execution_count": 1,
   "id": "cb81fdb2",
   "metadata": {},
   "outputs": [
    {
     "data": {
      "text/plain": [
       "True"
      ]
     },
     "execution_count": 1,
     "metadata": {},
     "output_type": "execute_result"
    }
   ],
   "source": [
    "from dotenv import load_dotenv\n",
    "load_dotenv()"
   ]
  },
  {
   "cell_type": "code",
   "execution_count": null,
   "id": "85ef1e5b",
   "metadata": {},
   "outputs": [],
   "source": [
    "from pathlib import Path\n",
    "from rich import print  # pretty printing"
   ]
  },
  {
   "cell_type": "code",
   "execution_count": 4,
   "id": "d20207c5",
   "metadata": {},
   "outputs": [],
   "source": [
    "from langchain_docling import DoclingLoader\n"
   ]
  },
  {
   "cell_type": "code",
   "execution_count": 5,
   "id": "d7431d0f",
   "metadata": {},
   "outputs": [],
   "source": [
    "file_path = 'What_is_Sustainability-1.pdf'  # Replace with your actual PDF file path\n",
    "current_dir = Path().resolve()\n",
    "file_path = current_dir.parent / \"data\" / file_path\n",
    "\n",
    "\n",
    "loader = DoclingLoader(file_path=file_path)"
   ]
  },
  {
   "cell_type": "code",
   "execution_count": 6,
   "id": "bd3f5e1e",
   "metadata": {},
   "outputs": [
    {
     "data": {
      "text/html": [
       "<pre style=\"white-space:pre;overflow-x:auto;line-height:normal;font-family:Menlo,'DejaVu Sans Mono',consolas,'Courier New',monospace\">- d.<span style=\"color: #808000; text-decoration-color: #808000\">page_content</span>=<span style=\"color: #008000; text-decoration-color: #008000\">'Review'</span>\n",
       "</pre>\n"
      ],
      "text/plain": [
       "- d.\u001b[33mpage_content\u001b[0m=\u001b[32m'Review'\u001b[0m\n"
      ]
     },
     "metadata": {},
     "output_type": "display_data"
    },
    {
     "data": {
      "text/html": [
       "<pre style=\"white-space:pre;overflow-x:auto;line-height:normal;font-family:Menlo,'DejaVu Sans Mono',consolas,'Courier New',monospace\">- d.<span style=\"color: #808000; text-decoration-color: #808000\">page_content</span>=<span style=\"color: #008000; text-decoration-color: #008000\">'Tom Kuhlman  1, * and John Farrington 2\\n- 1 Agricultural Economics Research Institute, </span>\n",
       "<span style=\"color: #008000; text-decoration-color: #008000\">Wageningen University, P.O. Box 29703, 2502LS The Hague, The Netherlands\\n- 2 Institute for Rural Research, </span>\n",
       "<span style=\"color: #008000; text-decoration-color: #008000\">Geography and Environment, University of Aberdeen, Elphinstone Road, Aberdeen AB24 3UF, Scotland, UK; E-Mail: </span>\n",
       "<span style=\"color: #008000; text-decoration-color: #008000\">j.farrington@abdn.ac.uk\\n* Author to whom correspondence should be addressed; E-Mail: tom.kuhlman@wur.nl; Tel.: </span>\n",
       "<span style=\"color: #008000; text-decoration-color: #008000\">+31-70-3358-232; Fax: +31-70-3615-624.\\nReceived: 17 September 2010; in revised form: 15 October 2010 / Accepted: </span>\n",
       "<span style=\"color: #008000; text-decoration-color: #008000\">19 October 2010 /\\nPublished: 1 November 2010'</span>\n",
       "</pre>\n"
      ],
      "text/plain": [
       "- d.\u001b[33mpage_content\u001b[0m=\u001b[32m'Tom Kuhlman  1, * and John Farrington 2\\n- 1 Agricultural Economics Research Institute, \u001b[0m\n",
       "\u001b[32mWageningen University, P.O. Box 29703, 2502LS The Hague, The Netherlands\\n- 2 Institute for Rural Research, \u001b[0m\n",
       "\u001b[32mGeography and Environment, University of Aberdeen, Elphinstone Road, Aberdeen AB24 3UF, Scotland, UK; E-Mail: \u001b[0m\n",
       "\u001b[32mj.farrington@abdn.ac.uk\\n* Author to whom correspondence should be addressed; E-Mail: tom.kuhlman@wur.nl; Tel.: \u001b[0m\n",
       "\u001b[32m+31-70-3358-232; Fax: +31-70-3615-624.\\nReceived: 17 September 2010; in revised form: 15 October 2010 / Accepted: \u001b[0m\n",
       "\u001b[32m19 October 2010 /\\nPublished: 1 November 2010'\u001b[0m\n"
      ]
     },
     "metadata": {},
     "output_type": "display_data"
    },
    {
     "data": {
      "text/html": [
       "<pre style=\"white-space:pre;overflow-x:auto;line-height:normal;font-family:Menlo,'DejaVu Sans Mono',consolas,'Courier New',monospace\">- d.<span style=\"color: #808000; text-decoration-color: #808000\">page_content</span>=<span style=\"color: #008000; text-decoration-color: #008000\">'Tom Kuhlman  1, * and John Farrington 2\\nAbstract: Sustainability  as  a  policy  concept  has  </span>\n",
       "<span style=\"color: #008000; text-decoration-color: #008000\">its  origin  in  the  Brundtland  Report of  1987.  That  document  was  concerned  with  the  tension  between  </span>\n",
       "<span style=\"color: #008000; text-decoration-color: #008000\">the  aspirations  of mankind towards a better life on the one hand and the limitations imposed by nature on the </span>\n",
       "<span style=\"color: #008000; text-decoration-color: #008000\">other hand. In the course of time, the concept has been re-interpreted as encompassing three dimensions, namely </span>\n",
       "<span style=\"color: #008000; text-decoration-color: #008000\">social, economic and environmental. The paper argues that this change in  meaning  (a)  obscures  the  real  </span>\n",
       "<span style=\"color: #008000; text-decoration-color: #008000\">contradiction  between  the  aims  of  welfare  for  all  and environmental  conservation;  (b)  risks  diminishing</span>\n",
       "<span style=\"color: #008000; text-decoration-color: #008000\">the  importance  of  the  environmental dimension; and (c) separates social from economic aspects, which in reality</span>\n",
       "<span style=\"color: #008000; text-decoration-color: #008000\">are one and the same.  It  is  proposed  instead  to  return  to  the  original  meaning,  where  sustainability  </span>\n",
       "<span style=\"color: #008000; text-decoration-color: #008000\">is concerned  with  the  well-being  of  future  generations  and  in  particular  with  irreplaceable natural  </span>\n",
       "<span style=\"color: #008000; text-decoration-color: #008000\">resources-as  opposed  to  the  gratification  of  present  needs  which  we'</span>\n",
       "</pre>\n"
      ],
      "text/plain": [
       "- d.\u001b[33mpage_content\u001b[0m=\u001b[32m'Tom Kuhlman  1, * and John Farrington 2\\nAbstract: Sustainability  as  a  policy  concept  has  \u001b[0m\n",
       "\u001b[32mits  origin  in  the  Brundtland  Report of  1987.  That  document  was  concerned  with  the  tension  between  \u001b[0m\n",
       "\u001b[32mthe  aspirations  of mankind towards a better life on the one hand and the limitations imposed by nature on the \u001b[0m\n",
       "\u001b[32mother hand. In the course of time, the concept has been re-interpreted as encompassing three dimensions, namely \u001b[0m\n",
       "\u001b[32msocial, economic and environmental. The paper argues that this change in  meaning  \u001b[0m\u001b[32m(\u001b[0m\u001b[32ma\u001b[0m\u001b[32m)\u001b[0m\u001b[32m  obscures  the  real  \u001b[0m\n",
       "\u001b[32mcontradiction  between  the  aims  of  welfare  for  all  and environmental  conservation;  \u001b[0m\u001b[32m(\u001b[0m\u001b[32mb\u001b[0m\u001b[32m)\u001b[0m\u001b[32m  risks  diminishing\u001b[0m\n",
       "\u001b[32mthe  importance  of  the  environmental dimension; and \u001b[0m\u001b[32m(\u001b[0m\u001b[32mc\u001b[0m\u001b[32m)\u001b[0m\u001b[32m separates social from economic aspects, which in reality\u001b[0m\n",
       "\u001b[32mare one and the same.  It  is  proposed  instead  to  return  to  the  original  meaning,  where  sustainability  \u001b[0m\n",
       "\u001b[32mis concerned  with  the  well-being  of  future  generations  and  in  particular  with  irreplaceable natural  \u001b[0m\n",
       "\u001b[32mresources-as  opposed  to  the  gratification  of  present  needs  which  we'\u001b[0m\n"
      ]
     },
     "metadata": {},
     "output_type": "display_data"
    }
   ],
   "source": [
    "docs = loader.load()\n",
    "for d in docs[:3]:\n",
    "    print(f\"- {d.page_content=}\")"
   ]
  },
  {
   "cell_type": "code",
   "execution_count": 8,
   "id": "ac3de39f",
   "metadata": {},
   "outputs": [
    {
     "data": {
      "text/plain": [
       "Document(metadata={'source': PosixPath('/home/thankgod/2025/tiiqu/textract-tiquu/data/What_is_Sustainability-1.pdf'), 'dl_meta': {'schema_name': 'docling_core.transforms.chunker.DocMeta', 'version': '1.0.0', 'doc_items': [{'self_ref': '#/texts/4', 'parent': {'$ref': '#/groups/0'}, 'children': [], 'content_layer': 'body', 'label': 'list_item', 'prov': [{'page_no': 1, 'bbox': {'l': 49.559, 't': 590.612, 'r': 520.437, 'b': 559.905, 'coord_origin': 'BOTTOMLEFT'}, 'charspan': [0, 117]}]}, {'self_ref': '#/texts/5', 'parent': {'$ref': '#/groups/0'}, 'children': [], 'content_layer': 'body', 'label': 'list_item', 'prov': [{'page_no': 1, 'bbox': {'l': 49.559, 't': 556.532, 'r': 526.077, 'b': 525.825, 'coord_origin': 'BOTTOMLEFT'}, 'charspan': [0, 165]}]}, {'self_ref': '#/texts/6', 'parent': {'$ref': '#/groups/0'}, 'children': [], 'content_layer': 'body', 'label': 'list_item', 'prov': [{'page_no': 1, 'bbox': {'l': 49.56, 't': 507.657, 'r': 479.518, 'b': 479.745, 'coord_origin': 'BOTTOMLEFT'}, 'charspan': [0, 125]}]}, {'self_ref': '#/texts/7', 'parent': {'$ref': '#/groups/1'}, 'children': [], 'content_layer': 'body', 'label': 'text', 'prov': [{'page_no': 1, 'bbox': {'l': 49.559, 't': 461.517, 'r': 513.597, 'b': 450.813, 'coord_origin': 'BOTTOMLEFT'}, 'charspan': [0, 91]}]}, {'self_ref': '#/texts/8', 'parent': {'$ref': '#/groups/1'}, 'children': [], 'content_layer': 'body', 'label': 'text', 'prov': [{'page_no': 1, 'bbox': {'l': 49.559, 't': 444.477, 'r': 192.718, 'b': 433.773, 'coord_origin': 'BOTTOMLEFT'}, 'charspan': [0, 26]}]}], 'headings': ['Tom Kuhlman  1, * and John Farrington 2'], 'origin': {'mimetype': 'application/pdf', 'binary_hash': 6176989983545966588, 'filename': 'What_is_Sustainability-1.pdf'}}}, page_content='Tom Kuhlman  1, * and John Farrington 2\\n- 1 Agricultural Economics Research Institute, Wageningen University, P.O. Box 29703, 2502LS The Hague, The Netherlands\\n- 2 Institute for Rural Research, Geography and Environment, University of Aberdeen, Elphinstone Road, Aberdeen AB24 3UF, Scotland, UK; E-Mail: j.farrington@abdn.ac.uk\\n* Author to whom correspondence should be addressed; E-Mail: tom.kuhlman@wur.nl; Tel.: +31-70-3358-232; Fax: +31-70-3615-624.\\nReceived: 17 September 2010; in revised form: 15 October 2010 / Accepted: 19 October 2010 /\\nPublished: 1 November 2010')"
      ]
     },
     "execution_count": 8,
     "metadata": {},
     "output_type": "execute_result"
    }
   ],
   "source": [
    "docs[1]"
   ]
  },
  {
   "cell_type": "code",
   "execution_count": null,
   "id": "834c22ba",
   "metadata": {},
   "outputs": [],
   "source": []
  },
  {
   "cell_type": "code",
   "execution_count": null,
   "id": "5934a23e",
   "metadata": {},
   "outputs": [],
   "source": []
  }
 ],
 "metadata": {
  "kernelspec": {
   "display_name": "textract-tiquu (3.10.12)",
   "language": "python",
   "name": "python3"
  },
  "language_info": {
   "codemirror_mode": {
    "name": "ipython",
    "version": 3
   },
   "file_extension": ".py",
   "mimetype": "text/x-python",
   "name": "python",
   "nbconvert_exporter": "python",
   "pygments_lexer": "ipython3",
   "version": "3.10.12"
  }
 },
 "nbformat": 4,
 "nbformat_minor": 5
}
