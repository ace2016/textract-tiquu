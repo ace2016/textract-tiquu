{
 "cells": [
  {
   "cell_type": "code",
   "execution_count": null,
   "id": "b4ab48cd",
   "metadata": {},
   "outputs": [],
   "source": []
  },
  {
   "cell_type": "code",
   "execution_count": null,
   "id": "d1eb4b8e",
   "metadata": {},
   "outputs": [],
   "source": [
    "from pathlib import Path\n",
    "\n",
    "from rich import print"
   ]
  },
  {
   "cell_type": "code",
   "execution_count": 111,
   "id": "88126f4d",
   "metadata": {},
   "outputs": [],
   "source": [
    "test_files = list(Path.cwd().parent.glob('data/**/*.pdf'))"
   ]
  },
  {
   "cell_type": "code",
   "execution_count": 112,
   "id": "5c87b81f",
   "metadata": {},
   "outputs": [
    {
     "data": {
      "text/plain": [
       "[PosixPath('/home/thankgod/2025/tiiqu/textract-tiquu/data/JSR_1778.pdf'),\n",
       " PosixPath('/home/thankgod/2025/tiiqu/textract-tiquu/data/JSR_1774.pdf'),\n",
       " PosixPath('/home/thankgod/2025/tiiqu/textract-tiquu/data/What_is_Sustainability-1.pdf'),\n",
       " PosixPath('/home/thankgod/2025/tiiqu/textract-tiquu/data/JSR_1775.pdf')]"
      ]
     },
     "execution_count": 112,
     "metadata": {},
     "output_type": "execute_result"
    }
   ],
   "source": [
    "test_files"
   ]
  },
  {
   "cell_type": "code",
   "execution_count": 3,
   "id": "cb7e23e0",
   "metadata": {},
   "outputs": [],
   "source": [
    "# from marker.converters.pdf import PdfConverter\n",
    "# from marker.models import create_model_dict\n",
    "# from marker.output import text_from_rendered\n",
    "\n",
    "# converter = PdfConverter(\n",
    "#     artifact_dict=create_model_dict(),\n",
    "# )\n",
    "# rendered = converter(\"/home/thankgod/2025/tiiqu/textract-tiquu/data/What_is_Sustainability-1.pdf\")\n",
    "# text, _, images = text_from_rendered(rendered)"
   ]
  },
  {
   "cell_type": "code",
   "execution_count": null,
   "id": "d268491c",
   "metadata": {},
   "outputs": [],
   "source": []
  },
  {
   "cell_type": "code",
   "execution_count": null,
   "id": "292b0dc0",
   "metadata": {},
   "outputs": [],
   "source": []
  },
  {
   "cell_type": "code",
   "execution_count": 91,
   "id": "ab1a6c04",
   "metadata": {},
   "outputs": [],
   "source": [
    "# from marker.converters.pdf import PdfConverter\n",
    "# from marker.models import create_model_dict\n",
    "# from marker.config.parser import ConfigParser\n",
    "\n",
    "# config = {\n",
    "#     \"output_format\": \"chunks\",\n",
    "#     \"ADDITIONAL_KEY\": \"VALUE\"\n",
    "# }\n",
    "# config_parser = ConfigParser(config)\n",
    "\n",
    "# converter = PdfConverter(\n",
    "#     config=config_parser.generate_config_dict(),\n",
    "#     artifact_dict=create_model_dict(),\n",
    "#     processor_list=config_parser.get_processors(),\n",
    "#     renderer=config_parser.get_renderer(),\n",
    "#     llm_service=config_parser.get_llm_service()\n",
    "# )\n",
    "# rendered1 = converter(filepath=file_path1)\n",
    "# rendered2 = converter(filepath=file_path2)"
   ]
  },
  {
   "cell_type": "code",
   "execution_count": 29,
   "id": "a8653b95",
   "metadata": {},
   "outputs": [],
   "source": [
    "#print(rendered)"
   ]
  },
  {
   "cell_type": "code",
   "execution_count": null,
   "id": "0509a033",
   "metadata": {},
   "outputs": [],
   "source": []
  },
  {
   "cell_type": "code",
   "execution_count": null,
   "id": "593c4dd7",
   "metadata": {},
   "outputs": [],
   "source": []
  },
  {
   "cell_type": "code",
   "execution_count": null,
   "id": "d8c54b0b",
   "metadata": {},
   "outputs": [],
   "source": []
  },
  {
   "cell_type": "code",
   "execution_count": null,
   "id": "b3d3da75",
   "metadata": {},
   "outputs": [
    {
     "name": "stderr",
     "output_type": "stream",
     "text": [
      "Recognizing layout: 100%|██████████| 2/2 [00:01<00:00,  1.68it/s]\n",
      "Running OCR Error Detection: 100%|██████████| 2/2 [00:00<00:00, 22.71it/s]\n",
      "Detecting bboxes: 100%|██████████| 1/1 [00:00<00:00,  9.16it/s]\n",
      "Recognizing Text: 100%|██████████| 27/27 [00:06<00:00,  3.92it/s]\n",
      "Recognizing Text: 100%|██████████| 1/1 [00:00<00:00,  2.02it/s]\n",
      "Detecting bboxes: 0it [00:00, ?it/s]\n",
      "Recognizing tables: 100%|██████████| 1/1 [00:00<00:00,  2.07it/s]\n",
      "Recognizing layout: 100%|██████████| 2/2 [00:01<00:00,  1.64it/s]\n",
      "Running OCR Error Detection: 100%|██████████| 2/2 [00:00<00:00, 23.51it/s]\n",
      "Detecting bboxes: 0it [00:00, ?it/s]\n",
      "Detecting bboxes: 0it [00:00, ?it/s]\n",
      "Recognizing tables: 100%|██████████| 1/1 [00:00<00:00,  2.79it/s]\n",
      "Recognizing layout: 100%|██████████| 2/2 [00:00<00:00,  2.63it/s]\n",
      "Running OCR Error Detection: 100%|██████████| 1/1 [00:00<00:00, 20.94it/s]\n",
      "Detecting bboxes: 0it [00:00, ?it/s]\n",
      "Detecting bboxes: 0it [00:00, ?it/s]\n",
      "Recognizing tables: 100%|██████████| 1/1 [00:00<00:00, 13.75it/s]\n",
      "Recognizing layout: 100%|██████████| 2/2 [00:01<00:00,  1.74it/s]\n",
      "Running OCR Error Detection: 100%|██████████| 2/2 [00:00<00:00, 24.69it/s]\n",
      "Detecting bboxes: 0it [00:00, ?it/s]\n",
      "Detecting bboxes: 0it [00:00, ?it/s]\n",
      "Recognizing tables: 100%|██████████| 1/1 [00:00<00:00,  3.08it/s]\n"
     ]
    }
   ],
   "source": [
    "from marker.config.parser import ConfigParser\n",
    "from marker.converters.pdf import PdfConverter\n",
    "from marker.models import create_model_dict\n",
    "\n",
    "config = {\n",
    "    \"output_format\": \"markdown\",\n",
    "    \"ADDITIONAL_KEY\": \"VALUE\"\n",
    "}\n",
    "config_parser = ConfigParser(config)\n",
    "\n",
    "converter = PdfConverter(\n",
    "    config=config_parser.generate_config_dict(),\n",
    "    artifact_dict=create_model_dict(),\n",
    "    processor_list=config_parser.get_processors(),\n",
    "    renderer=config_parser.get_renderer(),\n",
    "    llm_service=config_parser.get_llm_service()\n",
    ")\n",
    "\n",
    "rendered_files = [converter(filepath=str(test_file)) for test_file in test_files]"
   ]
  },
  {
   "cell_type": "code",
   "execution_count": 116,
   "id": "3bdab965",
   "metadata": {},
   "outputs": [],
   "source": [
    "#print(rendered_files[0].markdown)"
   ]
  },
  {
   "cell_type": "code",
   "execution_count": 87,
   "id": "f50733e1",
   "metadata": {},
   "outputs": [],
   "source": [
    "pdf_text = rendered.markdown\n",
    "#print(pdf_text)"
   ]
  },
  {
   "cell_type": "code",
   "execution_count": null,
   "id": "eb7c224f",
   "metadata": {},
   "outputs": [],
   "source": [
    "import re\n",
    "\n",
    "\n",
    "def extract_headers(markdown_text):\n",
    "    # Pattern to match headers 1-3 (# ## ###)\n",
    "    pattern = r'^(#{1,10})\\s+(.+)$'\n",
    "    \n",
    "    headers = []\n",
    "    for line in markdown_text.split('\\n'):\n",
    "        match = re.match(pattern, line.strip())\n",
    "        if match:\n",
    "            level = len(match.group(1))  # Number of # symbols\n",
    "            title = match.group(2).strip()\n",
    "            headers.append({'level': level, 'title': title})\n",
    "    \n",
    "    return headers"
   ]
  },
  {
   "cell_type": "code",
   "execution_count": 121,
   "id": "8946bba0",
   "metadata": {},
   "outputs": [
    {
     "data": {
      "text/html": [
       "<pre style=\"white-space:pre;overflow-x:auto;line-height:normal;font-family:Menlo,'DejaVu Sans Mono',consolas,'Courier New',monospace\">Level <span style=\"color: #008080; text-decoration-color: #008080; font-weight: bold\">4</span>: *Article*\n",
       "</pre>\n"
      ],
      "text/plain": [
       "Level \u001b[1;36m4\u001b[0m: *Article*\n"
      ]
     },
     "metadata": {},
     "output_type": "display_data"
    },
    {
     "data": {
      "text/html": [
       "<pre style=\"white-space:pre;overflow-x:auto;line-height:normal;font-family:Menlo,'DejaVu Sans Mono',consolas,'Courier New',monospace\">Level <span style=\"color: #008080; text-decoration-color: #008080; font-weight: bold\">1</span>: **Assessing the University of Johannesburg's Engagement and Position in Global Sustainable Development \n",
       "Goal Practices**\n",
       "</pre>\n"
      ],
      "text/plain": [
       "Level \u001b[1;36m1\u001b[0m: **Assessing the University of Johannesburg's Engagement and Position in Global Sustainable Development \n",
       "Goal Practices**\n"
      ]
     },
     "metadata": {},
     "output_type": "display_data"
    },
    {
     "data": {
      "text/html": [
       "<pre style=\"white-space:pre;overflow-x:auto;line-height:normal;font-family:Menlo,'DejaVu Sans Mono',consolas,'Courier New',monospace\">Level <span style=\"color: #008080; text-decoration-color: #008080; font-weight: bold\">4</span>: **Chidubem Deborah Adamu, Kathija Yassim \\*, Chinaza Uleanya \\***\n",
       "</pre>\n"
      ],
      "text/plain": [
       "Level \u001b[1;36m4\u001b[0m: **Chidubem Deborah Adamu, Kathija Yassim \\*, Chinaza Uleanya \\***\n"
      ]
     },
     "metadata": {},
     "output_type": "display_data"
    },
    {
     "data": {
      "text/html": [
       "<pre style=\"white-space:pre;overflow-x:auto;line-height:normal;font-family:Menlo,'DejaVu Sans Mono',consolas,'Courier New',monospace\">Level <span style=\"color: #008080; text-decoration-color: #008080; font-weight: bold\">4</span>: **ABSTRACT**\n",
       "</pre>\n"
      ],
      "text/plain": [
       "Level \u001b[1;36m4\u001b[0m: **ABSTRACT**\n"
      ]
     },
     "metadata": {},
     "output_type": "display_data"
    },
    {
     "data": {
      "text/html": [
       "<pre style=\"white-space:pre;overflow-x:auto;line-height:normal;font-family:Menlo,'DejaVu Sans Mono',consolas,'Courier New',monospace\">Level <span style=\"color: #008080; text-decoration-color: #008080; font-weight: bold\">4</span>: **Open Access**\n",
       "</pre>\n"
      ],
      "text/plain": [
       "Level \u001b[1;36m4\u001b[0m: **Open Access**\n"
      ]
     },
     "metadata": {},
     "output_type": "display_data"
    },
    {
     "data": {
      "text/html": [
       "<pre style=\"white-space:pre;overflow-x:auto;line-height:normal;font-family:Menlo,'DejaVu Sans Mono',consolas,'Courier New',monospace\">Level <span style=\"color: #008080; text-decoration-color: #008080; font-weight: bold\">3</span>: **INTRODUCTION**\n",
       "</pre>\n"
      ],
      "text/plain": [
       "Level \u001b[1;36m3\u001b[0m: **INTRODUCTION**\n"
      ]
     },
     "metadata": {},
     "output_type": "display_data"
    },
    {
     "data": {
      "text/html": [
       "<pre style=\"white-space:pre;overflow-x:auto;line-height:normal;font-family:Menlo,'DejaVu Sans Mono',consolas,'Courier New',monospace\">Level <span style=\"color: #008080; text-decoration-color: #008080; font-weight: bold\">2</span>: **Literature Review**\n",
       "</pre>\n"
      ],
      "text/plain": [
       "Level \u001b[1;36m2\u001b[0m: **Literature Review**\n"
      ]
     },
     "metadata": {},
     "output_type": "display_data"
    },
    {
     "data": {
      "text/html": [
       "<pre style=\"white-space:pre;overflow-x:auto;line-height:normal;font-family:Menlo,'DejaVu Sans Mono',consolas,'Courier New',monospace\">Level <span style=\"color: #008080; text-decoration-color: #008080; font-weight: bold\">2</span>: **MATERIALS AND METHODS**\n",
       "</pre>\n"
      ],
      "text/plain": [
       "Level \u001b[1;36m2\u001b[0m: **MATERIALS AND METHODS**\n"
      ]
     },
     "metadata": {},
     "output_type": "display_data"
    },
    {
     "data": {
      "text/html": [
       "<pre style=\"white-space:pre;overflow-x:auto;line-height:normal;font-family:Menlo,'DejaVu Sans Mono',consolas,'Courier New',monospace\">Level <span style=\"color: #008080; text-decoration-color: #008080; font-weight: bold\">4</span>: **Document Analysis**\n",
       "</pre>\n"
      ],
      "text/plain": [
       "Level \u001b[1;36m4\u001b[0m: **Document Analysis**\n"
      ]
     },
     "metadata": {},
     "output_type": "display_data"
    },
    {
     "data": {
      "text/html": [
       "<pre style=\"white-space:pre;overflow-x:auto;line-height:normal;font-family:Menlo,'DejaVu Sans Mono',consolas,'Courier New',monospace\">Level <span style=\"color: #008080; text-decoration-color: #008080; font-weight: bold\">4</span>: **RESULTS**\n",
       "</pre>\n"
      ],
      "text/plain": [
       "Level \u001b[1;36m4\u001b[0m: **RESULTS**\n"
      ]
     },
     "metadata": {},
     "output_type": "display_data"
    },
    {
     "data": {
      "text/html": [
       "<pre style=\"white-space:pre;overflow-x:auto;line-height:normal;font-family:Menlo,'DejaVu Sans Mono',consolas,'Courier New',monospace\">Level <span style=\"color: #008080; text-decoration-color: #008080; font-weight: bold\">4</span>: **Participation in Achieving Sustainable Development Goals**\n",
       "</pre>\n"
      ],
      "text/plain": [
       "Level \u001b[1;36m4\u001b[0m: **Participation in Achieving Sustainable Development Goals**\n"
      ]
     },
     "metadata": {},
     "output_type": "display_data"
    },
    {
     "data": {
      "text/html": [
       "<pre style=\"white-space:pre;overflow-x:auto;line-height:normal;font-family:Menlo,'DejaVu Sans Mono',consolas,'Courier New',monospace\">Level <span style=\"color: #008080; text-decoration-color: #008080; font-weight: bold\">1</span>: *Effects of <span style=\"color: #008000; text-decoration-color: #008000\">\"No Poverty\"</span> award on Stakeholders in Integrating Sustainability in Their Lives*\n",
       "</pre>\n"
      ],
      "text/plain": [
       "Level \u001b[1;36m1\u001b[0m: *Effects of \u001b[32m\"No Poverty\"\u001b[0m award on Stakeholders in Integrating Sustainability in Their Lives*\n"
      ]
     },
     "metadata": {},
     "output_type": "display_data"
    },
    {
     "data": {
      "text/html": [
       "<pre style=\"white-space:pre;overflow-x:auto;line-height:normal;font-family:Menlo,'DejaVu Sans Mono',consolas,'Courier New',monospace\">Level <span style=\"color: #008080; text-decoration-color: #008080; font-weight: bold\">2</span>: **Position of the Institution on SDG-Related Matters**\n",
       "</pre>\n"
      ],
      "text/plain": [
       "Level \u001b[1;36m2\u001b[0m: **Position of the Institution on SDG-Related Matters**\n"
      ]
     },
     "metadata": {},
     "output_type": "display_data"
    },
    {
     "data": {
      "text/html": [
       "<pre style=\"white-space:pre;overflow-x:auto;line-height:normal;font-family:Menlo,'DejaVu Sans Mono',consolas,'Courier New',monospace\">Level <span style=\"color: #008080; text-decoration-color: #008080; font-weight: bold\">2</span>: *Stakeholders' Sustainability Practices*\n",
       "</pre>\n"
      ],
      "text/plain": [
       "Level \u001b[1;36m2\u001b[0m: *Stakeholders' Sustainability Practices*\n"
      ]
     },
     "metadata": {},
     "output_type": "display_data"
    },
    {
     "data": {
      "text/html": [
       "<pre style=\"white-space:pre;overflow-x:auto;line-height:normal;font-family:Menlo,'DejaVu Sans Mono',consolas,'Courier New',monospace\">Level <span style=\"color: #008080; text-decoration-color: #008080; font-weight: bold\">2</span>: **DISCUSSION**\n",
       "</pre>\n"
      ],
      "text/plain": [
       "Level \u001b[1;36m2\u001b[0m: **DISCUSSION**\n"
      ]
     },
     "metadata": {},
     "output_type": "display_data"
    },
    {
     "data": {
      "text/html": [
       "<pre style=\"white-space:pre;overflow-x:auto;line-height:normal;font-family:Menlo,'DejaVu Sans Mono',consolas,'Courier New',monospace\">Level <span style=\"color: #008080; text-decoration-color: #008080; font-weight: bold\">2</span>: **CONCLUSIONS**\n",
       "</pre>\n"
      ],
      "text/plain": [
       "Level \u001b[1;36m2\u001b[0m: **CONCLUSIONS**\n"
      ]
     },
     "metadata": {},
     "output_type": "display_data"
    },
    {
     "data": {
      "text/html": [
       "<pre style=\"white-space:pre;overflow-x:auto;line-height:normal;font-family:Menlo,'DejaVu Sans Mono',consolas,'Courier New',monospace\">Level <span style=\"color: #008080; text-decoration-color: #008080; font-weight: bold\">1</span>: **Suggestion for Further Study**\n",
       "</pre>\n"
      ],
      "text/plain": [
       "Level \u001b[1;36m1\u001b[0m: **Suggestion for Further Study**\n"
      ]
     },
     "metadata": {},
     "output_type": "display_data"
    },
    {
     "data": {
      "text/html": [
       "<pre style=\"white-space:pre;overflow-x:auto;line-height:normal;font-family:Menlo,'DejaVu Sans Mono',consolas,'Courier New',monospace\">Level <span style=\"color: #008080; text-decoration-color: #008080; font-weight: bold\">2</span>: **Recommendations**\n",
       "</pre>\n"
      ],
      "text/plain": [
       "Level \u001b[1;36m2\u001b[0m: **Recommendations**\n"
      ]
     },
     "metadata": {},
     "output_type": "display_data"
    },
    {
     "data": {
      "text/html": [
       "<pre style=\"white-space:pre;overflow-x:auto;line-height:normal;font-family:Menlo,'DejaVu Sans Mono',consolas,'Courier New',monospace\">Level <span style=\"color: #008080; text-decoration-color: #008080; font-weight: bold\">2</span>: **DATA AVAILABILITY**\n",
       "</pre>\n"
      ],
      "text/plain": [
       "Level \u001b[1;36m2\u001b[0m: **DATA AVAILABILITY**\n"
      ]
     },
     "metadata": {},
     "output_type": "display_data"
    },
    {
     "data": {
      "text/html": [
       "<pre style=\"white-space:pre;overflow-x:auto;line-height:normal;font-family:Menlo,'DejaVu Sans Mono',consolas,'Courier New',monospace\">Level <span style=\"color: #008080; text-decoration-color: #008080; font-weight: bold\">4</span>: **AUTHOR CONTRIBUTIONS**\n",
       "</pre>\n"
      ],
      "text/plain": [
       "Level \u001b[1;36m4\u001b[0m: **AUTHOR CONTRIBUTIONS**\n"
      ]
     },
     "metadata": {},
     "output_type": "display_data"
    },
    {
     "data": {
      "text/html": [
       "<pre style=\"white-space:pre;overflow-x:auto;line-height:normal;font-family:Menlo,'DejaVu Sans Mono',consolas,'Courier New',monospace\">Level <span style=\"color: #008080; text-decoration-color: #008080; font-weight: bold\">2</span>: **CONFLICTS OF INTEREST**\n",
       "</pre>\n"
      ],
      "text/plain": [
       "Level \u001b[1;36m2\u001b[0m: **CONFLICTS OF INTEREST**\n"
      ]
     },
     "metadata": {},
     "output_type": "display_data"
    },
    {
     "data": {
      "text/html": [
       "<pre style=\"white-space:pre;overflow-x:auto;line-height:normal;font-family:Menlo,'DejaVu Sans Mono',consolas,'Courier New',monospace\">Level <span style=\"color: #008080; text-decoration-color: #008080; font-weight: bold\">4</span>: **ACKNOWLEDGMENTS**\n",
       "</pre>\n"
      ],
      "text/plain": [
       "Level \u001b[1;36m4\u001b[0m: **ACKNOWLEDGMENTS**\n"
      ]
     },
     "metadata": {},
     "output_type": "display_data"
    },
    {
     "data": {
      "text/html": [
       "<pre style=\"white-space:pre;overflow-x:auto;line-height:normal;font-family:Menlo,'DejaVu Sans Mono',consolas,'Courier New',monospace\">Level <span style=\"color: #008080; text-decoration-color: #008080; font-weight: bold\">3</span>: **REFERENCES**\n",
       "</pre>\n"
      ],
      "text/plain": [
       "Level \u001b[1;36m3\u001b[0m: **REFERENCES**\n"
      ]
     },
     "metadata": {},
     "output_type": "display_data"
    }
   ],
   "source": [
    "headers = extract_headers(rendered_files[3].markdown)\n",
    "for header in headers:\n",
    "    print(f\"Level {header['level']}: {header['title']}\")"
   ]
  },
  {
   "cell_type": "code",
   "execution_count": null,
   "id": "7f409f28",
   "metadata": {},
   "outputs": [],
   "source": []
  },
  {
   "cell_type": "code",
   "execution_count": 122,
   "id": "c0ee928b",
   "metadata": {},
   "outputs": [],
   "source": [
    "def extract_headers(markdown_text):\n",
    "    \"\"\"Extract headers 1-10 from markdown text\"\"\"\n",
    "    pattern = r'^(#{1,10})\\s+(.+)$'\n",
    "    headers = []\n",
    "    for line in markdown_text.split('\\n'):\n",
    "        match = re.match(pattern, line.strip())\n",
    "        if match:\n",
    "            level = len(match.group(1))  # Number of # symbols\n",
    "            title = match.group(2).strip()\n",
    "            headers.append({'level': level, 'title': title})\n",
    "    return headers"
   ]
  },
  {
   "cell_type": "code",
   "execution_count": 184,
   "id": "8f05cfc5",
   "metadata": {},
   "outputs": [],
   "source": [
    "def is_valid_header(header_text):\n",
    "   \"\"\"\n",
    "   Check if a header is valid based on simple heuristics.\n",
    "   \n",
    "   Args:\n",
    "       header_text: The header text to validate\n",
    "   \n",
    "   Returns:\n",
    "       bool: True if header is valid, False otherwise\n",
    "   \"\"\"\n",
    "   if not header_text or not header_text.strip():\n",
    "       return False\n",
    "   \n",
    "   # Remove markdown formatting for analysis\n",
    "   clean_text = header_text.replace('*', '').replace('#', '').strip()\n",
    "   \n",
    "   # Quick length checks\n",
    "   if len(clean_text) == 0:\n",
    "       return False\n",
    "   if len(clean_text) > 200:\n",
    "       return False\n",
    "   \n",
    "   # Invalid patterns - simple checks\n",
    "   invalid_patterns = [\n",
    "       r'<[^>]*>',  # HTML/XML tags\n",
    "       r'[\\\\\\/]',   # Contains backslash or forward slash\n",
    "       r\"[']\",      # Contains single quotes\n",
    "   ]\n",
    "   \n",
    "   # Check against invalid patterns\n",
    "   for pattern in invalid_patterns:\n",
    "       if re.search(pattern, clean_text, re.IGNORECASE):\n",
    "           return False\n",
    "   \n",
    "   return True"
   ]
  },
  {
   "cell_type": "code",
   "execution_count": 185,
   "id": "4912cadf",
   "metadata": {},
   "outputs": [],
   "source": [
    "def extract_between_headers(text, start_header, end_header, validate_headers=True):\n",
    "    \"\"\"\n",
    "    Extract text between two headers with optional header validation.\n",
    "    \n",
    "    Args:\n",
    "        text: Full text content\n",
    "        start_header: Starting header (e.g., \"2. History of the Concept\")\n",
    "        end_header: Ending header (e.g., \"3. People, Planet, Profit\")\n",
    "        validate_headers: If True, validate headers before extraction (default: True)\n",
    "    \n",
    "    Returns:\n",
    "        Extracted text between headers, or None if headers not found or invalid\n",
    "    \"\"\"\n",
    "    #Validate headers if requested\n",
    "    if validate_headers:\n",
    "        if not is_valid_header(start_header):\n",
    "            #print(f\"Warning: Invalid start header detected: '{start_header}'\")\n",
    "            return None\n",
    "        \n",
    "        if not is_valid_header(end_header):\n",
    "            #print(f\"Warning: Invalid end header detected: '{end_header}'\")\n",
    "            return None\n",
    "    \n",
    "    # Find start position\n",
    "    start_pos = text.find(start_header)\n",
    "    if start_pos == -1:\n",
    "        return None\n",
    "    \n",
    "    # Move past the start header\n",
    "    start_pos += len(start_header)\n",
    "    \n",
    "    # Find end position\n",
    "    end_pos = text.find(end_header, start_pos)\n",
    "    if end_pos == -1:\n",
    "        return None\n",
    "    \n",
    "    # Extract and clean the text\n",
    "    extracted = text[start_pos:end_pos].strip()\n",
    "    return extracted"
   ]
  },
  {
   "cell_type": "code",
   "execution_count": 186,
   "id": "14d95717",
   "metadata": {},
   "outputs": [],
   "source": [
    "def count_words(text):\n",
    "    \"\"\"Count words in text\"\"\"\n",
    "    return len(text.split())\n",
    "\n",
    "def find_valid_header_pairs(text, min_words=250):\n",
    "    \"\"\"\n",
    "    Find pairs of consecutive headers where text between them is at least min_words.\n",
    "    \n",
    "    Args:\n",
    "        text: Full text content\n",
    "        min_words: Minimum number of words between headers (default: 250)\n",
    "    \n",
    "    Returns:\n",
    "        List of tuples: [(start_header, end_header, extracted_text), ...]\n",
    "    \"\"\"\n",
    "    headers = extract_headers(text)\n",
    "    valid_pairs = []\n",
    "    \n",
    "    # Check each consecutive pair of headers\n",
    "    for i in range(len(headers) - 1):\n",
    "        start_header = headers[i]['title']\n",
    "        end_header = headers[i + 1]['title']\n",
    "        \n",
    "        # Extract text between current pair\n",
    "        extracted_text = extract_between_headers(text, start_header, end_header)\n",
    "        \n",
    "        if extracted_text and count_words(extracted_text) >= min_words:\n",
    "            valid_pairs.append((start_header, end_header, extracted_text))\n",
    "    \n",
    "    return valid_pairs"
   ]
  },
  {
   "cell_type": "code",
   "execution_count": 187,
   "id": "184969f3",
   "metadata": {},
   "outputs": [],
   "source": [
    "def process_text_sections(text, min_words=250):\n",
    "    \"\"\"\n",
    "    Simple function to get valid text sections between headers.\n",
    "    \n",
    "    Args:\n",
    "        text: Full text content\n",
    "        min_length: Minimum length of text between headers (default: 250)\n",
    "    \n",
    "    Returns:\n",
    "        List of extracted text sections that meet the length requirement\n",
    "    \"\"\"\n",
    "    valid_pairs = find_valid_header_pairs(text, min_words)\n",
    "    return [section[2] for section in valid_pairs]  # Return just the text content\n"
   ]
  },
  {
   "cell_type": "code",
   "execution_count": 188,
   "id": "23d0e89d",
   "metadata": {},
   "outputs": [
    {
     "data": {
      "text/plain": [
       "'### *Article*\\n\\n# **Urban Development and Land Use/Land Cover Changes in the European Borderlands of Nice and Monaco**\\n\\n### **Arian Behradfar 1,2, Rui Alexandre Castanho 2,3,\\\\*, Paulo Ferreira <sup>2</sup>**\\n\\n- <sup>1</sup> Department of Geomatics and Spatial Information Engineering, College of Engineering, University of Tehran, Tehran 14174-66191, Iran; arianbehradfar@ut.ac.ir (AB)\\n- <sup>2</sup> VALORIZA—Research Centre for Endogenous Resource Valorization, Portalegre Polytechnic University, Portalegre 7300-110, Portugal; pferreira@ipportalgre.pt (PF)\\n- <sup>3</sup> Advanced Research Centre, European University of Lefke, Lefke 99010, Northern Cyprus, TR-10 Mersin, Turkey\\n- **\\\\*** Correspondence: Rui Alexandre Castanho, Email: acastanho@wsb.edu.pl, rui.castanho@ipportalegre.pt, Tel.: +351-912-494-673\\n\\n# **ABSTRACT**\\n\\nUrban development in European cross-border regions significantly influences LULC changes, affecting environmental sustainability and regional planning. This study focuses on the France–Monaco borderlands, including the cities of Nice and Monaco, to analyze these dynamics between 2000 and 2018. Using the CLC dataset and GIS tools, we conducted a spatiotemporal analysis of LULC changes. Post-classification change detection and the AUEII were applied to quantify urban expansion and land conversion patterns. The built-up area in the study region expanded by approximately 28 km² over 18 years, with an average annual increase of more than 1.5 km². At the same time, natural and semi-natural areas, including forests and agricultural land, declined by approximately 11 km², reflecting a significant transformation of the landscape. Urban expansion accelerated notably after 2012, especially along major transportation corridors and coastal zones. Wetlands and water bodies remained relatively stable during this period. Rapid urbanization in the Nice– Monaco cross-border territory has led to substantial LULC changes, with implications for environmental sustainability and regional development. These findings underscore the need for integrated land management strategies that balance urban growth with conservation efforts, particularly in ecologically sensitive areas that span multiple borders. Coordinated policy and planning initiatives are crucial for mitigating environmental impacts while supporting socioeconomic development.\\n\\n**KEYWORDS:** urban development; land use/land cover change; European cross-border territories; France–Monaco borderlands\\n\\n# **Open Access**\\n\\nReceived: 22 May 2025 Accepted: 22 Jul 2025 Published: 11 Aug 2025\\n\\nCopyright © 2025 by the author. Licensee Hapres, London, United Kingdom. This is an open access article distributed under the terms and conditions of Creative Commons Attribution 4.0 International License.\\n\\n# **ABBREVIATIONS**\\n\\nLULC, Land use and land cover; CLC, CORINE Land Cover; CORINE, Coordination of Information on the Environment; EU, European Union; GIS, Geographic Information System; GDP, Gross Domestic Product; EEA, European Environment Agency; MMU, Minimum Mapping Unit; CAP, Common Agricultural Policy; UHI, Urban heat islands; AUEII, Annual Urban Expansion Intensity Index; CLMS, Copernicus Land Monitoring Service.\\n\\n# **INTRODUCTION**\\n\\nChanges in LULC significantly impact global environmental processes, including carbon cycles and biodiversity. It is a major driver of climate change, influencing ecosystem functions and contributing to soil erosion and alterations in ecological and hydrological cycles. The interaction between human activity and LULC changes exacerbates these environmental challenges [1]. Over the last decades, LULC changes have resulted in significant global trends, notably a marked loss of natural areas and a substantial expansion of built-up areas. The literature further emphasizes the implications of these changes for biodiversity and sustainability, indicating that agricultural land occupies a major proportion of the Earth\\'s surface [2].\\n\\nChanges in LULC have primarily been marked by a reduction in rural land extent and a significant increase in urban land due to urbanization. This trend has considerable implications for natural environments and sustainable development [3]. This rapid urbanization highlights a significant demographic shift toward city living. Increasing urbanization is leading to significant changes in LULC patterns, primarily driven by population growth and economic development. These changes have adverse effects on ecosystems, leading to biodiversity loss, watershed pollution, and increased impacts of climate change. Consequently, urban areas become increasingly vulnerable, facing challenges in maintaining ecosystem structure and function [4].\\n\\nCross-border territories are characterized by several fragmented features that arise from the presence of transnational borders. These territories encompass multiple local or regional authorities that are geographically close but administratively distinct, resulting in various disparities in demographic and socioeconomic characteristics. Moreover, the regulations in these areas may create price volatility and a shift from clear to bilateral risk management in trading practices. These regions often experience development gaps due to structural issues that hinder collaboration between neighboring states. Additionally, integrating diverse governance systems and addressing the differing needs of communities can complicate urban planning and development efforts [5]. The borderlands between France and Monaco have historically been a small region of dispute, with complex territorial dynamics. This area is characterized by a varied topography that includes mountainous relief and coastal regions [6].\\n\\nRegional development in the France–Monaco borderlands has been shaped by a combination of high population density, tourism, and environmental concerns [7]. Notably, Monaco\\'s regional planning seeks to optimize space due to its limited land area, leading to innovative approaches such as vertical construction and efficient public transportation systems [8]. Based on the literature, regional development conflicts in these borderlands typically stem from issues of sovereignty, land use, and economic policy. Both regions have distinct governmental structures, with Monaco seeking to enhance its sovereignty while maintaining proximity to France. Tensions often arise from differing priorities in infrastructure development and environmental conservation, affecting local communities on both sides [9].\\n\\nLULC dynamics in the France–Monaco borderlands are primarily driven by mixed urban development pressures, agricultural land abandonment, and environmental conservation efforts. The region faces challenges as former agricultural areas are increasingly left unused, leading to competing interests between urban sprawl and the preservation of natural landscapes. These changes often involve increased urbanization and a reduction in green spaces, influenced by factors such as population growth and land management policies [7,10].\\n\\nTherefore, examining the trends of LULC transformation is essential for creating effective, sustainable land management strategies and ecoenvironmental restoration plans. Urban development highlights the importance of a comprehensive understanding of LULC dynamics for effective socioeconomic and ecological management. As a European crossborder territory with numerous conflicts in land information and administration systems, an integrated suite of products to analyze interval changes is essential.\\n\\nIn particular, transboundary study cases demand accurate observations of shared landscapes or ecosystems that span multiple political borders. As discussed, these territories pose unique challenges in LULC change monitoring due to differing policies, management strategies, and data availability across borders. Monitoring in these areas requires a coordinated approach to accurately assess land dynamics over time, ensuring that policies consider the impacts that extend beyond administrative boundaries [11,12]. The CLC program provides a comprehensive inventory of LULC across Europe. It is designed for monitoring and analyzing land cover changes, providing essential data for environmental management. It provides a map at a 1:100,000 scale, covering all EU member states and associated countries, which is useful for cross-border mapping activities. These data support understanding transboundary LULC patterns and environmental monitoring [13].\\n\\nAdditionally, the GIS is a valuable tool for pre-processing, analyzing, and mapping LULC changes over time. It integrates remote sensing data to effectively visualize and evaluate shifts in land cover patterns, allowing for better understanding and management of environmental resources. Techniques employed within GIS facilitate the modeling, simulation, and prediction of these changes, making it a powerful tool for spatial analysis [14].\\n\\nBuilt-up areas exhibit the most dynamic trends in landscape, influenced by various factors that lead to changes in LULC. Studies on these changes provide critical insights for local to regional governmental administrations and urban planning processes. Contextually, the present study primarily aims to map and monitor the changes in LULC in the France–Monaco cross-border territory between 2000 and 2018, with a primary focus on urban development. It comprises a spatiotemporal analysis of features in urban development during this period to identify the specific driving forces behind these changes.\\n\\n### **MATERIALS AND METHODS**\\n\\n### **Study Area**\\n\\nThe territory of Monaco, which comprises a dense cluster of hills, is a southward-extending promontory over the Mediterranean Sea. Monaco\\'s unique geographical characteristics have made it one of the most luxurious tourist resorts in the world [16]. This territory is a diverse host of wealth, with a rich tapestry of languages and more than 139 different nationalities. Thus, it is subject to several legal systems. The dynamic socioeconomic landscape, the wide diversity of opportunities and activities, stability, security, and quality of life have made the Principality of Monaco a unique and special place for both local and foreign investors [17].\\n\\nOn the other hand, the city of Nice is a functional urban area and commuting zone located in the southeastern part of France. It is a unique cross-border territory situated between the sea and the mountains. The Nice metropolitan area is a key territory in the Mediterranean Basin, with an ambitious innovation policy that involves sustainable development, health, and tourism [18]. As a genuine architectural and environmental asset, the extension of the urban regeneration model contributes to achieving ecological transition goals. Furthermore, a wide range of diversity in landscapes encompassed by the city of Nice makes it a rich land in resources [19]. Figure 1 visually depicts the location of the study area within the France–Monaco borderland, adapted by authors.\\n\\n![](_page_4_Figure_2.jpeg)\\n\\n**Figure 1.** Location of the study area (Source: the authors).\\n\\nThe case of the Monaco–Nice cross-border territory faces challenges regarding the significant differences in GDP per capita among various cities. This issue is the primary obstacle to joint regional development [20,21]. Moreover, the analysis of urban–rural typology and multimodal accessibility potential in this territory indicates three types of regions based on population distribution: rural, intermediate, and urban regions. These features are of utmost significance for the impending redevelopment of derelict land in transboundary regions, particularly given the substantial and diverse natural elements [9].\\n\\n### **Data Framework**\\n\\nCLC has been selected as the dataset for LULC assessment in this study. The CLC program is a pan-European initiative that delivers an inclusive and widespread land cover inventory, classifying land into 5 main classes and 44 thematic categories. It was initiated in 1985 by the EEA, with the first inventory referenced in 1990, and the most recent dataset dating to 2018. The classification allows for a MMU of 25 hectares and minimum a mapping width (MMW) of 100 m. As a separate cartographic criterion, MMW implies that linear features narrower than 100 m are generally not mapped as distinct polygons. While this scale ensures consistency across EU member states, it may underrepresent small-scale urban changes in densely populated areas. For instance, fragmented urban developments below the threshold are aggregated into larger units or merged with adjacent classes. Despite this limitation, the CLC dataset remains the most comprehensive and standardized resource for cross-border studies, enabling comparative analysis of regional trends over time. The main aim of the CLC program includes providing a standardized inventory of LULC across Europe. It is an effective dataset that facilitates environmental monitoring and management and supports policymaking related to LULC and environmental protection at a continental scale [22].\\n\\nAs a pan-European LULC inventory, the CLC compiles information on the state of the environment with regard to priority topics for all the member states of the community. Moreover, it coordinates the compilation of data and the organization of information within the member states or at the international level to ensure that information is fully available, consistent, and compatible [23]. The level of detail and thematic scope have been adjusted to the needs of the EU, including the CAP and Environmental Policy conducted by the Directorate General XI and the EEA, as the accepted land cover nomenclature on the European continent. According to the project assumptions, CLC databases are commonly used both at the EU level and at the national level. For many countries, it is the only systematically updated land cover database covering the entire territory of the country, prepared according to uniform principles [24]. In CLC, land cover nomenclature is organized at three levels. There are five main classes of land cover, comprising the following:\\n\\n- Artificial surfaces—built-up areas, including residential areas, commercial and industrial areas, mines, and green urban spaces.\\n- Agricultural areas—arable land, permanent crops, meadows, pastures, and land principally occupied by agriculture with significant areas of natural vegetation.\\n- Forests and semi-natural areas—forests, shrubs, and open areas with little or no vegetation.\\n- Wetlands—inland marshes, peat bogs, salt marshes, salines, and intertidal flats.\\n- Water bodies—inland waters and marine waters.\\n\\nDifferent land use types within each of the above groups are specified at the second and third levels of the inventory [14].\\n\\nTo ensure the reliability of the LULC classifications and subsequent change detection, a post-classification accuracy assessment was conducted for each classified year (2000, 2006, 2012, and 2018). Reference data were collected through a combination of high-resolution satellite imagery from the CLMS Coastal Zones and Google Earth, based on the location of the study area. A stratified random sampling approach was used to select validation points representing all major LULC classes [\\\\(https://land.copernicus.eu/local/coastal-zones.](https://land.copernicus.eu/local/coastal-zones) Accessed on 22 Apr 2025).\\n\\nThe urban sprawl rate in the analyzed cities was assessed specifically in areas classified as artificial surfaces according to the CLC inventory at Level 1. This classification helps in understanding the extent of urbanization by focusing on built-up land.\\n\\nTo evaluate the reliability of our LULC classification, we conducted an accuracy assessment following established remote sensing and GIS protocols. High-resolution satellite imagery from the CLMS Coastal Zones and Google Earth was used as reference data. We applied a stratified random sampling strategy to select validation points, ensuring proportional representation of all major LULC classes. For each reference year, we generated a confusion matrix by comparing the classified LULC of each validation point with its true class in the reference data. From this matrix, we calculated standard accuracy metrics: overall accuracy, producer\\'s accuracy, user\\'s accuracy, and the Kappa coefficient. These metrics provide a quantitative measure of classification performance. Results are summarized in Tables 6 and 7, confirming the robustness and reliability of our LULC maps for subsequent change detection analysis.\\n\\n### **Urban Development**\\n\\nThe spatial distribution of urban development and expansion intensity differs substantially across different regions. Studies confirm that areas with high urban expansion intensity often have concentrated growth in UHIs and exhibit notable spatiotemporal changes, especially in borderlands with fragmented characteristics [25]. For instance, research indicates that urbanization intensity along the coastline is significant and has been a longstanding issue, with implications for local climates and ecosystems [26]. This region has experienced high levels of coastal urbanization, impacted by urban sprawl, specifically in areas near the Mediterranean, such as in our study area [27].\\n\\nThe AUEII was utilized to estimate the rate and intensity of urbanization. It measures the intensity of urban expansion within a given area over a designated period, reflecting how rapidly urban land is being developed or expanded. Specifically, it indicates the percentage of the expansion area of built-up land in a specific geographical unit compared to the total land area of its unit during a specific period, providing valuable insights into urbanization trends and their potential ecological impacts [28,29].\\n\\nMoreover, the simplicity of the AUEII formula facilitates clear interpretation and comparison of urban growth dynamics, making it a practical tool for assessing urbanization trends in diverse geographic contexts. Numerous studies have employed AUEII to effectively capture the pace and spatial patterns of urban expansion, particularly in crossborder and metropolitan regions [30,31].\\n\\nThe strength, speed, and trend of built-up land development across different time periods, spatial extents, and directions can be compared by means of this index, calculated as follows in Equation (1):\\n\\n$$AUEII = \\\\frac{BU_{(n+i)} - BU_{(i)}}{nTA_{(n+i)}} \\\\times 100 \\\\tag{1}$$\\n\\nwhere, TA(n+1) denotes the total area of the target unit at the time of n + 1. BU represents the function of built-up areas within the target unit. Therefore, BU(n+i) and BU(i), respectively refer to the built-up area at the time n + i and i. The interval of the calculation period is considered as n, indicating the number of years between two reference years of LULC changes [32].\\n\\nWe applied post-classification detection methods to examine the spatiotemporal dynamics of patterns in urban development and LULC in the study area. This technique can identify and analyze changes in LULC by comparing classified satellite or aerial imagery from different time periods [33]. This approach effectively highlights changes, such as urban development or environmental transformations, by employing statistical comparisons of previously classified images. These methods can also detect conversions from a particular land cover class to other land use categories and their corresponding areas at different points in time [34].\\n\\nThe main outcome of this stage, based on spatial changes in LULC, is the conversion area matrix, which offers a series of \"from one to another\" tables by comparing the LULC mappings on a pixel-by-pixel basis.\\n\\n### **RESULTS**\\n\\nAt the first step, we present the resulting LULC maps of the Nice– Monaco cross-border territory for 2000, 2006, 2012, and 2018, as shown in Figure 2. Additionally, the total extent of each LULC category and the percentage of each within the entire study area for the reference years have also been calculated (Tables 1–5).\\n\\n![](_page_7_Figure_6.jpeg)\\n\\n**Figure 2.** LULC maps of the Nice–Monaco cross-border territory in 2000, 2006, 2012, and 2018 (Source: the authors).\\n\\nThe LULC maps illustrate the spatiotemporal dynamics of urban expansion within the France–Monaco borderlands. They reveal that, prior to 2006, urban growth was limited, but between 2006 and 2012, there was a marked increase, with the most rapid expansion occurring from 2012 to 2018, as reflected by the AUEII as well. The map highlights that Monaco\\'s urban development has predominantly progressed southeastward, largely due to major projects such as the construction of an eco-district through land reclamation from the Mediterranean Sea. In contrast, urban growth in Nice has mainly extended northward, especially around the emerging Nice Meridia mixed-use district, which embodies the city\\'s shift toward greener urban planning. The map also indicates other ongoing urban initiatives, such as the extension of the Promenade du Paillon and the development of a new multimodal transport hub at the Port of Nice, underscoring strategies aimed at improving connectivity and sustainability in the region.\\n\\n| Table 1. Artificial surfaces statistics from 2000 to 2018 (area in km2 |  |  |  |  |  | ). |\\n|------------------------------------------------------------------------|--|--|--|--|--|----|\\n|------------------------------------------------------------------------|--|--|--|--|--|----|\\n\\n|      | Land Cover Class               | CLC 2000 |      | CLC 2006 |      | CLC 2012 |      | CLC 2018 |      |\\n|------|--------------------------------|----------|------|----------|------|----------|------|----------|------|\\n| Code | Label                          | %        | Area | %        | Area | %        | Area | %        | Area |\\n| 111  | Continuous Urban Fabric        | 8.46     | 37.2 | 9.27     | 40.7 | 9.74     | 42.8 | 10.7     | 47.4 |\\n| 112  | Discontinuous Urban Fabric     | 10.7     | 47.3 | 11.4     | 50.3 | 11.9     | 52.4 | 12.9     | 57.0 |\\n| 121  | Industrial or Commercial Units | 0.67     | 2.95 | 0.69     | 3.04 | 0.74     | 3.26 | 0.75     | 3.3  |\\n| 122  | Road & Rail Networks           | 2.86     | 12.5 | 2.94     | 12.9 | 3.3      | 14.5 | 3.93     | 17.2 |\\n| 124  | Airports                       | 1.16     | 5.10 | 1.15     | 5.06 | 1.14     | 5.02 | 1.13     | 4.97 |\\n| 133  | Construction Sites             | 0.36     | 1.58 | 0.78     | 3.43 | 0.83     | 3.65 | 0.88     | 3.87 |\\n\\nThe highest values found are shown in bold.\\n\\n#### **Table 2.** Agricultural areas statistics from 2000 to 2018 (area in km<sup>2</sup> ).\\n\\n|      | Land Cover Class                 | CLC 2000 |      | CLC 2006 |      | CLC 2012 |      | CLC 2018 |      |\\n|------|----------------------------------|----------|------|----------|------|----------|------|----------|------|\\n| Code | Label                            | %        | Area | %        | Area | %        | Area | %        | Area |\\n| 221  | Vineyards                        | 1.02     | 4.49 | 1.05     | 4.62 | 1.08     | 4.75 | 1.13     | 4.97 |\\n| 242  | Complex Cultivation Patterns     | 2.85     | 12.5 | 2.66     | 11.7 | 2.54     | 11.2 | 2.06     | 9.06 |\\n| 243  | Agriculture & Natural Vegetation | 0.69     | 3.04 | 0.71     | 3.12 | 0.81     | 3.56 | 0.84     | 3.70 |\\n\\nThe highest values found are shown in bold.\\n\\n**Table 3.** Forests areas statistics from 2000 to 2018 (area in km<sup>2</sup> ).\\n\\n|      | Land Cover Class          | CLC 2000 |      | CLC 2006 |      | CLC 2012 |      | CLC 2018 |      |\\n|------|---------------------------|----------|------|----------|------|----------|------|----------|------|\\n| Code | Label                     | %        | Area | %        | Area | %        | Area | %        | Area |\\n| 311  | Broad-leaved Forest       | 8.05     | 35.4 | 8.18     | 35.9 | 8.26     | 36.3 | 8.41     | 37.0 |\\n| 312  | Coniferous Forest         | 2.43     | 10.7 | 2.49     | 10.9 | 2.51     | 11.0 | 2.54     | 11.2 |\\n| 313  | Mixed Forest              | 5.03     | 22.1 | 4.84     | 21.3 | 4.69     | 20.6 | 4.47     | 19.6 |\\n| 321  | Natural Grasslands        | 3.14     | 13.8 | 3.03     | 13.3 | 2.23     | 9.81 | 1.84     | 8.10 |\\n| 323  | Sclerophyllous Vegetation | 6.44     | 28.3 | 6.11     | 26.8 | 5.78     | 25.4 | 5.61     | 24.7 |\\n| 331  | Beaches, Dunes, Sands     | 0.55     | 2.42 | 0.58     | 2.55 | 0.59     | 2.60 | 0.62     | 2.73 |\\n| 334  | Burnt Areas               | 0.13     | 0.57 | 0.47     | 2.07 | 0.21     | 0.92 | 0.32     | 1.41 |\\n\\nThe highest values found are shown in bold.\\n\\n**Table 4.** Wetlands statistics from 2000 to 2018 (area in km<sup>2</sup> ).\\n\\n|      | Land Cover Class | CLC 2000 |      | CLC 2006 |      | CLC 2012 |      | CLC 2018 |       |\\n|------|------------------|----------|------|----------|------|----------|------|----------|-------|\\n| Code | Label            | %        | Area | %        | Area | %        | Area | %        | Area  |\\n| 411  | Inland Marshes   | 2.54     | 11.1 | 2.59     | 11.4 | 2.63     | 11.5 | 2.65     | 11.66 |\\n| 423  | Intertidal Flats | 3.12     | 13.7 | 3.15     | 13.8 | 3.16     | 13.9 | 3.19     | 14.0  |\\n\\nThe highest values found are shown in bold.\\n\\n|      | Land Cover Class | CLC 2000 |       | CLC 2006 |       | CLC 2012 |       | CLC 2018 |       |\\n|------|------------------|----------|-------|----------|-------|----------|-------|----------|-------|\\n| Code | Label            | %        | Area  | %        | Area  | %        | Area  | %        | Area  |\\n| 511  | Water Courses    | 1.56     | 6.86  | 1.49     | 6.56  | 1.47     | 6.47  | 1.43     | 6.29  |\\n| 512  | Water Bodies     | 2.04     | 8.98  | 2.07     | 9.11  | 2.05     | 9.02  | 2.02     | 8.89  |\\n| 523  | Sea and ocean    | 30.8     | 135.5 | 30.8     | 135.7 | 30.7     | 135.4 | 30.87    | 135.8 |\\n\\n**Table 5.** Water bodies statistics from 2000 to 2018 (area in km<sup>2</sup> ).\\n\\nThe highest values found are shown in bold.\\n\\nThe results obtained from the LULC maps and statistics reveal a remarkable growth in the overall extent of both cities, while the total study area is about 440 km<sup>2</sup> . In terms of LULC classes, over the reference years of this study, built-up areas have increased by approximately 27.2 km<sup>2</sup> at an average rate of more than 1.5 km<sup>2</sup> per year. Additionally, agricultural areas have decreased by 2.4 km<sup>2</sup> , and forest and semi-natural areas have also decreased by 8.7 km<sup>2</sup> . Meanwhile, wetlands and water bodies remained almost stable during the study period-in this region.\\n\\nThe analysis of LULC changes reveals substantial urban expansion in the Nice–Monaco cross-border region between 2000 and 2018. Built-up areas increased by nearly 20 km², with continuous urban fabric growing from 37.22 km² (8.46%) to 47.48 km² (10.79%), and discontinuous urban fabric expanding from 41.45 km² (9.41%) to 52.07 km² (11.82%). This growth was most pronounced between 2012 and 2018, particularly in Monaco, where new residential, industrial, and infrastructure developments have contributed to the changing landscape. Transport infrastructure expanded significantly, with roads and rail networks increasing by approximately 37%, and construction sites growing by about 140%, reflecting ongoing urban development efforts.\\n\\nAgricultural lands declined by 12%, from 20 km² to 17.7 km², driven by factors such as land conversion and changes in farming practices. Notably, complex cultivation patterns decreased by 27.7%, suggesting a shift toward less diverse or more industrialized agricultural systems. Conversely, vineyards and natural vegetation showed slight increases, indicating some stability in specialty crops. Forested areas experienced mixed trends, with an overall decline of 7.6%. While broad-leaved and coniferous forests increased modestly by 4.5%, mixed forests, natural grasslands, and sclerophyllous vegetation declined significantly, collectively reducing natural and semi-natural areas by approximately 12 km². This loss raises concerns about biodiversity and ecosystem health.\\n\\nCoastal and sand dune areas increased by 12.7%, largely due to Monaco\\'s coastline extension projects. However, rare coastal vegetation along limestone cliffs remains under pressure from urbanization. Burnt areas exhibited variable trends, with an overall increase of 146%, particularly west of Nice, reflecting complex interactions between land use and natural disturbances. Wetlands and water bodies remained relatively stable, with minor fluctuations in coverage, indicating biological resilience despite urban pressures.\\n\\nThe AUEII index has been calculated for the three intervals of study period, based on the designed formulation. Values of 0.333 for 2000–2006, 0.235 for 2006–2012, 0.459 for 2012–2018, and overall value of 0.342 for 2000–2018 have been calculated and recorded. The acceleration of urban expansion, as indicated by the AUEII values, occurred during periods of notable policy changes and regional cooperation. While this temporal overlap suggests a possible link, direct attribution to policy changes was not statistically tested in this analysis.\\n\\nThe acceleration of urban expansion, as indicated by the AUEII values, coincided with several policy developments and regional initiatives. Notably, the implementation of the EU Cohesion Policy, the adoption of integrated urban planning strategies by local authorities, and participation in cross-border cooperation programs such as INTERREG have aimed to foster sustainable development and enhance regional connectivity. While this temporal overlap suggests a possible link, direct attribution to these policy changes was not statistically tested in this analysis [21].\\n\\nIt is important to note that the total increase in built-up areas (27.4 km<sup>2</sup> ) does not directly match the combined decrease in semi-natural and agricultural areas (11.1 km<sup>2</sup> ). This discrepancy is primarily due to land reclamation activities in Monaco, where new built-up land is created from the sea rather than from existing terrestrial land covers. Additionally, some built-up expansion occurs at the expense of other land cover types, such as forests, wetlands, or water bodies. Finally, the spatial resolution and mapping conventions of the CLC dataset, including its MMU and width, can result in the aggregation or omission of small or fragmented land cover changes. These factors together explain the observed difference and are important considerations when interpreting land use change (LUC) statistics in this region.\\n\\nFinally, we calculated the conversion matrix using the postclassification comparison change detection method, where LULC mappings from various periods are categorized distinctly to facilitate effective comparison of changes. The results obtained for the periods 2000–2006, 2006–-2012, and 2012–2018, along with a summary of the highest LULC transformations, are displayed in Table 6.\\n\\n| Land Cover Class    |                     | 2000–2006 |      | 2006–2012 |      | 2012–2018 |      |\\n|---------------------|---------------------|-----------|------|-----------|------|-----------|------|\\n| From Class          | To Class            | %         | Area | %         | Area | %         | Area |\\n| Artificial surfaces | Forests             | 0.14      | 0.62 | 0.02      | 0.08 | 0.11      | 0.48 |\\n| Agricultural areas  | Artificial surfaces | 1.13      | 4.97 | 0.48      | 2.11 | 1.05      | 4.62 |\\n|                     | Forests             | 0.84      | 3.70 | 0.62      | 2.73 | 0.32      | 1.41 |\\n|                     | Wetlands            | 0.40      | 1.76 | 0.34      | 1.50 | 0.42      | 1.85 |\\n| Forests             | Artificial surfaces | 0.80      | 3.52 | 0.63      | 2.77 | 1.43      | 6.29 |\\n|                     | Agricultural areas  | 0.36      | 1.57 | 0.42      | 1.85 | 0.34      | 1.50 |\\n| Wetlands            | Artificial surfaces | 0.62      | 2.73 | 1.08      | 4.75 | 1.13      | 4.97 |\\n|                     | Agricultural areas  | 1.43      | 6.29 | 1.14      | 5.02 | 1.02      | 4.49 |\\n| Water bodies        | Artificial surfaces | 0.14      | 0.62 | 0.46      | 2.02 | 0.69      | 3.06 |\\n\\n**Table 6.** LULC conversions from 2000 to 2018 (area in km<sup>2</sup> ).\\n\\nThe highest values found are shown in bold.\\n\\nThe findings from the LULC transformations indicate that the majority of built-up areas has been developed by transforming previously green land, farmland, bare land, and both wetlands and water bodies. Therefore, the most significant conversions in LULC can be observed in arable lands, complex cultivation lands, grasslands, and sclerophyllous vegetation. The transition from farmland to bare land occurred due to urban expansion and development, resulting in the abandonment of agricultural areas. As agricultural practices evolve, sustainable land use policies become essential to balance the need for food production with environmental conservation. Nevertheless, greening initiatives and the establishment of large-scale artificial forests have led to significant positive environmental shifts. This process not only enhances aesthetics but also provides essential environmental, social, and health benefits, contributing to sustainable urban development. Figure 3 illustrates the spatial distribution of these dynamics over the study period, distinctly visualized by each LULC category.\\n\\n![](_page_11_Figure_3.jpeg)\\n\\n**Figure 3.** LULC dynamics between 2000 and 2018. (Source: the authors).\\n\\nAs a result, we aim to display the LULC dynamics of artificial surfaces based on the mean distance from urban centers, including the urban cores of Nice and Monaco. Figure 4 presents the main quantifications and urban expansion in the Nice–Monaco cross-border territory. The findings provide accurate evidence of urban development trends.\\n\\n![](_page_12_Figure_2.jpeg)\\n\\n**Figure 4.** Distribution of built-up areas by distance from urban centers, 2000–2018. (Source: the authors).\\n\\nThe accuracy assessment process for our LULC classification followed established remote sensing and GIS best practices to ensure the reliability of the results. As previously mentioned, a combination of high-resolution satellite imagery from CLMS Coastal Zones and Google Earth was used. Furthermore, a stratified random sampling approach was applied to select validation points, ensuring that all major LULC classes present in the study area were proportionally represented. This strategy enabled us to minimize sampling bias and provided a robust basis for evaluating classification performance.\\n\\nFor each reference year, we generated a confusion matrix by comparing the LULC class assigned to each validation point in our classified maps with its actual class in the reference data. This matrix allowed us to calculate standard accuracy metrics: overall accuracy (the proportion of correctly classified points), producer\\'s accuracy (the probability that a reference pixel is correctly classified, measuring commission error), user\\'s accuracy (the probability that a classified pixel matches the reference, measuring commission error), and the Kappa coefficient (which accounts for agreement occurring by chance). These metrics quantitatively summarize the agreement between our classification and the reference data, providing a transparent measure of reliability. Overall accuracy values above 84% and Kappa coefficients above 0.79 were considered indicative of robust classification results, suitable for reliable change detection analysis.\\n\\nThe results demonstrate the robustness of our LULC classifications and support the validity of our change detection findings. For each distinct validation point, we recorded the assigned LULC class and the corresponding the true class from the reference data. As a result, the confusion matrix (see Table 7) represents classified classes as rows and reference classes as columns. In fact, each cell contains the count of pixels classified as the row class but actually belonging to the column class. Subsequently, we were able to calculate the proposed accuracy metrics as part of the LULC classification assessment (Table 8) [19].\\n\\n### **Table 7.** Confusion matrix.\\n\\n| Classified/Reference | Artificial | Agricultural Areas | Forests Areas | Wetlands & Water | Total |\\n|----------------------|------------|--------------------|---------------|------------------|-------|\\n|                      | Surfaces   |                    |               | Bodies           |       |\\n| Artificial surfaces  | 48         | 2                  | 1             | 0                | 51    |\\n| Agricultural areas   | 1          | 45                 | 4             | 0                | 50    |\\n| Forests areas        | 2          | 3                  | 50            | 0                | 55    |\\n| Wetlands & Water     | 0          | 0                  | 0             | 40               | 40    |\\n| bodies               |            |                    |               |                  |       |\\n| Total                | 51         | 50                 | 55            | 40               | 196   |\\n\\n### **Table 8.** Accuracy metrics.\\n\\n| Class               | Producer\\'s Accuracy | User\\'s Accuracy |\\n|---------------------|---------------------|-----------------|\\n| Artificial surfaces | 84                  | 87              |\\n| Agricultural areas  | 78                  | 75              |\\n| Forests areas       | 82                  | 80              |\\n| Wetlands            | 90                  | 92              |\\n| Water bodies        | 95                  | 97              |\\n\\n### **DISCUSSION**\\n\\nRegional planning in the Nice–Monaco area has emphasized crossborder cooperation to harmonize infrastructure development and optimize urban networks. Early reforms (2000–2006) that relaxed restrictions on urban development triggered rapid urbanization. Subsequent planning shifted focus toward medium-density urban villages integrated with natural areas, reflecting European metropolitan design principles and addressing demographic and environmental challenges. During this intermediate phase, development rates moderated.\\n\\nIn the most recent period, strategies such as the \"Metropole Nice– Monaco\" initiative have prioritized sustainable development, aiming to balance increased housing with environmental protection. Notably, key projects such as the Portier Cove land reclamation exemplify this approach, combining urban expansion with eco-friendly design and the integration of renewable energy. This phase reflects the highest urban growth intensity, driven by a strategic transition from industrial-oriented development to the creation of functional, high-quality urban living spaces [35].\\n\\nThis rapid urbanization, coupled with population growth, is also reshaping the landscape of human settlement. The population of Nice was 342,800 at the beginning of the study period; however it increased to\\n\\n353,700 by 2018 due to a combination of urban expansion, rural–urban migration, and natural growth. Additionally, the population density in the city rose from 4761 people/km<sup>2</sup> in 2000 to 4913 people/km<sup>2</sup> in 2018. On the other hand, Monaco recorded a population of 32,400 in 2000, which increased to 38,200 in 2018. As one of the most densely populated places in the world, Monaco had a population density of more than 16,000 people/km<sup>2</sup> in 2000, rising to 18,910 people/km<sup>2</sup> in 2018. These results indicate a population growth of 3.1% in Nice, while Monaco experienced an 18% increase between 2000 and 2018. The detailed population figures and densities for those two cross-border cities are shown in Figures 5 and 6, respectively.\\n\\n![](_page_14_Figure_2.jpeg)\\n\\n**Figure 5.** Population trends in the study area in 2000, 2006, 2012, and 2018. (Source: World Bank).\\n\\nThe increasing population trends in these two cities have led to the expansion of public infrastructure and the conversion of large land areas for housing, industrial, and commercial purposes. This pattern of urban sprawl is driven by the need to accommodate more residents, posing a growing challenge to sustainable development, particularly in crossborder territories.\\n\\n![](_page_14_Figure_5.jpeg)\\n\\n**Figure 6.** Population density in 2000, 2006, 2012, and 2018 (people per km<sup>2</sup> ). (Source: World Bank).\\n\\n> LULC changes typically reflect the strongest trends in urban development and built-up areas near population centers and infrastructure. For instance, previous studies have confirmed that LULC changes tend to intensify with proximity to urban areas, with a marked pattern of net deforestation occurring within 4 km of these features [36]. Additionally, rural areas farther from urban centers often experience limited development, making them potential candidates for future expansion as new waves of urban growth emerge [37].\\n\\n> Returning to the distance-based analysis of urban development, as illustrated in Figure 4, urban development increases with distance from the urban center across all three time periods. This trend is more pronounced in the most recent years (2012–2018) compared to earlier periods (2000–2012).\\n\\n> Between 2000 and 2006, the growth rate in urban areas was slow and approximately linear, indicating modest urban expansion during this period. For instance, within a 2 km radius of urban centers, urban development was just above 1 km², rising slightly to about 2 km² at distances greater than 10 km. This trend reflects limited urban expansion, likely concentrated near core urban centers. A steeper slope compared to the previous period suggest that development was more pronounced between 2006 and 2012. Urban expansion reaches nearly 4 km² beyond 10 km mark, suggesting that suburban or peri-urban areas experienced higher development rates. This trend may point to increasing urban sprawl, potentially driven by economic growth, population pressures, or infrastructure developments. The following period (2012–2018) shows the sharpest rise in urban development, with the slope of urban land cover transformation significantly steeper than in the two previous periods. Urban expansion surpasses previous rates beyond 10 km, highlighting a surge of activity in outer urban areas. Such rapid growth may be attributed to factors such as expanded connectivity, rising demand for affordable housing, or policy incentives encouraging development in peripheral regions.\\n\\n> Distance-based insights suggest grouping the findings into three catergories. In urban cores, areas within 2 to 4 km from city centers, urban expansion remains relatively stable across all periods, with limited variation. Growth in these zones may be constrained by space limitations or shaped policies favoring densification over outward expansion. Transitional areas, located 4 to 10 km from urban centers, began to show evident transformations across the three periods, with the most pronounced growth occurring in the most recent one. Finally, the outer areas, those farthes from urban cores, exhibit the most significant LULC conversions and the highest rates of urban expansion. Between 2012 and 2018, development in these peripheral zones more than doubled compared to the 2000–2006 baseline. This trend reflects a significant shift toward suburbanization or even exurban development.\\n\\nUrban expansion in the Nice–Monaco cross-border area has been influenced by improved transportation networks, rising property prices, and changing residential demands, all of which have encouraged growth in suburban and peripheral zones. Policy measures aimed at promoting sustainable and balanced development, particularly after 2012, have supported this outward expansion, although some efforts also aim to encourage urban densification as a means to reduce environmental impacts.\\n\\nPopulation growth has further driven urban sprawl, as central areas have become overcrowded, leading to significant LUC that threaten agricultural lands and natural habitats. Between 2000 and 2018, urban expansion occurred in all directions along major transportation routes, with the most significant growth observed to the north, west, and northwest in France, and more broadly around Monaco, particularly in its northern areas. This spatial pattern reflects regional planning priorities oriented along the east-west axis.\\n\\nThese urbanization trends have resulted in socio-economic and environmental challenges, including increased urban heat island effects due to proliferation of impervious surfaces and significant impacts on biodiversity through habitat loss and fragmentation. Rapid urban growth in this ecologically sensitive Mediterranean region poses persistent risks to ecosystem health and long-term sustainability [38,39].\\n\\nAs a result, urbanization has likely led to a decrease in local ecosystem service value (ESV), as natural and agricultural areas were replaced by urban landscapes and wetlands were converted into agricultural land. For instance, the ESV in this region has declined significantly, with projections indicating a continued decrease in natural land cover over the last two decades. This trend highlights the urgent need for conservation and sustainable management practices to mitigate further losses [40,41]. Additionally, rapid land subsidence, particularly in Monaco, has been attributed to factors such as groundwater overexploitation, high-rise construction, and municipal engineering activities. These actions have led to significant geological challenges, resulting in infrastructure damage and increasing risks to urban environments. Continuous groundwater withdrawal is particularly problematic, as it causes notable declines in water levels, thereby exacerbating subsidence [42]. Urbanization also contributes significantly to increased surface runoff in both metropolitan areas, making them more susceptible to flooding, as reported in the literature [43]. Nonetheless, hydrological impacts were not directly modeled or quantified in this study.\\n\\n### **CONCLUSIONS**\\n\\nIn this study, we designed and employed a hybrid approach that combines multi-temporal LULC data analysis with GIS tools to quantitatively assess the dynamics of urban expansion and land use in the metropolitan areas of Nice and Monaco between 2000 and 2018. The findings indicate that this cross-border territory has undergone significant transformations in LULC. Over the past two decades, built-up areas have increased 28 km², approximately three times the average growth rate observed in European border regions, resulting in a considerable decrease in natural and semi-natural landscapes. Consequently, the pace of urbanization has accelerated to unprecedented levels.\\n\\nUrban expansion in this cross-border territory was minimal prior to 2006, showed notable growth between 2006 and 2012, and significantly accelerated from 2012 to 2018, as indicated by a comparative analysis of the AUEII during the study period. In particular, the dominant direction of urban expansion in Monaco has been toward the southeast, primarily driven by development efforts such as the construction of an eco-district through land reclamation from the Mediterranean Sea. On the other hand, urban expansion in Nice has predominantly occurred to the north, especially in the emerging mixed-use district of Nice Meridia, which reflects the city\\'s transition toward a greener urban environment. Additionally, ongoing projects, such as the extension of the Promenade du Paillon and the development of a new multimodal transport hub at the Port of Nice, underscore strategic planning efforts focused on improving connectivity and promoting sustainable urban growth.\\n\\nUrban sprawl in the Monaco metropolitan area is characterized by extensive development radiating outward from existing urban centers and along major transportation routes, similar to patterns observed in similar urban context across Europe. This phenomenon poses substantial challenges to both environmental and economic sustainability. In the Nice metropolitan area, urban sprawl follows a comparable trajectory, expanding outward from the city center and significantly affecting adjacent zones. These patterns of urbanization present challenges similar to those observed in other parts of the French Mediterranean coast, where urban sprawl is also a significant concern.\\n\\nThe subsequent LULC changes derived from urban expansion in the Nice and Monaco borderlands have been significantly influenced by policy reforms aimed at economic development and accommodating population growth. These changes have led to various forms of eco-environmental degradation, including land exploitation, reduced agricultural productivity, disturbances to forested areas, increased air pollution, and alterations to water resources. Monitoring these changes is crucial to address the environmental issues they generate. Adaptation options based on past and present LUC trends in the southern borderlands of France and Monaco should include integrated land management practices that consider logging, demographic pressure, and infrastructural development, as well as collaborative approaches between neighboring regions to address climate change mitigation. Strategies may involve monitoring changes in LULC and ecosystems to enhance resilience against climate extremes, such as droughts and floods. Additionally, fostering cooperation\\n\\nin policy-making and resource management can lead to more effective adaptation responses.\\n\\nCurrent regional developmental ideology focuses on \"economic development first\", but this should indeed be adjusted to \"sustainability first\". Cooperation has been proactive in initiating sustainable development policies to maintain the quality of life in urban areas, aligning with broader goals set by the United Nations. Transitioning to a sustainability-first model would ensure that economic growth does not compromise environmental and social well-being, which is particularly important in a densely populated and ecologically sensitive region like the Mediterranean.\\n\\nThe cross-border territory between Monaco and Nice is characterized by its proximity to vast and numerous water bodies, wetlands, and vegetation, forming an eco-environmentally sensitive region that contributes to a rich aquatic and marine ecosystem. It has a historical commitment to preserving these marine ecosystems, emphasizing the importance of environmental protection in the area. Therefore, urban expansion in such a delicate-complex extent should be restrained to prevent ecological degradation, habitat loss, and increased pressure on urban ecological resources. The expansion can lead to the deterioration of vital ecosystems and the services they provide, highlighting the need for careful planning and regulation.\\n\\n# **LIMITATIONS**\\n\\nThis study provides valuable insights into long-term LULC changes and urban expansion patterns in the Nice-Monaco cross-border region; however, several limitations should be noted. First, the temporal resolution is limited to four discrete time points (2000, 2006, 2012, and 2018), which may overlook short-term fluctuations or episodic events occurring between these years. Second, while spatial and temporal correlations between urbanization and LULC changes are described, the study does not establish statistical causality. Regression analyses and other modeling approaches would be necessary to rigorously test these relationships. Moreover, even with such analyses, disentangling the complex causal mechanisms linking urbanization, policy interventions, environmental impacts, and land cover dynamics remains a challenging task. Future research should aim to incorporate higher-frequency temporal data and advanced statistical and hydrological modeling to better understand these interactions and support sustainable urban planning.\\n\\n### **DATA AVAILABILITY**\\n\\nCLMS provides the LULC data that were utilized in this research. All mappings represented in this study can be viewed and obtained from [https://land.copernicus.eu/.](https://land.copernicus.eu/) Furthermore, other data and statistics used in this study (population, population density, and other related indicators) have been derived from the World Bank Open Data Platform at [https://data.worldbank.org/indicator/SP.POP.TOTL.](https://data.worldbank.org/indicator/SP.POP.TOTL)\\n\\n### **AUTHOR CONTRIBUTIONS**\\n\\nConceptualization, AB and RAC; Methodology, AB and RAC; Software, AB; Validation, AB, RAC, and PF; Formal Analysis, AB and RAC; Investigation, RAC and PF; Resources, AB, RAC, and PF; Data Curation, AB and PF; Writing—Original Draft Preparation, AB; Writing—Review & Editing, RAC and PF; Visualization, AB; Supervision, RAC and PF; Project Administration, RAC and PF; Funding Acquisition, RAC and PF.\\n\\n# **CONFLICTS OF INTEREST**\\n\\nThe authors declare that there is no conflicts of interest.\\n\\n# **FUNDING**\\n\\nThis work was supported by national funds through the Fundação para a Ciência e a Tecnologia, I.P. (Portuguese Foundation for Science and Technology) by the project UID/05064/2023—Research Centre for Endogenous Resource Valorization.\\n\\n### **REFERENCES**\\n\\n- 1. Roy PS, Ramachandran RM, Paul O, Thakur PK, Ravan S, Behera MD, et al. Anthropogenic land use and land cover changes—a review on its environmental consequences and climate change. Indian Soc Remote Sens. 2022;50(8):1615-40. doi: 10.1007/s12524-022-01569-w.\\n- 2. Davison CW, Rahbek C, Morueta-Holme N. Land-use change and biodiversity: Challenges for assembling evidence on the greatest threat to nature. Glob Change Biol. 2021;27(21):5414-29. doi: 10.1111/gcb.15846.\\n- 3. Nath B, Ni-Meister W, Choudhury R. Impact of urbanization on land use and land cover change in Guwahati city, India and its implication on declining groundwater level. Groundwater Sustain Dev. 2021;12:100500. doi: 10.1016/j.gsd.2020.100500.\\n- 4. Singh B, Venkatramanan V, Deshmukh B. Monitoring of land use land cover dynamics and prediction of urban growth using Land Change Modeler in Delhi and its environs, India. Environ Sci Pollut Res. 2022;29(47):71534-54. doi: 10.1007/s11356-022-20900-z.\\n- 5. Dušek J. The past, present, and future of cross-border cooperation between municipalities in the South Bohemian Region: A case study. Admin Sci. 2024;14(7):134. doi: 10.3390/admsci14070134.\\n- 6. Bachellerie S. The \"Schengen turn\" as the reshaping of the French-Italian border: the critical convergence of the geography of border controls and capitalist dynamics. Borderlands Stud. 2024;1-20. doi: 10.1080/08865655.2024.2338776.\\n\\n- 7. Berzi M, Ariza E. A local transboundary approach to the governance of Mediterranean coastal borderlands. Coastal Manag. 2018;46(5):471-87. doi: 10.1080/08920753.2018.1498713.\\n- 8. James G. Introduction to Monaco. Denver (CO, US): Gilad James Mystery School; 2023.\\n- 9. Castanho RA, Vulevic A, Loures L, Cabezas J, Naranjo Goómez JM. Redeveloping derelict landscapes on transboundary areas—fostering crossborder cooperation as a possible solution. In: 24th APDR CONGRESS. Covilhã (Portugal): UBI; 2017. p. 6-7. ISBN: 978-989-8780-05-8.\\n- 10. Gras JM, Pace L. Containment of urban sprawl. In: Peri-Urban Landscape. Gistrup (Denmark): River Publishers; 2024. p. 155-84.\\n- 11. Moreno-Sanchez R, Raines J, Diffendorfer J, Drummond MA, Manko J. Challenges for monitoring the extent and land use/cover changes in monarch butterflies\\' migratory habitat across the United States and Mexico. Land. 2019;8(10):156. doi: 10.3390/land8100156.\\n- 12. Castanho RA, Behradfar A. Cross-border cooperation and land-use: Studying two European cities in the period 2000–2018. Borderlands Stud. 2024;1-20. doi: 10.1080/08865655.2024.2415017.\\n- 13. Efthimiou N, Psomiadis E, Papanikolaou I, Soulis KX, Borrelli P, Panagos P. Developing a high-resolution land use/land cover map by upgrading CORINE\\'s agricultural components using detailed national and pan-European datasets. Geocarto Int. 2022;37(25):10871-906. doi: 10.1080/10106049.2022.2041107.\\n- 14. Wang Y, Sun Y, Cao X, Wang Y, Zhang W, Cheng X. A review of regional and global scale land use/land cover (LULC) mapping products generated from satellite remote sensing. Photogramm Remote Sens. 2023;206:311-34. doi: 10.1016/j.isprsjprs.2023.11.014.\\n- 15. Rimal B, Zhang L, Keshtkar H, Haack BN, Rijal S, Zhang P. Land use/land cover dynamics and modeling of urban land expansion by the integration of cellular automata and markov chain. Geo-Information. 2018;7(4):154. doi: 10.3390/ijgi7040154.\\n- 16. D\\'Hauteserre AM. Tourism, development and sustainability in Monaco: Comparing discourses and practices. Tourism Geogr. 2005;7(3):290-312. doi: 10.1080/14616680500164716.\\n- 17. Eccardt TM. Secrets of the seven smallest states of Europe: Andorra, Liechtenstein, Luxembourg, Malta, Monaco, San Marino, and Vatican City. New York (NY, US): Hippocrene Books; 2005.\\n- 18. Faludi A. Spatial planning traditions in Europe: Their role in the ESDP process. Int Plan Stud. 2004;9(2-3):155-72. doi: 10.1080/1356347042000311758.\\n- 19. Vizzari M, Hilal M, Sigura M, Antognelli S, Joly D. Urban-rural-natural gradient analysis with CORINE data: An application to metropolitan France. Landsc Urban Plan. 2018;171:18-29. doi: 10.1016/j.landurbplan.2017.11.005.\\n- 20. Decoville A, Durand F, Sohn C, Walther O. Comparing cross-border metropolitan integration in Europe: Towards a functional typology. Borderlands Stud. 2013;28(2):221-37. doi: 10.1080/08865655.2013.854654.\\n\\n- 21. Castanho RA, Cabezas J, Loures L, Fernández-Pozo L, Nunes J, Gama J. The relevance of cross-border cooperation (CBC) processes to achieve territorial cohesion and sustainable development. Proceedings. 2017;11:542.\\n- 22. Ghassemi B, Izquierdo-Verdiguier E, Verhegghen A, Yordanov M, Lemoine G, Moreno Martínez Á , et al. European Union crop map 2022: Earth observation\\'s 10-meter dive into Europe\\'s crop tapestry. Sci Data. 2024;11(1):1048. doi: 10.1038/s41597-024-03884-y.\\n- 23. Cover CL. Copernicus land monitoring service. Copenhagen K (Denmark): European Environ Agency (EEA); 2018.\\n- 24. Panagos P, Ballabio C, Scarpa S, Borrelli P, Lugato E, Montanarella L. Soil related indicators to support agro-environmental policies. Luxembourg: Publications Office of the European Union; 2020. doi: 10.2760/011194, JRC119.\\n- 25. Liu Q, Xie M, Wu R, Xue Q, Chen B, Li Z, et al. From expanding areas to stable areas: identification, classification and determinants of multiple frequency urban heat islands. Ecol Indic. 2021;130:108046. doi: 10.1016/j.ecolind.2021.108046.\\n- 26. Robert S, Quercy A, Schleyer-Lindenmann A. Territorial inertia versus adaptation to climate change. when local authorities discuss coastal management in a French Mediterranean region. Glob Environ Change. 2023;81:102702. doi: 10.1016/j.gloenvcha.2023.102702.\\n- 27. Robert S, Fox D, Boulay G, Grandclement A, Garrido M, Pasqualini V, et al. A framework to analyse urban sprawl in the French Mediterranean coastal zone. Reg Environ Change. 2019;19:559-72. doi: 10.1007/s10113-018-1425-4.\\n- 28. Cigna F, Tapete D. Urban growth and land subsidence: Multi-decadal investigation using human settlement data and satellite InSAR in Morelia, Mexico. Sci Total Environ. 2022;811:152211. doi: 10.1016/j.scitotenv.2021.152211.\\n- 29. Zhang HN, Wen XP, Xu JL, Luo DY, Li JB. Study on the spatial expansion of Garden City under the ecological green spaces protection (Qujing area, China). Appl Ecol Environ Res. 2018;16(4):4717-34. doi: 10.15666/aeer/1604\\\\_47174734.\\n- 30. Wei G, He BJ, Sun P, Liu Y, Li R, Ouyang X, et al. Evolutionary trends of urban expansion and its sustainable development: Evidence from 80 representative cities in the belt and road initiative region. Cities. 2023;138:104353. doi: 10.1016/j.cities.2023.104353.\\n- 31. Barman S, Roy D, Chandra Sarkar B, Almohamad H, Abdo HG. Assessment of urban growth in relation to urban sprawl using landscape metrics and Shannon\\'s entropy model in Jalpaiguri urban agglomeration, West Bengal, India. Geocarto Int. 2024;39(1):2306258. doi: 10.1080/10106049.2024.2306258.\\n- 32. Yin J, Yin Z, Zhong H, Xu S, Hu X, Wang J, et al. Monitoring urban expansion and land use/land cover changes of Shanghai metropolitan area during the transitional economy (1979–2009) in China. Environ Monit Assess. 2011;177:609-21. doi: 10.1007/s10661-010-1660-8.\\n- 33. Chughtai AH, Abbasi H, Karas IR. A review on change detection method and accuracy assessment for land use land cover. Soc Environ. 2021;22:100482. doi: 10.1016/j.rsase.2021.100482.\\n\\n- 34. Wang W, Li W, Zhang C, Zhang W. Improving object-based land use/cover classification from medium resolution imagery by Markov chain geostatistical post-classification. Land. 2018;7(1):31. doi: 10.3390/land7010031.\\n- 35. Gripsiou A. The internal socio-economic polarization of urban neighborhoods: the case of the municipality of Nice. Soc Sci. 2024;13(10):559. doi: 10.3390/socsci13100559.\\n- 36. Deribew KT, Dalacho DW. Land use and forest cover dynamics in the northeastern Addis Ababa, central highlands of Ethiopia. Environ Syst Res. 2019;8(1):1-18. doi: 10.1186/s40068-019-0137-1.\\n- 37. Li Y, Westlund H, Liu Y. Why some rural areas decline while some others not: An overview of rural evolution in the world. Rural Stud. 2019;68:135-43. doi: 10.1016/j.jrurstud.2019.03.003.\\n- 38. Médail F, Diadema K, Pouget M, Baumel A. Identification of plant microreserves using conservation units and population vulnerability: the case of an endangered endemic snowflake (Acis nicaeensis) in the Mediterranean Basin hotspot. Nat Conserv. 2021;61:125980. doi: 10.1016/j.jnc.2021.125980.\\n- 39. Fabry N, Blanchet C. Monaco\\'s struggle to become a smart destination. Tour. Cities. 2019;5(4):672-84. doi: 10.1108/IJTC-02-2019-0034.\\n- 40. Rahman MM, Szabó G. Impact of land use and land cover changes on urban ecosystem service value in Dhaka, Bangladesh. Land. 2021;10(8):793. doi: 10.3390/land10080793.\\n- 41. Wu Y, Gu C, Zhang Y. Towards sustainable management of urban ecological space: A zoning approach hybridized by ecosystem service value and ecological risk assessment. Land. 2022;11(8):1220. doi: 10.3390/land11081220.\\n- 42. Guzy A, Malinowska AA. State of the art and recent advancements in the modelling of land subsidence induced by groundwater withdrawal. Water. 2020;12(7):2051. doi: 10.3390/w12072051.\\n- 43. Feng B, Zhang Y, Bourke R. Urbanization impacts on flood risks based on urban growth data and coupled flood models. Nat Hazards. 2021;106(1):613- 27. doi: 10.1007/s11069-020-04480-0.\\n\\nHow to cite this article:\\n\\nBehradfar A, Castanho RA, Ferreira P. Urban development and land use/land cover changes in the European Borderlands of Nice and Monaco. J Sustain Res. 2025;7(3):e250053. https://doi.org/10.20900/jsr20250053.'"
      ]
     },
     "execution_count": 188,
     "metadata": {},
     "output_type": "execute_result"
    }
   ],
   "source": [
    "rendered_files[0].markdown"
   ]
  },
  {
   "cell_type": "code",
   "execution_count": 189,
   "id": "3b390f0d",
   "metadata": {},
   "outputs": [
    {
     "data": {
      "text/html": [
       "<pre style=\"white-space:pre;overflow-x:auto;line-height:normal;font-family:Menlo,'DejaVu Sans Mono',consolas,'Courier New',monospace\">Valid header pairs <span style=\"font-weight: bold\">(</span>with text &gt;= <span style=\"color: #008080; text-decoration-color: #008080; font-weight: bold\">250</span> words<span style=\"font-weight: bold\">)</span>:\n",
       "</pre>\n"
      ],
      "text/plain": [
       "Valid header pairs \u001b[1m(\u001b[0mwith text >= \u001b[1;36m250\u001b[0m words\u001b[1m)\u001b[0m:\n"
      ]
     },
     "metadata": {},
     "output_type": "display_data"
    },
    {
     "data": {
      "text/html": [
       "<pre style=\"white-space:pre;overflow-x:auto;line-height:normal;font-family:Menlo,'DejaVu Sans Mono',consolas,'Courier New',monospace\">\n",
       "<span style=\"color: #008080; text-decoration-color: #008080; font-weight: bold\">1</span>. From <span style=\"color: #008000; text-decoration-color: #008000\">'**2. History of the Concept**'</span> to <span style=\"color: #008000; text-decoration-color: #008000\">'**3. People, Planet, Profit**'</span>\n",
       "</pre>\n"
      ],
      "text/plain": [
       "\n",
       "\u001b[1;36m1\u001b[0m. From \u001b[32m'**2. History of the Concept**'\u001b[0m to \u001b[32m'**3. People, Planet, Profit**'\u001b[0m\n"
      ]
     },
     "metadata": {},
     "output_type": "display_data"
    },
    {
     "data": {
      "text/html": [
       "<pre style=\"white-space:pre;overflow-x:auto;line-height:normal;font-family:Menlo,'DejaVu Sans Mono',consolas,'Courier New',monospace\">   Word count: <span style=\"color: #008080; text-decoration-color: #008080; font-weight: bold\">528</span> words\n",
       "</pre>\n"
      ],
      "text/plain": [
       "   Word count: \u001b[1;36m528\u001b[0m words\n"
      ]
     },
     "metadata": {},
     "output_type": "display_data"
    },
    {
     "data": {
      "text/html": [
       "<pre style=\"white-space:pre;overflow-x:auto;line-height:normal;font-family:Menlo,'DejaVu Sans Mono',consolas,'Courier New',monospace\">   Preview: The concept of sustainability was originally coined in forestry, where it means never harvesting mor<span style=\"color: #808000; text-decoration-color: #808000\">...</span>\n",
       "</pre>\n"
      ],
      "text/plain": [
       "   Preview: The concept of sustainability was originally coined in forestry, where it means never harvesting mor\u001b[33m...\u001b[0m\n"
      ]
     },
     "metadata": {},
     "output_type": "display_data"
    },
    {
     "data": {
      "text/html": [
       "<pre style=\"white-space:pre;overflow-x:auto;line-height:normal;font-family:Menlo,'DejaVu Sans Mono',consolas,'Courier New',monospace\">\n",
       "<span style=\"color: #008080; text-decoration-color: #008080; font-weight: bold\">2</span>. From <span style=\"color: #008000; text-decoration-color: #008000\">'**4. Happiness, Well-being and Welfare**'</span> to <span style=\"color: #008000; text-decoration-color: #008000\">'**5. Sustainability: Resources and the Future**'</span>\n",
       "</pre>\n"
      ],
      "text/plain": [
       "\n",
       "\u001b[1;36m2\u001b[0m. From \u001b[32m'**4. Happiness, Well-being and Welfare**'\u001b[0m to \u001b[32m'**5. Sustainability: Resources and the Future**'\u001b[0m\n"
      ]
     },
     "metadata": {},
     "output_type": "display_data"
    },
    {
     "data": {
      "text/html": [
       "<pre style=\"white-space:pre;overflow-x:auto;line-height:normal;font-family:Menlo,'DejaVu Sans Mono',consolas,'Courier New',monospace\">   Word count: <span style=\"color: #008080; text-decoration-color: #008080; font-weight: bold\">532</span> words\n",
       "</pre>\n"
      ],
      "text/plain": [
       "   Word count: \u001b[1;36m532\u001b[0m words\n"
      ]
     },
     "metadata": {},
     "output_type": "display_data"
    },
    {
     "data": {
      "text/html": [
       "<pre style=\"white-space:pre;overflow-x:auto;line-height:normal;font-family:Menlo,'DejaVu Sans Mono',consolas,'Courier New',monospace\">   Preview: Any of the above words may be used to express a primary goal of government policy: to improve people<span style=\"color: #808000; text-decoration-color: #808000\">...</span>\n",
       "</pre>\n"
      ],
      "text/plain": [
       "   Preview: Any of the above words may be used to express a primary goal of government policy: to improve people\u001b[33m...\u001b[0m\n"
      ]
     },
     "metadata": {},
     "output_type": "display_data"
    },
    {
     "data": {
      "text/html": [
       "<pre style=\"white-space:pre;overflow-x:auto;line-height:normal;font-family:Menlo,'DejaVu Sans Mono',consolas,'Courier New',monospace\">\n",
       "<span style=\"color: #008080; text-decoration-color: #008080; font-weight: bold\">3</span>. From <span style=\"color: #008000; text-decoration-color: #008000\">'**5. Sustainability: Resources and the Future**'</span> to <span style=\"color: #008000; text-decoration-color: #008000\">'**6. Weak and Strong Sustainability**'</span>\n",
       "</pre>\n"
      ],
      "text/plain": [
       "\n",
       "\u001b[1;36m3\u001b[0m. From \u001b[32m'**5. Sustainability: Resources and the Future**'\u001b[0m to \u001b[32m'**6. Weak and Strong Sustainability**'\u001b[0m\n"
      ]
     },
     "metadata": {},
     "output_type": "display_data"
    },
    {
     "data": {
      "text/html": [
       "<pre style=\"white-space:pre;overflow-x:auto;line-height:normal;font-family:Menlo,'DejaVu Sans Mono',consolas,'Courier New',monospace\">   Word count: <span style=\"color: #008080; text-decoration-color: #008080; font-weight: bold\">1276</span> words\n",
       "</pre>\n"
      ],
      "text/plain": [
       "   Word count: \u001b[1;36m1276\u001b[0m words\n"
      ]
     },
     "metadata": {},
     "output_type": "display_data"
    },
    {
     "data": {
      "text/html": [
       "<pre style=\"white-space:pre;overflow-x:auto;line-height:normal;font-family:Menlo,'DejaVu Sans Mono',consolas,'Courier New',monospace\">   Preview: Sustainability may then be defined as maintaining well-being over a long, perhaps even an indefinite<span style=\"color: #808000; text-decoration-color: #808000\">...</span>\n",
       "</pre>\n"
      ],
      "text/plain": [
       "   Preview: Sustainability may then be defined as maintaining well-being over a long, perhaps even an indefinite\u001b[33m...\u001b[0m\n"
      ]
     },
     "metadata": {},
     "output_type": "display_data"
    },
    {
     "data": {
      "text/html": [
       "<pre style=\"white-space:pre;overflow-x:auto;line-height:normal;font-family:Menlo,'DejaVu Sans Mono',consolas,'Courier New',monospace\">\n",
       "<span style=\"color: #008080; text-decoration-color: #008080; font-weight: bold\">4</span>. From <span style=\"color: #008000; text-decoration-color: #008000\">'**6. Weak and Strong Sustainability**'</span> to <span style=\"color: #008000; text-decoration-color: #008000\">'**7. Conclusions**'</span>\n",
       "</pre>\n"
      ],
      "text/plain": [
       "\n",
       "\u001b[1;36m4\u001b[0m. From \u001b[32m'**6. Weak and Strong Sustainability**'\u001b[0m to \u001b[32m'**7. Conclusions**'\u001b[0m\n"
      ]
     },
     "metadata": {},
     "output_type": "display_data"
    },
    {
     "data": {
      "text/html": [
       "<pre style=\"white-space:pre;overflow-x:auto;line-height:normal;font-family:Menlo,'DejaVu Sans Mono',consolas,'Courier New',monospace\">   Word count: <span style=\"color: #008080; text-decoration-color: #008080; font-weight: bold\">809</span> words\n",
       "</pre>\n"
      ],
      "text/plain": [
       "   Word count: \u001b[1;36m809\u001b[0m words\n"
      ]
     },
     "metadata": {},
     "output_type": "display_data"
    },
    {
     "data": {
      "text/html": [
       "<pre style=\"white-space:pre;overflow-x:auto;line-height:normal;font-family:Menlo,'DejaVu Sans Mono',consolas,'Courier New',monospace\">   Preview: Sustainability, then, is a matter of what resources—natural resources, quality of the environment, a<span style=\"color: #808000; text-decoration-color: #808000\">...</span>\n",
       "</pre>\n"
      ],
      "text/plain": [
       "   Preview: Sustainability, then, is a matter of what resources—natural resources, quality of the environment, a\u001b[33m...\u001b[0m\n"
      ]
     },
     "metadata": {},
     "output_type": "display_data"
    },
    {
     "data": {
      "text/html": [
       "<pre style=\"white-space:pre;overflow-x:auto;line-height:normal;font-family:Menlo,'DejaVu Sans Mono',consolas,'Courier New',monospace\">\n",
       "<span style=\"color: #008080; text-decoration-color: #008080; font-weight: bold\">5</span>. From <span style=\"color: #008000; text-decoration-color: #008000\">'**7. Conclusions**'</span> to <span style=\"color: #008000; text-decoration-color: #008000\">'**References and Notes**'</span>\n",
       "</pre>\n"
      ],
      "text/plain": [
       "\n",
       "\u001b[1;36m5\u001b[0m. From \u001b[32m'**7. Conclusions**'\u001b[0m to \u001b[32m'**References and Notes**'\u001b[0m\n"
      ]
     },
     "metadata": {},
     "output_type": "display_data"
    },
    {
     "data": {
      "text/html": [
       "<pre style=\"white-space:pre;overflow-x:auto;line-height:normal;font-family:Menlo,'DejaVu Sans Mono',consolas,'Courier New',monospace\">   Word count: <span style=\"color: #008080; text-decoration-color: #008080; font-weight: bold\">894</span> words\n",
       "</pre>\n"
      ],
      "text/plain": [
       "   Word count: \u001b[1;36m894\u001b[0m words\n"
      ]
     },
     "metadata": {},
     "output_type": "display_data"
    },
    {
     "data": {
      "text/html": [
       "<pre style=\"white-space:pre;overflow-x:auto;line-height:normal;font-family:Menlo,'DejaVu Sans Mono',consolas,'Courier New',monospace\">   Preview: Having reached this point, the reader may feel we have come no closer to solving the practical probl<span style=\"color: #808000; text-decoration-color: #808000\">...</span>\n",
       "</pre>\n"
      ],
      "text/plain": [
       "   Preview: Having reached this point, the reader may feel we have come no closer to solving the practical probl\u001b[33m...\u001b[0m\n"
      ]
     },
     "metadata": {},
     "output_type": "display_data"
    }
   ],
   "source": [
    "\n",
    "sample_text = rendered_files[2].markdown\n",
    "\n",
    "# Find valid header pairs\n",
    "valid_pairs = find_valid_header_pairs(sample_text, min_words=250)\n",
    "    \n",
    "print(\"Valid header pairs (with text >= 250 words):\")\n",
    "for i, (start, end, content) in enumerate(valid_pairs, 1):\n",
    "    word_count = count_words(content)\n",
    "    print(f\"\\n{i}. From '{start}' to '{end}'\")\n",
    "    print(f\"   Word count: {word_count} words\")\n",
    "    print(f\"   Preview: {content[:100]}...\")"
   ]
  },
  {
   "cell_type": "code",
   "execution_count": 172,
   "id": "93d1bc4e",
   "metadata": {},
   "outputs": [],
   "source": [
    "#print(vars(rendered))"
   ]
  },
  {
   "cell_type": "code",
   "execution_count": null,
   "id": "d015214e",
   "metadata": {},
   "outputs": [],
   "source": []
  },
  {
   "cell_type": "code",
   "execution_count": null,
   "id": "cc785ffb",
   "metadata": {},
   "outputs": [],
   "source": []
  },
  {
   "cell_type": "code",
   "execution_count": null,
   "id": "996b1ffe",
   "metadata": {},
   "outputs": [],
   "source": []
  },
  {
   "cell_type": "code",
   "execution_count": null,
   "id": "fbaabe5d",
   "metadata": {},
   "outputs": [],
   "source": []
  },
  {
   "cell_type": "code",
   "execution_count": null,
   "id": "aabaa774",
   "metadata": {},
   "outputs": [],
   "source": []
  },
  {
   "cell_type": "code",
   "execution_count": null,
   "id": "2155b19b",
   "metadata": {},
   "outputs": [],
   "source": []
  },
  {
   "cell_type": "code",
   "execution_count": null,
   "id": "a22b03ac",
   "metadata": {},
   "outputs": [],
   "source": []
  },
  {
   "cell_type": "code",
   "execution_count": null,
   "id": "308c88ae",
   "metadata": {},
   "outputs": [],
   "source": []
  },
  {
   "cell_type": "code",
   "execution_count": null,
   "id": "e6cfc4df",
   "metadata": {},
   "outputs": [],
   "source": []
  },
  {
   "cell_type": "code",
   "execution_count": null,
   "id": "fd0d2113",
   "metadata": {},
   "outputs": [],
   "source": []
  },
  {
   "cell_type": "code",
   "execution_count": null,
   "id": "314820e4",
   "metadata": {},
   "outputs": [],
   "source": []
  },
  {
   "cell_type": "code",
   "execution_count": null,
   "id": "ecfc2efd",
   "metadata": {},
   "outputs": [],
   "source": []
  }
 ],
 "metadata": {
  "kernelspec": {
   "display_name": "textract-tiquu (3.10.12)",
   "language": "python",
   "name": "python3"
  },
  "language_info": {
   "codemirror_mode": {
    "name": "ipython",
    "version": 3
   },
   "file_extension": ".py",
   "mimetype": "text/x-python",
   "name": "python",
   "nbconvert_exporter": "python",
   "pygments_lexer": "ipython3",
   "version": "3.10.12"
  }
 },
 "nbformat": 4,
 "nbformat_minor": 5
}
