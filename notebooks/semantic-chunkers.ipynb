{
 "cells": [
  {
   "cell_type": "code",
   "execution_count": 3,
   "id": "ff9e4301",
   "metadata": {},
   "outputs": [],
   "source": [
    "from pathlib import Path\n",
    "from rich import print  # pretty printing\n",
    "\n",
    "import os\n",
    "from semantic_router.encoders import OpenAIEncoder\n",
    "\n",
    "import pandas as pd\n",
    "import re"
   ]
  },
  {
   "cell_type": "code",
   "execution_count": null,
   "id": "0bdfdd32",
   "metadata": {},
   "outputs": [],
   "source": [
    "os.environ[\"OPENAI_API_KEY\"] = os.getenv(\"OPENAI_API_KEY\") \n",
    "encoder = OpenAIEncoder(name=\"text-embedding-3-small\")"
   ]
  },
  {
   "cell_type": "code",
   "execution_count": 25,
   "id": "cea430c9",
   "metadata": {},
   "outputs": [],
   "source": [
    "def read_txt_as_text(data_path):\n",
    "    with open(data_path, 'r', encoding='utf-8') as f:\n",
    "        text = f.read()\n",
    "    return text\n",
    "\n",
    "file_path = 'extracted_data.txt'  # Replace with your actual PDF file path\n",
    "current_dir = Path().resolve()\n",
    "file_path = current_dir.parent / \"data\" / file_path\n",
    "\n",
    "    \n",
    "text = read_txt_as_text(file_path)\n",
    "short_text = text[:5_000]"
   ]
  },
  {
   "cell_type": "code",
   "execution_count": null,
   "id": "81d4da8a",
   "metadata": {},
   "outputs": [],
   "source": []
  },
  {
   "cell_type": "code",
   "execution_count": null,
   "id": "54dba80f",
   "metadata": {},
   "outputs": [],
   "source": []
  },
  {
   "cell_type": "code",
   "execution_count": null,
   "id": "a8227ef2",
   "metadata": {},
   "outputs": [],
   "source": []
  },
  {
   "cell_type": "code",
   "execution_count": 27,
   "id": "1aa0f291",
   "metadata": {},
   "outputs": [],
   "source": [
    "class SplitSections(dspy.Signature):\n",
    "    headings: list[dict[str, str]] = dspy.OutputField(desc='each heading and its content')\n",
    "    \n"
   ]
  },
  {
   "cell_type": "code",
   "execution_count": 28,
   "id": "7ea4b729",
   "metadata": {},
   "outputs": [],
   "source": [
    "import nltk\n",
    "from sentence_transformers import SentenceTransformer, util\n"
   ]
  },
  {
   "cell_type": "code",
   "execution_count": 29,
   "id": "37a4eb62",
   "metadata": {},
   "outputs": [
    {
     "name": "stderr",
     "output_type": "stream",
     "text": [
      "2025-08-11 17:43:43 - sentence_transformers.SentenceTransformer - INFO - SentenceTransformer.py:219 - __init__() - Use pytorch device_name: cuda:0\n",
      "2025-08-11 17:43:43 - sentence_transformers.SentenceTransformer - INFO - SentenceTransformer.py:227 - __init__() - Load pretrained SentenceTransformer: all-MiniLM-L6-v2\n"
     ]
    },
    {
     "data": {
      "text/html": [
       "<pre style=\"white-space:pre;overflow-x:auto;line-height:normal;font-family:Menlo,'DejaVu Sans Mono',consolas,'Courier New',monospace\"><span style=\"font-weight: bold\">[</span>\n",
       "    <span style=\"color: #008000; text-decoration-color: #008000\">'Title: None\\nDOI: 10.3390/su2113436\\nFullTextURL: http://creativecommons.org/licenses/by/3.0/).'</span>,\n",
       "    <span style=\"color: #008000; text-decoration-color: #008000\">'FullTextContent:\\nSustainability 2010, 2, 3436-3448; doi:10.3390/su2113436 OPEN ACCESS sustainability ISSN </span>\n",
       "<span style=\"color: #008000; text-decoration-color: #008000\">2071-1050 www.mdpi.com/journal/sustainability Review What is Sustainability?'</span>,\n",
       "    <span style=\"color: #008000; text-decoration-color: #008000\">'Tom Kuhlman 1,* and John Farrington 2 1 Agricultural Economics Research Institute, Wageningen University, </span>\n",
       "<span style=\"color: #008000; text-decoration-color: #008000\">P.O.'</span>,\n",
       "    <span style=\"color: #008000; text-decoration-color: #008000\">'Box 29703, 2502LS The Hague, The Netherlands 2 Institute for Rural Research, Geography and Environment, </span>\n",
       "<span style=\"color: #008000; text-decoration-color: #008000\">University of Aberdeen, Elphinstone Road, Aberdeen AB24 3UF, Scotland, UK; E-Mail: j.farrington@abdn.ac.uk * Author</span>\n",
       "<span style=\"color: #008000; text-decoration-color: #008000\">to whom correspondence should be addressed; E-Mail: tom.kuhlman@wur.nl; Tel.'</span>,\n",
       "    <span style=\"color: #008000; text-decoration-color: #008000\">': +31-70-3358-232; Fax: +31-70-3615-624.'</span>,\n",
       "    <span style=\"color: #008000; text-decoration-color: #008000\">'Received: 17 September 2010; in revised form: 15 October 2010 / Accepted: 19 October 2010 / Published: 1 </span>\n",
       "<span style=\"color: #008000; text-decoration-color: #008000\">November 2010 Abstract: Sustainability as a policy concept has its origin in the Brundtland Report of 1987.'</span>,\n",
       "    <span style=\"color: #008000; text-decoration-color: #008000\">'That document was concerned with the tension between the aspirations of mankind towards a better life on the </span>\n",
       "<span style=\"color: #008000; text-decoration-color: #008000\">one hand and the limitations imposed by nature on the other hand.'</span>,\n",
       "    <span style=\"color: #008000; text-decoration-color: #008000\">'In the course of time, the concept has been re-interpreted as encompassing three dimensions, namely social, </span>\n",
       "<span style=\"color: #008000; text-decoration-color: #008000\">economic and environmental.'</span>,\n",
       "    <span style=\"color: #008000; text-decoration-color: #008000\">'The paper argues that this change in meaning (a) obscures the real contradiction between the aims of welfare </span>\n",
       "<span style=\"color: #008000; text-decoration-color: #008000\">for all and environmental conservation; (b) risks diminishing the importance of the environmental dimension; and </span>\n",
       "<span style=\"color: #008000; text-decoration-color: #008000\">(c) separates social from economic aspects, which in reality are one and the same.'</span>,\n",
       "    <span style=\"color: #008000; text-decoration-color: #008000\">'It is proposed instead to return to the original meaning, where sustainability is concerned with the </span>\n",
       "<span style=\"color: #008000; text-decoration-color: #008000\">well-being of future generations and in particular with irreplaceable natural resources as opposed to the </span>\n",
       "<span style=\"color: #008000; text-decoration-color: #008000\">gratification of present needs which we call well-being.'</span>,\n",
       "    <span style=\"color: #008000; text-decoration-color: #008000\">'A balance needs to be found between those two, but not by pretending they are three sides of the same coin.'</span>,\n",
       "    <span style=\"color: #008000; text-decoration-color: #008000\">'Although we use up natural resources at the expense of future generations, we also generate capital (including</span>\n",
       "<span style=\"color: #008000; text-decoration-color: #008000\">knowledge) which raises future well-being.'</span>,\n",
       "    <span style=\"color: #008000; text-decoration-color: #008000\">'A major question is to what extent the one compensates for the other.'</span>,\n",
       "    <span style=\"color: #008000; text-decoration-color: #008000\">'This debate centres around the problem of substitutability, which has been cast into a distinction between  </span>\n",
       "<span style=\"color: #008000; text-decoration-color: #008000\">weak  and  strong  sustainability.'</span>,\n",
       "    <span style=\"color: #008000; text-decoration-color: #008000\">'It is argued that these two do not need to be in opposition but complement one another.'</span>,\n",
       "    <span style=\"color: #008000; text-decoration-color: #008000\">'Sustainability 2010, 2 3437 Keywords: sustainability; well-being; welfare \\n\\n1.'</span>,\n",
       "    <span style=\"color: #008000; text-decoration-color: #008000\">'Introduction \\nThe term sustainability has become popular in policy-oriented research as an expression of what</span>\n",
       "<span style=\"color: #008000; text-decoration-color: #008000\">public policies ought to achieve.'</span>,\n",
       "    <span style=\"color: #008000; text-decoration-color: #008000\">'The principal inspiration came from the Brundtland Report of 1987 [1].'</span>,\n",
       "    <span style=\"color: #008000; text-decoration-color: #008000\">'Since then the concept has shifted in meaning.'</span>,\n",
       "    <span style=\"color: #008000; text-decoration-color: #008000\">'This paper argues that the shift is unfortunate in that it obscures the real contradiction which exists </span>\n",
       "<span style=\"color: #008000; text-decoration-color: #008000\">between long-term sustainability and short-term welfare.'</span>,\n",
       "    <span style=\"color: #008000; text-decoration-color: #008000\">'Moreover, the distinction between three  pillars of sustainability is conceptually fuzzy.'</span>,\n",
       "    <span style=\"color: #008000; text-decoration-color: #008000\">'We propose a definition that reverts to the original sense in which the concept was intended.'</span>,\n",
       "    <span style=\"color: #008000; text-decoration-color: #008000\">'However, this paper does not pretend to offer a comprehensive view of the problem of sustainability.'</span>,\n",
       "    <span style=\"color: #008000; text-decoration-color: #008000\">'It presents a critical view of how the term is used in policy debate and in impact assessment the set of </span>\n",
       "<span style=\"color: #008000; text-decoration-color: #008000\">methods used in applied research to appraise policies and projects.'</span>,\n",
       "    <span style=\"color: #008000; text-decoration-color: #008000\">'2.'</span>,\n",
       "    <span style=\"color: #008000; text-decoration-color: #008000\">'History of the Concept The concept of sustainability was originally coined in forestry, where it means never </span>\n",
       "<span style=\"color: #008000; text-decoration-color: #008000\">harvesting more than what the forest yields in new growth [2].'</span>,\n",
       "    <span style=\"color: #008000; text-decoration-color: #008000\">'The word Nachhaltigkeit (the German term for sustainability) was first used with this meaning in 1713 [3].'</span>,\n",
       "    <span style=\"color: #008000; text-decoration-color: #008000\">'The concern with preserving natural resources for the future is perennial, of course: undoubtedly our </span>\n",
       "<span style=\"color: #008000; text-decoration-color: #008000\">Palaeolithic ancestors worried about their prey becoming extinct, and early farmers must have been apprehensive </span>\n",
       "<span style=\"color: #008000; text-decoration-color: #008000\">about maintaining soil fertility.'</span>,\n",
       "    <span style=\"color: #008000; text-decoration-color: #008000\">'Traditional beliefs enjoined thinking in terms of stewardship and concern for future generations, as expressed</span>\n",
       "<span style=\"color: #008000; text-decoration-color: #008000\">in the oft-quoted words of a Nigerian tribal chief who saw the community as consisting of  many dead, few living </span>\n",
       "<span style=\"color: #008000; text-decoration-color: #008000\">and countless others unborn  [4,5].'</span>,\n",
       "    <span style=\"color: #008000; text-decoration-color: #008000\">'Perhaps there have always been two opposing views of the relation between humankind and nature: one which </span>\n",
       "<span style=\"color: #008000; text-decoration-color: #008000\">stresses adaptation and harmony, and another which sees nature as something to be conquered.'</span>,\n",
       "    <span style=\"color: #008000; text-decoration-color: #008000\">'While this latter view may have been rather dominant in Western civilization at least in recent centuries, its</span>\n",
       "<span style=\"color: #008000; text-decoration-color: #008000\">counterpoint has never been absent.'</span>,\n",
       "    <span style=\"color: #008000; text-decoration-color: #008000\">'Sustainability (without necessarily using the word) is a natural topic of study for economists: after all, the</span>\n",
       "<span style=\"color: #008000; text-decoration-color: #008000\">scarcity of resources is of central concern to the dismal science.'</span>,\n",
       "    <span style=\"color: #008000; text-decoration-color: #008000\">'A famous example is the work of Thomas Malthus, who published his theory about looming mass starvation (due to</span>\n",
       "<span style=\"color: #008000; text-decoration-color: #008000\">the inability of available agricultural land to feed an expanding population) in 1798.'</span>,\n",
       "    <span style=\"color: #008000; text-decoration-color: #008000\">'A theory on the optimal rate of exploitation of non-renewable resource which is still relevant today was </span>\n",
       "<span style=\"color: #008000; text-decoration-color: #008000\">formulated by Harold Hotelling, an Americ'</span>\n",
       "<span style=\"font-weight: bold\">]</span>\n",
       "</pre>\n"
      ],
      "text/plain": [
       "\u001b[1m[\u001b[0m\n",
       "    \u001b[32m'Title: None\\nDOI: 10.3390/su2113436\\nFullTextURL: http://creativecommons.org/licenses/by/3.0/\u001b[0m\u001b[32m)\u001b[0m\u001b[32m.'\u001b[0m,\n",
       "    \u001b[32m'FullTextContent:\\nSustainability 2010, 2, 3436-3448; doi:10.3390/su2113436 OPEN ACCESS sustainability ISSN \u001b[0m\n",
       "\u001b[32m2071-1050 www.mdpi.com/journal/sustainability Review What is Sustainability?'\u001b[0m,\n",
       "    \u001b[32m'Tom Kuhlman 1,* and John Farrington 2 1 Agricultural Economics Research Institute, Wageningen University, \u001b[0m\n",
       "\u001b[32mP.O.'\u001b[0m,\n",
       "    \u001b[32m'Box 29703, 2502LS The Hague, The Netherlands 2 Institute for Rural Research, Geography and Environment, \u001b[0m\n",
       "\u001b[32mUniversity of Aberdeen, Elphinstone Road, Aberdeen AB24 3UF, Scotland, UK; E-Mail: j.farrington@abdn.ac.uk * Author\u001b[0m\n",
       "\u001b[32mto whom correspondence should be addressed; E-Mail: tom.kuhlman@wur.nl; Tel.'\u001b[0m,\n",
       "    \u001b[32m': +31-70-3358-232; Fax: +31-70-3615-624.'\u001b[0m,\n",
       "    \u001b[32m'Received: 17 September 2010; in revised form: 15 October 2010 / Accepted: 19 October 2010 / Published: 1 \u001b[0m\n",
       "\u001b[32mNovember 2010 Abstract: Sustainability as a policy concept has its origin in the Brundtland Report of 1987.'\u001b[0m,\n",
       "    \u001b[32m'That document was concerned with the tension between the aspirations of mankind towards a better life on the \u001b[0m\n",
       "\u001b[32mone hand and the limitations imposed by nature on the other hand.'\u001b[0m,\n",
       "    \u001b[32m'In the course of time, the concept has been re-interpreted as encompassing three dimensions, namely social, \u001b[0m\n",
       "\u001b[32meconomic and environmental.'\u001b[0m,\n",
       "    \u001b[32m'The paper argues that this change in meaning \u001b[0m\u001b[32m(\u001b[0m\u001b[32ma\u001b[0m\u001b[32m)\u001b[0m\u001b[32m obscures the real contradiction between the aims of welfare \u001b[0m\n",
       "\u001b[32mfor all and environmental conservation; \u001b[0m\u001b[32m(\u001b[0m\u001b[32mb\u001b[0m\u001b[32m)\u001b[0m\u001b[32m risks diminishing the importance of the environmental dimension; and \u001b[0m\n",
       "\u001b[32m(\u001b[0m\u001b[32mc\u001b[0m\u001b[32m)\u001b[0m\u001b[32m separates social from economic aspects, which in reality are one and the same.'\u001b[0m,\n",
       "    \u001b[32m'It is proposed instead to return to the original meaning, where sustainability is concerned with the \u001b[0m\n",
       "\u001b[32mwell-being of future generations and in particular with irreplaceable natural resources as opposed to the \u001b[0m\n",
       "\u001b[32mgratification of present needs which we call well-being.'\u001b[0m,\n",
       "    \u001b[32m'A balance needs to be found between those two, but not by pretending they are three sides of the same coin.'\u001b[0m,\n",
       "    \u001b[32m'Although we use up natural resources at the expense of future generations, we also generate capital \u001b[0m\u001b[32m(\u001b[0m\u001b[32mincluding\u001b[0m\n",
       "\u001b[32mknowledge\u001b[0m\u001b[32m)\u001b[0m\u001b[32m which raises future well-being.'\u001b[0m,\n",
       "    \u001b[32m'A major question is to what extent the one compensates for the other.'\u001b[0m,\n",
       "    \u001b[32m'This debate centres around the problem of substitutability, which has been cast into a distinction between  \u001b[0m\n",
       "\u001b[32mweak  and  strong  sustainability.'\u001b[0m,\n",
       "    \u001b[32m'It is argued that these two do not need to be in opposition but complement one another.'\u001b[0m,\n",
       "    \u001b[32m'Sustainability 2010, 2 3437 Keywords: sustainability; well-being; welfare \\n\\n1.'\u001b[0m,\n",
       "    \u001b[32m'Introduction \\nThe term sustainability has become popular in policy-oriented research as an expression of what\u001b[0m\n",
       "\u001b[32mpublic policies ought to achieve.'\u001b[0m,\n",
       "    \u001b[32m'The principal inspiration came from the Brundtland Report of 1987 \u001b[0m\u001b[32m[\u001b[0m\u001b[32m1\u001b[0m\u001b[32m]\u001b[0m\u001b[32m.'\u001b[0m,\n",
       "    \u001b[32m'Since then the concept has shifted in meaning.'\u001b[0m,\n",
       "    \u001b[32m'This paper argues that the shift is unfortunate in that it obscures the real contradiction which exists \u001b[0m\n",
       "\u001b[32mbetween long-term sustainability and short-term welfare.'\u001b[0m,\n",
       "    \u001b[32m'Moreover, the distinction between three  pillars of sustainability is conceptually fuzzy.'\u001b[0m,\n",
       "    \u001b[32m'We propose a definition that reverts to the original sense in which the concept was intended.'\u001b[0m,\n",
       "    \u001b[32m'However, this paper does not pretend to offer a comprehensive view of the problem of sustainability.'\u001b[0m,\n",
       "    \u001b[32m'It presents a critical view of how the term is used in policy debate and in impact assessment the set of \u001b[0m\n",
       "\u001b[32mmethods used in applied research to appraise policies and projects.'\u001b[0m,\n",
       "    \u001b[32m'2.'\u001b[0m,\n",
       "    \u001b[32m'History of the Concept The concept of sustainability was originally coined in forestry, where it means never \u001b[0m\n",
       "\u001b[32mharvesting more than what the forest yields in new growth \u001b[0m\u001b[32m[\u001b[0m\u001b[32m2\u001b[0m\u001b[32m]\u001b[0m\u001b[32m.'\u001b[0m,\n",
       "    \u001b[32m'The word Nachhaltigkeit \u001b[0m\u001b[32m(\u001b[0m\u001b[32mthe German term for sustainability\u001b[0m\u001b[32m)\u001b[0m\u001b[32m was first used with this meaning in 1713 \u001b[0m\u001b[32m[\u001b[0m\u001b[32m3\u001b[0m\u001b[32m]\u001b[0m\u001b[32m.'\u001b[0m,\n",
       "    \u001b[32m'The concern with preserving natural resources for the future is perennial, of course: undoubtedly our \u001b[0m\n",
       "\u001b[32mPalaeolithic ancestors worried about their prey becoming extinct, and early farmers must have been apprehensive \u001b[0m\n",
       "\u001b[32mabout maintaining soil fertility.'\u001b[0m,\n",
       "    \u001b[32m'Traditional beliefs enjoined thinking in terms of stewardship and concern for future generations, as expressed\u001b[0m\n",
       "\u001b[32min the oft-quoted words of a Nigerian tribal chief who saw the community as consisting of  many dead, few living \u001b[0m\n",
       "\u001b[32mand countless others unborn  \u001b[0m\u001b[32m[\u001b[0m\u001b[32m4,5\u001b[0m\u001b[32m]\u001b[0m\u001b[32m.'\u001b[0m,\n",
       "    \u001b[32m'Perhaps there have always been two opposing views of the relation between humankind and nature: one which \u001b[0m\n",
       "\u001b[32mstresses adaptation and harmony, and another which sees nature as something to be conquered.'\u001b[0m,\n",
       "    \u001b[32m'While this latter view may have been rather dominant in Western civilization at least in recent centuries, its\u001b[0m\n",
       "\u001b[32mcounterpoint has never been absent.'\u001b[0m,\n",
       "    \u001b[32m'Sustainability \u001b[0m\u001b[32m(\u001b[0m\u001b[32mwithout necessarily using the word\u001b[0m\u001b[32m)\u001b[0m\u001b[32m is a natural topic of study for economists: after all, the\u001b[0m\n",
       "\u001b[32mscarcity of resources is of central concern to the dismal science.'\u001b[0m,\n",
       "    \u001b[32m'A famous example is the work of Thomas Malthus, who published his theory about looming mass starvation \u001b[0m\u001b[32m(\u001b[0m\u001b[32mdue to\u001b[0m\n",
       "\u001b[32mthe inability of available agricultural land to feed an expanding population\u001b[0m\u001b[32m)\u001b[0m\u001b[32m in 1798.'\u001b[0m,\n",
       "    \u001b[32m'A theory on the optimal rate of exploitation of non-renewable resource which is still relevant today was \u001b[0m\n",
       "\u001b[32mformulated by Harold Hotelling, an Americ'\u001b[0m\n",
       "\u001b[1m]\u001b[0m\n"
      ]
     },
     "metadata": {},
     "output_type": "display_data"
    }
   ],
   "source": [
    "model = SentenceTransformer(\"all-MiniLM-L6-v2\")\n",
    "sentences = nltk.sent_tokenize(short_text)\n",
    "\n",
    "print(sentences)"
   ]
  },
  {
   "cell_type": "code",
   "execution_count": 30,
   "id": "ae7f369c",
   "metadata": {},
   "outputs": [
    {
     "data": {
      "text/plain": [
       "34"
      ]
     },
     "execution_count": 30,
     "metadata": {},
     "output_type": "execute_result"
    }
   ],
   "source": [
    "len(sentences)"
   ]
  },
  {
   "cell_type": "code",
   "execution_count": 42,
   "id": "92251a0d",
   "metadata": {},
   "outputs": [
    {
     "data": {
      "application/vnd.jupyter.widget-view+json": {
       "model_id": "5e6aa3cedbaf44e6b71fa8f13bc68473",
       "version_major": 2,
       "version_minor": 0
      },
      "text/plain": [
       "Batches:   0%|          | 0/2 [00:00<?, ?it/s]"
      ]
     },
     "metadata": {},
     "output_type": "display_data"
    },
    {
     "data": {
      "text/plain": [
       "31"
      ]
     },
     "execution_count": 42,
     "metadata": {},
     "output_type": "execute_result"
    }
   ],
   "source": [
    "\n",
    "\n",
    "embeddings = model.encode(sentences, convert_to_tensor=True)\n",
    "splits = [0]\n",
    "\n",
    "for i in range(len(sentences) - 1):\n",
    "    sim = util.cos_sim(embeddings[i], embeddings[i+1]).item()\n",
    "    if sim < 0.50:  # threshold\n",
    "        splits.append(i+1)\n",
    "        \n",
    "len(splits)"
   ]
  },
  {
   "cell_type": "code",
   "execution_count": null,
   "id": "ec659d3a",
   "metadata": {},
   "outputs": [
    {
     "data": {
      "text/plain": [
       "34"
      ]
     },
     "execution_count": 35,
     "metadata": {},
     "output_type": "execute_result"
    }
   ],
   "source": [
    "\n",
    "splits.append(len(sentences))\n",
    "\n",
    "chunks = [\" \".join(sentences[s:e]) for s, e in zip(splits, splits[1:])]\n",
    "print(len(chunks))"
   ]
  },
  {
   "cell_type": "code",
   "execution_count": 33,
   "id": "5cd4e527",
   "metadata": {},
   "outputs": [
    {
     "data": {
      "text/html": [
       "<pre style=\"white-space:pre;overflow-x:auto;line-height:normal;font-family:Menlo,'DejaVu Sans Mono',consolas,'Courier New',monospace\"><span style=\"font-weight: bold\">[</span>\n",
       "    <span style=\"color: #008000; text-decoration-color: #008000\">'Title: None\\nDOI: 10.3390/su2113436\\nFullTextURL: http://creativecommons.org/licenses/by/3.0/).'</span>,\n",
       "    <span style=\"color: #008000; text-decoration-color: #008000\">'FullTextContent:\\nSustainability 2010, 2, 3436-3448; doi:10.3390/su2113436 OPEN ACCESS sustainability ISSN </span>\n",
       "<span style=\"color: #008000; text-decoration-color: #008000\">2071-1050 www.mdpi.com/journal/sustainability Review What is Sustainability?'</span>,\n",
       "    <span style=\"color: #008000; text-decoration-color: #008000\">'Tom Kuhlman 1,* and John Farrington 2 1 Agricultural Economics Research Institute, Wageningen University, </span>\n",
       "<span style=\"color: #008000; text-decoration-color: #008000\">P.O.'</span>,\n",
       "    <span style=\"color: #008000; text-decoration-color: #008000\">'Box 29703, 2502LS The Hague, The Netherlands 2 Institute for Rural Research, Geography and Environment, </span>\n",
       "<span style=\"color: #008000; text-decoration-color: #008000\">University of Aberdeen, Elphinstone Road, Aberdeen AB24 3UF, Scotland, UK; E-Mail: j.farrington@abdn.ac.uk * Author</span>\n",
       "<span style=\"color: #008000; text-decoration-color: #008000\">to whom correspondence should be addressed; E-Mail: tom.kuhlman@wur.nl; Tel.'</span>,\n",
       "    <span style=\"color: #008000; text-decoration-color: #008000\">': +31-70-3358-232; Fax: +31-70-3615-624.'</span>,\n",
       "    <span style=\"color: #008000; text-decoration-color: #008000\">'Received: 17 September 2010; in revised form: 15 October 2010 / Accepted: 19 October 2010 / Published: 1 </span>\n",
       "<span style=\"color: #008000; text-decoration-color: #008000\">November 2010 Abstract: Sustainability as a policy concept has its origin in the Brundtland Report of 1987.'</span>,\n",
       "    <span style=\"color: #008000; text-decoration-color: #008000\">'That document was concerned with the tension between the aspirations of mankind towards a better life on the </span>\n",
       "<span style=\"color: #008000; text-decoration-color: #008000\">one hand and the limitations imposed by nature on the other hand.'</span>,\n",
       "    <span style=\"color: #008000; text-decoration-color: #008000\">'In the course of time, the concept has been re-interpreted as encompassing three dimensions, namely social, </span>\n",
       "<span style=\"color: #008000; text-decoration-color: #008000\">economic and environmental.'</span>,\n",
       "    <span style=\"color: #008000; text-decoration-color: #008000\">'The paper argues that this change in meaning (a) obscures the real contradiction between the aims of welfare </span>\n",
       "<span style=\"color: #008000; text-decoration-color: #008000\">for all and environmental conservation; (b) risks diminishing the importance of the environmental dimension; and </span>\n",
       "<span style=\"color: #008000; text-decoration-color: #008000\">(c) separates social from economic aspects, which in reality are one and the same.'</span>,\n",
       "    <span style=\"color: #008000; text-decoration-color: #008000\">'It is proposed instead to return to the original meaning, where sustainability is concerned with the </span>\n",
       "<span style=\"color: #008000; text-decoration-color: #008000\">well-being of future generations and in particular with irreplaceable natural resources as opposed to the </span>\n",
       "<span style=\"color: #008000; text-decoration-color: #008000\">gratification of present needs which we call well-being.'</span>,\n",
       "    <span style=\"color: #008000; text-decoration-color: #008000\">'A balance needs to be found between those two, but not by pretending they are three sides of the same coin.'</span>,\n",
       "    <span style=\"color: #008000; text-decoration-color: #008000\">'Although we use up natural resources at the expense of future generations, we also generate capital (including</span>\n",
       "<span style=\"color: #008000; text-decoration-color: #008000\">knowledge) which raises future well-being.'</span>,\n",
       "    <span style=\"color: #008000; text-decoration-color: #008000\">'A major question is to what extent the one compensates for the other.'</span>,\n",
       "    <span style=\"color: #008000; text-decoration-color: #008000\">'This debate centres around the problem of substitutability, which has been cast into a distinction between  </span>\n",
       "<span style=\"color: #008000; text-decoration-color: #008000\">weak  and  strong  sustainability.'</span>,\n",
       "    <span style=\"color: #008000; text-decoration-color: #008000\">'It is argued that these two do not need to be in opposition but complement one another.'</span>,\n",
       "    <span style=\"color: #008000; text-decoration-color: #008000\">'Sustainability 2010, 2 3437 Keywords: sustainability; well-being; welfare \\n\\n1.'</span>,\n",
       "    <span style=\"color: #008000; text-decoration-color: #008000\">'Introduction \\nThe term sustainability has become popular in policy-oriented research as an expression of what</span>\n",
       "<span style=\"color: #008000; text-decoration-color: #008000\">public policies ought to achieve.'</span>,\n",
       "    <span style=\"color: #008000; text-decoration-color: #008000\">'The principal inspiration came from the Brundtland Report of 1987 [1].'</span>,\n",
       "    <span style=\"color: #008000; text-decoration-color: #008000\">'Since then the concept has shifted in meaning.'</span>,\n",
       "    <span style=\"color: #008000; text-decoration-color: #008000\">'This paper argues that the shift is unfortunate in that it obscures the real contradiction which exists </span>\n",
       "<span style=\"color: #008000; text-decoration-color: #008000\">between long-term sustainability and short-term welfare.'</span>,\n",
       "    <span style=\"color: #008000; text-decoration-color: #008000\">'Moreover, the distinction between three  pillars of sustainability is conceptually fuzzy.'</span>,\n",
       "    <span style=\"color: #008000; text-decoration-color: #008000\">'We propose a definition that reverts to the original sense in which the concept was intended.'</span>,\n",
       "    <span style=\"color: #008000; text-decoration-color: #008000\">'However, this paper does not pretend to offer a comprehensive view of the problem of sustainability.'</span>,\n",
       "    <span style=\"color: #008000; text-decoration-color: #008000\">'It presents a critical view of how the term is used in policy debate and in impact assessment the set of </span>\n",
       "<span style=\"color: #008000; text-decoration-color: #008000\">methods used in applied research to appraise policies and projects.'</span>,\n",
       "    <span style=\"color: #008000; text-decoration-color: #008000\">'2.'</span>,\n",
       "    <span style=\"color: #008000; text-decoration-color: #008000\">'History of the Concept The concept of sustainability was originally coined in forestry, where it means never </span>\n",
       "<span style=\"color: #008000; text-decoration-color: #008000\">harvesting more than what the forest yields in new growth [2].'</span>,\n",
       "    <span style=\"color: #008000; text-decoration-color: #008000\">'The word Nachhaltigkeit (the German term for sustainability) was first used with this meaning in 1713 [3].'</span>,\n",
       "    <span style=\"color: #008000; text-decoration-color: #008000\">'The concern with preserving natural resources for the future is perennial, of course: undoubtedly our </span>\n",
       "<span style=\"color: #008000; text-decoration-color: #008000\">Palaeolithic ancestors worried about their prey becoming extinct, and early farmers must have been apprehensive </span>\n",
       "<span style=\"color: #008000; text-decoration-color: #008000\">about maintaining soil fertility.'</span>,\n",
       "    <span style=\"color: #008000; text-decoration-color: #008000\">'Traditional beliefs enjoined thinking in terms of stewardship and concern for future generations, as expressed</span>\n",
       "<span style=\"color: #008000; text-decoration-color: #008000\">in the oft-quoted words of a Nigerian tribal chief who saw the community as consisting of  many dead, few living </span>\n",
       "<span style=\"color: #008000; text-decoration-color: #008000\">and countless others unborn  [4,5].'</span>,\n",
       "    <span style=\"color: #008000; text-decoration-color: #008000\">'Perhaps there have always been two opposing views of the relation between humankind and nature: one which </span>\n",
       "<span style=\"color: #008000; text-decoration-color: #008000\">stresses adaptation and harmony, and another which sees nature as something to be conquered.'</span>,\n",
       "    <span style=\"color: #008000; text-decoration-color: #008000\">'While this latter view may have been rather dominant in Western civilization at least in recent centuries, its</span>\n",
       "<span style=\"color: #008000; text-decoration-color: #008000\">counterpoint has never been absent.'</span>,\n",
       "    <span style=\"color: #008000; text-decoration-color: #008000\">'Sustainability (without necessarily using the word) is a natural topic of study for economists: after all, the</span>\n",
       "<span style=\"color: #008000; text-decoration-color: #008000\">scarcity of resources is of central concern to the dismal science.'</span>,\n",
       "    <span style=\"color: #008000; text-decoration-color: #008000\">'A famous example is the work of Thomas Malthus, who published his theory about looming mass starvation (due to</span>\n",
       "<span style=\"color: #008000; text-decoration-color: #008000\">the inability of available agricultural land to feed an expanding population) in 1798.'</span>,\n",
       "    <span style=\"color: #008000; text-decoration-color: #008000\">'A theory on the optimal rate of exploitation of non-renewable resource which is still relevant today was </span>\n",
       "<span style=\"color: #008000; text-decoration-color: #008000\">formulated by Harold Hotelling, an Americ'</span>\n",
       "<span style=\"font-weight: bold\">]</span>\n",
       "</pre>\n"
      ],
      "text/plain": [
       "\u001b[1m[\u001b[0m\n",
       "    \u001b[32m'Title: None\\nDOI: 10.3390/su2113436\\nFullTextURL: http://creativecommons.org/licenses/by/3.0/\u001b[0m\u001b[32m)\u001b[0m\u001b[32m.'\u001b[0m,\n",
       "    \u001b[32m'FullTextContent:\\nSustainability 2010, 2, 3436-3448; doi:10.3390/su2113436 OPEN ACCESS sustainability ISSN \u001b[0m\n",
       "\u001b[32m2071-1050 www.mdpi.com/journal/sustainability Review What is Sustainability?'\u001b[0m,\n",
       "    \u001b[32m'Tom Kuhlman 1,* and John Farrington 2 1 Agricultural Economics Research Institute, Wageningen University, \u001b[0m\n",
       "\u001b[32mP.O.'\u001b[0m,\n",
       "    \u001b[32m'Box 29703, 2502LS The Hague, The Netherlands 2 Institute for Rural Research, Geography and Environment, \u001b[0m\n",
       "\u001b[32mUniversity of Aberdeen, Elphinstone Road, Aberdeen AB24 3UF, Scotland, UK; E-Mail: j.farrington@abdn.ac.uk * Author\u001b[0m\n",
       "\u001b[32mto whom correspondence should be addressed; E-Mail: tom.kuhlman@wur.nl; Tel.'\u001b[0m,\n",
       "    \u001b[32m': +31-70-3358-232; Fax: +31-70-3615-624.'\u001b[0m,\n",
       "    \u001b[32m'Received: 17 September 2010; in revised form: 15 October 2010 / Accepted: 19 October 2010 / Published: 1 \u001b[0m\n",
       "\u001b[32mNovember 2010 Abstract: Sustainability as a policy concept has its origin in the Brundtland Report of 1987.'\u001b[0m,\n",
       "    \u001b[32m'That document was concerned with the tension between the aspirations of mankind towards a better life on the \u001b[0m\n",
       "\u001b[32mone hand and the limitations imposed by nature on the other hand.'\u001b[0m,\n",
       "    \u001b[32m'In the course of time, the concept has been re-interpreted as encompassing three dimensions, namely social, \u001b[0m\n",
       "\u001b[32meconomic and environmental.'\u001b[0m,\n",
       "    \u001b[32m'The paper argues that this change in meaning \u001b[0m\u001b[32m(\u001b[0m\u001b[32ma\u001b[0m\u001b[32m)\u001b[0m\u001b[32m obscures the real contradiction between the aims of welfare \u001b[0m\n",
       "\u001b[32mfor all and environmental conservation; \u001b[0m\u001b[32m(\u001b[0m\u001b[32mb\u001b[0m\u001b[32m)\u001b[0m\u001b[32m risks diminishing the importance of the environmental dimension; and \u001b[0m\n",
       "\u001b[32m(\u001b[0m\u001b[32mc\u001b[0m\u001b[32m)\u001b[0m\u001b[32m separates social from economic aspects, which in reality are one and the same.'\u001b[0m,\n",
       "    \u001b[32m'It is proposed instead to return to the original meaning, where sustainability is concerned with the \u001b[0m\n",
       "\u001b[32mwell-being of future generations and in particular with irreplaceable natural resources as opposed to the \u001b[0m\n",
       "\u001b[32mgratification of present needs which we call well-being.'\u001b[0m,\n",
       "    \u001b[32m'A balance needs to be found between those two, but not by pretending they are three sides of the same coin.'\u001b[0m,\n",
       "    \u001b[32m'Although we use up natural resources at the expense of future generations, we also generate capital \u001b[0m\u001b[32m(\u001b[0m\u001b[32mincluding\u001b[0m\n",
       "\u001b[32mknowledge\u001b[0m\u001b[32m)\u001b[0m\u001b[32m which raises future well-being.'\u001b[0m,\n",
       "    \u001b[32m'A major question is to what extent the one compensates for the other.'\u001b[0m,\n",
       "    \u001b[32m'This debate centres around the problem of substitutability, which has been cast into a distinction between  \u001b[0m\n",
       "\u001b[32mweak  and  strong  sustainability.'\u001b[0m,\n",
       "    \u001b[32m'It is argued that these two do not need to be in opposition but complement one another.'\u001b[0m,\n",
       "    \u001b[32m'Sustainability 2010, 2 3437 Keywords: sustainability; well-being; welfare \\n\\n1.'\u001b[0m,\n",
       "    \u001b[32m'Introduction \\nThe term sustainability has become popular in policy-oriented research as an expression of what\u001b[0m\n",
       "\u001b[32mpublic policies ought to achieve.'\u001b[0m,\n",
       "    \u001b[32m'The principal inspiration came from the Brundtland Report of 1987 \u001b[0m\u001b[32m[\u001b[0m\u001b[32m1\u001b[0m\u001b[32m]\u001b[0m\u001b[32m.'\u001b[0m,\n",
       "    \u001b[32m'Since then the concept has shifted in meaning.'\u001b[0m,\n",
       "    \u001b[32m'This paper argues that the shift is unfortunate in that it obscures the real contradiction which exists \u001b[0m\n",
       "\u001b[32mbetween long-term sustainability and short-term welfare.'\u001b[0m,\n",
       "    \u001b[32m'Moreover, the distinction between three  pillars of sustainability is conceptually fuzzy.'\u001b[0m,\n",
       "    \u001b[32m'We propose a definition that reverts to the original sense in which the concept was intended.'\u001b[0m,\n",
       "    \u001b[32m'However, this paper does not pretend to offer a comprehensive view of the problem of sustainability.'\u001b[0m,\n",
       "    \u001b[32m'It presents a critical view of how the term is used in policy debate and in impact assessment the set of \u001b[0m\n",
       "\u001b[32mmethods used in applied research to appraise policies and projects.'\u001b[0m,\n",
       "    \u001b[32m'2.'\u001b[0m,\n",
       "    \u001b[32m'History of the Concept The concept of sustainability was originally coined in forestry, where it means never \u001b[0m\n",
       "\u001b[32mharvesting more than what the forest yields in new growth \u001b[0m\u001b[32m[\u001b[0m\u001b[32m2\u001b[0m\u001b[32m]\u001b[0m\u001b[32m.'\u001b[0m,\n",
       "    \u001b[32m'The word Nachhaltigkeit \u001b[0m\u001b[32m(\u001b[0m\u001b[32mthe German term for sustainability\u001b[0m\u001b[32m)\u001b[0m\u001b[32m was first used with this meaning in 1713 \u001b[0m\u001b[32m[\u001b[0m\u001b[32m3\u001b[0m\u001b[32m]\u001b[0m\u001b[32m.'\u001b[0m,\n",
       "    \u001b[32m'The concern with preserving natural resources for the future is perennial, of course: undoubtedly our \u001b[0m\n",
       "\u001b[32mPalaeolithic ancestors worried about their prey becoming extinct, and early farmers must have been apprehensive \u001b[0m\n",
       "\u001b[32mabout maintaining soil fertility.'\u001b[0m,\n",
       "    \u001b[32m'Traditional beliefs enjoined thinking in terms of stewardship and concern for future generations, as expressed\u001b[0m\n",
       "\u001b[32min the oft-quoted words of a Nigerian tribal chief who saw the community as consisting of  many dead, few living \u001b[0m\n",
       "\u001b[32mand countless others unborn  \u001b[0m\u001b[32m[\u001b[0m\u001b[32m4,5\u001b[0m\u001b[32m]\u001b[0m\u001b[32m.'\u001b[0m,\n",
       "    \u001b[32m'Perhaps there have always been two opposing views of the relation between humankind and nature: one which \u001b[0m\n",
       "\u001b[32mstresses adaptation and harmony, and another which sees nature as something to be conquered.'\u001b[0m,\n",
       "    \u001b[32m'While this latter view may have been rather dominant in Western civilization at least in recent centuries, its\u001b[0m\n",
       "\u001b[32mcounterpoint has never been absent.'\u001b[0m,\n",
       "    \u001b[32m'Sustainability \u001b[0m\u001b[32m(\u001b[0m\u001b[32mwithout necessarily using the word\u001b[0m\u001b[32m)\u001b[0m\u001b[32m is a natural topic of study for economists: after all, the\u001b[0m\n",
       "\u001b[32mscarcity of resources is of central concern to the dismal science.'\u001b[0m,\n",
       "    \u001b[32m'A famous example is the work of Thomas Malthus, who published his theory about looming mass starvation \u001b[0m\u001b[32m(\u001b[0m\u001b[32mdue to\u001b[0m\n",
       "\u001b[32mthe inability of available agricultural land to feed an expanding population\u001b[0m\u001b[32m)\u001b[0m\u001b[32m in 1798.'\u001b[0m,\n",
       "    \u001b[32m'A theory on the optimal rate of exploitation of non-renewable resource which is still relevant today was \u001b[0m\n",
       "\u001b[32mformulated by Harold Hotelling, an Americ'\u001b[0m\n",
       "\u001b[1m]\u001b[0m\n"
      ]
     },
     "metadata": {},
     "output_type": "display_data"
    }
   ],
   "source": [
    "print(chunks)"
   ]
  },
  {
   "cell_type": "code",
   "execution_count": 13,
   "id": "37c80b47",
   "metadata": {},
   "outputs": [
    {
     "data": {
      "text/html": [
       "<pre style=\"white-space:pre;overflow-x:auto;line-height:normal;font-family:Menlo,'DejaVu Sans Mono',consolas,'Courier New',monospace\">Tom Kuhlman <span style=\"color: #008080; text-decoration-color: #008080; font-weight: bold\">1</span>,* and John Farrington <span style=\"color: #008080; text-decoration-color: #008080; font-weight: bold\">2</span> <span style=\"color: #008080; text-decoration-color: #008080; font-weight: bold\">1</span> Agricultural Economics Research Institute, Wageningen University, P.O.\n",
       "</pre>\n"
      ],
      "text/plain": [
       "Tom Kuhlman \u001b[1;36m1\u001b[0m,* and John Farrington \u001b[1;36m2\u001b[0m \u001b[1;36m1\u001b[0m Agricultural Economics Research Institute, Wageningen University, P.O.\n"
      ]
     },
     "metadata": {},
     "output_type": "display_data"
    }
   ],
   "source": [
    "print(chunks[2])"
   ]
  },
  {
   "cell_type": "code",
   "execution_count": 19,
   "id": "5b4ab772",
   "metadata": {},
   "outputs": [
    {
     "data": {
      "application/vnd.jupyter.widget-view+json": {
       "model_id": "66953021bc094c0b91b95f1641aafe39",
       "version_major": 2,
       "version_minor": 0
      },
      "text/plain": [
       "Batches:   0%|          | 0/1 [00:00<?, ?it/s]"
      ]
     },
     "metadata": {},
     "output_type": "display_data"
    },
    {
     "data": {
      "application/vnd.jupyter.widget-view+json": {
       "model_id": "e1c9759fe8634e8d91f0a16fde2817c3",
       "version_major": 2,
       "version_minor": 0
      },
      "text/plain": [
       "Batches:   0%|          | 0/1 [00:00<?, ?it/s]"
      ]
     },
     "metadata": {},
     "output_type": "display_data"
    },
    {
     "data": {
      "application/vnd.jupyter.widget-view+json": {
       "model_id": "e1d73217cb9e4e4c816891b782b10745",
       "version_major": 2,
       "version_minor": 0
      },
      "text/plain": [
       "Batches:   0%|          | 0/1 [00:00<?, ?it/s]"
      ]
     },
     "metadata": {},
     "output_type": "display_data"
    },
    {
     "data": {
      "application/vnd.jupyter.widget-view+json": {
       "model_id": "8138609456594936adf217b3d2fda233",
       "version_major": 2,
       "version_minor": 0
      },
      "text/plain": [
       "Batches:   0%|          | 0/1 [00:00<?, ?it/s]"
      ]
     },
     "metadata": {},
     "output_type": "display_data"
    },
    {
     "data": {
      "application/vnd.jupyter.widget-view+json": {
       "model_id": "deef8d4742054ad8b24c46caa5dd953a",
       "version_major": 2,
       "version_minor": 0
      },
      "text/plain": [
       "Batches:   0%|          | 0/1 [00:00<?, ?it/s]"
      ]
     },
     "metadata": {},
     "output_type": "display_data"
    },
    {
     "data": {
      "application/vnd.jupyter.widget-view+json": {
       "model_id": "698e068857c4434f8151cf4727cca57f",
       "version_major": 2,
       "version_minor": 0
      },
      "text/plain": [
       "Batches:   0%|          | 0/1 [00:00<?, ?it/s]"
      ]
     },
     "metadata": {},
     "output_type": "display_data"
    },
    {
     "data": {
      "application/vnd.jupyter.widget-view+json": {
       "model_id": "4ad83acc0b32460a8bd4959952ddd65e",
       "version_major": 2,
       "version_minor": 0
      },
      "text/plain": [
       "Batches:   0%|          | 0/1 [00:00<?, ?it/s]"
      ]
     },
     "metadata": {},
     "output_type": "display_data"
    },
    {
     "data": {
      "application/vnd.jupyter.widget-view+json": {
       "model_id": "9945c169fb3e4f2e9181b05257da3aee",
       "version_major": 2,
       "version_minor": 0
      },
      "text/plain": [
       "Batches:   0%|          | 0/1 [00:00<?, ?it/s]"
      ]
     },
     "metadata": {},
     "output_type": "display_data"
    },
    {
     "data": {
      "application/vnd.jupyter.widget-view+json": {
       "model_id": "d00cde4fb2714eedb46dbc39d63505a0",
       "version_major": 2,
       "version_minor": 0
      },
      "text/plain": [
       "Batches:   0%|          | 0/1 [00:00<?, ?it/s]"
      ]
     },
     "metadata": {},
     "output_type": "display_data"
    },
    {
     "data": {
      "application/vnd.jupyter.widget-view+json": {
       "model_id": "1a0a271d8a8a43bf93df00cb933ef8ce",
       "version_major": 2,
       "version_minor": 0
      },
      "text/plain": [
       "Batches:   0%|          | 0/1 [00:00<?, ?it/s]"
      ]
     },
     "metadata": {},
     "output_type": "display_data"
    },
    {
     "data": {
      "application/vnd.jupyter.widget-view+json": {
       "model_id": "bac99430e84c448aa3a18f5940884393",
       "version_major": 2,
       "version_minor": 0
      },
      "text/plain": [
       "Batches:   0%|          | 0/1 [00:00<?, ?it/s]"
      ]
     },
     "metadata": {},
     "output_type": "display_data"
    },
    {
     "data": {
      "application/vnd.jupyter.widget-view+json": {
       "model_id": "626d01b2806b4b0a8b6051985ea9fd81",
       "version_major": 2,
       "version_minor": 0
      },
      "text/plain": [
       "Batches:   0%|          | 0/1 [00:00<?, ?it/s]"
      ]
     },
     "metadata": {},
     "output_type": "display_data"
    },
    {
     "data": {
      "application/vnd.jupyter.widget-view+json": {
       "model_id": "eb8922784cad439cbcbc2314c638e635",
       "version_major": 2,
       "version_minor": 0
      },
      "text/plain": [
       "Batches:   0%|          | 0/1 [00:00<?, ?it/s]"
      ]
     },
     "metadata": {},
     "output_type": "display_data"
    },
    {
     "data": {
      "application/vnd.jupyter.widget-view+json": {
       "model_id": "87e0721796da44588800334c7b99f449",
       "version_major": 2,
       "version_minor": 0
      },
      "text/plain": [
       "Batches:   0%|          | 0/1 [00:00<?, ?it/s]"
      ]
     },
     "metadata": {},
     "output_type": "display_data"
    },
    {
     "data": {
      "application/vnd.jupyter.widget-view+json": {
       "model_id": "0925cb810d6f4f2ab7607bb5eaf19539",
       "version_major": 2,
       "version_minor": 0
      },
      "text/plain": [
       "Batches:   0%|          | 0/1 [00:00<?, ?it/s]"
      ]
     },
     "metadata": {},
     "output_type": "display_data"
    },
    {
     "data": {
      "application/vnd.jupyter.widget-view+json": {
       "model_id": "7389f10fa5e546f39726e133e1e1a06e",
       "version_major": 2,
       "version_minor": 0
      },
      "text/plain": [
       "Batches:   0%|          | 0/1 [00:00<?, ?it/s]"
      ]
     },
     "metadata": {},
     "output_type": "display_data"
    },
    {
     "data": {
      "application/vnd.jupyter.widget-view+json": {
       "model_id": "e6eef0c4fef741a1aaee0fd1ab85cc63",
       "version_major": 2,
       "version_minor": 0
      },
      "text/plain": [
       "Batches:   0%|          | 0/1 [00:00<?, ?it/s]"
      ]
     },
     "metadata": {},
     "output_type": "display_data"
    },
    {
     "data": {
      "application/vnd.jupyter.widget-view+json": {
       "model_id": "4766887dc5644c4d964e0d6806c11a90",
       "version_major": 2,
       "version_minor": 0
      },
      "text/plain": [
       "Batches:   0%|          | 0/1 [00:00<?, ?it/s]"
      ]
     },
     "metadata": {},
     "output_type": "display_data"
    },
    {
     "data": {
      "application/vnd.jupyter.widget-view+json": {
       "model_id": "c15921c417494df9acad0daafd01aff7",
       "version_major": 2,
       "version_minor": 0
      },
      "text/plain": [
       "Batches:   0%|          | 0/1 [00:00<?, ?it/s]"
      ]
     },
     "metadata": {},
     "output_type": "display_data"
    },
    {
     "data": {
      "application/vnd.jupyter.widget-view+json": {
       "model_id": "ccbd3841e25d4811932561fa82177f74",
       "version_major": 2,
       "version_minor": 0
      },
      "text/plain": [
       "Batches:   0%|          | 0/1 [00:00<?, ?it/s]"
      ]
     },
     "metadata": {},
     "output_type": "display_data"
    },
    {
     "data": {
      "application/vnd.jupyter.widget-view+json": {
       "model_id": "a65b25b7c94942688f00e809dcab6736",
       "version_major": 2,
       "version_minor": 0
      },
      "text/plain": [
       "Batches:   0%|          | 0/1 [00:00<?, ?it/s]"
      ]
     },
     "metadata": {},
     "output_type": "display_data"
    },
    {
     "data": {
      "application/vnd.jupyter.widget-view+json": {
       "model_id": "21f235d7266f4b39abd578beb30b2a6f",
       "version_major": 2,
       "version_minor": 0
      },
      "text/plain": [
       "Batches:   0%|          | 0/1 [00:00<?, ?it/s]"
      ]
     },
     "metadata": {},
     "output_type": "display_data"
    },
    {
     "data": {
      "application/vnd.jupyter.widget-view+json": {
       "model_id": "e596ea3b2c4b4b4eb325b3ac7099bd4c",
       "version_major": 2,
       "version_minor": 0
      },
      "text/plain": [
       "Batches:   0%|          | 0/1 [00:00<?, ?it/s]"
      ]
     },
     "metadata": {},
     "output_type": "display_data"
    },
    {
     "data": {
      "application/vnd.jupyter.widget-view+json": {
       "model_id": "1fa7436794f34579ad69257a42294827",
       "version_major": 2,
       "version_minor": 0
      },
      "text/plain": [
       "Batches:   0%|          | 0/1 [00:00<?, ?it/s]"
      ]
     },
     "metadata": {},
     "output_type": "display_data"
    },
    {
     "data": {
      "application/vnd.jupyter.widget-view+json": {
       "model_id": "7e44f91f213442a1b1fe6213c64b977d",
       "version_major": 2,
       "version_minor": 0
      },
      "text/plain": [
       "Batches:   0%|          | 0/1 [00:00<?, ?it/s]"
      ]
     },
     "metadata": {},
     "output_type": "display_data"
    },
    {
     "data": {
      "application/vnd.jupyter.widget-view+json": {
       "model_id": "4c57b872a1f74d6887850f5bee47464a",
       "version_major": 2,
       "version_minor": 0
      },
      "text/plain": [
       "Batches:   0%|          | 0/1 [00:00<?, ?it/s]"
      ]
     },
     "metadata": {},
     "output_type": "display_data"
    },
    {
     "data": {
      "application/vnd.jupyter.widget-view+json": {
       "model_id": "2cb6acd3bfba4a319e1d0af0be6ad40d",
       "version_major": 2,
       "version_minor": 0
      },
      "text/plain": [
       "Batches:   0%|          | 0/1 [00:00<?, ?it/s]"
      ]
     },
     "metadata": {},
     "output_type": "display_data"
    },
    {
     "data": {
      "application/vnd.jupyter.widget-view+json": {
       "model_id": "1d91a93b8dc9460e9168ccc3342b1743",
       "version_major": 2,
       "version_minor": 0
      },
      "text/plain": [
       "Batches:   0%|          | 0/1 [00:00<?, ?it/s]"
      ]
     },
     "metadata": {},
     "output_type": "display_data"
    },
    {
     "data": {
      "application/vnd.jupyter.widget-view+json": {
       "model_id": "3586b7999f3a4e0fbce55de9386b7a43",
       "version_major": 2,
       "version_minor": 0
      },
      "text/plain": [
       "Batches:   0%|          | 0/1 [00:00<?, ?it/s]"
      ]
     },
     "metadata": {},
     "output_type": "display_data"
    },
    {
     "data": {
      "application/vnd.jupyter.widget-view+json": {
       "model_id": "1440106257154ea8ac63010c2d0dd5f7",
       "version_major": 2,
       "version_minor": 0
      },
      "text/plain": [
       "Batches:   0%|          | 0/1 [00:00<?, ?it/s]"
      ]
     },
     "metadata": {},
     "output_type": "display_data"
    },
    {
     "data": {
      "application/vnd.jupyter.widget-view+json": {
       "model_id": "3d243dc3f86648dd860c9aed5156c921",
       "version_major": 2,
       "version_minor": 0
      },
      "text/plain": [
       "Batches:   0%|          | 0/1 [00:00<?, ?it/s]"
      ]
     },
     "metadata": {},
     "output_type": "display_data"
    },
    {
     "data": {
      "application/vnd.jupyter.widget-view+json": {
       "model_id": "304d230f7b72424ab1df8af879705b44",
       "version_major": 2,
       "version_minor": 0
      },
      "text/plain": [
       "Batches:   0%|          | 0/1 [00:00<?, ?it/s]"
      ]
     },
     "metadata": {},
     "output_type": "display_data"
    },
    {
     "data": {
      "application/vnd.jupyter.widget-view+json": {
       "model_id": "d084df26c4ab4e9891100f768a8f0f1c",
       "version_major": 2,
       "version_minor": 0
      },
      "text/plain": [
       "Batches:   0%|          | 0/1 [00:00<?, ?it/s]"
      ]
     },
     "metadata": {},
     "output_type": "display_data"
    },
    {
     "data": {
      "application/vnd.jupyter.widget-view+json": {
       "model_id": "daa0a99e0b314d5c9113fa108e210eef",
       "version_major": 2,
       "version_minor": 0
      },
      "text/plain": [
       "Batches:   0%|          | 0/1 [00:00<?, ?it/s]"
      ]
     },
     "metadata": {},
     "output_type": "display_data"
    },
    {
     "data": {
      "application/vnd.jupyter.widget-view+json": {
       "model_id": "69e657ee2bfd43aba71f77962f46e42e",
       "version_major": 2,
       "version_minor": 0
      },
      "text/plain": [
       "Batches:   0%|          | 0/1 [00:00<?, ?it/s]"
      ]
     },
     "metadata": {},
     "output_type": "display_data"
    },
    {
     "data": {
      "application/vnd.jupyter.widget-view+json": {
       "model_id": "585c7a443b6e4eef9f432a68489c58c0",
       "version_major": 2,
       "version_minor": 0
      },
      "text/plain": [
       "Batches:   0%|          | 0/1 [00:00<?, ?it/s]"
      ]
     },
     "metadata": {},
     "output_type": "display_data"
    },
    {
     "data": {
      "application/vnd.jupyter.widget-view+json": {
       "model_id": "47a82ca92a42432faec34685623ccff9",
       "version_major": 2,
       "version_minor": 0
      },
      "text/plain": [
       "Batches:   0%|          | 0/1 [00:00<?, ?it/s]"
      ]
     },
     "metadata": {},
     "output_type": "display_data"
    },
    {
     "data": {
      "application/vnd.jupyter.widget-view+json": {
       "model_id": "606c82f419104196871091cbd04b6baa",
       "version_major": 2,
       "version_minor": 0
      },
      "text/plain": [
       "Batches:   0%|          | 0/1 [00:00<?, ?it/s]"
      ]
     },
     "metadata": {},
     "output_type": "display_data"
    },
    {
     "data": {
      "application/vnd.jupyter.widget-view+json": {
       "model_id": "e1dcb9d5bbf541a1a70553548b66fc40",
       "version_major": 2,
       "version_minor": 0
      },
      "text/plain": [
       "Batches:   0%|          | 0/1 [00:00<?, ?it/s]"
      ]
     },
     "metadata": {},
     "output_type": "display_data"
    },
    {
     "data": {
      "application/vnd.jupyter.widget-view+json": {
       "model_id": "e34bb0f7c83d48d0bbfa74b272190ce6",
       "version_major": 2,
       "version_minor": 0
      },
      "text/plain": [
       "Batches:   0%|          | 0/1 [00:00<?, ?it/s]"
      ]
     },
     "metadata": {},
     "output_type": "display_data"
    },
    {
     "data": {
      "application/vnd.jupyter.widget-view+json": {
       "model_id": "8bd11360b9b0406eb81e70789ec12ae6",
       "version_major": 2,
       "version_minor": 0
      },
      "text/plain": [
       "Batches:   0%|          | 0/1 [00:00<?, ?it/s]"
      ]
     },
     "metadata": {},
     "output_type": "display_data"
    },
    {
     "data": {
      "application/vnd.jupyter.widget-view+json": {
       "model_id": "52de70cdba544c0fb79523211cf793c8",
       "version_major": 2,
       "version_minor": 0
      },
      "text/plain": [
       "Batches:   0%|          | 0/1 [00:00<?, ?it/s]"
      ]
     },
     "metadata": {},
     "output_type": "display_data"
    },
    {
     "data": {
      "application/vnd.jupyter.widget-view+json": {
       "model_id": "4e1973464a3d42a8aa6b7c1c577db15f",
       "version_major": 2,
       "version_minor": 0
      },
      "text/plain": [
       "Batches:   0%|          | 0/1 [00:00<?, ?it/s]"
      ]
     },
     "metadata": {},
     "output_type": "display_data"
    },
    {
     "data": {
      "application/vnd.jupyter.widget-view+json": {
       "model_id": "a63fc7a0e60948eeb8133907a6babd8e",
       "version_major": 2,
       "version_minor": 0
      },
      "text/plain": [
       "Batches:   0%|          | 0/1 [00:00<?, ?it/s]"
      ]
     },
     "metadata": {},
     "output_type": "display_data"
    },
    {
     "data": {
      "application/vnd.jupyter.widget-view+json": {
       "model_id": "a2f05c5a9bc0496985ed638c3a9ba664",
       "version_major": 2,
       "version_minor": 0
      },
      "text/plain": [
       "Batches:   0%|          | 0/1 [00:00<?, ?it/s]"
      ]
     },
     "metadata": {},
     "output_type": "display_data"
    },
    {
     "data": {
      "application/vnd.jupyter.widget-view+json": {
       "model_id": "23f91824dbc0431e8fef102dd9b614a9",
       "version_major": 2,
       "version_minor": 0
      },
      "text/plain": [
       "Batches:   0%|          | 0/1 [00:00<?, ?it/s]"
      ]
     },
     "metadata": {},
     "output_type": "display_data"
    },
    {
     "data": {
      "application/vnd.jupyter.widget-view+json": {
       "model_id": "fba417a62378437792efe7b6c2fc529e",
       "version_major": 2,
       "version_minor": 0
      },
      "text/plain": [
       "Batches:   0%|          | 0/1 [00:00<?, ?it/s]"
      ]
     },
     "metadata": {},
     "output_type": "display_data"
    },
    {
     "data": {
      "application/vnd.jupyter.widget-view+json": {
       "model_id": "7185062f7556485bb12c79edfaf8ebef",
       "version_major": 2,
       "version_minor": 0
      },
      "text/plain": [
       "Batches:   0%|          | 0/1 [00:00<?, ?it/s]"
      ]
     },
     "metadata": {},
     "output_type": "display_data"
    },
    {
     "data": {
      "application/vnd.jupyter.widget-view+json": {
       "model_id": "f50688988a184b13937f9b5504354321",
       "version_major": 2,
       "version_minor": 0
      },
      "text/plain": [
       "Batches:   0%|          | 0/1 [00:00<?, ?it/s]"
      ]
     },
     "metadata": {},
     "output_type": "display_data"
    },
    {
     "data": {
      "application/vnd.jupyter.widget-view+json": {
       "model_id": "27f46c2d17e841fe913c7c87badff3a8",
       "version_major": 2,
       "version_minor": 0
      },
      "text/plain": [
       "Batches:   0%|          | 0/1 [00:00<?, ?it/s]"
      ]
     },
     "metadata": {},
     "output_type": "display_data"
    },
    {
     "data": {
      "application/vnd.jupyter.widget-view+json": {
       "model_id": "de98ce57998742779e9218c1f4321a1f",
       "version_major": 2,
       "version_minor": 0
      },
      "text/plain": [
       "Batches:   0%|          | 0/1 [00:00<?, ?it/s]"
      ]
     },
     "metadata": {},
     "output_type": "display_data"
    },
    {
     "data": {
      "application/vnd.jupyter.widget-view+json": {
       "model_id": "76d3da2d73b442f988bf68051411e499",
       "version_major": 2,
       "version_minor": 0
      },
      "text/plain": [
       "Batches:   0%|          | 0/1 [00:00<?, ?it/s]"
      ]
     },
     "metadata": {},
     "output_type": "display_data"
    },
    {
     "data": {
      "application/vnd.jupyter.widget-view+json": {
       "model_id": "2ed358f087854b29be5c57cf8cdd2b71",
       "version_major": 2,
       "version_minor": 0
      },
      "text/plain": [
       "Batches:   0%|          | 0/1 [00:00<?, ?it/s]"
      ]
     },
     "metadata": {},
     "output_type": "display_data"
    },
    {
     "data": {
      "application/vnd.jupyter.widget-view+json": {
       "model_id": "adef304561af4f8cbac1164cb84ee439",
       "version_major": 2,
       "version_minor": 0
      },
      "text/plain": [
       "Batches:   0%|          | 0/1 [00:00<?, ?it/s]"
      ]
     },
     "metadata": {},
     "output_type": "display_data"
    },
    {
     "data": {
      "application/vnd.jupyter.widget-view+json": {
       "model_id": "718fb03403c345c1a20d03e7f9901de8",
       "version_major": 2,
       "version_minor": 0
      },
      "text/plain": [
       "Batches:   0%|          | 0/1 [00:00<?, ?it/s]"
      ]
     },
     "metadata": {},
     "output_type": "display_data"
    },
    {
     "data": {
      "application/vnd.jupyter.widget-view+json": {
       "model_id": "065d415de4fa4df8861bd585816aaeca",
       "version_major": 2,
       "version_minor": 0
      },
      "text/plain": [
       "Batches:   0%|          | 0/1 [00:00<?, ?it/s]"
      ]
     },
     "metadata": {},
     "output_type": "display_data"
    },
    {
     "data": {
      "application/vnd.jupyter.widget-view+json": {
       "model_id": "41669b453dc446de90580b786f5002cb",
       "version_major": 2,
       "version_minor": 0
      },
      "text/plain": [
       "Batches:   0%|          | 0/1 [00:00<?, ?it/s]"
      ]
     },
     "metadata": {},
     "output_type": "display_data"
    },
    {
     "data": {
      "application/vnd.jupyter.widget-view+json": {
       "model_id": "120967b55b174128a34121fef3d8ec4b",
       "version_major": 2,
       "version_minor": 0
      },
      "text/plain": [
       "Batches:   0%|          | 0/1 [00:00<?, ?it/s]"
      ]
     },
     "metadata": {},
     "output_type": "display_data"
    },
    {
     "data": {
      "application/vnd.jupyter.widget-view+json": {
       "model_id": "4b8f224f084e4b6e9b1c0bbafdc07a71",
       "version_major": 2,
       "version_minor": 0
      },
      "text/plain": [
       "Batches:   0%|          | 0/1 [00:00<?, ?it/s]"
      ]
     },
     "metadata": {},
     "output_type": "display_data"
    },
    {
     "data": {
      "application/vnd.jupyter.widget-view+json": {
       "model_id": "6bc81fb75b4d4f1bb9a6d347b730bd0f",
       "version_major": 2,
       "version_minor": 0
      },
      "text/plain": [
       "Batches:   0%|          | 0/1 [00:00<?, ?it/s]"
      ]
     },
     "metadata": {},
     "output_type": "display_data"
    },
    {
     "data": {
      "application/vnd.jupyter.widget-view+json": {
       "model_id": "2fb6d66a91af4d24aee5351f902462c8",
       "version_major": 2,
       "version_minor": 0
      },
      "text/plain": [
       "Batches:   0%|          | 0/1 [00:00<?, ?it/s]"
      ]
     },
     "metadata": {},
     "output_type": "display_data"
    },
    {
     "data": {
      "application/vnd.jupyter.widget-view+json": {
       "model_id": "38fc3badbcc5403bbef4ebcba1185253",
       "version_major": 2,
       "version_minor": 0
      },
      "text/plain": [
       "Batches:   0%|          | 0/1 [00:00<?, ?it/s]"
      ]
     },
     "metadata": {},
     "output_type": "display_data"
    },
    {
     "data": {
      "application/vnd.jupyter.widget-view+json": {
       "model_id": "6b88792b2ec54483934287e77f874fbf",
       "version_major": 2,
       "version_minor": 0
      },
      "text/plain": [
       "Batches:   0%|          | 0/1 [00:00<?, ?it/s]"
      ]
     },
     "metadata": {},
     "output_type": "display_data"
    },
    {
     "data": {
      "application/vnd.jupyter.widget-view+json": {
       "model_id": "3f74afc6501343a9b90afccc8931e7aa",
       "version_major": 2,
       "version_minor": 0
      },
      "text/plain": [
       "Batches:   0%|          | 0/1 [00:00<?, ?it/s]"
      ]
     },
     "metadata": {},
     "output_type": "display_data"
    },
    {
     "data": {
      "application/vnd.jupyter.widget-view+json": {
       "model_id": "8bbb7b2d13c34033be8dc249946f7014",
       "version_major": 2,
       "version_minor": 0
      },
      "text/plain": [
       "Batches:   0%|          | 0/1 [00:00<?, ?it/s]"
      ]
     },
     "metadata": {},
     "output_type": "display_data"
    },
    {
     "data": {
      "application/vnd.jupyter.widget-view+json": {
       "model_id": "db20722ad1394c09aaf2cb0c5d888e6d",
       "version_major": 2,
       "version_minor": 0
      },
      "text/plain": [
       "Batches:   0%|          | 0/1 [00:00<?, ?it/s]"
      ]
     },
     "metadata": {},
     "output_type": "display_data"
    },
    {
     "data": {
      "application/vnd.jupyter.widget-view+json": {
       "model_id": "cc22f7c0cd184328836e9663108ac8be",
       "version_major": 2,
       "version_minor": 0
      },
      "text/plain": [
       "Batches:   0%|          | 0/1 [00:00<?, ?it/s]"
      ]
     },
     "metadata": {},
     "output_type": "display_data"
    },
    {
     "data": {
      "application/vnd.jupyter.widget-view+json": {
       "model_id": "22b76cd352a241709a0920f460803549",
       "version_major": 2,
       "version_minor": 0
      },
      "text/plain": [
       "Batches:   0%|          | 0/1 [00:00<?, ?it/s]"
      ]
     },
     "metadata": {},
     "output_type": "display_data"
    },
    {
     "data": {
      "application/vnd.jupyter.widget-view+json": {
       "model_id": "5e05aa8400be4ecba96a696cb8be005e",
       "version_major": 2,
       "version_minor": 0
      },
      "text/plain": [
       "Batches:   0%|          | 0/1 [00:00<?, ?it/s]"
      ]
     },
     "metadata": {},
     "output_type": "display_data"
    },
    {
     "data": {
      "application/vnd.jupyter.widget-view+json": {
       "model_id": "8399cc52d1b64994bab47d15fbb94ce0",
       "version_major": 2,
       "version_minor": 0
      },
      "text/plain": [
       "Batches:   0%|          | 0/1 [00:00<?, ?it/s]"
      ]
     },
     "metadata": {},
     "output_type": "display_data"
    },
    {
     "data": {
      "application/vnd.jupyter.widget-view+json": {
       "model_id": "62bfe9d599424ab48cc069589ed7a085",
       "version_major": 2,
       "version_minor": 0
      },
      "text/plain": [
       "Batches:   0%|          | 0/1 [00:00<?, ?it/s]"
      ]
     },
     "metadata": {},
     "output_type": "display_data"
    },
    {
     "data": {
      "application/vnd.jupyter.widget-view+json": {
       "model_id": "efc00de629f94f6a83e5123c2b95aaf1",
       "version_major": 2,
       "version_minor": 0
      },
      "text/plain": [
       "Batches:   0%|          | 0/1 [00:00<?, ?it/s]"
      ]
     },
     "metadata": {},
     "output_type": "display_data"
    },
    {
     "data": {
      "application/vnd.jupyter.widget-view+json": {
       "model_id": "ce0c8daa13774fcdb95352553b9cd793",
       "version_major": 2,
       "version_minor": 0
      },
      "text/plain": [
       "Batches:   0%|          | 0/1 [00:00<?, ?it/s]"
      ]
     },
     "metadata": {},
     "output_type": "display_data"
    },
    {
     "data": {
      "application/vnd.jupyter.widget-view+json": {
       "model_id": "bb6634fe22d4420a8267445c4ece2559",
       "version_major": 2,
       "version_minor": 0
      },
      "text/plain": [
       "Batches:   0%|          | 0/1 [00:00<?, ?it/s]"
      ]
     },
     "metadata": {},
     "output_type": "display_data"
    },
    {
     "data": {
      "application/vnd.jupyter.widget-view+json": {
       "model_id": "816c4ac063e14592b729a5de03efe151",
       "version_major": 2,
       "version_minor": 0
      },
      "text/plain": [
       "Batches:   0%|          | 0/1 [00:00<?, ?it/s]"
      ]
     },
     "metadata": {},
     "output_type": "display_data"
    },
    {
     "data": {
      "application/vnd.jupyter.widget-view+json": {
       "model_id": "43807457b6c243c6a2287f66166a92a5",
       "version_major": 2,
       "version_minor": 0
      },
      "text/plain": [
       "Batches:   0%|          | 0/1 [00:00<?, ?it/s]"
      ]
     },
     "metadata": {},
     "output_type": "display_data"
    },
    {
     "data": {
      "application/vnd.jupyter.widget-view+json": {
       "model_id": "c22cdb3a5e204b6d92b349b3b5b3a851",
       "version_major": 2,
       "version_minor": 0
      },
      "text/plain": [
       "Batches:   0%|          | 0/1 [00:00<?, ?it/s]"
      ]
     },
     "metadata": {},
     "output_type": "display_data"
    },
    {
     "data": {
      "application/vnd.jupyter.widget-view+json": {
       "model_id": "45fff6fb9ab04704a930298ea8a488e8",
       "version_major": 2,
       "version_minor": 0
      },
      "text/plain": [
       "Batches:   0%|          | 0/1 [00:00<?, ?it/s]"
      ]
     },
     "metadata": {},
     "output_type": "display_data"
    },
    {
     "data": {
      "application/vnd.jupyter.widget-view+json": {
       "model_id": "4f96819f84634bac8596179a91223271",
       "version_major": 2,
       "version_minor": 0
      },
      "text/plain": [
       "Batches:   0%|          | 0/1 [00:00<?, ?it/s]"
      ]
     },
     "metadata": {},
     "output_type": "display_data"
    },
    {
     "data": {
      "application/vnd.jupyter.widget-view+json": {
       "model_id": "c43e4fe4fe1241d2a7624ee32a3bca2d",
       "version_major": 2,
       "version_minor": 0
      },
      "text/plain": [
       "Batches:   0%|          | 0/1 [00:00<?, ?it/s]"
      ]
     },
     "metadata": {},
     "output_type": "display_data"
    },
    {
     "data": {
      "application/vnd.jupyter.widget-view+json": {
       "model_id": "16359992ee4244cb8527daec95e08432",
       "version_major": 2,
       "version_minor": 0
      },
      "text/plain": [
       "Batches:   0%|          | 0/1 [00:00<?, ?it/s]"
      ]
     },
     "metadata": {},
     "output_type": "display_data"
    },
    {
     "data": {
      "application/vnd.jupyter.widget-view+json": {
       "model_id": "3ddbfbc83ee64b4c9e00fd357156eab9",
       "version_major": 2,
       "version_minor": 0
      },
      "text/plain": [
       "Batches:   0%|          | 0/1 [00:00<?, ?it/s]"
      ]
     },
     "metadata": {},
     "output_type": "display_data"
    },
    {
     "data": {
      "application/vnd.jupyter.widget-view+json": {
       "model_id": "42831e4c5ccf452182bcc7c5b6b1ee90",
       "version_major": 2,
       "version_minor": 0
      },
      "text/plain": [
       "Batches:   0%|          | 0/1 [00:00<?, ?it/s]"
      ]
     },
     "metadata": {},
     "output_type": "display_data"
    },
    {
     "data": {
      "application/vnd.jupyter.widget-view+json": {
       "model_id": "1fb3f82a1ca8488183e3b99567c47144",
       "version_major": 2,
       "version_minor": 0
      },
      "text/plain": [
       "Batches:   0%|          | 0/1 [00:00<?, ?it/s]"
      ]
     },
     "metadata": {},
     "output_type": "display_data"
    },
    {
     "data": {
      "application/vnd.jupyter.widget-view+json": {
       "model_id": "86b82d12519640c6af13dda67bc1ce57",
       "version_major": 2,
       "version_minor": 0
      },
      "text/plain": [
       "Batches:   0%|          | 0/1 [00:00<?, ?it/s]"
      ]
     },
     "metadata": {},
     "output_type": "display_data"
    },
    {
     "data": {
      "application/vnd.jupyter.widget-view+json": {
       "model_id": "31377a39ace1426b9be9215af481eb2f",
       "version_major": 2,
       "version_minor": 0
      },
      "text/plain": [
       "Batches:   0%|          | 0/1 [00:00<?, ?it/s]"
      ]
     },
     "metadata": {},
     "output_type": "display_data"
    },
    {
     "data": {
      "application/vnd.jupyter.widget-view+json": {
       "model_id": "23861257a9604e20bac876136ad15c5a",
       "version_major": 2,
       "version_minor": 0
      },
      "text/plain": [
       "Batches:   0%|          | 0/1 [00:00<?, ?it/s]"
      ]
     },
     "metadata": {},
     "output_type": "display_data"
    },
    {
     "data": {
      "application/vnd.jupyter.widget-view+json": {
       "model_id": "5a9315b28fef454d9fd9e31b9c88f328",
       "version_major": 2,
       "version_minor": 0
      },
      "text/plain": [
       "Batches:   0%|          | 0/1 [00:00<?, ?it/s]"
      ]
     },
     "metadata": {},
     "output_type": "display_data"
    },
    {
     "data": {
      "application/vnd.jupyter.widget-view+json": {
       "model_id": "652bf4c740b44cd4aeb8137e57a29b38",
       "version_major": 2,
       "version_minor": 0
      },
      "text/plain": [
       "Batches:   0%|          | 0/1 [00:00<?, ?it/s]"
      ]
     },
     "metadata": {},
     "output_type": "display_data"
    },
    {
     "data": {
      "application/vnd.jupyter.widget-view+json": {
       "model_id": "10ea95ce62034aea8da94abc9a041e93",
       "version_major": 2,
       "version_minor": 0
      },
      "text/plain": [
       "Batches:   0%|          | 0/1 [00:00<?, ?it/s]"
      ]
     },
     "metadata": {},
     "output_type": "display_data"
    },
    {
     "data": {
      "application/vnd.jupyter.widget-view+json": {
       "model_id": "09c61be053484b6c9e6f42c53e8803c8",
       "version_major": 2,
       "version_minor": 0
      },
      "text/plain": [
       "Batches:   0%|          | 0/1 [00:00<?, ?it/s]"
      ]
     },
     "metadata": {},
     "output_type": "display_data"
    },
    {
     "data": {
      "application/vnd.jupyter.widget-view+json": {
       "model_id": "5ce546ed891d4d97bc00431a11d3f50a",
       "version_major": 2,
       "version_minor": 0
      },
      "text/plain": [
       "Batches:   0%|          | 0/1 [00:00<?, ?it/s]"
      ]
     },
     "metadata": {},
     "output_type": "display_data"
    },
    {
     "data": {
      "application/vnd.jupyter.widget-view+json": {
       "model_id": "d46fbf4093c54b2b8969423a04bff62c",
       "version_major": 2,
       "version_minor": 0
      },
      "text/plain": [
       "Batches:   0%|          | 0/1 [00:00<?, ?it/s]"
      ]
     },
     "metadata": {},
     "output_type": "display_data"
    },
    {
     "data": {
      "application/vnd.jupyter.widget-view+json": {
       "model_id": "a482d58679774752a43b7f8ea8a4602c",
       "version_major": 2,
       "version_minor": 0
      },
      "text/plain": [
       "Batches:   0%|          | 0/1 [00:00<?, ?it/s]"
      ]
     },
     "metadata": {},
     "output_type": "display_data"
    },
    {
     "data": {
      "application/vnd.jupyter.widget-view+json": {
       "model_id": "b13a549600534881a49b197df0fc1b50",
       "version_major": 2,
       "version_minor": 0
      },
      "text/plain": [
       "Batches:   0%|          | 0/1 [00:00<?, ?it/s]"
      ]
     },
     "metadata": {},
     "output_type": "display_data"
    },
    {
     "data": {
      "application/vnd.jupyter.widget-view+json": {
       "model_id": "f1be97fb040440d1b0337e5ba5f3929c",
       "version_major": 2,
       "version_minor": 0
      },
      "text/plain": [
       "Batches:   0%|          | 0/1 [00:00<?, ?it/s]"
      ]
     },
     "metadata": {},
     "output_type": "display_data"
    },
    {
     "data": {
      "application/vnd.jupyter.widget-view+json": {
       "model_id": "abf6ba4dcf7a4a1da1c8df6340a8ac8d",
       "version_major": 2,
       "version_minor": 0
      },
      "text/plain": [
       "Batches:   0%|          | 0/1 [00:00<?, ?it/s]"
      ]
     },
     "metadata": {},
     "output_type": "display_data"
    },
    {
     "data": {
      "application/vnd.jupyter.widget-view+json": {
       "model_id": "9ee60ddc29554faf9c5009d27d1b55e5",
       "version_major": 2,
       "version_minor": 0
      },
      "text/plain": [
       "Batches:   0%|          | 0/1 [00:00<?, ?it/s]"
      ]
     },
     "metadata": {},
     "output_type": "display_data"
    },
    {
     "data": {
      "application/vnd.jupyter.widget-view+json": {
       "model_id": "8fd9346f3f02478a8a04a6506d61c477",
       "version_major": 2,
       "version_minor": 0
      },
      "text/plain": [
       "Batches:   0%|          | 0/1 [00:00<?, ?it/s]"
      ]
     },
     "metadata": {},
     "output_type": "display_data"
    },
    {
     "data": {
      "application/vnd.jupyter.widget-view+json": {
       "model_id": "35e253938f3d45049b3f1817b0491afe",
       "version_major": 2,
       "version_minor": 0
      },
      "text/plain": [
       "Batches:   0%|          | 0/1 [00:00<?, ?it/s]"
      ]
     },
     "metadata": {},
     "output_type": "display_data"
    },
    {
     "data": {
      "application/vnd.jupyter.widget-view+json": {
       "model_id": "700af05edf334504a55316e07fb6a487",
       "version_major": 2,
       "version_minor": 0
      },
      "text/plain": [
       "Batches:   0%|          | 0/1 [00:00<?, ?it/s]"
      ]
     },
     "metadata": {},
     "output_type": "display_data"
    },
    {
     "data": {
      "application/vnd.jupyter.widget-view+json": {
       "model_id": "99e197730e32468faf701c8c4d539b5f",
       "version_major": 2,
       "version_minor": 0
      },
      "text/plain": [
       "Batches:   0%|          | 0/1 [00:00<?, ?it/s]"
      ]
     },
     "metadata": {},
     "output_type": "display_data"
    },
    {
     "data": {
      "application/vnd.jupyter.widget-view+json": {
       "model_id": "54e8425d8ef54cbd890ce073508c5834",
       "version_major": 2,
       "version_minor": 0
      },
      "text/plain": [
       "Batches:   0%|          | 0/1 [00:00<?, ?it/s]"
      ]
     },
     "metadata": {},
     "output_type": "display_data"
    },
    {
     "data": {
      "application/vnd.jupyter.widget-view+json": {
       "model_id": "6ca5f29df6f04d04999eaab24cf13030",
       "version_major": 2,
       "version_minor": 0
      },
      "text/plain": [
       "Batches:   0%|          | 0/1 [00:00<?, ?it/s]"
      ]
     },
     "metadata": {},
     "output_type": "display_data"
    },
    {
     "data": {
      "application/vnd.jupyter.widget-view+json": {
       "model_id": "403a87403f3f4771afc4f915f385f24a",
       "version_major": 2,
       "version_minor": 0
      },
      "text/plain": [
       "Batches:   0%|          | 0/1 [00:00<?, ?it/s]"
      ]
     },
     "metadata": {},
     "output_type": "display_data"
    },
    {
     "data": {
      "application/vnd.jupyter.widget-view+json": {
       "model_id": "2799e0cfc20f4fdaabc1d24f13e2386a",
       "version_major": 2,
       "version_minor": 0
      },
      "text/plain": [
       "Batches:   0%|          | 0/1 [00:00<?, ?it/s]"
      ]
     },
     "metadata": {},
     "output_type": "display_data"
    },
    {
     "data": {
      "application/vnd.jupyter.widget-view+json": {
       "model_id": "aa602c8cfb864c3abe80bda7c1206df8",
       "version_major": 2,
       "version_minor": 0
      },
      "text/plain": [
       "Batches:   0%|          | 0/1 [00:00<?, ?it/s]"
      ]
     },
     "metadata": {},
     "output_type": "display_data"
    },
    {
     "data": {
      "application/vnd.jupyter.widget-view+json": {
       "model_id": "df5b9f223484473e9ee59d926ac228fe",
       "version_major": 2,
       "version_minor": 0
      },
      "text/plain": [
       "Batches:   0%|          | 0/1 [00:00<?, ?it/s]"
      ]
     },
     "metadata": {},
     "output_type": "display_data"
    },
    {
     "data": {
      "application/vnd.jupyter.widget-view+json": {
       "model_id": "66c37b2f8948446fa4a156c3a63d34da",
       "version_major": 2,
       "version_minor": 0
      },
      "text/plain": [
       "Batches:   0%|          | 0/1 [00:00<?, ?it/s]"
      ]
     },
     "metadata": {},
     "output_type": "display_data"
    },
    {
     "data": {
      "application/vnd.jupyter.widget-view+json": {
       "model_id": "43e2383009e443f09d044033bb5937f2",
       "version_major": 2,
       "version_minor": 0
      },
      "text/plain": [
       "Batches:   0%|          | 0/1 [00:00<?, ?it/s]"
      ]
     },
     "metadata": {},
     "output_type": "display_data"
    },
    {
     "data": {
      "application/vnd.jupyter.widget-view+json": {
       "model_id": "0f0167c0fec44e5ca0d9bb98ac2b8acd",
       "version_major": 2,
       "version_minor": 0
      },
      "text/plain": [
       "Batches:   0%|          | 0/1 [00:00<?, ?it/s]"
      ]
     },
     "metadata": {},
     "output_type": "display_data"
    },
    {
     "data": {
      "application/vnd.jupyter.widget-view+json": {
       "model_id": "18eb01e7a25046f5996d67475dfce3b6",
       "version_major": 2,
       "version_minor": 0
      },
      "text/plain": [
       "Batches:   0%|          | 0/1 [00:00<?, ?it/s]"
      ]
     },
     "metadata": {},
     "output_type": "display_data"
    },
    {
     "data": {
      "application/vnd.jupyter.widget-view+json": {
       "model_id": "08b79947fc83483897d6cf65f4106674",
       "version_major": 2,
       "version_minor": 0
      },
      "text/plain": [
       "Batches:   0%|          | 0/1 [00:00<?, ?it/s]"
      ]
     },
     "metadata": {},
     "output_type": "display_data"
    },
    {
     "data": {
      "application/vnd.jupyter.widget-view+json": {
       "model_id": "27d7df5a686b4c569e3a6a9e5ce13ac6",
       "version_major": 2,
       "version_minor": 0
      },
      "text/plain": [
       "Batches:   0%|          | 0/1 [00:00<?, ?it/s]"
      ]
     },
     "metadata": {},
     "output_type": "display_data"
    },
    {
     "data": {
      "application/vnd.jupyter.widget-view+json": {
       "model_id": "35f48c0ee0b342e685ad43392b29630c",
       "version_major": 2,
       "version_minor": 0
      },
      "text/plain": [
       "Batches:   0%|          | 0/1 [00:00<?, ?it/s]"
      ]
     },
     "metadata": {},
     "output_type": "display_data"
    },
    {
     "data": {
      "application/vnd.jupyter.widget-view+json": {
       "model_id": "6cd7af1a360e4862b99818a2dd4ff495",
       "version_major": 2,
       "version_minor": 0
      },
      "text/plain": [
       "Batches:   0%|          | 0/1 [00:00<?, ?it/s]"
      ]
     },
     "metadata": {},
     "output_type": "display_data"
    },
    {
     "data": {
      "application/vnd.jupyter.widget-view+json": {
       "model_id": "60411c1b24b54070b9e27b26e64818ca",
       "version_major": 2,
       "version_minor": 0
      },
      "text/plain": [
       "Batches:   0%|          | 0/1 [00:00<?, ?it/s]"
      ]
     },
     "metadata": {},
     "output_type": "display_data"
    },
    {
     "data": {
      "application/vnd.jupyter.widget-view+json": {
       "model_id": "13a60547a2ec41eca7f8e38e1ad2cd6c",
       "version_major": 2,
       "version_minor": 0
      },
      "text/plain": [
       "Batches:   0%|          | 0/1 [00:00<?, ?it/s]"
      ]
     },
     "metadata": {},
     "output_type": "display_data"
    },
    {
     "data": {
      "application/vnd.jupyter.widget-view+json": {
       "model_id": "ded179d3ea5c48b29ba8336bc28a67e7",
       "version_major": 2,
       "version_minor": 0
      },
      "text/plain": [
       "Batches:   0%|          | 0/1 [00:00<?, ?it/s]"
      ]
     },
     "metadata": {},
     "output_type": "display_data"
    },
    {
     "data": {
      "application/vnd.jupyter.widget-view+json": {
       "model_id": "9d76688ea504464684a04996e0588da8",
       "version_major": 2,
       "version_minor": 0
      },
      "text/plain": [
       "Batches:   0%|          | 0/1 [00:00<?, ?it/s]"
      ]
     },
     "metadata": {},
     "output_type": "display_data"
    },
    {
     "data": {
      "application/vnd.jupyter.widget-view+json": {
       "model_id": "327d7517952f45e18adb8fca9e98f2b7",
       "version_major": 2,
       "version_minor": 0
      },
      "text/plain": [
       "Batches:   0%|          | 0/1 [00:00<?, ?it/s]"
      ]
     },
     "metadata": {},
     "output_type": "display_data"
    },
    {
     "data": {
      "application/vnd.jupyter.widget-view+json": {
       "model_id": "d2311ab7d468471ab7184d705b3c88ab",
       "version_major": 2,
       "version_minor": 0
      },
      "text/plain": [
       "Batches:   0%|          | 0/1 [00:00<?, ?it/s]"
      ]
     },
     "metadata": {},
     "output_type": "display_data"
    },
    {
     "data": {
      "application/vnd.jupyter.widget-view+json": {
       "model_id": "8bb1721e3b924a89afbe9e72deed9912",
       "version_major": 2,
       "version_minor": 0
      },
      "text/plain": [
       "Batches:   0%|          | 0/1 [00:00<?, ?it/s]"
      ]
     },
     "metadata": {},
     "output_type": "display_data"
    },
    {
     "data": {
      "application/vnd.jupyter.widget-view+json": {
       "model_id": "7471e52cbb63498cb793a894f1b017ae",
       "version_major": 2,
       "version_minor": 0
      },
      "text/plain": [
       "Batches:   0%|          | 0/1 [00:00<?, ?it/s]"
      ]
     },
     "metadata": {},
     "output_type": "display_data"
    },
    {
     "data": {
      "application/vnd.jupyter.widget-view+json": {
       "model_id": "2fadf0af6daa4e5d836eeab818c0d60c",
       "version_major": 2,
       "version_minor": 0
      },
      "text/plain": [
       "Batches:   0%|          | 0/1 [00:00<?, ?it/s]"
      ]
     },
     "metadata": {},
     "output_type": "display_data"
    },
    {
     "data": {
      "application/vnd.jupyter.widget-view+json": {
       "model_id": "744a79d030af4d249c25cac7529ff521",
       "version_major": 2,
       "version_minor": 0
      },
      "text/plain": [
       "Batches:   0%|          | 0/1 [00:00<?, ?it/s]"
      ]
     },
     "metadata": {},
     "output_type": "display_data"
    },
    {
     "data": {
      "application/vnd.jupyter.widget-view+json": {
       "model_id": "0ac731c6d7514048b0bad4ca4c3b8bb9",
       "version_major": 2,
       "version_minor": 0
      },
      "text/plain": [
       "Batches:   0%|          | 0/1 [00:00<?, ?it/s]"
      ]
     },
     "metadata": {},
     "output_type": "display_data"
    },
    {
     "data": {
      "application/vnd.jupyter.widget-view+json": {
       "model_id": "fea7044d2d084835a5b12dd20e1b8e53",
       "version_major": 2,
       "version_minor": 0
      },
      "text/plain": [
       "Batches:   0%|          | 0/1 [00:00<?, ?it/s]"
      ]
     },
     "metadata": {},
     "output_type": "display_data"
    },
    {
     "data": {
      "application/vnd.jupyter.widget-view+json": {
       "model_id": "f551feba636546c6b810c93ae8b22069",
       "version_major": 2,
       "version_minor": 0
      },
      "text/plain": [
       "Batches:   0%|          | 0/1 [00:00<?, ?it/s]"
      ]
     },
     "metadata": {},
     "output_type": "display_data"
    },
    {
     "data": {
      "application/vnd.jupyter.widget-view+json": {
       "model_id": "5c979192c3ca453fbdda34d245ec89d6",
       "version_major": 2,
       "version_minor": 0
      },
      "text/plain": [
       "Batches:   0%|          | 0/1 [00:00<?, ?it/s]"
      ]
     },
     "metadata": {},
     "output_type": "display_data"
    },
    {
     "data": {
      "application/vnd.jupyter.widget-view+json": {
       "model_id": "b029238d632545b0a48ebf2a1ad8ccdf",
       "version_major": 2,
       "version_minor": 0
      },
      "text/plain": [
       "Batches:   0%|          | 0/1 [00:00<?, ?it/s]"
      ]
     },
     "metadata": {},
     "output_type": "display_data"
    },
    {
     "data": {
      "application/vnd.jupyter.widget-view+json": {
       "model_id": "0357251fe7234aaeac02f809d1ca786e",
       "version_major": 2,
       "version_minor": 0
      },
      "text/plain": [
       "Batches:   0%|          | 0/1 [00:00<?, ?it/s]"
      ]
     },
     "metadata": {},
     "output_type": "display_data"
    },
    {
     "data": {
      "application/vnd.jupyter.widget-view+json": {
       "model_id": "07026942c8e549bfbf48b7925a5e3f2f",
       "version_major": 2,
       "version_minor": 0
      },
      "text/plain": [
       "Batches:   0%|          | 0/1 [00:00<?, ?it/s]"
      ]
     },
     "metadata": {},
     "output_type": "display_data"
    },
    {
     "data": {
      "application/vnd.jupyter.widget-view+json": {
       "model_id": "796de5bcdbbe4d9c9fe9aa84911aeef7",
       "version_major": 2,
       "version_minor": 0
      },
      "text/plain": [
       "Batches:   0%|          | 0/1 [00:00<?, ?it/s]"
      ]
     },
     "metadata": {},
     "output_type": "display_data"
    },
    {
     "data": {
      "application/vnd.jupyter.widget-view+json": {
       "model_id": "292cb758e7224a22bd332d7390ffbc36",
       "version_major": 2,
       "version_minor": 0
      },
      "text/plain": [
       "Batches:   0%|          | 0/1 [00:00<?, ?it/s]"
      ]
     },
     "metadata": {},
     "output_type": "display_data"
    },
    {
     "data": {
      "application/vnd.jupyter.widget-view+json": {
       "model_id": "544174088e87488cb932e8e446262925",
       "version_major": 2,
       "version_minor": 0
      },
      "text/plain": [
       "Batches:   0%|          | 0/1 [00:00<?, ?it/s]"
      ]
     },
     "metadata": {},
     "output_type": "display_data"
    },
    {
     "data": {
      "application/vnd.jupyter.widget-view+json": {
       "model_id": "d7ad429f688647e0a17a37fa74c06e0c",
       "version_major": 2,
       "version_minor": 0
      },
      "text/plain": [
       "Batches:   0%|          | 0/1 [00:00<?, ?it/s]"
      ]
     },
     "metadata": {},
     "output_type": "display_data"
    },
    {
     "data": {
      "application/vnd.jupyter.widget-view+json": {
       "model_id": "294a0665383147569b52ae64da584c88",
       "version_major": 2,
       "version_minor": 0
      },
      "text/plain": [
       "Batches:   0%|          | 0/1 [00:00<?, ?it/s]"
      ]
     },
     "metadata": {},
     "output_type": "display_data"
    },
    {
     "data": {
      "application/vnd.jupyter.widget-view+json": {
       "model_id": "55863bac86fc45dca9f86b525df424a4",
       "version_major": 2,
       "version_minor": 0
      },
      "text/plain": [
       "Batches:   0%|          | 0/1 [00:00<?, ?it/s]"
      ]
     },
     "metadata": {},
     "output_type": "display_data"
    },
    {
     "data": {
      "application/vnd.jupyter.widget-view+json": {
       "model_id": "d6787b6ba67c49ffbd862bf4c8acf084",
       "version_major": 2,
       "version_minor": 0
      },
      "text/plain": [
       "Batches:   0%|          | 0/1 [00:00<?, ?it/s]"
      ]
     },
     "metadata": {},
     "output_type": "display_data"
    },
    {
     "data": {
      "application/vnd.jupyter.widget-view+json": {
       "model_id": "350795aece604630a7e8d8f2287cd199",
       "version_major": 2,
       "version_minor": 0
      },
      "text/plain": [
       "Batches:   0%|          | 0/1 [00:00<?, ?it/s]"
      ]
     },
     "metadata": {},
     "output_type": "display_data"
    },
    {
     "data": {
      "application/vnd.jupyter.widget-view+json": {
       "model_id": "7b2e7aff5ea04f8d9115a254a23e9b21",
       "version_major": 2,
       "version_minor": 0
      },
      "text/plain": [
       "Batches:   0%|          | 0/1 [00:00<?, ?it/s]"
      ]
     },
     "metadata": {},
     "output_type": "display_data"
    },
    {
     "data": {
      "application/vnd.jupyter.widget-view+json": {
       "model_id": "87681824b7c44840bb46e6c242a7473c",
       "version_major": 2,
       "version_minor": 0
      },
      "text/plain": [
       "Batches:   0%|          | 0/1 [00:00<?, ?it/s]"
      ]
     },
     "metadata": {},
     "output_type": "display_data"
    },
    {
     "data": {
      "application/vnd.jupyter.widget-view+json": {
       "model_id": "c4640b51e13349ae880621444714e796",
       "version_major": 2,
       "version_minor": 0
      },
      "text/plain": [
       "Batches:   0%|          | 0/1 [00:00<?, ?it/s]"
      ]
     },
     "metadata": {},
     "output_type": "display_data"
    },
    {
     "data": {
      "application/vnd.jupyter.widget-view+json": {
       "model_id": "a235d0a8646e4c49ad7fa6906c14147b",
       "version_major": 2,
       "version_minor": 0
      },
      "text/plain": [
       "Batches:   0%|          | 0/1 [00:00<?, ?it/s]"
      ]
     },
     "metadata": {},
     "output_type": "display_data"
    },
    {
     "data": {
      "application/vnd.jupyter.widget-view+json": {
       "model_id": "e36cba67a0fd466096dc6fd5185d1704",
       "version_major": 2,
       "version_minor": 0
      },
      "text/plain": [
       "Batches:   0%|          | 0/1 [00:00<?, ?it/s]"
      ]
     },
     "metadata": {},
     "output_type": "display_data"
    },
    {
     "data": {
      "application/vnd.jupyter.widget-view+json": {
       "model_id": "9baf096eb933417bb40f4bae52e41096",
       "version_major": 2,
       "version_minor": 0
      },
      "text/plain": [
       "Batches:   0%|          | 0/1 [00:00<?, ?it/s]"
      ]
     },
     "metadata": {},
     "output_type": "display_data"
    },
    {
     "data": {
      "application/vnd.jupyter.widget-view+json": {
       "model_id": "80d2cb2506ec448db112fe2237629f59",
       "version_major": 2,
       "version_minor": 0
      },
      "text/plain": [
       "Batches:   0%|          | 0/1 [00:00<?, ?it/s]"
      ]
     },
     "metadata": {},
     "output_type": "display_data"
    },
    {
     "data": {
      "application/vnd.jupyter.widget-view+json": {
       "model_id": "a959b3cf892444cf82cb9d0a97dfa1cc",
       "version_major": 2,
       "version_minor": 0
      },
      "text/plain": [
       "Batches:   0%|          | 0/1 [00:00<?, ?it/s]"
      ]
     },
     "metadata": {},
     "output_type": "display_data"
    },
    {
     "data": {
      "application/vnd.jupyter.widget-view+json": {
       "model_id": "1d92db2446334f8493a9f9c8501484bc",
       "version_major": 2,
       "version_minor": 0
      },
      "text/plain": [
       "Batches:   0%|          | 0/1 [00:00<?, ?it/s]"
      ]
     },
     "metadata": {},
     "output_type": "display_data"
    },
    {
     "data": {
      "application/vnd.jupyter.widget-view+json": {
       "model_id": "c1155abbd4574b3886208a607e8c63e2",
       "version_major": 2,
       "version_minor": 0
      },
      "text/plain": [
       "Batches:   0%|          | 0/1 [00:00<?, ?it/s]"
      ]
     },
     "metadata": {},
     "output_type": "display_data"
    },
    {
     "data": {
      "application/vnd.jupyter.widget-view+json": {
       "model_id": "4445b89e55964c65822c3200a9fa27c2",
       "version_major": 2,
       "version_minor": 0
      },
      "text/plain": [
       "Batches:   0%|          | 0/1 [00:00<?, ?it/s]"
      ]
     },
     "metadata": {},
     "output_type": "display_data"
    },
    {
     "data": {
      "application/vnd.jupyter.widget-view+json": {
       "model_id": "c740e3e897e24185963bde5bd09cd9ef",
       "version_major": 2,
       "version_minor": 0
      },
      "text/plain": [
       "Batches:   0%|          | 0/1 [00:00<?, ?it/s]"
      ]
     },
     "metadata": {},
     "output_type": "display_data"
    },
    {
     "data": {
      "application/vnd.jupyter.widget-view+json": {
       "model_id": "c1b24f7b5a0f45509326e4f67bb793ed",
       "version_major": 2,
       "version_minor": 0
      },
      "text/plain": [
       "Batches:   0%|          | 0/1 [00:00<?, ?it/s]"
      ]
     },
     "metadata": {},
     "output_type": "display_data"
    },
    {
     "data": {
      "application/vnd.jupyter.widget-view+json": {
       "model_id": "e3dbabfe4c044785a06b5ca7b89887ff",
       "version_major": 2,
       "version_minor": 0
      },
      "text/plain": [
       "Batches:   0%|          | 0/1 [00:00<?, ?it/s]"
      ]
     },
     "metadata": {},
     "output_type": "display_data"
    },
    {
     "data": {
      "application/vnd.jupyter.widget-view+json": {
       "model_id": "6d4e483a3e334f3fa2c369e8cca97342",
       "version_major": 2,
       "version_minor": 0
      },
      "text/plain": [
       "Batches:   0%|          | 0/1 [00:00<?, ?it/s]"
      ]
     },
     "metadata": {},
     "output_type": "display_data"
    },
    {
     "data": {
      "application/vnd.jupyter.widget-view+json": {
       "model_id": "4bcfa014790b410f9d920fb79082abd9",
       "version_major": 2,
       "version_minor": 0
      },
      "text/plain": [
       "Batches:   0%|          | 0/1 [00:00<?, ?it/s]"
      ]
     },
     "metadata": {},
     "output_type": "display_data"
    },
    {
     "data": {
      "application/vnd.jupyter.widget-view+json": {
       "model_id": "f1a3f24e654f457bb311d320d6384fe0",
       "version_major": 2,
       "version_minor": 0
      },
      "text/plain": [
       "Batches:   0%|          | 0/1 [00:00<?, ?it/s]"
      ]
     },
     "metadata": {},
     "output_type": "display_data"
    },
    {
     "data": {
      "application/vnd.jupyter.widget-view+json": {
       "model_id": "5fc92fd09930463fbe6082fccb8687d9",
       "version_major": 2,
       "version_minor": 0
      },
      "text/plain": [
       "Batches:   0%|          | 0/1 [00:00<?, ?it/s]"
      ]
     },
     "metadata": {},
     "output_type": "display_data"
    },
    {
     "data": {
      "application/vnd.jupyter.widget-view+json": {
       "model_id": "7ccbd1d9339e4c7187ee30f63e2f71f1",
       "version_major": 2,
       "version_minor": 0
      },
      "text/plain": [
       "Batches:   0%|          | 0/1 [00:00<?, ?it/s]"
      ]
     },
     "metadata": {},
     "output_type": "display_data"
    },
    {
     "data": {
      "application/vnd.jupyter.widget-view+json": {
       "model_id": "e5af7024a0ef48b9af0621662de24ade",
       "version_major": 2,
       "version_minor": 0
      },
      "text/plain": [
       "Batches:   0%|          | 0/1 [00:00<?, ?it/s]"
      ]
     },
     "metadata": {},
     "output_type": "display_data"
    },
    {
     "data": {
      "application/vnd.jupyter.widget-view+json": {
       "model_id": "eb4feee5f2c04b9698d7afcddbc8f9f5",
       "version_major": 2,
       "version_minor": 0
      },
      "text/plain": [
       "Batches:   0%|          | 0/1 [00:00<?, ?it/s]"
      ]
     },
     "metadata": {},
     "output_type": "display_data"
    },
    {
     "data": {
      "application/vnd.jupyter.widget-view+json": {
       "model_id": "6d5c4ecad73d48ebb1d3141aabc8e483",
       "version_major": 2,
       "version_minor": 0
      },
      "text/plain": [
       "Batches:   0%|          | 0/1 [00:00<?, ?it/s]"
      ]
     },
     "metadata": {},
     "output_type": "display_data"
    },
    {
     "data": {
      "application/vnd.jupyter.widget-view+json": {
       "model_id": "6acc16198beb404ba343c8273616aeb7",
       "version_major": 2,
       "version_minor": 0
      },
      "text/plain": [
       "Batches:   0%|          | 0/1 [00:00<?, ?it/s]"
      ]
     },
     "metadata": {},
     "output_type": "display_data"
    },
    {
     "data": {
      "application/vnd.jupyter.widget-view+json": {
       "model_id": "20ead7aa08a9442d8c004ff4a16807a3",
       "version_major": 2,
       "version_minor": 0
      },
      "text/plain": [
       "Batches:   0%|          | 0/1 [00:00<?, ?it/s]"
      ]
     },
     "metadata": {},
     "output_type": "display_data"
    },
    {
     "data": {
      "application/vnd.jupyter.widget-view+json": {
       "model_id": "bc9cf90bfb724285b7fea771e78dc976",
       "version_major": 2,
       "version_minor": 0
      },
      "text/plain": [
       "Batches:   0%|          | 0/1 [00:00<?, ?it/s]"
      ]
     },
     "metadata": {},
     "output_type": "display_data"
    },
    {
     "data": {
      "application/vnd.jupyter.widget-view+json": {
       "model_id": "963781208b214778a9a2c708eee5d9d8",
       "version_major": 2,
       "version_minor": 0
      },
      "text/plain": [
       "Batches:   0%|          | 0/1 [00:00<?, ?it/s]"
      ]
     },
     "metadata": {},
     "output_type": "display_data"
    },
    {
     "data": {
      "application/vnd.jupyter.widget-view+json": {
       "model_id": "9bc6548bb902496ea560de1e7f2c3a28",
       "version_major": 2,
       "version_minor": 0
      },
      "text/plain": [
       "Batches:   0%|          | 0/1 [00:00<?, ?it/s]"
      ]
     },
     "metadata": {},
     "output_type": "display_data"
    },
    {
     "data": {
      "application/vnd.jupyter.widget-view+json": {
       "model_id": "224367333f5349788607e747ed11b93a",
       "version_major": 2,
       "version_minor": 0
      },
      "text/plain": [
       "Batches:   0%|          | 0/1 [00:00<?, ?it/s]"
      ]
     },
     "metadata": {},
     "output_type": "display_data"
    },
    {
     "data": {
      "application/vnd.jupyter.widget-view+json": {
       "model_id": "6f9f627fdb9c4f43bce7f349b37cc0ac",
       "version_major": 2,
       "version_minor": 0
      },
      "text/plain": [
       "Batches:   0%|          | 0/1 [00:00<?, ?it/s]"
      ]
     },
     "metadata": {},
     "output_type": "display_data"
    },
    {
     "data": {
      "application/vnd.jupyter.widget-view+json": {
       "model_id": "dfa90b358008449d9a8bb750e06c2861",
       "version_major": 2,
       "version_minor": 0
      },
      "text/plain": [
       "Batches:   0%|          | 0/1 [00:00<?, ?it/s]"
      ]
     },
     "metadata": {},
     "output_type": "display_data"
    },
    {
     "data": {
      "application/vnd.jupyter.widget-view+json": {
       "model_id": "12128a144d9f42dfbfbe334a7378d226",
       "version_major": 2,
       "version_minor": 0
      },
      "text/plain": [
       "Batches:   0%|          | 0/1 [00:00<?, ?it/s]"
      ]
     },
     "metadata": {},
     "output_type": "display_data"
    },
    {
     "data": {
      "application/vnd.jupyter.widget-view+json": {
       "model_id": "d3575c87096b441fba45a33af6442fed",
       "version_major": 2,
       "version_minor": 0
      },
      "text/plain": [
       "Batches:   0%|          | 0/1 [00:00<?, ?it/s]"
      ]
     },
     "metadata": {},
     "output_type": "display_data"
    },
    {
     "data": {
      "application/vnd.jupyter.widget-view+json": {
       "model_id": "44d0d06673614eb496cbe5282924deb6",
       "version_major": 2,
       "version_minor": 0
      },
      "text/plain": [
       "Batches:   0%|          | 0/1 [00:00<?, ?it/s]"
      ]
     },
     "metadata": {},
     "output_type": "display_data"
    },
    {
     "data": {
      "application/vnd.jupyter.widget-view+json": {
       "model_id": "201c2234d9054315b33d4391a053c8bd",
       "version_major": 2,
       "version_minor": 0
      },
      "text/plain": [
       "Batches:   0%|          | 0/1 [00:00<?, ?it/s]"
      ]
     },
     "metadata": {},
     "output_type": "display_data"
    },
    {
     "data": {
      "application/vnd.jupyter.widget-view+json": {
       "model_id": "cc146ec2df5d4f03afb86e4329740cf6",
       "version_major": 2,
       "version_minor": 0
      },
      "text/plain": [
       "Batches:   0%|          | 0/1 [00:00<?, ?it/s]"
      ]
     },
     "metadata": {},
     "output_type": "display_data"
    },
    {
     "data": {
      "application/vnd.jupyter.widget-view+json": {
       "model_id": "d2f60e0787ff4fa998f8109de3912faa",
       "version_major": 2,
       "version_minor": 0
      },
      "text/plain": [
       "Batches:   0%|          | 0/1 [00:00<?, ?it/s]"
      ]
     },
     "metadata": {},
     "output_type": "display_data"
    },
    {
     "data": {
      "application/vnd.jupyter.widget-view+json": {
       "model_id": "1d7f40a575f642158d5e622105987fbb",
       "version_major": 2,
       "version_minor": 0
      },
      "text/plain": [
       "Batches:   0%|          | 0/1 [00:00<?, ?it/s]"
      ]
     },
     "metadata": {},
     "output_type": "display_data"
    },
    {
     "data": {
      "application/vnd.jupyter.widget-view+json": {
       "model_id": "d4c7114602f44d7d99e66c766cc761b6",
       "version_major": 2,
       "version_minor": 0
      },
      "text/plain": [
       "Batches:   0%|          | 0/1 [00:00<?, ?it/s]"
      ]
     },
     "metadata": {},
     "output_type": "display_data"
    },
    {
     "data": {
      "application/vnd.jupyter.widget-view+json": {
       "model_id": "149e9332bdaf47ab8fa9a477ecf930af",
       "version_major": 2,
       "version_minor": 0
      },
      "text/plain": [
       "Batches:   0%|          | 0/1 [00:00<?, ?it/s]"
      ]
     },
     "metadata": {},
     "output_type": "display_data"
    },
    {
     "data": {
      "application/vnd.jupyter.widget-view+json": {
       "model_id": "9c8d605a07a44f2290b751a86c8b212d",
       "version_major": 2,
       "version_minor": 0
      },
      "text/plain": [
       "Batches:   0%|          | 0/1 [00:00<?, ?it/s]"
      ]
     },
     "metadata": {},
     "output_type": "display_data"
    },
    {
     "data": {
      "application/vnd.jupyter.widget-view+json": {
       "model_id": "3b46083a2d534d658e2d0cd78a513454",
       "version_major": 2,
       "version_minor": 0
      },
      "text/plain": [
       "Batches:   0%|          | 0/1 [00:00<?, ?it/s]"
      ]
     },
     "metadata": {},
     "output_type": "display_data"
    },
    {
     "data": {
      "application/vnd.jupyter.widget-view+json": {
       "model_id": "72986290b39d4a11872a1428b76442bb",
       "version_major": 2,
       "version_minor": 0
      },
      "text/plain": [
       "Batches:   0%|          | 0/1 [00:00<?, ?it/s]"
      ]
     },
     "metadata": {},
     "output_type": "display_data"
    },
    {
     "data": {
      "application/vnd.jupyter.widget-view+json": {
       "model_id": "47884dabdbbf453586069de271b5cdb7",
       "version_major": 2,
       "version_minor": 0
      },
      "text/plain": [
       "Batches:   0%|          | 0/1 [00:00<?, ?it/s]"
      ]
     },
     "metadata": {},
     "output_type": "display_data"
    },
    {
     "data": {
      "application/vnd.jupyter.widget-view+json": {
       "model_id": "1856affc9bc148b9abc82ef3e2bdfd98",
       "version_major": 2,
       "version_minor": 0
      },
      "text/plain": [
       "Batches:   0%|          | 0/1 [00:00<?, ?it/s]"
      ]
     },
     "metadata": {},
     "output_type": "display_data"
    },
    {
     "data": {
      "application/vnd.jupyter.widget-view+json": {
       "model_id": "c3cd75d1833142b89008a551b3d407e5",
       "version_major": 2,
       "version_minor": 0
      },
      "text/plain": [
       "Batches:   0%|          | 0/1 [00:00<?, ?it/s]"
      ]
     },
     "metadata": {},
     "output_type": "display_data"
    },
    {
     "data": {
      "application/vnd.jupyter.widget-view+json": {
       "model_id": "7ed0f9ec0c4b49db9d982c44e1586825",
       "version_major": 2,
       "version_minor": 0
      },
      "text/plain": [
       "Batches:   0%|          | 0/1 [00:00<?, ?it/s]"
      ]
     },
     "metadata": {},
     "output_type": "display_data"
    },
    {
     "data": {
      "application/vnd.jupyter.widget-view+json": {
       "model_id": "862253b71d154fe38718a79fa0d56f28",
       "version_major": 2,
       "version_minor": 0
      },
      "text/plain": [
       "Batches:   0%|          | 0/1 [00:00<?, ?it/s]"
      ]
     },
     "metadata": {},
     "output_type": "display_data"
    },
    {
     "data": {
      "application/vnd.jupyter.widget-view+json": {
       "model_id": "e75ced8a7f364247bff2cbd1d9330de5",
       "version_major": 2,
       "version_minor": 0
      },
      "text/plain": [
       "Batches:   0%|          | 0/1 [00:00<?, ?it/s]"
      ]
     },
     "metadata": {},
     "output_type": "display_data"
    },
    {
     "data": {
      "application/vnd.jupyter.widget-view+json": {
       "model_id": "3ceaab50e72f4fc8b140a0a04d63d318",
       "version_major": 2,
       "version_minor": 0
      },
      "text/plain": [
       "Batches:   0%|          | 0/1 [00:00<?, ?it/s]"
      ]
     },
     "metadata": {},
     "output_type": "display_data"
    },
    {
     "data": {
      "application/vnd.jupyter.widget-view+json": {
       "model_id": "30966462a9ea4b5c887ba66fa8b73b00",
       "version_major": 2,
       "version_minor": 0
      },
      "text/plain": [
       "Batches:   0%|          | 0/1 [00:00<?, ?it/s]"
      ]
     },
     "metadata": {},
     "output_type": "display_data"
    },
    {
     "data": {
      "application/vnd.jupyter.widget-view+json": {
       "model_id": "36572d799ce348e79908075e15cc848c",
       "version_major": 2,
       "version_minor": 0
      },
      "text/plain": [
       "Batches:   0%|          | 0/1 [00:00<?, ?it/s]"
      ]
     },
     "metadata": {},
     "output_type": "display_data"
    },
    {
     "data": {
      "application/vnd.jupyter.widget-view+json": {
       "model_id": "620f5795be80490ebb5e596986e6a2f5",
       "version_major": 2,
       "version_minor": 0
      },
      "text/plain": [
       "Batches:   0%|          | 0/1 [00:00<?, ?it/s]"
      ]
     },
     "metadata": {},
     "output_type": "display_data"
    },
    {
     "data": {
      "application/vnd.jupyter.widget-view+json": {
       "model_id": "2801278efa924afe966688f4c63f1172",
       "version_major": 2,
       "version_minor": 0
      },
      "text/plain": [
       "Batches:   0%|          | 0/1 [00:00<?, ?it/s]"
      ]
     },
     "metadata": {},
     "output_type": "display_data"
    },
    {
     "data": {
      "application/vnd.jupyter.widget-view+json": {
       "model_id": "2a8e60620b6e4979a431155f3afc3c2f",
       "version_major": 2,
       "version_minor": 0
      },
      "text/plain": [
       "Batches:   0%|          | 0/1 [00:00<?, ?it/s]"
      ]
     },
     "metadata": {},
     "output_type": "display_data"
    },
    {
     "data": {
      "application/vnd.jupyter.widget-view+json": {
       "model_id": "69e1884f512b480c872165be7994d244",
       "version_major": 2,
       "version_minor": 0
      },
      "text/plain": [
       "Batches:   0%|          | 0/1 [00:00<?, ?it/s]"
      ]
     },
     "metadata": {},
     "output_type": "display_data"
    },
    {
     "data": {
      "application/vnd.jupyter.widget-view+json": {
       "model_id": "f01503b305f945fa8215769606cac2c6",
       "version_major": 2,
       "version_minor": 0
      },
      "text/plain": [
       "Batches:   0%|          | 0/1 [00:00<?, ?it/s]"
      ]
     },
     "metadata": {},
     "output_type": "display_data"
    },
    {
     "data": {
      "application/vnd.jupyter.widget-view+json": {
       "model_id": "670006a5675844529dc963c60eebfc0e",
       "version_major": 2,
       "version_minor": 0
      },
      "text/plain": [
       "Batches:   0%|          | 0/1 [00:00<?, ?it/s]"
      ]
     },
     "metadata": {},
     "output_type": "display_data"
    },
    {
     "data": {
      "application/vnd.jupyter.widget-view+json": {
       "model_id": "70db74e4f4b84033b2aef782203fee4c",
       "version_major": 2,
       "version_minor": 0
      },
      "text/plain": [
       "Batches:   0%|          | 0/1 [00:00<?, ?it/s]"
      ]
     },
     "metadata": {},
     "output_type": "display_data"
    },
    {
     "data": {
      "application/vnd.jupyter.widget-view+json": {
       "model_id": "b35c48027758496c9a7925717b8257f1",
       "version_major": 2,
       "version_minor": 0
      },
      "text/plain": [
       "Batches:   0%|          | 0/1 [00:00<?, ?it/s]"
      ]
     },
     "metadata": {},
     "output_type": "display_data"
    },
    {
     "data": {
      "application/vnd.jupyter.widget-view+json": {
       "model_id": "4e35535f5d4f4b62ad359c139a44f538",
       "version_major": 2,
       "version_minor": 0
      },
      "text/plain": [
       "Batches:   0%|          | 0/1 [00:00<?, ?it/s]"
      ]
     },
     "metadata": {},
     "output_type": "display_data"
    },
    {
     "data": {
      "application/vnd.jupyter.widget-view+json": {
       "model_id": "d1f6d8c0eb8346d1b0d3f6aa3ad204c3",
       "version_major": 2,
       "version_minor": 0
      },
      "text/plain": [
       "Batches:   0%|          | 0/1 [00:00<?, ?it/s]"
      ]
     },
     "metadata": {},
     "output_type": "display_data"
    },
    {
     "data": {
      "application/vnd.jupyter.widget-view+json": {
       "model_id": "37d1dcdf8c3949ce81f3716c89b2ae88",
       "version_major": 2,
       "version_minor": 0
      },
      "text/plain": [
       "Batches:   0%|          | 0/1 [00:00<?, ?it/s]"
      ]
     },
     "metadata": {},
     "output_type": "display_data"
    },
    {
     "data": {
      "application/vnd.jupyter.widget-view+json": {
       "model_id": "876050d8183d4a84b46bbe881a22291b",
       "version_major": 2,
       "version_minor": 0
      },
      "text/plain": [
       "Batches:   0%|          | 0/1 [00:00<?, ?it/s]"
      ]
     },
     "metadata": {},
     "output_type": "display_data"
    },
    {
     "data": {
      "application/vnd.jupyter.widget-view+json": {
       "model_id": "df198309c4d147b895bc2487be3efbea",
       "version_major": 2,
       "version_minor": 0
      },
      "text/plain": [
       "Batches:   0%|          | 0/1 [00:00<?, ?it/s]"
      ]
     },
     "metadata": {},
     "output_type": "display_data"
    },
    {
     "data": {
      "application/vnd.jupyter.widget-view+json": {
       "model_id": "27418ca17494449eb927ac49c41e3b30",
       "version_major": 2,
       "version_minor": 0
      },
      "text/plain": [
       "Batches:   0%|          | 0/1 [00:00<?, ?it/s]"
      ]
     },
     "metadata": {},
     "output_type": "display_data"
    },
    {
     "data": {
      "application/vnd.jupyter.widget-view+json": {
       "model_id": "fb8044a5913c4c8c892b8a2a9964a8bb",
       "version_major": 2,
       "version_minor": 0
      },
      "text/plain": [
       "Batches:   0%|          | 0/1 [00:00<?, ?it/s]"
      ]
     },
     "metadata": {},
     "output_type": "display_data"
    },
    {
     "data": {
      "application/vnd.jupyter.widget-view+json": {
       "model_id": "9aee09bb365c42be981126811613200b",
       "version_major": 2,
       "version_minor": 0
      },
      "text/plain": [
       "Batches:   0%|          | 0/1 [00:00<?, ?it/s]"
      ]
     },
     "metadata": {},
     "output_type": "display_data"
    },
    {
     "data": {
      "application/vnd.jupyter.widget-view+json": {
       "model_id": "9001f5fc5316479c8ed343061d57a755",
       "version_major": 2,
       "version_minor": 0
      },
      "text/plain": [
       "Batches:   0%|          | 0/1 [00:00<?, ?it/s]"
      ]
     },
     "metadata": {},
     "output_type": "display_data"
    },
    {
     "data": {
      "application/vnd.jupyter.widget-view+json": {
       "model_id": "29dfa0d36111496bbbc9baa8e51f1254",
       "version_major": 2,
       "version_minor": 0
      },
      "text/plain": [
       "Batches:   0%|          | 0/1 [00:00<?, ?it/s]"
      ]
     },
     "metadata": {},
     "output_type": "display_data"
    },
    {
     "data": {
      "application/vnd.jupyter.widget-view+json": {
       "model_id": "5a7afe5b273049d8846814a64e5ad14c",
       "version_major": 2,
       "version_minor": 0
      },
      "text/plain": [
       "Batches:   0%|          | 0/1 [00:00<?, ?it/s]"
      ]
     },
     "metadata": {},
     "output_type": "display_data"
    },
    {
     "data": {
      "application/vnd.jupyter.widget-view+json": {
       "model_id": "7eb135ea12f049ad8c7a74a0171d6aa2",
       "version_major": 2,
       "version_minor": 0
      },
      "text/plain": [
       "Batches:   0%|          | 0/1 [00:00<?, ?it/s]"
      ]
     },
     "metadata": {},
     "output_type": "display_data"
    },
    {
     "data": {
      "application/vnd.jupyter.widget-view+json": {
       "model_id": "684978fb788c44fe9ccbc6443bbafb19",
       "version_major": 2,
       "version_minor": 0
      },
      "text/plain": [
       "Batches:   0%|          | 0/1 [00:00<?, ?it/s]"
      ]
     },
     "metadata": {},
     "output_type": "display_data"
    },
    {
     "data": {
      "application/vnd.jupyter.widget-view+json": {
       "model_id": "f2f7aeee690a422c8b5cc4ff854ffef3",
       "version_major": 2,
       "version_minor": 0
      },
      "text/plain": [
       "Batches:   0%|          | 0/1 [00:00<?, ?it/s]"
      ]
     },
     "metadata": {},
     "output_type": "display_data"
    },
    {
     "data": {
      "application/vnd.jupyter.widget-view+json": {
       "model_id": "aa2973c5d061447f9a6e59b8f0da15b3",
       "version_major": 2,
       "version_minor": 0
      },
      "text/plain": [
       "Batches:   0%|          | 0/1 [00:00<?, ?it/s]"
      ]
     },
     "metadata": {},
     "output_type": "display_data"
    },
    {
     "data": {
      "application/vnd.jupyter.widget-view+json": {
       "model_id": "d6d5556e715e4290aa4098a692eef721",
       "version_major": 2,
       "version_minor": 0
      },
      "text/plain": [
       "Batches:   0%|          | 0/1 [00:00<?, ?it/s]"
      ]
     },
     "metadata": {},
     "output_type": "display_data"
    },
    {
     "data": {
      "application/vnd.jupyter.widget-view+json": {
       "model_id": "4aa7173c359447d88ba3fe39b8c60fd3",
       "version_major": 2,
       "version_minor": 0
      },
      "text/plain": [
       "Batches:   0%|          | 0/1 [00:00<?, ?it/s]"
      ]
     },
     "metadata": {},
     "output_type": "display_data"
    },
    {
     "data": {
      "application/vnd.jupyter.widget-view+json": {
       "model_id": "f7e197e1a642484fa0f19417f20a03a9",
       "version_major": 2,
       "version_minor": 0
      },
      "text/plain": [
       "Batches:   0%|          | 0/1 [00:00<?, ?it/s]"
      ]
     },
     "metadata": {},
     "output_type": "display_data"
    },
    {
     "data": {
      "application/vnd.jupyter.widget-view+json": {
       "model_id": "326e97828c224b19b817c18838731613",
       "version_major": 2,
       "version_minor": 0
      },
      "text/plain": [
       "Batches:   0%|          | 0/1 [00:00<?, ?it/s]"
      ]
     },
     "metadata": {},
     "output_type": "display_data"
    },
    {
     "data": {
      "application/vnd.jupyter.widget-view+json": {
       "model_id": "74bcfcd107b24ca291c90314d5433fbb",
       "version_major": 2,
       "version_minor": 0
      },
      "text/plain": [
       "Batches:   0%|          | 0/1 [00:00<?, ?it/s]"
      ]
     },
     "metadata": {},
     "output_type": "display_data"
    },
    {
     "data": {
      "application/vnd.jupyter.widget-view+json": {
       "model_id": "45e7ce81ce1b4b479131488d011e6f91",
       "version_major": 2,
       "version_minor": 0
      },
      "text/plain": [
       "Batches:   0%|          | 0/1 [00:00<?, ?it/s]"
      ]
     },
     "metadata": {},
     "output_type": "display_data"
    },
    {
     "data": {
      "application/vnd.jupyter.widget-view+json": {
       "model_id": "3918854dcc5047b9a0fc5307b8a10ed0",
       "version_major": 2,
       "version_minor": 0
      },
      "text/plain": [
       "Batches:   0%|          | 0/1 [00:00<?, ?it/s]"
      ]
     },
     "metadata": {},
     "output_type": "display_data"
    },
    {
     "data": {
      "application/vnd.jupyter.widget-view+json": {
       "model_id": "dc61cbfd04e24e009c780ad218d8b88a",
       "version_major": 2,
       "version_minor": 0
      },
      "text/plain": [
       "Batches:   0%|          | 0/1 [00:00<?, ?it/s]"
      ]
     },
     "metadata": {},
     "output_type": "display_data"
    },
    {
     "data": {
      "application/vnd.jupyter.widget-view+json": {
       "model_id": "f95fc1afa541444a90ab0300b732f839",
       "version_major": 2,
       "version_minor": 0
      },
      "text/plain": [
       "Batches:   0%|          | 0/1 [00:00<?, ?it/s]"
      ]
     },
     "metadata": {},
     "output_type": "display_data"
    },
    {
     "data": {
      "application/vnd.jupyter.widget-view+json": {
       "model_id": "83951b298cae4a739e225e99d4dee961",
       "version_major": 2,
       "version_minor": 0
      },
      "text/plain": [
       "Batches:   0%|          | 0/1 [00:00<?, ?it/s]"
      ]
     },
     "metadata": {},
     "output_type": "display_data"
    },
    {
     "data": {
      "application/vnd.jupyter.widget-view+json": {
       "model_id": "aca83e0d4d0f479fbce12cb0dc5c3533",
       "version_major": 2,
       "version_minor": 0
      },
      "text/plain": [
       "Batches:   0%|          | 0/1 [00:00<?, ?it/s]"
      ]
     },
     "metadata": {},
     "output_type": "display_data"
    },
    {
     "data": {
      "application/vnd.jupyter.widget-view+json": {
       "model_id": "645c36ba210c41d08ab4333152ff5257",
       "version_major": 2,
       "version_minor": 0
      },
      "text/plain": [
       "Batches:   0%|          | 0/1 [00:00<?, ?it/s]"
      ]
     },
     "metadata": {},
     "output_type": "display_data"
    },
    {
     "data": {
      "application/vnd.jupyter.widget-view+json": {
       "model_id": "2481e024f97847c3b896e64f2bb4cbee",
       "version_major": 2,
       "version_minor": 0
      },
      "text/plain": [
       "Batches:   0%|          | 0/1 [00:00<?, ?it/s]"
      ]
     },
     "metadata": {},
     "output_type": "display_data"
    },
    {
     "data": {
      "application/vnd.jupyter.widget-view+json": {
       "model_id": "9e49a5813ead42a593ba89058ec5a463",
       "version_major": 2,
       "version_minor": 0
      },
      "text/plain": [
       "Batches:   0%|          | 0/1 [00:00<?, ?it/s]"
      ]
     },
     "metadata": {},
     "output_type": "display_data"
    },
    {
     "data": {
      "application/vnd.jupyter.widget-view+json": {
       "model_id": "e2e1ca40d932445c9dd5e61e967fe363",
       "version_major": 2,
       "version_minor": 0
      },
      "text/plain": [
       "Batches:   0%|          | 0/1 [00:00<?, ?it/s]"
      ]
     },
     "metadata": {},
     "output_type": "display_data"
    },
    {
     "data": {
      "application/vnd.jupyter.widget-view+json": {
       "model_id": "c5a2cb1eb27540bfac777c34b1d37cca",
       "version_major": 2,
       "version_minor": 0
      },
      "text/plain": [
       "Batches:   0%|          | 0/1 [00:00<?, ?it/s]"
      ]
     },
     "metadata": {},
     "output_type": "display_data"
    },
    {
     "data": {
      "application/vnd.jupyter.widget-view+json": {
       "model_id": "621b44a7c1c84a52a1ae3e95b2b9288c",
       "version_major": 2,
       "version_minor": 0
      },
      "text/plain": [
       "Batches:   0%|          | 0/1 [00:00<?, ?it/s]"
      ]
     },
     "metadata": {},
     "output_type": "display_data"
    },
    {
     "data": {
      "application/vnd.jupyter.widget-view+json": {
       "model_id": "c69b43dd9c73486fbe1c17ccc32447e1",
       "version_major": 2,
       "version_minor": 0
      },
      "text/plain": [
       "Batches:   0%|          | 0/1 [00:00<?, ?it/s]"
      ]
     },
     "metadata": {},
     "output_type": "display_data"
    },
    {
     "data": {
      "application/vnd.jupyter.widget-view+json": {
       "model_id": "75d64bce8f014ac79c385b4de5d2a779",
       "version_major": 2,
       "version_minor": 0
      },
      "text/plain": [
       "Batches:   0%|          | 0/1 [00:00<?, ?it/s]"
      ]
     },
     "metadata": {},
     "output_type": "display_data"
    },
    {
     "data": {
      "application/vnd.jupyter.widget-view+json": {
       "model_id": "a5f69daeea784d6ca0f7163f8de25735",
       "version_major": 2,
       "version_minor": 0
      },
      "text/plain": [
       "Batches:   0%|          | 0/1 [00:00<?, ?it/s]"
      ]
     },
     "metadata": {},
     "output_type": "display_data"
    },
    {
     "data": {
      "application/vnd.jupyter.widget-view+json": {
       "model_id": "9599a1dfd3ff4015bb04f2b59e342e7a",
       "version_major": 2,
       "version_minor": 0
      },
      "text/plain": [
       "Batches:   0%|          | 0/1 [00:00<?, ?it/s]"
      ]
     },
     "metadata": {},
     "output_type": "display_data"
    },
    {
     "data": {
      "application/vnd.jupyter.widget-view+json": {
       "model_id": "34939200d8c740e7a75eb656b8661836",
       "version_major": 2,
       "version_minor": 0
      },
      "text/plain": [
       "Batches:   0%|          | 0/1 [00:00<?, ?it/s]"
      ]
     },
     "metadata": {},
     "output_type": "display_data"
    },
    {
     "data": {
      "application/vnd.jupyter.widget-view+json": {
       "model_id": "9c940188f17c4d6688d4f639d189ea0f",
       "version_major": 2,
       "version_minor": 0
      },
      "text/plain": [
       "Batches:   0%|          | 0/1 [00:00<?, ?it/s]"
      ]
     },
     "metadata": {},
     "output_type": "display_data"
    },
    {
     "data": {
      "application/vnd.jupyter.widget-view+json": {
       "model_id": "cbe4a42a7f784c1c9ce3cefddd8b51a2",
       "version_major": 2,
       "version_minor": 0
      },
      "text/plain": [
       "Batches:   0%|          | 0/1 [00:00<?, ?it/s]"
      ]
     },
     "metadata": {},
     "output_type": "display_data"
    },
    {
     "data": {
      "application/vnd.jupyter.widget-view+json": {
       "model_id": "7d0bd63bb2c94ec29aa92529fbf627a2",
       "version_major": 2,
       "version_minor": 0
      },
      "text/plain": [
       "Batches:   0%|          | 0/1 [00:00<?, ?it/s]"
      ]
     },
     "metadata": {},
     "output_type": "display_data"
    },
    {
     "data": {
      "application/vnd.jupyter.widget-view+json": {
       "model_id": "097ded24181b457095752822fb9fb761",
       "version_major": 2,
       "version_minor": 0
      },
      "text/plain": [
       "Batches:   0%|          | 0/1 [00:00<?, ?it/s]"
      ]
     },
     "metadata": {},
     "output_type": "display_data"
    },
    {
     "data": {
      "application/vnd.jupyter.widget-view+json": {
       "model_id": "fe8cb1b78ec94119aaf6604af1fcaf1f",
       "version_major": 2,
       "version_minor": 0
      },
      "text/plain": [
       "Batches:   0%|          | 0/1 [00:00<?, ?it/s]"
      ]
     },
     "metadata": {},
     "output_type": "display_data"
    },
    {
     "data": {
      "application/vnd.jupyter.widget-view+json": {
       "model_id": "f05c741b70844393b20ea160c0cf68a5",
       "version_major": 2,
       "version_minor": 0
      },
      "text/plain": [
       "Batches:   0%|          | 0/1 [00:00<?, ?it/s]"
      ]
     },
     "metadata": {},
     "output_type": "display_data"
    },
    {
     "data": {
      "application/vnd.jupyter.widget-view+json": {
       "model_id": "7b842259441e44e99db67ab069837f08",
       "version_major": 2,
       "version_minor": 0
      },
      "text/plain": [
       "Batches:   0%|          | 0/1 [00:00<?, ?it/s]"
      ]
     },
     "metadata": {},
     "output_type": "display_data"
    },
    {
     "data": {
      "application/vnd.jupyter.widget-view+json": {
       "model_id": "d7e39fba52114643b1890b7aace9ae9f",
       "version_major": 2,
       "version_minor": 0
      },
      "text/plain": [
       "Batches:   0%|          | 0/1 [00:00<?, ?it/s]"
      ]
     },
     "metadata": {},
     "output_type": "display_data"
    },
    {
     "data": {
      "application/vnd.jupyter.widget-view+json": {
       "model_id": "14968e24efe648aca93650a5e9bbf4b5",
       "version_major": 2,
       "version_minor": 0
      },
      "text/plain": [
       "Batches:   0%|          | 0/1 [00:00<?, ?it/s]"
      ]
     },
     "metadata": {},
     "output_type": "display_data"
    },
    {
     "data": {
      "application/vnd.jupyter.widget-view+json": {
       "model_id": "0644c2bafcae4bcabf0841b3f800c471",
       "version_major": 2,
       "version_minor": 0
      },
      "text/plain": [
       "Batches:   0%|          | 0/1 [00:00<?, ?it/s]"
      ]
     },
     "metadata": {},
     "output_type": "display_data"
    },
    {
     "data": {
      "application/vnd.jupyter.widget-view+json": {
       "model_id": "1ab3b971b53b4c23b3a760b0907e61b1",
       "version_major": 2,
       "version_minor": 0
      },
      "text/plain": [
       "Batches:   0%|          | 0/1 [00:00<?, ?it/s]"
      ]
     },
     "metadata": {},
     "output_type": "display_data"
    },
    {
     "data": {
      "application/vnd.jupyter.widget-view+json": {
       "model_id": "cb320744baa7404397f55e3fd9447ea7",
       "version_major": 2,
       "version_minor": 0
      },
      "text/plain": [
       "Batches:   0%|          | 0/1 [00:00<?, ?it/s]"
      ]
     },
     "metadata": {},
     "output_type": "display_data"
    },
    {
     "data": {
      "application/vnd.jupyter.widget-view+json": {
       "model_id": "16cddbd0f1ec4f27a7f57bafe25f25ba",
       "version_major": 2,
       "version_minor": 0
      },
      "text/plain": [
       "Batches:   0%|          | 0/1 [00:00<?, ?it/s]"
      ]
     },
     "metadata": {},
     "output_type": "display_data"
    },
    {
     "data": {
      "application/vnd.jupyter.widget-view+json": {
       "model_id": "00ddd9ee3baa413c84f1107a0964eb33",
       "version_major": 2,
       "version_minor": 0
      },
      "text/plain": [
       "Batches:   0%|          | 0/1 [00:00<?, ?it/s]"
      ]
     },
     "metadata": {},
     "output_type": "display_data"
    },
    {
     "data": {
      "application/vnd.jupyter.widget-view+json": {
       "model_id": "7dca437004554b9781af6d9fafab24cf",
       "version_major": 2,
       "version_minor": 0
      },
      "text/plain": [
       "Batches:   0%|          | 0/1 [00:00<?, ?it/s]"
      ]
     },
     "metadata": {},
     "output_type": "display_data"
    },
    {
     "data": {
      "application/vnd.jupyter.widget-view+json": {
       "model_id": "2073f0e1c9b44df899930892a9ea23c2",
       "version_major": 2,
       "version_minor": 0
      },
      "text/plain": [
       "Batches:   0%|          | 0/1 [00:00<?, ?it/s]"
      ]
     },
     "metadata": {},
     "output_type": "display_data"
    },
    {
     "data": {
      "application/vnd.jupyter.widget-view+json": {
       "model_id": "77de90f16b0548d8aacb5dd3da17c65f",
       "version_major": 2,
       "version_minor": 0
      },
      "text/plain": [
       "Batches:   0%|          | 0/1 [00:00<?, ?it/s]"
      ]
     },
     "metadata": {},
     "output_type": "display_data"
    },
    {
     "data": {
      "application/vnd.jupyter.widget-view+json": {
       "model_id": "ef8eb92ce20d42adb3a5bc8eed2b04a3",
       "version_major": 2,
       "version_minor": 0
      },
      "text/plain": [
       "Batches:   0%|          | 0/1 [00:00<?, ?it/s]"
      ]
     },
     "metadata": {},
     "output_type": "display_data"
    },
    {
     "data": {
      "application/vnd.jupyter.widget-view+json": {
       "model_id": "c3c1558a94dd4610a371511a7992b16f",
       "version_major": 2,
       "version_minor": 0
      },
      "text/plain": [
       "Batches:   0%|          | 0/1 [00:00<?, ?it/s]"
      ]
     },
     "metadata": {},
     "output_type": "display_data"
    },
    {
     "data": {
      "application/vnd.jupyter.widget-view+json": {
       "model_id": "d17a623ea1a6485c857eb3d8feb1a604",
       "version_major": 2,
       "version_minor": 0
      },
      "text/plain": [
       "Batches:   0%|          | 0/1 [00:00<?, ?it/s]"
      ]
     },
     "metadata": {},
     "output_type": "display_data"
    },
    {
     "data": {
      "application/vnd.jupyter.widget-view+json": {
       "model_id": "fc3ce92a6ceb41d39ea44f098c41c74a",
       "version_major": 2,
       "version_minor": 0
      },
      "text/plain": [
       "Batches:   0%|          | 0/1 [00:00<?, ?it/s]"
      ]
     },
     "metadata": {},
     "output_type": "display_data"
    },
    {
     "data": {
      "application/vnd.jupyter.widget-view+json": {
       "model_id": "023ce6971e72436c86b69e2661ee43cb",
       "version_major": 2,
       "version_minor": 0
      },
      "text/plain": [
       "Batches:   0%|          | 0/1 [00:00<?, ?it/s]"
      ]
     },
     "metadata": {},
     "output_type": "display_data"
    },
    {
     "data": {
      "application/vnd.jupyter.widget-view+json": {
       "model_id": "ac2380be82874927aefdb81790e4a83c",
       "version_major": 2,
       "version_minor": 0
      },
      "text/plain": [
       "Batches:   0%|          | 0/1 [00:00<?, ?it/s]"
      ]
     },
     "metadata": {},
     "output_type": "display_data"
    },
    {
     "data": {
      "application/vnd.jupyter.widget-view+json": {
       "model_id": "e89d1ff114914ad6a2bca09149d82b15",
       "version_major": 2,
       "version_minor": 0
      },
      "text/plain": [
       "Batches:   0%|          | 0/1 [00:00<?, ?it/s]"
      ]
     },
     "metadata": {},
     "output_type": "display_data"
    },
    {
     "data": {
      "application/vnd.jupyter.widget-view+json": {
       "model_id": "6c1ac09772e046768fcdc06a068fea85",
       "version_major": 2,
       "version_minor": 0
      },
      "text/plain": [
       "Batches:   0%|          | 0/1 [00:00<?, ?it/s]"
      ]
     },
     "metadata": {},
     "output_type": "display_data"
    },
    {
     "data": {
      "application/vnd.jupyter.widget-view+json": {
       "model_id": "14d1419aa3f145d78e46a28cbb53a8e6",
       "version_major": 2,
       "version_minor": 0
      },
      "text/plain": [
       "Batches:   0%|          | 0/1 [00:00<?, ?it/s]"
      ]
     },
     "metadata": {},
     "output_type": "display_data"
    },
    {
     "data": {
      "application/vnd.jupyter.widget-view+json": {
       "model_id": "7a13c9bb21fe4ce28b4132f364b06b26",
       "version_major": 2,
       "version_minor": 0
      },
      "text/plain": [
       "Batches:   0%|          | 0/1 [00:00<?, ?it/s]"
      ]
     },
     "metadata": {},
     "output_type": "display_data"
    },
    {
     "data": {
      "application/vnd.jupyter.widget-view+json": {
       "model_id": "e37c6a1db88a4f859a832293e7102635",
       "version_major": 2,
       "version_minor": 0
      },
      "text/plain": [
       "Batches:   0%|          | 0/1 [00:00<?, ?it/s]"
      ]
     },
     "metadata": {},
     "output_type": "display_data"
    },
    {
     "data": {
      "application/vnd.jupyter.widget-view+json": {
       "model_id": "e593617896ed44dd94fb854b011ad6a2",
       "version_major": 2,
       "version_minor": 0
      },
      "text/plain": [
       "Batches:   0%|          | 0/1 [00:00<?, ?it/s]"
      ]
     },
     "metadata": {},
     "output_type": "display_data"
    },
    {
     "data": {
      "application/vnd.jupyter.widget-view+json": {
       "model_id": "a3e00e54298f4aa8aa7c344dbd3015c7",
       "version_major": 2,
       "version_minor": 0
      },
      "text/plain": [
       "Batches:   0%|          | 0/1 [00:00<?, ?it/s]"
      ]
     },
     "metadata": {},
     "output_type": "display_data"
    },
    {
     "data": {
      "application/vnd.jupyter.widget-view+json": {
       "model_id": "e7bed80831234111b1bd4ba0d8c0c3b1",
       "version_major": 2,
       "version_minor": 0
      },
      "text/plain": [
       "Batches:   0%|          | 0/1 [00:00<?, ?it/s]"
      ]
     },
     "metadata": {},
     "output_type": "display_data"
    },
    {
     "data": {
      "application/vnd.jupyter.widget-view+json": {
       "model_id": "b383e24a97e54dbe93839eb5d75f4d36",
       "version_major": 2,
       "version_minor": 0
      },
      "text/plain": [
       "Batches:   0%|          | 0/1 [00:00<?, ?it/s]"
      ]
     },
     "metadata": {},
     "output_type": "display_data"
    },
    {
     "data": {
      "application/vnd.jupyter.widget-view+json": {
       "model_id": "cc2a688d6bb542cba961fed896914fc7",
       "version_major": 2,
       "version_minor": 0
      },
      "text/plain": [
       "Batches:   0%|          | 0/1 [00:00<?, ?it/s]"
      ]
     },
     "metadata": {},
     "output_type": "display_data"
    },
    {
     "data": {
      "application/vnd.jupyter.widget-view+json": {
       "model_id": "b1fbd80d71a549949b28bc24018ba224",
       "version_major": 2,
       "version_minor": 0
      },
      "text/plain": [
       "Batches:   0%|          | 0/1 [00:00<?, ?it/s]"
      ]
     },
     "metadata": {},
     "output_type": "display_data"
    },
    {
     "data": {
      "application/vnd.jupyter.widget-view+json": {
       "model_id": "0e5c537f42c241e48f25c3a03391f79d",
       "version_major": 2,
       "version_minor": 0
      },
      "text/plain": [
       "Batches:   0%|          | 0/1 [00:00<?, ?it/s]"
      ]
     },
     "metadata": {},
     "output_type": "display_data"
    },
    {
     "data": {
      "application/vnd.jupyter.widget-view+json": {
       "model_id": "065dc8e497ed469d9dcbc39d44f48347",
       "version_major": 2,
       "version_minor": 0
      },
      "text/plain": [
       "Batches:   0%|          | 0/1 [00:00<?, ?it/s]"
      ]
     },
     "metadata": {},
     "output_type": "display_data"
    },
    {
     "data": {
      "application/vnd.jupyter.widget-view+json": {
       "model_id": "a723aa32155c446389c5716be46269cd",
       "version_major": 2,
       "version_minor": 0
      },
      "text/plain": [
       "Batches:   0%|          | 0/1 [00:00<?, ?it/s]"
      ]
     },
     "metadata": {},
     "output_type": "display_data"
    },
    {
     "data": {
      "application/vnd.jupyter.widget-view+json": {
       "model_id": "01e5715c1cc143e0981d5ececf5e8f5d",
       "version_major": 2,
       "version_minor": 0
      },
      "text/plain": [
       "Batches:   0%|          | 0/1 [00:00<?, ?it/s]"
      ]
     },
     "metadata": {},
     "output_type": "display_data"
    },
    {
     "data": {
      "application/vnd.jupyter.widget-view+json": {
       "model_id": "2add38df30e24d6ea6cc1ffae8b2216b",
       "version_major": 2,
       "version_minor": 0
      },
      "text/plain": [
       "Batches:   0%|          | 0/1 [00:00<?, ?it/s]"
      ]
     },
     "metadata": {},
     "output_type": "display_data"
    },
    {
     "data": {
      "application/vnd.jupyter.widget-view+json": {
       "model_id": "d969a2c8cc8d47bf9268378609588eb8",
       "version_major": 2,
       "version_minor": 0
      },
      "text/plain": [
       "Batches:   0%|          | 0/1 [00:00<?, ?it/s]"
      ]
     },
     "metadata": {},
     "output_type": "display_data"
    },
    {
     "data": {
      "application/vnd.jupyter.widget-view+json": {
       "model_id": "67471b9efc8e4b7db350bce5b9c3e8ae",
       "version_major": 2,
       "version_minor": 0
      },
      "text/plain": [
       "Batches:   0%|          | 0/1 [00:00<?, ?it/s]"
      ]
     },
     "metadata": {},
     "output_type": "display_data"
    },
    {
     "data": {
      "application/vnd.jupyter.widget-view+json": {
       "model_id": "6f376fc67c7f4f84bb02f7a2f0f6ed90",
       "version_major": 2,
       "version_minor": 0
      },
      "text/plain": [
       "Batches:   0%|          | 0/1 [00:00<?, ?it/s]"
      ]
     },
     "metadata": {},
     "output_type": "display_data"
    },
    {
     "data": {
      "application/vnd.jupyter.widget-view+json": {
       "model_id": "b260e87df0be4ec8afde8f7c0e6c86b6",
       "version_major": 2,
       "version_minor": 0
      },
      "text/plain": [
       "Batches:   0%|          | 0/1 [00:00<?, ?it/s]"
      ]
     },
     "metadata": {},
     "output_type": "display_data"
    },
    {
     "data": {
      "application/vnd.jupyter.widget-view+json": {
       "model_id": "372bf0d3f7a74106906131ffdb73852a",
       "version_major": 2,
       "version_minor": 0
      },
      "text/plain": [
       "Batches:   0%|          | 0/1 [00:00<?, ?it/s]"
      ]
     },
     "metadata": {},
     "output_type": "display_data"
    },
    {
     "data": {
      "application/vnd.jupyter.widget-view+json": {
       "model_id": "65f782ca143c44ceac0a384d97e80333",
       "version_major": 2,
       "version_minor": 0
      },
      "text/plain": [
       "Batches:   0%|          | 0/1 [00:00<?, ?it/s]"
      ]
     },
     "metadata": {},
     "output_type": "display_data"
    },
    {
     "data": {
      "application/vnd.jupyter.widget-view+json": {
       "model_id": "30e87e346a9d40c389a1e77873566268",
       "version_major": 2,
       "version_minor": 0
      },
      "text/plain": [
       "Batches:   0%|          | 0/1 [00:00<?, ?it/s]"
      ]
     },
     "metadata": {},
     "output_type": "display_data"
    },
    {
     "data": {
      "application/vnd.jupyter.widget-view+json": {
       "model_id": "d5c84b59c88740db999a9a6c19776eb8",
       "version_major": 2,
       "version_minor": 0
      },
      "text/plain": [
       "Batches:   0%|          | 0/1 [00:00<?, ?it/s]"
      ]
     },
     "metadata": {},
     "output_type": "display_data"
    },
    {
     "data": {
      "application/vnd.jupyter.widget-view+json": {
       "model_id": "d692aa98173c417bbac8c6822b4f0860",
       "version_major": 2,
       "version_minor": 0
      },
      "text/plain": [
       "Batches:   0%|          | 0/1 [00:00<?, ?it/s]"
      ]
     },
     "metadata": {},
     "output_type": "display_data"
    },
    {
     "data": {
      "application/vnd.jupyter.widget-view+json": {
       "model_id": "e6a3c947a4fb43eb8958020ddf87ccd5",
       "version_major": 2,
       "version_minor": 0
      },
      "text/plain": [
       "Batches:   0%|          | 0/1 [00:00<?, ?it/s]"
      ]
     },
     "metadata": {},
     "output_type": "display_data"
    },
    {
     "data": {
      "application/vnd.jupyter.widget-view+json": {
       "model_id": "3623256e8d7041339d78166098ba8689",
       "version_major": 2,
       "version_minor": 0
      },
      "text/plain": [
       "Batches:   0%|          | 0/1 [00:00<?, ?it/s]"
      ]
     },
     "metadata": {},
     "output_type": "display_data"
    },
    {
     "data": {
      "application/vnd.jupyter.widget-view+json": {
       "model_id": "1c265a19ce994ec0bee0fdf6137fbc63",
       "version_major": 2,
       "version_minor": 0
      },
      "text/plain": [
       "Batches:   0%|          | 0/1 [00:00<?, ?it/s]"
      ]
     },
     "metadata": {},
     "output_type": "display_data"
    },
    {
     "data": {
      "application/vnd.jupyter.widget-view+json": {
       "model_id": "9f09705f24cd48d988540d0e03e76449",
       "version_major": 2,
       "version_minor": 0
      },
      "text/plain": [
       "Batches:   0%|          | 0/1 [00:00<?, ?it/s]"
      ]
     },
     "metadata": {},
     "output_type": "display_data"
    },
    {
     "data": {
      "application/vnd.jupyter.widget-view+json": {
       "model_id": "d31144887ac141759fe9a5b64db4ff12",
       "version_major": 2,
       "version_minor": 0
      },
      "text/plain": [
       "Batches:   0%|          | 0/1 [00:00<?, ?it/s]"
      ]
     },
     "metadata": {},
     "output_type": "display_data"
    },
    {
     "data": {
      "application/vnd.jupyter.widget-view+json": {
       "model_id": "5358569b16f44df4ae0ebab233b315e3",
       "version_major": 2,
       "version_minor": 0
      },
      "text/plain": [
       "Batches:   0%|          | 0/1 [00:00<?, ?it/s]"
      ]
     },
     "metadata": {},
     "output_type": "display_data"
    },
    {
     "data": {
      "application/vnd.jupyter.widget-view+json": {
       "model_id": "f1de69e6a23d454dbc1fa4c589468bc1",
       "version_major": 2,
       "version_minor": 0
      },
      "text/plain": [
       "Batches:   0%|          | 0/1 [00:00<?, ?it/s]"
      ]
     },
     "metadata": {},
     "output_type": "display_data"
    },
    {
     "data": {
      "application/vnd.jupyter.widget-view+json": {
       "model_id": "f240595636a14537b3f4341cb7cbe5c5",
       "version_major": 2,
       "version_minor": 0
      },
      "text/plain": [
       "Batches:   0%|          | 0/1 [00:00<?, ?it/s]"
      ]
     },
     "metadata": {},
     "output_type": "display_data"
    },
    {
     "data": {
      "application/vnd.jupyter.widget-view+json": {
       "model_id": "07b34dc586dc4af6b715b229e18e754f",
       "version_major": 2,
       "version_minor": 0
      },
      "text/plain": [
       "Batches:   0%|          | 0/1 [00:00<?, ?it/s]"
      ]
     },
     "metadata": {},
     "output_type": "display_data"
    },
    {
     "data": {
      "application/vnd.jupyter.widget-view+json": {
       "model_id": "a95023b5af044bd7974a589ff014f0d9",
       "version_major": 2,
       "version_minor": 0
      },
      "text/plain": [
       "Batches:   0%|          | 0/1 [00:00<?, ?it/s]"
      ]
     },
     "metadata": {},
     "output_type": "display_data"
    },
    {
     "data": {
      "application/vnd.jupyter.widget-view+json": {
       "model_id": "66928e3b7ab94e31bc07bfa8655575a0",
       "version_major": 2,
       "version_minor": 0
      },
      "text/plain": [
       "Batches:   0%|          | 0/1 [00:00<?, ?it/s]"
      ]
     },
     "metadata": {},
     "output_type": "display_data"
    },
    {
     "data": {
      "application/vnd.jupyter.widget-view+json": {
       "model_id": "826960772a3b49c49f759cd31631e2e0",
       "version_major": 2,
       "version_minor": 0
      },
      "text/plain": [
       "Batches:   0%|          | 0/1 [00:00<?, ?it/s]"
      ]
     },
     "metadata": {},
     "output_type": "display_data"
    },
    {
     "data": {
      "application/vnd.jupyter.widget-view+json": {
       "model_id": "a965b23c39814611a083b29cfda08070",
       "version_major": 2,
       "version_minor": 0
      },
      "text/plain": [
       "Batches:   0%|          | 0/1 [00:00<?, ?it/s]"
      ]
     },
     "metadata": {},
     "output_type": "display_data"
    },
    {
     "data": {
      "application/vnd.jupyter.widget-view+json": {
       "model_id": "3c65c63fa0d94ebd8891a2f2448038c9",
       "version_major": 2,
       "version_minor": 0
      },
      "text/plain": [
       "Batches:   0%|          | 0/1 [00:00<?, ?it/s]"
      ]
     },
     "metadata": {},
     "output_type": "display_data"
    },
    {
     "data": {
      "application/vnd.jupyter.widget-view+json": {
       "model_id": "ec3220a84fa34e4294409b02cf450120",
       "version_major": 2,
       "version_minor": 0
      },
      "text/plain": [
       "Batches:   0%|          | 0/1 [00:00<?, ?it/s]"
      ]
     },
     "metadata": {},
     "output_type": "display_data"
    },
    {
     "data": {
      "application/vnd.jupyter.widget-view+json": {
       "model_id": "d58f617d6888439a98b845e2a3e28dc9",
       "version_major": 2,
       "version_minor": 0
      },
      "text/plain": [
       "Batches:   0%|          | 0/1 [00:00<?, ?it/s]"
      ]
     },
     "metadata": {},
     "output_type": "display_data"
    },
    {
     "data": {
      "application/vnd.jupyter.widget-view+json": {
       "model_id": "1765b77b6d954362a3f049ff894779eb",
       "version_major": 2,
       "version_minor": 0
      },
      "text/plain": [
       "Batches:   0%|          | 0/1 [00:00<?, ?it/s]"
      ]
     },
     "metadata": {},
     "output_type": "display_data"
    },
    {
     "data": {
      "application/vnd.jupyter.widget-view+json": {
       "model_id": "a14539961199467e895a0fee05c8ae3e",
       "version_major": 2,
       "version_minor": 0
      },
      "text/plain": [
       "Batches:   0%|          | 0/1 [00:00<?, ?it/s]"
      ]
     },
     "metadata": {},
     "output_type": "display_data"
    },
    {
     "data": {
      "application/vnd.jupyter.widget-view+json": {
       "model_id": "752da4be11e14769838836017a7aab77",
       "version_major": 2,
       "version_minor": 0
      },
      "text/plain": [
       "Batches:   0%|          | 0/1 [00:00<?, ?it/s]"
      ]
     },
     "metadata": {},
     "output_type": "display_data"
    },
    {
     "data": {
      "application/vnd.jupyter.widget-view+json": {
       "model_id": "a8116501ebff47a88c7c8e6dbb771bfc",
       "version_major": 2,
       "version_minor": 0
      },
      "text/plain": [
       "Batches:   0%|          | 0/1 [00:00<?, ?it/s]"
      ]
     },
     "metadata": {},
     "output_type": "display_data"
    },
    {
     "data": {
      "application/vnd.jupyter.widget-view+json": {
       "model_id": "12998ebebac24d37b7753c30bfcd2022",
       "version_major": 2,
       "version_minor": 0
      },
      "text/plain": [
       "Batches:   0%|          | 0/1 [00:00<?, ?it/s]"
      ]
     },
     "metadata": {},
     "output_type": "display_data"
    },
    {
     "data": {
      "application/vnd.jupyter.widget-view+json": {
       "model_id": "71317cb8472a44dfa60b3b79c6825aaf",
       "version_major": 2,
       "version_minor": 0
      },
      "text/plain": [
       "Batches:   0%|          | 0/1 [00:00<?, ?it/s]"
      ]
     },
     "metadata": {},
     "output_type": "display_data"
    },
    {
     "data": {
      "application/vnd.jupyter.widget-view+json": {
       "model_id": "2d56bd5168d945b59aae9ffd2723f868",
       "version_major": 2,
       "version_minor": 0
      },
      "text/plain": [
       "Batches:   0%|          | 0/1 [00:00<?, ?it/s]"
      ]
     },
     "metadata": {},
     "output_type": "display_data"
    },
    {
     "data": {
      "application/vnd.jupyter.widget-view+json": {
       "model_id": "3d64ed169d7e4a368362bfc8662a84de",
       "version_major": 2,
       "version_minor": 0
      },
      "text/plain": [
       "Batches:   0%|          | 0/1 [00:00<?, ?it/s]"
      ]
     },
     "metadata": {},
     "output_type": "display_data"
    },
    {
     "data": {
      "application/vnd.jupyter.widget-view+json": {
       "model_id": "818b58cf489746ad88f5fb37dc011908",
       "version_major": 2,
       "version_minor": 0
      },
      "text/plain": [
       "Batches:   0%|          | 0/1 [00:00<?, ?it/s]"
      ]
     },
     "metadata": {},
     "output_type": "display_data"
    },
    {
     "data": {
      "application/vnd.jupyter.widget-view+json": {
       "model_id": "b94a128c8bd7459b901555f1cb48b5ca",
       "version_major": 2,
       "version_minor": 0
      },
      "text/plain": [
       "Batches:   0%|          | 0/1 [00:00<?, ?it/s]"
      ]
     },
     "metadata": {},
     "output_type": "display_data"
    },
    {
     "data": {
      "application/vnd.jupyter.widget-view+json": {
       "model_id": "c976c382023a4335948131602449f64f",
       "version_major": 2,
       "version_minor": 0
      },
      "text/plain": [
       "Batches:   0%|          | 0/1 [00:00<?, ?it/s]"
      ]
     },
     "metadata": {},
     "output_type": "display_data"
    },
    {
     "data": {
      "application/vnd.jupyter.widget-view+json": {
       "model_id": "201b399c14f04cfd877186170951b7ce",
       "version_major": 2,
       "version_minor": 0
      },
      "text/plain": [
       "Batches:   0%|          | 0/1 [00:00<?, ?it/s]"
      ]
     },
     "metadata": {},
     "output_type": "display_data"
    },
    {
     "data": {
      "application/vnd.jupyter.widget-view+json": {
       "model_id": "c8a58713698c436da93731b8776f6a69",
       "version_major": 2,
       "version_minor": 0
      },
      "text/plain": [
       "Batches:   0%|          | 0/1 [00:00<?, ?it/s]"
      ]
     },
     "metadata": {},
     "output_type": "display_data"
    },
    {
     "data": {
      "application/vnd.jupyter.widget-view+json": {
       "model_id": "e09bf0e2bd30472e947260330f251cff",
       "version_major": 2,
       "version_minor": 0
      },
      "text/plain": [
       "Batches:   0%|          | 0/1 [00:00<?, ?it/s]"
      ]
     },
     "metadata": {},
     "output_type": "display_data"
    },
    {
     "data": {
      "application/vnd.jupyter.widget-view+json": {
       "model_id": "bbef688091854dae82fdf073fb8cd74c",
       "version_major": 2,
       "version_minor": 0
      },
      "text/plain": [
       "Batches:   0%|          | 0/1 [00:00<?, ?it/s]"
      ]
     },
     "metadata": {},
     "output_type": "display_data"
    },
    {
     "data": {
      "application/vnd.jupyter.widget-view+json": {
       "model_id": "244f818d70014440b00e5170233a0f73",
       "version_major": 2,
       "version_minor": 0
      },
      "text/plain": [
       "Batches:   0%|          | 0/1 [00:00<?, ?it/s]"
      ]
     },
     "metadata": {},
     "output_type": "display_data"
    },
    {
     "data": {
      "application/vnd.jupyter.widget-view+json": {
       "model_id": "b5246a9f81734c2ca6431ad6b3b93bbd",
       "version_major": 2,
       "version_minor": 0
      },
      "text/plain": [
       "Batches:   0%|          | 0/1 [00:00<?, ?it/s]"
      ]
     },
     "metadata": {},
     "output_type": "display_data"
    },
    {
     "data": {
      "application/vnd.jupyter.widget-view+json": {
       "model_id": "3dd5e25c4e974efca6afa9e0aaeed545",
       "version_major": 2,
       "version_minor": 0
      },
      "text/plain": [
       "Batches:   0%|          | 0/1 [00:00<?, ?it/s]"
      ]
     },
     "metadata": {},
     "output_type": "display_data"
    },
    {
     "data": {
      "application/vnd.jupyter.widget-view+json": {
       "model_id": "64af06e5d7fb4982ac2d5ca19bc5cb7e",
       "version_major": 2,
       "version_minor": 0
      },
      "text/plain": [
       "Batches:   0%|          | 0/1 [00:00<?, ?it/s]"
      ]
     },
     "metadata": {},
     "output_type": "display_data"
    },
    {
     "data": {
      "application/vnd.jupyter.widget-view+json": {
       "model_id": "9ac6970ee07440f88af255f84aa2a8d7",
       "version_major": 2,
       "version_minor": 0
      },
      "text/plain": [
       "Batches:   0%|          | 0/1 [00:00<?, ?it/s]"
      ]
     },
     "metadata": {},
     "output_type": "display_data"
    },
    {
     "data": {
      "application/vnd.jupyter.widget-view+json": {
       "model_id": "a7806b4a7cb84ef7975ac4000ff2375b",
       "version_major": 2,
       "version_minor": 0
      },
      "text/plain": [
       "Batches:   0%|          | 0/1 [00:00<?, ?it/s]"
      ]
     },
     "metadata": {},
     "output_type": "display_data"
    },
    {
     "data": {
      "application/vnd.jupyter.widget-view+json": {
       "model_id": "2b8a380667664da5a719b0704d553f09",
       "version_major": 2,
       "version_minor": 0
      },
      "text/plain": [
       "Batches:   0%|          | 0/1 [00:00<?, ?it/s]"
      ]
     },
     "metadata": {},
     "output_type": "display_data"
    },
    {
     "data": {
      "application/vnd.jupyter.widget-view+json": {
       "model_id": "a25baffb2b6d487194b6bf51de4bf837",
       "version_major": 2,
       "version_minor": 0
      },
      "text/plain": [
       "Batches:   0%|          | 0/1 [00:00<?, ?it/s]"
      ]
     },
     "metadata": {},
     "output_type": "display_data"
    },
    {
     "data": {
      "application/vnd.jupyter.widget-view+json": {
       "model_id": "fdc3da5ae7d54cf5be47ef250ebdc839",
       "version_major": 2,
       "version_minor": 0
      },
      "text/plain": [
       "Batches:   0%|          | 0/1 [00:00<?, ?it/s]"
      ]
     },
     "metadata": {},
     "output_type": "display_data"
    },
    {
     "data": {
      "application/vnd.jupyter.widget-view+json": {
       "model_id": "6ce54663f53a43e99a0b489d199d1756",
       "version_major": 2,
       "version_minor": 0
      },
      "text/plain": [
       "Batches:   0%|          | 0/1 [00:00<?, ?it/s]"
      ]
     },
     "metadata": {},
     "output_type": "display_data"
    },
    {
     "data": {
      "application/vnd.jupyter.widget-view+json": {
       "model_id": "b904b918efba49fb92fa600ef4d62cf6",
       "version_major": 2,
       "version_minor": 0
      },
      "text/plain": [
       "Batches:   0%|          | 0/1 [00:00<?, ?it/s]"
      ]
     },
     "metadata": {},
     "output_type": "display_data"
    },
    {
     "data": {
      "application/vnd.jupyter.widget-view+json": {
       "model_id": "4426fb50ba88455bb47b0260c08d36aa",
       "version_major": 2,
       "version_minor": 0
      },
      "text/plain": [
       "Batches:   0%|          | 0/1 [00:00<?, ?it/s]"
      ]
     },
     "metadata": {},
     "output_type": "display_data"
    },
    {
     "data": {
      "application/vnd.jupyter.widget-view+json": {
       "model_id": "02a39e40ac3b4bc9932608f2fe57d3f2",
       "version_major": 2,
       "version_minor": 0
      },
      "text/plain": [
       "Batches:   0%|          | 0/1 [00:00<?, ?it/s]"
      ]
     },
     "metadata": {},
     "output_type": "display_data"
    },
    {
     "data": {
      "application/vnd.jupyter.widget-view+json": {
       "model_id": "69be7aab849f4569a3b1841416bd5a3a",
       "version_major": 2,
       "version_minor": 0
      },
      "text/plain": [
       "Batches:   0%|          | 0/1 [00:00<?, ?it/s]"
      ]
     },
     "metadata": {},
     "output_type": "display_data"
    },
    {
     "data": {
      "application/vnd.jupyter.widget-view+json": {
       "model_id": "99e894c37ac9445b9bbe839e00600b00",
       "version_major": 2,
       "version_minor": 0
      },
      "text/plain": [
       "Batches:   0%|          | 0/1 [00:00<?, ?it/s]"
      ]
     },
     "metadata": {},
     "output_type": "display_data"
    },
    {
     "data": {
      "application/vnd.jupyter.widget-view+json": {
       "model_id": "32d69be84a7d4317ab12da1a9632177d",
       "version_major": 2,
       "version_minor": 0
      },
      "text/plain": [
       "Batches:   0%|          | 0/1 [00:00<?, ?it/s]"
      ]
     },
     "metadata": {},
     "output_type": "display_data"
    },
    {
     "data": {
      "application/vnd.jupyter.widget-view+json": {
       "model_id": "7671ac7d855049be858331bde2f44ad0",
       "version_major": 2,
       "version_minor": 0
      },
      "text/plain": [
       "Batches:   0%|          | 0/1 [00:00<?, ?it/s]"
      ]
     },
     "metadata": {},
     "output_type": "display_data"
    },
    {
     "data": {
      "application/vnd.jupyter.widget-view+json": {
       "model_id": "1e493e7dbbcf4522a7ac79be245751e5",
       "version_major": 2,
       "version_minor": 0
      },
      "text/plain": [
       "Batches:   0%|          | 0/1 [00:00<?, ?it/s]"
      ]
     },
     "metadata": {},
     "output_type": "display_data"
    },
    {
     "data": {
      "application/vnd.jupyter.widget-view+json": {
       "model_id": "37f19c8973bd4af29ce04a104c77cc2e",
       "version_major": 2,
       "version_minor": 0
      },
      "text/plain": [
       "Batches:   0%|          | 0/1 [00:00<?, ?it/s]"
      ]
     },
     "metadata": {},
     "output_type": "display_data"
    },
    {
     "data": {
      "application/vnd.jupyter.widget-view+json": {
       "model_id": "9bcc0f1176f64dd9a26b10298881e132",
       "version_major": 2,
       "version_minor": 0
      },
      "text/plain": [
       "Batches:   0%|          | 0/1 [00:00<?, ?it/s]"
      ]
     },
     "metadata": {},
     "output_type": "display_data"
    },
    {
     "data": {
      "application/vnd.jupyter.widget-view+json": {
       "model_id": "2dee443d81764eac89f1ba36443235ab",
       "version_major": 2,
       "version_minor": 0
      },
      "text/plain": [
       "Batches:   0%|          | 0/1 [00:00<?, ?it/s]"
      ]
     },
     "metadata": {},
     "output_type": "display_data"
    },
    {
     "data": {
      "application/vnd.jupyter.widget-view+json": {
       "model_id": "9567cdc6a3bd49149597b697763e97d6",
       "version_major": 2,
       "version_minor": 0
      },
      "text/plain": [
       "Batches:   0%|          | 0/1 [00:00<?, ?it/s]"
      ]
     },
     "metadata": {},
     "output_type": "display_data"
    },
    {
     "data": {
      "application/vnd.jupyter.widget-view+json": {
       "model_id": "ace51e5a51e049fe924b215a1f3862a1",
       "version_major": 2,
       "version_minor": 0
      },
      "text/plain": [
       "Batches:   0%|          | 0/1 [00:00<?, ?it/s]"
      ]
     },
     "metadata": {},
     "output_type": "display_data"
    },
    {
     "data": {
      "application/vnd.jupyter.widget-view+json": {
       "model_id": "547b30f234cb4ac9bf68b3f6ef775937",
       "version_major": 2,
       "version_minor": 0
      },
      "text/plain": [
       "Batches:   0%|          | 0/1 [00:00<?, ?it/s]"
      ]
     },
     "metadata": {},
     "output_type": "display_data"
    },
    {
     "data": {
      "application/vnd.jupyter.widget-view+json": {
       "model_id": "fa1b2c26833748cf9445b0ffbb3ce4d8",
       "version_major": 2,
       "version_minor": 0
      },
      "text/plain": [
       "Batches:   0%|          | 0/1 [00:00<?, ?it/s]"
      ]
     },
     "metadata": {},
     "output_type": "display_data"
    },
    {
     "data": {
      "application/vnd.jupyter.widget-view+json": {
       "model_id": "114e952bc73f4f798818ffc454c6d33d",
       "version_major": 2,
       "version_minor": 0
      },
      "text/plain": [
       "Batches:   0%|          | 0/1 [00:00<?, ?it/s]"
      ]
     },
     "metadata": {},
     "output_type": "display_data"
    },
    {
     "data": {
      "application/vnd.jupyter.widget-view+json": {
       "model_id": "3ea2279dbeb443a3bafbea6f9c19d8a0",
       "version_major": 2,
       "version_minor": 0
      },
      "text/plain": [
       "Batches:   0%|          | 0/1 [00:00<?, ?it/s]"
      ]
     },
     "metadata": {},
     "output_type": "display_data"
    },
    {
     "data": {
      "application/vnd.jupyter.widget-view+json": {
       "model_id": "5ced2e9bae3044288ee70a5717fc9ee2",
       "version_major": 2,
       "version_minor": 0
      },
      "text/plain": [
       "Batches:   0%|          | 0/1 [00:00<?, ?it/s]"
      ]
     },
     "metadata": {},
     "output_type": "display_data"
    },
    {
     "data": {
      "application/vnd.jupyter.widget-view+json": {
       "model_id": "a6e570fcfbcb402fa862cc06470e4037",
       "version_major": 2,
       "version_minor": 0
      },
      "text/plain": [
       "Batches:   0%|          | 0/1 [00:00<?, ?it/s]"
      ]
     },
     "metadata": {},
     "output_type": "display_data"
    },
    {
     "data": {
      "application/vnd.jupyter.widget-view+json": {
       "model_id": "9a11af99ce754894a9b8d72eead9dc6a",
       "version_major": 2,
       "version_minor": 0
      },
      "text/plain": [
       "Batches:   0%|          | 0/1 [00:00<?, ?it/s]"
      ]
     },
     "metadata": {},
     "output_type": "display_data"
    },
    {
     "data": {
      "application/vnd.jupyter.widget-view+json": {
       "model_id": "009343693b28441ea63c9cfa1509b88b",
       "version_major": 2,
       "version_minor": 0
      },
      "text/plain": [
       "Batches:   0%|          | 0/1 [00:00<?, ?it/s]"
      ]
     },
     "metadata": {},
     "output_type": "display_data"
    },
    {
     "data": {
      "application/vnd.jupyter.widget-view+json": {
       "model_id": "ce878c12f67d466da1c339f7d6712518",
       "version_major": 2,
       "version_minor": 0
      },
      "text/plain": [
       "Batches:   0%|          | 0/1 [00:00<?, ?it/s]"
      ]
     },
     "metadata": {},
     "output_type": "display_data"
    },
    {
     "data": {
      "application/vnd.jupyter.widget-view+json": {
       "model_id": "eddc782c91b542ab9634933a3834c792",
       "version_major": 2,
       "version_minor": 0
      },
      "text/plain": [
       "Batches:   0%|          | 0/1 [00:00<?, ?it/s]"
      ]
     },
     "metadata": {},
     "output_type": "display_data"
    },
    {
     "data": {
      "application/vnd.jupyter.widget-view+json": {
       "model_id": "a63b7fc26aa94c718228e4e7c5c2c145",
       "version_major": 2,
       "version_minor": 0
      },
      "text/plain": [
       "Batches:   0%|          | 0/1 [00:00<?, ?it/s]"
      ]
     },
     "metadata": {},
     "output_type": "display_data"
    },
    {
     "data": {
      "application/vnd.jupyter.widget-view+json": {
       "model_id": "1e11c01abce44264baf8a8a9fa75c5f1",
       "version_major": 2,
       "version_minor": 0
      },
      "text/plain": [
       "Batches:   0%|          | 0/1 [00:00<?, ?it/s]"
      ]
     },
     "metadata": {},
     "output_type": "display_data"
    },
    {
     "data": {
      "application/vnd.jupyter.widget-view+json": {
       "model_id": "34ba042e84834c44a08de7a62c69cad9",
       "version_major": 2,
       "version_minor": 0
      },
      "text/plain": [
       "Batches:   0%|          | 0/1 [00:00<?, ?it/s]"
      ]
     },
     "metadata": {},
     "output_type": "display_data"
    },
    {
     "data": {
      "application/vnd.jupyter.widget-view+json": {
       "model_id": "44c26e3b60064720b6f65aa99f97d5b7",
       "version_major": 2,
       "version_minor": 0
      },
      "text/plain": [
       "Batches:   0%|          | 0/1 [00:00<?, ?it/s]"
      ]
     },
     "metadata": {},
     "output_type": "display_data"
    },
    {
     "data": {
      "application/vnd.jupyter.widget-view+json": {
       "model_id": "daba1433d92c40d59d4204930511c773",
       "version_major": 2,
       "version_minor": 0
      },
      "text/plain": [
       "Batches:   0%|          | 0/1 [00:00<?, ?it/s]"
      ]
     },
     "metadata": {},
     "output_type": "display_data"
    },
    {
     "data": {
      "application/vnd.jupyter.widget-view+json": {
       "model_id": "71f900c5e70848f3b87a1c3c09a31d45",
       "version_major": 2,
       "version_minor": 0
      },
      "text/plain": [
       "Batches:   0%|          | 0/1 [00:00<?, ?it/s]"
      ]
     },
     "metadata": {},
     "output_type": "display_data"
    },
    {
     "data": {
      "application/vnd.jupyter.widget-view+json": {
       "model_id": "3b586b18e68e40b5837eb2079f63579a",
       "version_major": 2,
       "version_minor": 0
      },
      "text/plain": [
       "Batches:   0%|          | 0/1 [00:00<?, ?it/s]"
      ]
     },
     "metadata": {},
     "output_type": "display_data"
    },
    {
     "data": {
      "application/vnd.jupyter.widget-view+json": {
       "model_id": "3bc88f6c813b44959da6db430d5303ef",
       "version_major": 2,
       "version_minor": 0
      },
      "text/plain": [
       "Batches:   0%|          | 0/1 [00:00<?, ?it/s]"
      ]
     },
     "metadata": {},
     "output_type": "display_data"
    },
    {
     "data": {
      "application/vnd.jupyter.widget-view+json": {
       "model_id": "b7330c49ce5a4bc08461ed30506477c6",
       "version_major": 2,
       "version_minor": 0
      },
      "text/plain": [
       "Batches:   0%|          | 0/1 [00:00<?, ?it/s]"
      ]
     },
     "metadata": {},
     "output_type": "display_data"
    },
    {
     "data": {
      "application/vnd.jupyter.widget-view+json": {
       "model_id": "6c415b1abb2743e1b2dcce8499a08c94",
       "version_major": 2,
       "version_minor": 0
      },
      "text/plain": [
       "Batches:   0%|          | 0/1 [00:00<?, ?it/s]"
      ]
     },
     "metadata": {},
     "output_type": "display_data"
    },
    {
     "data": {
      "application/vnd.jupyter.widget-view+json": {
       "model_id": "457bc5b77a4848669fc74ae7e30a9164",
       "version_major": 2,
       "version_minor": 0
      },
      "text/plain": [
       "Batches:   0%|          | 0/1 [00:00<?, ?it/s]"
      ]
     },
     "metadata": {},
     "output_type": "display_data"
    },
    {
     "data": {
      "application/vnd.jupyter.widget-view+json": {
       "model_id": "2148ba808863465d8b5a16daa751167a",
       "version_major": 2,
       "version_minor": 0
      },
      "text/plain": [
       "Batches:   0%|          | 0/1 [00:00<?, ?it/s]"
      ]
     },
     "metadata": {},
     "output_type": "display_data"
    },
    {
     "data": {
      "application/vnd.jupyter.widget-view+json": {
       "model_id": "f30e2df620a141dca1aa535b7cd4f7b4",
       "version_major": 2,
       "version_minor": 0
      },
      "text/plain": [
       "Batches:   0%|          | 0/1 [00:00<?, ?it/s]"
      ]
     },
     "metadata": {},
     "output_type": "display_data"
    },
    {
     "data": {
      "application/vnd.jupyter.widget-view+json": {
       "model_id": "ed9dca80b251478b9185bc553dd400b4",
       "version_major": 2,
       "version_minor": 0
      },
      "text/plain": [
       "Batches:   0%|          | 0/1 [00:00<?, ?it/s]"
      ]
     },
     "metadata": {},
     "output_type": "display_data"
    },
    {
     "data": {
      "application/vnd.jupyter.widget-view+json": {
       "model_id": "c68f89c7c50f45089b330e974708b816",
       "version_major": 2,
       "version_minor": 0
      },
      "text/plain": [
       "Batches:   0%|          | 0/1 [00:00<?, ?it/s]"
      ]
     },
     "metadata": {},
     "output_type": "display_data"
    },
    {
     "data": {
      "application/vnd.jupyter.widget-view+json": {
       "model_id": "7a85c3a5d57243cbb80e6549813b6b65",
       "version_major": 2,
       "version_minor": 0
      },
      "text/plain": [
       "Batches:   0%|          | 0/1 [00:00<?, ?it/s]"
      ]
     },
     "metadata": {},
     "output_type": "display_data"
    },
    {
     "data": {
      "application/vnd.jupyter.widget-view+json": {
       "model_id": "29549a139d724aaaa31f11ca4a9639f8",
       "version_major": 2,
       "version_minor": 0
      },
      "text/plain": [
       "Batches:   0%|          | 0/1 [00:00<?, ?it/s]"
      ]
     },
     "metadata": {},
     "output_type": "display_data"
    },
    {
     "data": {
      "application/vnd.jupyter.widget-view+json": {
       "model_id": "9d772f71dc114aadb2ca1a9338263a6f",
       "version_major": 2,
       "version_minor": 0
      },
      "text/plain": [
       "Batches:   0%|          | 0/1 [00:00<?, ?it/s]"
      ]
     },
     "metadata": {},
     "output_type": "display_data"
    },
    {
     "data": {
      "application/vnd.jupyter.widget-view+json": {
       "model_id": "7516560b00f745f8af24db4a830d0f1e",
       "version_major": 2,
       "version_minor": 0
      },
      "text/plain": [
       "Batches:   0%|          | 0/1 [00:00<?, ?it/s]"
      ]
     },
     "metadata": {},
     "output_type": "display_data"
    },
    {
     "data": {
      "application/vnd.jupyter.widget-view+json": {
       "model_id": "9a1df8cbe5404cccbd8283f12090d767",
       "version_major": 2,
       "version_minor": 0
      },
      "text/plain": [
       "Batches:   0%|          | 0/1 [00:00<?, ?it/s]"
      ]
     },
     "metadata": {},
     "output_type": "display_data"
    },
    {
     "data": {
      "application/vnd.jupyter.widget-view+json": {
       "model_id": "77a13d3952274f748fc81b639523e03c",
       "version_major": 2,
       "version_minor": 0
      },
      "text/plain": [
       "Batches:   0%|          | 0/1 [00:00<?, ?it/s]"
      ]
     },
     "metadata": {},
     "output_type": "display_data"
    },
    {
     "data": {
      "application/vnd.jupyter.widget-view+json": {
       "model_id": "0f1202b1c0814ecc97e05b39bcde5053",
       "version_major": 2,
       "version_minor": 0
      },
      "text/plain": [
       "Batches:   0%|          | 0/1 [00:00<?, ?it/s]"
      ]
     },
     "metadata": {},
     "output_type": "display_data"
    },
    {
     "data": {
      "application/vnd.jupyter.widget-view+json": {
       "model_id": "91331d0cb9454f51b38e3e99ddc95820",
       "version_major": 2,
       "version_minor": 0
      },
      "text/plain": [
       "Batches:   0%|          | 0/1 [00:00<?, ?it/s]"
      ]
     },
     "metadata": {},
     "output_type": "display_data"
    },
    {
     "data": {
      "application/vnd.jupyter.widget-view+json": {
       "model_id": "c70423f39c974056b5f1946ce5221121",
       "version_major": 2,
       "version_minor": 0
      },
      "text/plain": [
       "Batches:   0%|          | 0/1 [00:00<?, ?it/s]"
      ]
     },
     "metadata": {},
     "output_type": "display_data"
    },
    {
     "data": {
      "application/vnd.jupyter.widget-view+json": {
       "model_id": "023835602a7147ff843d55e8af21764a",
       "version_major": 2,
       "version_minor": 0
      },
      "text/plain": [
       "Batches:   0%|          | 0/1 [00:00<?, ?it/s]"
      ]
     },
     "metadata": {},
     "output_type": "display_data"
    },
    {
     "data": {
      "application/vnd.jupyter.widget-view+json": {
       "model_id": "c460d1595138488ba62ae0ba8f05b898",
       "version_major": 2,
       "version_minor": 0
      },
      "text/plain": [
       "Batches:   0%|          | 0/1 [00:00<?, ?it/s]"
      ]
     },
     "metadata": {},
     "output_type": "display_data"
    },
    {
     "data": {
      "application/vnd.jupyter.widget-view+json": {
       "model_id": "ba9d8969a28349c994b58b905c11ee2a",
       "version_major": 2,
       "version_minor": 0
      },
      "text/plain": [
       "Batches:   0%|          | 0/1 [00:00<?, ?it/s]"
      ]
     },
     "metadata": {},
     "output_type": "display_data"
    },
    {
     "data": {
      "application/vnd.jupyter.widget-view+json": {
       "model_id": "0bc7c66fb1014300aff7b7d4c9615d50",
       "version_major": 2,
       "version_minor": 0
      },
      "text/plain": [
       "Batches:   0%|          | 0/1 [00:00<?, ?it/s]"
      ]
     },
     "metadata": {},
     "output_type": "display_data"
    },
    {
     "data": {
      "application/vnd.jupyter.widget-view+json": {
       "model_id": "8c3d4c6da02c49479ac28746c2465b19",
       "version_major": 2,
       "version_minor": 0
      },
      "text/plain": [
       "Batches:   0%|          | 0/1 [00:00<?, ?it/s]"
      ]
     },
     "metadata": {},
     "output_type": "display_data"
    },
    {
     "data": {
      "application/vnd.jupyter.widget-view+json": {
       "model_id": "684b4e80af3d4fd98daeea0c221559c2",
       "version_major": 2,
       "version_minor": 0
      },
      "text/plain": [
       "Batches:   0%|          | 0/1 [00:00<?, ?it/s]"
      ]
     },
     "metadata": {},
     "output_type": "display_data"
    },
    {
     "data": {
      "application/vnd.jupyter.widget-view+json": {
       "model_id": "60a4113f25e1463c8f6758ad911730a8",
       "version_major": 2,
       "version_minor": 0
      },
      "text/plain": [
       "Batches:   0%|          | 0/1 [00:00<?, ?it/s]"
      ]
     },
     "metadata": {},
     "output_type": "display_data"
    },
    {
     "data": {
      "application/vnd.jupyter.widget-view+json": {
       "model_id": "ae80979d9da24fb7bf2f118e9348125f",
       "version_major": 2,
       "version_minor": 0
      },
      "text/plain": [
       "Batches:   0%|          | 0/1 [00:00<?, ?it/s]"
      ]
     },
     "metadata": {},
     "output_type": "display_data"
    },
    {
     "data": {
      "application/vnd.jupyter.widget-view+json": {
       "model_id": "9f11a8aaee734ee9b283caef2724011d",
       "version_major": 2,
       "version_minor": 0
      },
      "text/plain": [
       "Batches:   0%|          | 0/1 [00:00<?, ?it/s]"
      ]
     },
     "metadata": {},
     "output_type": "display_data"
    },
    {
     "data": {
      "application/vnd.jupyter.widget-view+json": {
       "model_id": "03cc6da38aa140b69cc9554b3fdc30b5",
       "version_major": 2,
       "version_minor": 0
      },
      "text/plain": [
       "Batches:   0%|          | 0/1 [00:00<?, ?it/s]"
      ]
     },
     "metadata": {},
     "output_type": "display_data"
    },
    {
     "data": {
      "application/vnd.jupyter.widget-view+json": {
       "model_id": "dad502bfb4754e14853a2480d3fa2397",
       "version_major": 2,
       "version_minor": 0
      },
      "text/plain": [
       "Batches:   0%|          | 0/1 [00:00<?, ?it/s]"
      ]
     },
     "metadata": {},
     "output_type": "display_data"
    },
    {
     "data": {
      "application/vnd.jupyter.widget-view+json": {
       "model_id": "0912f32eb7874e109efe31e8f453168d",
       "version_major": 2,
       "version_minor": 0
      },
      "text/plain": [
       "Batches:   0%|          | 0/1 [00:00<?, ?it/s]"
      ]
     },
     "metadata": {},
     "output_type": "display_data"
    },
    {
     "data": {
      "application/vnd.jupyter.widget-view+json": {
       "model_id": "503e8472e5fc43cd9ca8af74afadc8db",
       "version_major": 2,
       "version_minor": 0
      },
      "text/plain": [
       "Batches:   0%|          | 0/1 [00:00<?, ?it/s]"
      ]
     },
     "metadata": {},
     "output_type": "display_data"
    },
    {
     "data": {
      "application/vnd.jupyter.widget-view+json": {
       "model_id": "8e491b2bace64e14b512ac9f2a47d09b",
       "version_major": 2,
       "version_minor": 0
      },
      "text/plain": [
       "Batches:   0%|          | 0/1 [00:00<?, ?it/s]"
      ]
     },
     "metadata": {},
     "output_type": "display_data"
    },
    {
     "data": {
      "application/vnd.jupyter.widget-view+json": {
       "model_id": "4bc2674c50eb432e9d5f2aa2f7f02171",
       "version_major": 2,
       "version_minor": 0
      },
      "text/plain": [
       "Batches:   0%|          | 0/1 [00:00<?, ?it/s]"
      ]
     },
     "metadata": {},
     "output_type": "display_data"
    },
    {
     "data": {
      "application/vnd.jupyter.widget-view+json": {
       "model_id": "faa5e747ccfe491c847b5be9bfbcae0f",
       "version_major": 2,
       "version_minor": 0
      },
      "text/plain": [
       "Batches:   0%|          | 0/1 [00:00<?, ?it/s]"
      ]
     },
     "metadata": {},
     "output_type": "display_data"
    },
    {
     "data": {
      "application/vnd.jupyter.widget-view+json": {
       "model_id": "af739e56bca2467db5a0d55d1b150ab9",
       "version_major": 2,
       "version_minor": 0
      },
      "text/plain": [
       "Batches:   0%|          | 0/1 [00:00<?, ?it/s]"
      ]
     },
     "metadata": {},
     "output_type": "display_data"
    },
    {
     "data": {
      "application/vnd.jupyter.widget-view+json": {
       "model_id": "88d8703f817d4f8a9d3bf06970eb78bb",
       "version_major": 2,
       "version_minor": 0
      },
      "text/plain": [
       "Batches:   0%|          | 0/1 [00:00<?, ?it/s]"
      ]
     },
     "metadata": {},
     "output_type": "display_data"
    },
    {
     "data": {
      "application/vnd.jupyter.widget-view+json": {
       "model_id": "63c5866d718d4c4ba946a65ac2631cc0",
       "version_major": 2,
       "version_minor": 0
      },
      "text/plain": [
       "Batches:   0%|          | 0/1 [00:00<?, ?it/s]"
      ]
     },
     "metadata": {},
     "output_type": "display_data"
    },
    {
     "data": {
      "application/vnd.jupyter.widget-view+json": {
       "model_id": "8d69fee36ce64403b5eb3a76f2193fc8",
       "version_major": 2,
       "version_minor": 0
      },
      "text/plain": [
       "Batches:   0%|          | 0/1 [00:00<?, ?it/s]"
      ]
     },
     "metadata": {},
     "output_type": "display_data"
    },
    {
     "data": {
      "application/vnd.jupyter.widget-view+json": {
       "model_id": "447794d4ff4c49769e4385996bac2949",
       "version_major": 2,
       "version_minor": 0
      },
      "text/plain": [
       "Batches:   0%|          | 0/1 [00:00<?, ?it/s]"
      ]
     },
     "metadata": {},
     "output_type": "display_data"
    },
    {
     "data": {
      "application/vnd.jupyter.widget-view+json": {
       "model_id": "23a6b5ba0c9843d0980d8ae82f4d4300",
       "version_major": 2,
       "version_minor": 0
      },
      "text/plain": [
       "Batches:   0%|          | 0/1 [00:00<?, ?it/s]"
      ]
     },
     "metadata": {},
     "output_type": "display_data"
    },
    {
     "data": {
      "application/vnd.jupyter.widget-view+json": {
       "model_id": "be4bc89f977a480e805904da408e0556",
       "version_major": 2,
       "version_minor": 0
      },
      "text/plain": [
       "Batches:   0%|          | 0/1 [00:00<?, ?it/s]"
      ]
     },
     "metadata": {},
     "output_type": "display_data"
    },
    {
     "data": {
      "application/vnd.jupyter.widget-view+json": {
       "model_id": "c9cbc10150b24a7da216c058b9b78b24",
       "version_major": 2,
       "version_minor": 0
      },
      "text/plain": [
       "Batches:   0%|          | 0/1 [00:00<?, ?it/s]"
      ]
     },
     "metadata": {},
     "output_type": "display_data"
    },
    {
     "data": {
      "application/vnd.jupyter.widget-view+json": {
       "model_id": "b7fe96e887d74e4bb31ea63b795be2ce",
       "version_major": 2,
       "version_minor": 0
      },
      "text/plain": [
       "Batches:   0%|          | 0/1 [00:00<?, ?it/s]"
      ]
     },
     "metadata": {},
     "output_type": "display_data"
    },
    {
     "data": {
      "application/vnd.jupyter.widget-view+json": {
       "model_id": "b608eda5868a4eb5b52c9637799a0fa9",
       "version_major": 2,
       "version_minor": 0
      },
      "text/plain": [
       "Batches:   0%|          | 0/1 [00:00<?, ?it/s]"
      ]
     },
     "metadata": {},
     "output_type": "display_data"
    },
    {
     "data": {
      "application/vnd.jupyter.widget-view+json": {
       "model_id": "4c2e262574c6462bb71af8d7cc1e9628",
       "version_major": 2,
       "version_minor": 0
      },
      "text/plain": [
       "Batches:   0%|          | 0/1 [00:00<?, ?it/s]"
      ]
     },
     "metadata": {},
     "output_type": "display_data"
    },
    {
     "data": {
      "application/vnd.jupyter.widget-view+json": {
       "model_id": "fd8de23c97e048658972eac5e6413d44",
       "version_major": 2,
       "version_minor": 0
      },
      "text/plain": [
       "Batches:   0%|          | 0/1 [00:00<?, ?it/s]"
      ]
     },
     "metadata": {},
     "output_type": "display_data"
    },
    {
     "data": {
      "application/vnd.jupyter.widget-view+json": {
       "model_id": "1e0a0b0292104585a35c981553b0534e",
       "version_major": 2,
       "version_minor": 0
      },
      "text/plain": [
       "Batches:   0%|          | 0/1 [00:00<?, ?it/s]"
      ]
     },
     "metadata": {},
     "output_type": "display_data"
    },
    {
     "data": {
      "application/vnd.jupyter.widget-view+json": {
       "model_id": "0dfed18b92a6476899f2e6e16779b1ef",
       "version_major": 2,
       "version_minor": 0
      },
      "text/plain": [
       "Batches:   0%|          | 0/1 [00:00<?, ?it/s]"
      ]
     },
     "metadata": {},
     "output_type": "display_data"
    },
    {
     "data": {
      "application/vnd.jupyter.widget-view+json": {
       "model_id": "35b8982971eb4a82bab999a41f07b9f5",
       "version_major": 2,
       "version_minor": 0
      },
      "text/plain": [
       "Batches:   0%|          | 0/1 [00:00<?, ?it/s]"
      ]
     },
     "metadata": {},
     "output_type": "display_data"
    },
    {
     "data": {
      "application/vnd.jupyter.widget-view+json": {
       "model_id": "1aec628731354ad8b6d1f8875a84c49f",
       "version_major": 2,
       "version_minor": 0
      },
      "text/plain": [
       "Batches:   0%|          | 0/1 [00:00<?, ?it/s]"
      ]
     },
     "metadata": {},
     "output_type": "display_data"
    },
    {
     "data": {
      "application/vnd.jupyter.widget-view+json": {
       "model_id": "4e1a009cb859441c96214c7c0e3d0bc4",
       "version_major": 2,
       "version_minor": 0
      },
      "text/plain": [
       "Batches:   0%|          | 0/1 [00:00<?, ?it/s]"
      ]
     },
     "metadata": {},
     "output_type": "display_data"
    },
    {
     "data": {
      "application/vnd.jupyter.widget-view+json": {
       "model_id": "5c781b6c73ea489aab004dd2258f1bc0",
       "version_major": 2,
       "version_minor": 0
      },
      "text/plain": [
       "Batches:   0%|          | 0/1 [00:00<?, ?it/s]"
      ]
     },
     "metadata": {},
     "output_type": "display_data"
    },
    {
     "data": {
      "application/vnd.jupyter.widget-view+json": {
       "model_id": "80dbedc31eb6405d9f6d17196d433f40",
       "version_major": 2,
       "version_minor": 0
      },
      "text/plain": [
       "Batches:   0%|          | 0/1 [00:00<?, ?it/s]"
      ]
     },
     "metadata": {},
     "output_type": "display_data"
    },
    {
     "data": {
      "application/vnd.jupyter.widget-view+json": {
       "model_id": "cb0dfd12b9f4408faf16bd51567d578c",
       "version_major": 2,
       "version_minor": 0
      },
      "text/plain": [
       "Batches:   0%|          | 0/1 [00:00<?, ?it/s]"
      ]
     },
     "metadata": {},
     "output_type": "display_data"
    },
    {
     "data": {
      "application/vnd.jupyter.widget-view+json": {
       "model_id": "1c012aad55bd4e08a8a359a482a80852",
       "version_major": 2,
       "version_minor": 0
      },
      "text/plain": [
       "Batches:   0%|          | 0/1 [00:00<?, ?it/s]"
      ]
     },
     "metadata": {},
     "output_type": "display_data"
    },
    {
     "data": {
      "application/vnd.jupyter.widget-view+json": {
       "model_id": "392b2ab14f7f4eab954263f7e406543d",
       "version_major": 2,
       "version_minor": 0
      },
      "text/plain": [
       "Batches:   0%|          | 0/1 [00:00<?, ?it/s]"
      ]
     },
     "metadata": {},
     "output_type": "display_data"
    },
    {
     "data": {
      "application/vnd.jupyter.widget-view+json": {
       "model_id": "efe3530b8a3e492493a13abcf721b776",
       "version_major": 2,
       "version_minor": 0
      },
      "text/plain": [
       "Batches:   0%|          | 0/1 [00:00<?, ?it/s]"
      ]
     },
     "metadata": {},
     "output_type": "display_data"
    },
    {
     "data": {
      "application/vnd.jupyter.widget-view+json": {
       "model_id": "3b452b6b1fa0445daf9d9b8285fb3112",
       "version_major": 2,
       "version_minor": 0
      },
      "text/plain": [
       "Batches:   0%|          | 0/1 [00:00<?, ?it/s]"
      ]
     },
     "metadata": {},
     "output_type": "display_data"
    },
    {
     "data": {
      "application/vnd.jupyter.widget-view+json": {
       "model_id": "6c6cdfe30d1141b39b95b4a4bba2a7c8",
       "version_major": 2,
       "version_minor": 0
      },
      "text/plain": [
       "Batches:   0%|          | 0/1 [00:00<?, ?it/s]"
      ]
     },
     "metadata": {},
     "output_type": "display_data"
    },
    {
     "data": {
      "application/vnd.jupyter.widget-view+json": {
       "model_id": "a2af803f8c674fccb75d84ff05b90f30",
       "version_major": 2,
       "version_minor": 0
      },
      "text/plain": [
       "Batches:   0%|          | 0/1 [00:00<?, ?it/s]"
      ]
     },
     "metadata": {},
     "output_type": "display_data"
    },
    {
     "data": {
      "application/vnd.jupyter.widget-view+json": {
       "model_id": "20e0a21214d54c60865803e546f3b7df",
       "version_major": 2,
       "version_minor": 0
      },
      "text/plain": [
       "Batches:   0%|          | 0/1 [00:00<?, ?it/s]"
      ]
     },
     "metadata": {},
     "output_type": "display_data"
    },
    {
     "data": {
      "application/vnd.jupyter.widget-view+json": {
       "model_id": "afbec819a189455986f6f93397af89da",
       "version_major": 2,
       "version_minor": 0
      },
      "text/plain": [
       "Batches:   0%|          | 0/1 [00:00<?, ?it/s]"
      ]
     },
     "metadata": {},
     "output_type": "display_data"
    },
    {
     "data": {
      "application/vnd.jupyter.widget-view+json": {
       "model_id": "7f5a83ba35cd4bd89240981c2c419377",
       "version_major": 2,
       "version_minor": 0
      },
      "text/plain": [
       "Batches:   0%|          | 0/1 [00:00<?, ?it/s]"
      ]
     },
     "metadata": {},
     "output_type": "display_data"
    },
    {
     "data": {
      "application/vnd.jupyter.widget-view+json": {
       "model_id": "2626156c059e44b68d2474ff64ab00c3",
       "version_major": 2,
       "version_minor": 0
      },
      "text/plain": [
       "Batches:   0%|          | 0/1 [00:00<?, ?it/s]"
      ]
     },
     "metadata": {},
     "output_type": "display_data"
    },
    {
     "data": {
      "application/vnd.jupyter.widget-view+json": {
       "model_id": "1177b26c93174d40b8a0ccd961a23f11",
       "version_major": 2,
       "version_minor": 0
      },
      "text/plain": [
       "Batches:   0%|          | 0/1 [00:00<?, ?it/s]"
      ]
     },
     "metadata": {},
     "output_type": "display_data"
    },
    {
     "data": {
      "application/vnd.jupyter.widget-view+json": {
       "model_id": "a64d263da7434a499b93493581c41214",
       "version_major": 2,
       "version_minor": 0
      },
      "text/plain": [
       "Batches:   0%|          | 0/1 [00:00<?, ?it/s]"
      ]
     },
     "metadata": {},
     "output_type": "display_data"
    },
    {
     "data": {
      "application/vnd.jupyter.widget-view+json": {
       "model_id": "fceea87a4b3642c0af6fa7fc860176c5",
       "version_major": 2,
       "version_minor": 0
      },
      "text/plain": [
       "Batches:   0%|          | 0/1 [00:00<?, ?it/s]"
      ]
     },
     "metadata": {},
     "output_type": "display_data"
    },
    {
     "data": {
      "application/vnd.jupyter.widget-view+json": {
       "model_id": "7e20ec7b00274951832c9a8cf79654e5",
       "version_major": 2,
       "version_minor": 0
      },
      "text/plain": [
       "Batches:   0%|          | 0/1 [00:00<?, ?it/s]"
      ]
     },
     "metadata": {},
     "output_type": "display_data"
    },
    {
     "data": {
      "application/vnd.jupyter.widget-view+json": {
       "model_id": "f53f3fd856c2429dac0351b506c10677",
       "version_major": 2,
       "version_minor": 0
      },
      "text/plain": [
       "Batches:   0%|          | 0/1 [00:00<?, ?it/s]"
      ]
     },
     "metadata": {},
     "output_type": "display_data"
    },
    {
     "data": {
      "application/vnd.jupyter.widget-view+json": {
       "model_id": "b7daea92ce354bc4aedcbc98c6383c0e",
       "version_major": 2,
       "version_minor": 0
      },
      "text/plain": [
       "Batches:   0%|          | 0/1 [00:00<?, ?it/s]"
      ]
     },
     "metadata": {},
     "output_type": "display_data"
    },
    {
     "data": {
      "application/vnd.jupyter.widget-view+json": {
       "model_id": "823ae5df1a1e46fba31550698d40f9ee",
       "version_major": 2,
       "version_minor": 0
      },
      "text/plain": [
       "Batches:   0%|          | 0/1 [00:00<?, ?it/s]"
      ]
     },
     "metadata": {},
     "output_type": "display_data"
    },
    {
     "data": {
      "application/vnd.jupyter.widget-view+json": {
       "model_id": "ffc7bd49dbc74a18a298303d936dd34d",
       "version_major": 2,
       "version_minor": 0
      },
      "text/plain": [
       "Batches:   0%|          | 0/1 [00:00<?, ?it/s]"
      ]
     },
     "metadata": {},
     "output_type": "display_data"
    },
    {
     "data": {
      "application/vnd.jupyter.widget-view+json": {
       "model_id": "3df8bb3c92034346a0245b8728d9ab19",
       "version_major": 2,
       "version_minor": 0
      },
      "text/plain": [
       "Batches:   0%|          | 0/1 [00:00<?, ?it/s]"
      ]
     },
     "metadata": {},
     "output_type": "display_data"
    },
    {
     "data": {
      "application/vnd.jupyter.widget-view+json": {
       "model_id": "2d7e9c5a751b44bbb13aa1ad6a13dae4",
       "version_major": 2,
       "version_minor": 0
      },
      "text/plain": [
       "Batches:   0%|          | 0/1 [00:00<?, ?it/s]"
      ]
     },
     "metadata": {},
     "output_type": "display_data"
    },
    {
     "data": {
      "application/vnd.jupyter.widget-view+json": {
       "model_id": "9da038c23d544817b9c4ff1559f651cd",
       "version_major": 2,
       "version_minor": 0
      },
      "text/plain": [
       "Batches:   0%|          | 0/1 [00:00<?, ?it/s]"
      ]
     },
     "metadata": {},
     "output_type": "display_data"
    },
    {
     "data": {
      "application/vnd.jupyter.widget-view+json": {
       "model_id": "fd71e94fe0e343c2be28cfe78eb72449",
       "version_major": 2,
       "version_minor": 0
      },
      "text/plain": [
       "Batches:   0%|          | 0/1 [00:00<?, ?it/s]"
      ]
     },
     "metadata": {},
     "output_type": "display_data"
    },
    {
     "data": {
      "application/vnd.jupyter.widget-view+json": {
       "model_id": "e7e6a4dcf24d4b28ab55123d422496fb",
       "version_major": 2,
       "version_minor": 0
      },
      "text/plain": [
       "Batches:   0%|          | 0/1 [00:00<?, ?it/s]"
      ]
     },
     "metadata": {},
     "output_type": "display_data"
    },
    {
     "data": {
      "application/vnd.jupyter.widget-view+json": {
       "model_id": "862cd5cc8cfe4222809772c7135f12f8",
       "version_major": 2,
       "version_minor": 0
      },
      "text/plain": [
       "Batches:   0%|          | 0/1 [00:00<?, ?it/s]"
      ]
     },
     "metadata": {},
     "output_type": "display_data"
    },
    {
     "data": {
      "application/vnd.jupyter.widget-view+json": {
       "model_id": "dbc8074a910b4773a41733fa1c354e17",
       "version_major": 2,
       "version_minor": 0
      },
      "text/plain": [
       "Batches:   0%|          | 0/1 [00:00<?, ?it/s]"
      ]
     },
     "metadata": {},
     "output_type": "display_data"
    },
    {
     "data": {
      "application/vnd.jupyter.widget-view+json": {
       "model_id": "9cc63bd86c764b77ba0fb99618e39ac5",
       "version_major": 2,
       "version_minor": 0
      },
      "text/plain": [
       "Batches:   0%|          | 0/1 [00:00<?, ?it/s]"
      ]
     },
     "metadata": {},
     "output_type": "display_data"
    },
    {
     "data": {
      "application/vnd.jupyter.widget-view+json": {
       "model_id": "82507a2817e14684ba424f32c37c7311",
       "version_major": 2,
       "version_minor": 0
      },
      "text/plain": [
       "Batches:   0%|          | 0/1 [00:00<?, ?it/s]"
      ]
     },
     "metadata": {},
     "output_type": "display_data"
    },
    {
     "data": {
      "application/vnd.jupyter.widget-view+json": {
       "model_id": "104a95b3da15421daeb6fc2a01fcbd31",
       "version_major": 2,
       "version_minor": 0
      },
      "text/plain": [
       "Batches:   0%|          | 0/1 [00:00<?, ?it/s]"
      ]
     },
     "metadata": {},
     "output_type": "display_data"
    },
    {
     "data": {
      "application/vnd.jupyter.widget-view+json": {
       "model_id": "01901379a0024154a56179bf861748a1",
       "version_major": 2,
       "version_minor": 0
      },
      "text/plain": [
       "Batches:   0%|          | 0/1 [00:00<?, ?it/s]"
      ]
     },
     "metadata": {},
     "output_type": "display_data"
    },
    {
     "data": {
      "application/vnd.jupyter.widget-view+json": {
       "model_id": "cbc2a3644159468ebb3c3b0bff52d739",
       "version_major": 2,
       "version_minor": 0
      },
      "text/plain": [
       "Batches:   0%|          | 0/1 [00:00<?, ?it/s]"
      ]
     },
     "metadata": {},
     "output_type": "display_data"
    },
    {
     "data": {
      "application/vnd.jupyter.widget-view+json": {
       "model_id": "1ace7451882f41419fc84751d3bb6a56",
       "version_major": 2,
       "version_minor": 0
      },
      "text/plain": [
       "Batches:   0%|          | 0/1 [00:00<?, ?it/s]"
      ]
     },
     "metadata": {},
     "output_type": "display_data"
    },
    {
     "data": {
      "application/vnd.jupyter.widget-view+json": {
       "model_id": "ae2e8dcf259c49379cb35269dfde803d",
       "version_major": 2,
       "version_minor": 0
      },
      "text/plain": [
       "Batches:   0%|          | 0/1 [00:00<?, ?it/s]"
      ]
     },
     "metadata": {},
     "output_type": "display_data"
    },
    {
     "data": {
      "application/vnd.jupyter.widget-view+json": {
       "model_id": "4e7726f8bb61420582fa3b1876640322",
       "version_major": 2,
       "version_minor": 0
      },
      "text/plain": [
       "Batches:   0%|          | 0/1 [00:00<?, ?it/s]"
      ]
     },
     "metadata": {},
     "output_type": "display_data"
    },
    {
     "data": {
      "application/vnd.jupyter.widget-view+json": {
       "model_id": "ddc057357fb941d39173cad1377b7b92",
       "version_major": 2,
       "version_minor": 0
      },
      "text/plain": [
       "Batches:   0%|          | 0/1 [00:00<?, ?it/s]"
      ]
     },
     "metadata": {},
     "output_type": "display_data"
    },
    {
     "data": {
      "application/vnd.jupyter.widget-view+json": {
       "model_id": "d8724d1b14dc463699460f540bfc6c52",
       "version_major": 2,
       "version_minor": 0
      },
      "text/plain": [
       "Batches:   0%|          | 0/1 [00:00<?, ?it/s]"
      ]
     },
     "metadata": {},
     "output_type": "display_data"
    },
    {
     "data": {
      "application/vnd.jupyter.widget-view+json": {
       "model_id": "c7c2c5f6003e408d943450bc4e7d554d",
       "version_major": 2,
       "version_minor": 0
      },
      "text/plain": [
       "Batches:   0%|          | 0/1 [00:00<?, ?it/s]"
      ]
     },
     "metadata": {},
     "output_type": "display_data"
    },
    {
     "data": {
      "application/vnd.jupyter.widget-view+json": {
       "model_id": "77d91762650e43a39943c44db435e8bd",
       "version_major": 2,
       "version_minor": 0
      },
      "text/plain": [
       "Batches:   0%|          | 0/1 [00:00<?, ?it/s]"
      ]
     },
     "metadata": {},
     "output_type": "display_data"
    },
    {
     "data": {
      "application/vnd.jupyter.widget-view+json": {
       "model_id": "67a0a5a8b9934bb092064946b449d248",
       "version_major": 2,
       "version_minor": 0
      },
      "text/plain": [
       "Batches:   0%|          | 0/1 [00:00<?, ?it/s]"
      ]
     },
     "metadata": {},
     "output_type": "display_data"
    },
    {
     "data": {
      "application/vnd.jupyter.widget-view+json": {
       "model_id": "00c708cf11c743a098410c03ff761f6f",
       "version_major": 2,
       "version_minor": 0
      },
      "text/plain": [
       "Batches:   0%|          | 0/1 [00:00<?, ?it/s]"
      ]
     },
     "metadata": {},
     "output_type": "display_data"
    },
    {
     "data": {
      "application/vnd.jupyter.widget-view+json": {
       "model_id": "84ae82fd24af4f54881503965df95334",
       "version_major": 2,
       "version_minor": 0
      },
      "text/plain": [
       "Batches:   0%|          | 0/1 [00:00<?, ?it/s]"
      ]
     },
     "metadata": {},
     "output_type": "display_data"
    },
    {
     "data": {
      "application/vnd.jupyter.widget-view+json": {
       "model_id": "d70d7ba11e054843b70b6ce74e1d05b8",
       "version_major": 2,
       "version_minor": 0
      },
      "text/plain": [
       "Batches:   0%|          | 0/1 [00:00<?, ?it/s]"
      ]
     },
     "metadata": {},
     "output_type": "display_data"
    },
    {
     "data": {
      "application/vnd.jupyter.widget-view+json": {
       "model_id": "630ed3ec6ef443cfb382389c8f5c8c8b",
       "version_major": 2,
       "version_minor": 0
      },
      "text/plain": [
       "Batches:   0%|          | 0/1 [00:00<?, ?it/s]"
      ]
     },
     "metadata": {},
     "output_type": "display_data"
    },
    {
     "data": {
      "application/vnd.jupyter.widget-view+json": {
       "model_id": "3704157c44dd47bf91cd69e068b7be69",
       "version_major": 2,
       "version_minor": 0
      },
      "text/plain": [
       "Batches:   0%|          | 0/1 [00:00<?, ?it/s]"
      ]
     },
     "metadata": {},
     "output_type": "display_data"
    },
    {
     "data": {
      "application/vnd.jupyter.widget-view+json": {
       "model_id": "f4d7ef64a2234323a759788df6231acf",
       "version_major": 2,
       "version_minor": 0
      },
      "text/plain": [
       "Batches:   0%|          | 0/1 [00:00<?, ?it/s]"
      ]
     },
     "metadata": {},
     "output_type": "display_data"
    },
    {
     "data": {
      "application/vnd.jupyter.widget-view+json": {
       "model_id": "97c2515e5ae347df94413896b793ddeb",
       "version_major": 2,
       "version_minor": 0
      },
      "text/plain": [
       "Batches:   0%|          | 0/1 [00:00<?, ?it/s]"
      ]
     },
     "metadata": {},
     "output_type": "display_data"
    },
    {
     "data": {
      "application/vnd.jupyter.widget-view+json": {
       "model_id": "d024221edc1d429f82f4fd091ada5294",
       "version_major": 2,
       "version_minor": 0
      },
      "text/plain": [
       "Batches:   0%|          | 0/1 [00:00<?, ?it/s]"
      ]
     },
     "metadata": {},
     "output_type": "display_data"
    },
    {
     "data": {
      "application/vnd.jupyter.widget-view+json": {
       "model_id": "aa60da353f06412883e522d91309e4f2",
       "version_major": 2,
       "version_minor": 0
      },
      "text/plain": [
       "Batches:   0%|          | 0/1 [00:00<?, ?it/s]"
      ]
     },
     "metadata": {},
     "output_type": "display_data"
    },
    {
     "data": {
      "application/vnd.jupyter.widget-view+json": {
       "model_id": "32855261c21d49759633090382a823a6",
       "version_major": 2,
       "version_minor": 0
      },
      "text/plain": [
       "Batches:   0%|          | 0/1 [00:00<?, ?it/s]"
      ]
     },
     "metadata": {},
     "output_type": "display_data"
    },
    {
     "data": {
      "application/vnd.jupyter.widget-view+json": {
       "model_id": "81c86255fe534b7481d43f6dbf706188",
       "version_major": 2,
       "version_minor": 0
      },
      "text/plain": [
       "Batches:   0%|          | 0/1 [00:00<?, ?it/s]"
      ]
     },
     "metadata": {},
     "output_type": "display_data"
    },
    {
     "data": {
      "application/vnd.jupyter.widget-view+json": {
       "model_id": "662a9f7cdc06483e817ffee01193a991",
       "version_major": 2,
       "version_minor": 0
      },
      "text/plain": [
       "Batches:   0%|          | 0/1 [00:00<?, ?it/s]"
      ]
     },
     "metadata": {},
     "output_type": "display_data"
    },
    {
     "data": {
      "application/vnd.jupyter.widget-view+json": {
       "model_id": "74157467a4b944998c52f1aa6e7de2da",
       "version_major": 2,
       "version_minor": 0
      },
      "text/plain": [
       "Batches:   0%|          | 0/1 [00:00<?, ?it/s]"
      ]
     },
     "metadata": {},
     "output_type": "display_data"
    },
    {
     "data": {
      "application/vnd.jupyter.widget-view+json": {
       "model_id": "afcfe81e3f4446008fafa2b623a63f80",
       "version_major": 2,
       "version_minor": 0
      },
      "text/plain": [
       "Batches:   0%|          | 0/1 [00:00<?, ?it/s]"
      ]
     },
     "metadata": {},
     "output_type": "display_data"
    },
    {
     "data": {
      "application/vnd.jupyter.widget-view+json": {
       "model_id": "68042ab837b949dab04e29028ee0935c",
       "version_major": 2,
       "version_minor": 0
      },
      "text/plain": [
       "Batches:   0%|          | 0/1 [00:00<?, ?it/s]"
      ]
     },
     "metadata": {},
     "output_type": "display_data"
    },
    {
     "data": {
      "application/vnd.jupyter.widget-view+json": {
       "model_id": "8071f313fff14c299a12de7237747027",
       "version_major": 2,
       "version_minor": 0
      },
      "text/plain": [
       "Batches:   0%|          | 0/1 [00:00<?, ?it/s]"
      ]
     },
     "metadata": {},
     "output_type": "display_data"
    },
    {
     "data": {
      "application/vnd.jupyter.widget-view+json": {
       "model_id": "eb1bff9eb7a94918b3ca6548437ff82e",
       "version_major": 2,
       "version_minor": 0
      },
      "text/plain": [
       "Batches:   0%|          | 0/1 [00:00<?, ?it/s]"
      ]
     },
     "metadata": {},
     "output_type": "display_data"
    },
    {
     "data": {
      "application/vnd.jupyter.widget-view+json": {
       "model_id": "bf6f1775eb534a26a17f7aa3d0523871",
       "version_major": 2,
       "version_minor": 0
      },
      "text/plain": [
       "Batches:   0%|          | 0/1 [00:00<?, ?it/s]"
      ]
     },
     "metadata": {},
     "output_type": "display_data"
    },
    {
     "data": {
      "application/vnd.jupyter.widget-view+json": {
       "model_id": "bce790c7cb0f41ce85367c9969ec30a5",
       "version_major": 2,
       "version_minor": 0
      },
      "text/plain": [
       "Batches:   0%|          | 0/1 [00:00<?, ?it/s]"
      ]
     },
     "metadata": {},
     "output_type": "display_data"
    },
    {
     "data": {
      "text/html": [
       "<pre style=\"white-space:pre;overflow-x:auto;line-height:normal;font-family:Menlo,'DejaVu Sans Mono',consolas,'Courier New',monospace\"><span style=\"font-weight: bold\">[</span>\n",
       "    <span style=\"color: #008000; text-decoration-color: #008000\">'Title: None\\nDOI: 10.3390/su2113436\\nFullTextURL: http://creativecommons.org/licenses/by/3.0/).'</span>,\n",
       "    <span style=\"color: #008000; text-decoration-color: #008000\">'FullTextContent:\\nSustainability 2010, 2, 3436-3448; doi:10.3390/su2113436 OPEN ACCESS sustainability ISSN </span>\n",
       "<span style=\"color: #008000; text-decoration-color: #008000\">2071-1050 www.mdpi.com/journal/sustainability Review What is Sustainability?'</span>,\n",
       "    <span style=\"color: #008000; text-decoration-color: #008000\">'Tom Kuhlman 1,* and John Farrington 2 1 Agricultural Economics Research Institute, Wageningen University, </span>\n",
       "<span style=\"color: #008000; text-decoration-color: #008000\">P.O.'</span>,\n",
       "    <span style=\"color: #008000; text-decoration-color: #008000\">'Box 29703, 2502LS The Hague, The Netherlands 2 Institute for Rural Research, Geography and Environment, </span>\n",
       "<span style=\"color: #008000; text-decoration-color: #008000\">University of Aberdeen, Elphinstone Road, Aberdeen AB24 3UF, Scotland, UK; E-Mail: j.farrington@abdn.ac.uk * Author</span>\n",
       "<span style=\"color: #008000; text-decoration-color: #008000\">to whom correspondence should be addressed; E-Mail: tom.kuhlman@wur.nl; Tel.'</span>,\n",
       "    <span style=\"color: #008000; text-decoration-color: #008000\">': +31-70-3358-232; Fax: +31-70-3615-624.'</span>,\n",
       "    <span style=\"color: #008000; text-decoration-color: #008000\">'Received: 17 September 2010; in revised form: 15 October 2010 / Accepted: 19 October 2010 / Published: 1 </span>\n",
       "<span style=\"color: #008000; text-decoration-color: #008000\">November 2010 Abstract: Sustainability as a policy concept has its origin in the Brundtland Report of 1987.'</span>,\n",
       "    <span style=\"color: #008000; text-decoration-color: #008000\">'That document was concerned with the tension between the aspirations of mankind towards a better life on the </span>\n",
       "<span style=\"color: #008000; text-decoration-color: #008000\">one hand and the limitations imposed by nature on the other hand.'</span>,\n",
       "    <span style=\"color: #008000; text-decoration-color: #008000\">'In the course of time, the concept has been re-interpreted as encompassing three dimensions, namely social, </span>\n",
       "<span style=\"color: #008000; text-decoration-color: #008000\">economic and environmental.'</span>,\n",
       "    <span style=\"color: #008000; text-decoration-color: #008000\">'The paper argues that this change in meaning (a) obscures the real contradiction between the aims of welfare </span>\n",
       "<span style=\"color: #008000; text-decoration-color: #008000\">for all and environmental conservation; (b) risks diminishing the importance of the environmental dimension; and </span>\n",
       "<span style=\"color: #008000; text-decoration-color: #008000\">(c) separates social from economic aspects, which in reality are one and the same.'</span>,\n",
       "    <span style=\"color: #008000; text-decoration-color: #008000\">'It is proposed instead to return to the original meaning, where sustainability is concerned with the </span>\n",
       "<span style=\"color: #008000; text-decoration-color: #008000\">well-being of future generations and in particular with irreplaceable natural resources as opposed to the </span>\n",
       "<span style=\"color: #008000; text-decoration-color: #008000\">gratification of present needs which we call well-being.'</span>,\n",
       "    <span style=\"color: #008000; text-decoration-color: #008000\">'A balance needs to be found between those two, but not by pretending they are three sides of the same coin.'</span>,\n",
       "    <span style=\"color: #008000; text-decoration-color: #008000\">'Although we use up natural resources at the expense of future generations, we also generate capital (including</span>\n",
       "<span style=\"color: #008000; text-decoration-color: #008000\">knowledge) which raises future well-being.'</span>,\n",
       "    <span style=\"color: #008000; text-decoration-color: #008000\">'A major question is to what extent the one compensates for the other.'</span>,\n",
       "    <span style=\"color: #008000; text-decoration-color: #008000\">'This debate centres around the problem of substitutability, which has been cast into a distinction between  </span>\n",
       "<span style=\"color: #008000; text-decoration-color: #008000\">weak  and  strong  sustainability.'</span>,\n",
       "    <span style=\"color: #008000; text-decoration-color: #008000\">'It is argued that these two do not need to be in opposition but complement one another.'</span>,\n",
       "    <span style=\"color: #008000; text-decoration-color: #008000\">'Sustainability 2010, 2 3437 Keywords: sustainability; well-being; welfare \\n\\n1.'</span>,\n",
       "    <span style=\"color: #008000; text-decoration-color: #008000\">'Introduction \\nThe term sustainability has become popular in policy-oriented research as an expression of what</span>\n",
       "<span style=\"color: #008000; text-decoration-color: #008000\">public policies ought to achieve.'</span>,\n",
       "    <span style=\"color: #008000; text-decoration-color: #008000\">'The principal inspiration came from the Brundtland Report of 1987 [1].'</span>,\n",
       "    <span style=\"color: #008000; text-decoration-color: #008000\">'Since then the concept has shifted in meaning.'</span>,\n",
       "    <span style=\"color: #008000; text-decoration-color: #008000\">'This paper argues that the shift is unfortunate in that it obscures the real contradiction which exists </span>\n",
       "<span style=\"color: #008000; text-decoration-color: #008000\">between long-term sustainability and short-term welfare.'</span>,\n",
       "    <span style=\"color: #008000; text-decoration-color: #008000\">'Moreover, the distinction between three  pillars of sustainability is conceptually fuzzy.'</span>,\n",
       "    <span style=\"color: #008000; text-decoration-color: #008000\">'We propose a definition that reverts to the original sense in which the concept was intended.'</span>,\n",
       "    <span style=\"color: #008000; text-decoration-color: #008000\">'However, this paper does not pretend to offer a comprehensive view of the problem of sustainability.'</span>,\n",
       "    <span style=\"color: #008000; text-decoration-color: #008000\">'It presents a critical view of how the term is used in policy debate and in impact assessment the set of </span>\n",
       "<span style=\"color: #008000; text-decoration-color: #008000\">methods used in applied research to appraise policies and projects.'</span>,\n",
       "    <span style=\"color: #008000; text-decoration-color: #008000\">'2.'</span>,\n",
       "    <span style=\"color: #008000; text-decoration-color: #008000\">'History of the Concept The concept of sustainability was originally coined in forestry, where it means never </span>\n",
       "<span style=\"color: #008000; text-decoration-color: #008000\">harvesting more than what the forest yields in new growth [2].'</span>,\n",
       "    <span style=\"color: #008000; text-decoration-color: #008000\">'The word Nachhaltigkeit (the German term for sustainability) was first used with this meaning in 1713 [3].'</span>,\n",
       "    <span style=\"color: #008000; text-decoration-color: #008000\">'The concern with preserving natural resources for the future is perennial, of course: undoubtedly our </span>\n",
       "<span style=\"color: #008000; text-decoration-color: #008000\">Palaeolithic ancestors worried about their prey becoming extinct, and early farmers must have been apprehensive </span>\n",
       "<span style=\"color: #008000; text-decoration-color: #008000\">about maintaining soil fertility.'</span>,\n",
       "    <span style=\"color: #008000; text-decoration-color: #008000\">'Traditional beliefs enjoined thinking in terms of stewardship and concern for future generations, as expressed</span>\n",
       "<span style=\"color: #008000; text-decoration-color: #008000\">in the oft-quoted words of a Nigerian tribal chief who saw the community as consisting of  many dead, few living </span>\n",
       "<span style=\"color: #008000; text-decoration-color: #008000\">and countless others unborn  [4,5].'</span>,\n",
       "    <span style=\"color: #008000; text-decoration-color: #008000\">'Perhaps there have always been two opposing views of the relation between humankind and nature: one which </span>\n",
       "<span style=\"color: #008000; text-decoration-color: #008000\">stresses adaptation and harmony, and another which sees nature as something to be conquered.'</span>,\n",
       "    <span style=\"color: #008000; text-decoration-color: #008000\">'While this latter view may have been rather dominant in Western civilization at least in recent centuries, its</span>\n",
       "<span style=\"color: #008000; text-decoration-color: #008000\">counterpoint has never been absent.'</span>,\n",
       "    <span style=\"color: #008000; text-decoration-color: #008000\">'Sustainability (without necessarily using the word) is a natural topic of study for economists: after all, the</span>\n",
       "<span style=\"color: #008000; text-decoration-color: #008000\">scarcity of resources is of central concern to the dismal science.'</span>,\n",
       "    <span style=\"color: #008000; text-decoration-color: #008000\">'A famous example is the work of Thomas Malthus, who published his theory about looming mass starvation (due to</span>\n",
       "<span style=\"color: #008000; text-decoration-color: #008000\">the inability of available agricultural land to feed an expanding population) in 1798.'</span>,\n",
       "    <span style=\"color: #008000; text-decoration-color: #008000\">'A theory on the optimal rate of exploitation of non-renewable resource which is still relevant today was </span>\n",
       "<span style=\"color: #008000; text-decoration-color: #008000\">formulated by Harold Hotelling, an American economist, in 1931 [6].'</span>,\n",
       "    <span style=\"color: #008000; text-decoration-color: #008000\">'We shall have more to say about his views later.'</span>,\n",
       "    <span style=\"color: #008000; text-decoration-color: #008000\">'A milestone in capturing the attention of global public policy was the report of the Club of Rome [7], which </span>\n",
       "<span style=\"color: #008000; text-decoration-color: #008000\">predicted that many natural resources crucial to our survival would be exhausted within one or two generations.'</span>,\n",
       "    <span style=\"color: #008000; text-decoration-color: #008000\">'Such pessimism is unbecoming in public policy which is, after all, supposed to be about improving things.'</span>,\n",
       "    <span style=\"color: #008000; text-decoration-color: #008000\">'Therefore, the report of the UN World Commission on Environment and Development, better known as the </span>\n",
       "<span style=\"color: #008000; text-decoration-color: #008000\">Brundtland Report after its chairperson, was welcomed for showing a way out of impending doom.'</span>,\n",
       "    <span style=\"color: #008000; text-decoration-color: #008000\">'It was this report which adopted the concept of sustainability and gave it the widespread recognition it </span>\n",
       "<span style=\"color: #008000; text-decoration-color: #008000\">enjoys today.'</span>,\n",
       "    <span style=\"color: #008000; text-decoration-color: #008000\">'Sustainability 2010, 2 3438 The question which Brundtland and her colleagues posed themselves was: how can the</span>\n",
       "<span style=\"color: #008000; text-decoration-color: #008000\">aspirations of the world s nations for a better life be reconciled with limited natural resources and the dangers </span>\n",
       "<span style=\"color: #008000; text-decoration-color: #008000\">of environmental degradation?'</span>,\n",
       "    <span style=\"color: #008000; text-decoration-color: #008000\">'Their answer is sustainable development, in the Commission s words: development that meets the needs of the </span>\n",
       "<span style=\"color: #008000; text-decoration-color: #008000\">present without compromising the ability of future generations to meet their own needs [1].'</span>,\n",
       "    <span style=\"color: #008000; text-decoration-color: #008000\">'Thus, environmental concerns are important, but the basic argument is one of welfare, seen in a context of </span>\n",
       "<span style=\"color: #008000; text-decoration-color: #008000\">inter-generational equity.'</span>,\n",
       "    <span style=\"color: #008000; text-decoration-color: #008000\">'We should care for the environment not because of its intrinsic value, but in order to preserve resources for </span>\n",
       "<span style=\"color: #008000; text-decoration-color: #008000\">our children.'</span>,\n",
       "    <span style=\"color: #008000; text-decoration-color: #008000\">'Since that time, there have been two major developments in the concept of sustainability: one, its </span>\n",
       "<span style=\"color: #008000; text-decoration-color: #008000\">interpretation in terms of three dimensions, which must be in harmony: social, economic and environmental.'</span>,\n",
       "    <span style=\"color: #008000; text-decoration-color: #008000\">'Two, the distinction between  strong  and  weak  sustainability.'</span>,\n",
       "    <span style=\"color: #008000; text-decoration-color: #008000\">'These two developments are discussed critically in the Sections 3 4 and 5 6, respectively.'</span>,\n",
       "    <span style=\"color: #008000; text-decoration-color: #008000\">'3.'</span>,\n",
       "    <span style=\"color: #008000; text-decoration-color: #008000\">'People, Planet, Profit The Brundtland report speaks of two concerns that should be reconciled: development and</span>\n",
       "<span style=\"color: #008000; text-decoration-color: #008000\">the environment.'</span>,\n",
       "    <span style=\"color: #008000; text-decoration-color: #008000\">'They can also be interpreted as needs versus resources, or as the short versus the long term.'</span>,\n",
       "    <span style=\"color: #008000; text-decoration-color: #008000\">'Today, however, sustainability is almost always seen in terms of three dimensions: social, economic and </span>\n",
       "<span style=\"color: #008000; text-decoration-color: #008000\">environmental [8-11].'</span>,\n",
       "    <span style=\"color: #008000; text-decoration-color: #008000\">'This is embodied in the definition of sustainability adopted by the United Nations in its Agenda for </span>\n",
       "<span style=\"color: #008000; text-decoration-color: #008000\">Development: Development is a multidimensional undertaking to achieve a higher quality of life for all people.'</span>,\n",
       "    <span style=\"color: #008000; text-decoration-color: #008000\">'Economic development, social development and environmental protection are interdependent and mutually </span>\n",
       "<span style=\"color: #008000; text-decoration-color: #008000\">reinforcing components of sustainable development [12].'</span>,\n",
       "    <span style=\"color: #008000; text-decoration-color: #008000\">'But what are economic and social development and how are they different?'</span>,\n",
       "    <span style=\"color: #008000; text-decoration-color: #008000\">'Robert Gibson, a political scientist, says that the distinction is needed because  material gains are not </span>\n",
       "<span style=\"color: #008000; text-decoration-color: #008000\">sufficient measures or preservers of human well-being  [13].'</span>,\n",
       "    <span style=\"color: #008000; text-decoration-color: #008000\">'The same author also suggests that the three dimensions or  pillars  reflect the disciplines of those who </span>\n",
       "<span style=\"color: #008000; text-decoration-color: #008000\">study sustainability, adding for good measure that a cultural and a political pillar could also be included [13].'</span>,\n",
       "    <span style=\"color: #008000; text-decoration-color: #008000\">'Gibson himself, by the way, rejects the idea of pillars altogether and instead formulates seven principles on </span>\n",
       "<span style=\"color: #008000; text-decoration-color: #008000\">which sustainability could be based.'</span>,\n",
       "    <span style=\"color: #008000; text-decoration-color: #008000\">'The idea of sustainability having three dimensions stems from the Triple Bottom Line concept, coined by </span>\n",
       "<span style=\"color: #008000; text-decoration-color: #008000\">Elkington [14].'</span>,\n",
       "    <span style=\"color: #008000; text-decoration-color: #008000\">'As the term bottom line suggests, it originates from the world of management science, and Elkington intended </span>\n",
       "<span style=\"color: #008000; text-decoration-color: #008000\">it as a way to operationalize corporate social responsibility.'</span>,\n",
       "    <span style=\"color: #008000; text-decoration-color: #008000\">'To the conventional bottom line (profit) should be added care for the environment (the planet) as well as </span>\n",
       "<span style=\"color: #008000; text-decoration-color: #008000\">being good to people, for instance by providing facilities for the handicapped and hiring minorities (the social </span>\n",
       "<span style=\"color: #008000; text-decoration-color: #008000\">dimension).'</span>,\n",
       "    <span style=\"color: #008000; text-decoration-color: #008000\">'The goals of business, however, are very different from those of public policy.'</span>,\n",
       "    <span style=\"color: #008000; text-decoration-color: #008000\">'Although, as in business, revenue is needed to cover government expenditure, maximizing the excess of revenue </span>\n",
       "<span style=\"color: #008000; text-decoration-color: #008000\">over expenditure is not normally considered an appropriate goal for government policy.'</span>,\n",
       "    <span style=\"color: #008000; text-decoration-color: #008000\">'Government is not supposed to be a profit-making venture.'</span>,\n",
       "    <span style=\"color: #008000; text-decoration-color: #008000\">'The  profit  pillar is therefore translated as the money made by the entire country, expressed as gross </span>\n",
       "<span style=\"color: #008000; text-decoration-color: #008000\">domestic product (GDP).'</span>,\n",
       "    <span style=\"color: #008000; text-decoration-color: #008000\">'This then is the economic dimension, and the social dimension ( people ) is everything else connected with </span>\n",
       "<span style=\"color: #008000; text-decoration-color: #008000\">human aspirations: equity Sustainability 2010, 2 3439 (translated as income distribution), inclusion (commonly </span>\n",
       "<span style=\"color: #008000; text-decoration-color: #008000\">operationalized as employment) and health (expressed by an indicator such as life expectancy or access to medical </span>\n",
       "<span style=\"color: #008000; text-decoration-color: #008000\">services).'</span>,\n",
       "    <span style=\"color: #008000; text-decoration-color: #008000\">'However, the equation of  economic  with money is a very limited view of economics.'</span>,\n",
       "    <span style=\"color: #008000; text-decoration-color: #008000\">'Moreover, the view is further restricted if we confine ourselves to the aggregate amount, and not with its </span>\n",
       "<span style=\"color: #008000; text-decoration-color: #008000\">distribution or with what the money can buy.'</span>,\n",
       "    <span style=\"color: #008000; text-decoration-color: #008000\">'GDP is intended as a measure of welfare, and as such it is a very useful but also a very incomplete and biased</span>\n",
       "<span style=\"color: #008000; text-decoration-color: #008000\">one.'</span>,\n",
       "    <span style=\"color: #008000; text-decoration-color: #008000\">'It is useful for measuring the amount of economic activity and because there are relatively good data for it; </span>\n",
       "<span style=\"color: #008000; text-decoration-color: #008000\">but it needs to complemented by other indices, such as the Human Development Index.'</span>,\n",
       "    <span style=\"color: #008000; text-decoration-color: #008000\">'These are subjects of study for both economics and sociology, and there is no good reason to call one aspect </span>\n",
       "<span style=\"color: #008000; text-decoration-color: #008000\">economic and the others social.'</span>,\n",
       "    <span style=\"color: #008000; text-decoration-color: #008000\">'The sociologist would ask what welfare is and how it can be measured (an issue discussed in the next section),</span>\n",
       "<span style=\"color: #008000; text-decoration-color: #008000\">whereas the economist s task would be to assess, given human aspirations and the scarcity of resources, what course</span>\n",
       "<span style=\"color: #008000; text-decoration-color: #008000\">of action is likely to produce the highest degree of satisfaction of those aspirations.'</span>,\n",
       "    <span style=\"color: #008000; text-decoration-color: #008000\">'If there is good reason from a conceptual point of view to prefer a single socio-economic dimension, what of </span>\n",
       "<span style=\"color: #008000; text-decoration-color: #008000\">its usefulness to policy analysts?'</span>,\n",
       "    <span style=\"color: #008000; text-decoration-color: #008000\">'Let us consider a hypothetical project which scores very well on the environmental dimension but rather poorly</span>\n",
       "<span style=\"color: #008000; text-decoration-color: #008000\">on both the social and the economic one.'</span>,\n",
       "    <span style=\"color: #008000; text-decoration-color: #008000\">'This might easily lead a policy-maker to conclude that the project is, on the whole, not a good idea.'</span>,\n",
       "    <span style=\"color: #008000; text-decoration-color: #008000\">'A two-dimensional approach might bring about the opposite judgment: its environmental benefits come at a cost </span>\n",
       "<span style=\"color: #008000; text-decoration-color: #008000\">in terms of welfare.'</span>,\n",
       "    <span style=\"color: #008000; text-decoration-color: #008000\">'The environmental dimension may thus receive less weight in a three-dimensional approach.'</span>,\n",
       "    <span style=\"color: #008000; text-decoration-color: #008000\">'Indeed, some authors explicitly state that the three dimensions should receive equal weight [15].'</span>,\n",
       "    <span style=\"color: #008000; text-decoration-color: #008000\">'Since socio-economic aspects are mostly about the well-being of the present generation and environmental ones </span>\n",
       "<span style=\"color: #008000; text-decoration-color: #008000\">are about caring for the future, this means the former become twice as important as the latter which violates the </span>\n",
       "<span style=\"color: #008000; text-decoration-color: #008000\">Brundtland requirement that development should not take place at the expense of future generations.'</span>,\n",
       "    <span style=\"color: #008000; text-decoration-color: #008000\">'Worse, perhaps, is that the contradiction between our desire for a better life and our concern for what this </span>\n",
       "<span style=\"color: #008000; text-decoration-color: #008000\">may do to the environment is obscured by conceptualizing these two concerns into three dimensions, and then </span>\n",
       "<span style=\"color: #008000; text-decoration-color: #008000\">suggesting that a solution is possible where all three are in harmony.'</span>,\n",
       "    <span style=\"color: #008000; text-decoration-color: #008000\">'Sustainability then becomes a concept that is equivalent to  good  and thus devoid of any specific meaning a </span>\n",
       "<span style=\"color: #008000; text-decoration-color: #008000\">blanket concept to assure stakeholders of the policy s good intentions.'</span>,\n",
       "    <span style=\"color: #008000; text-decoration-color: #008000\">'The strength and relevance of the original Brundtland concept was precisely that it posed the question of how </span>\n",
       "<span style=\"color: #008000; text-decoration-color: #008000\">to reconcile one goal  development  with another  sustainability .'</span>,\n",
       "    <span style=\"color: #008000; text-decoration-color: #008000\">'The two goals are often in tension.'</span>,\n",
       "    <span style=\"color: #008000; text-decoration-color: #008000\">'Therefore, we propose to use the word sustainability in the sense as it was intended by the Brundtland </span>\n",
       "<span style=\"color: #008000; text-decoration-color: #008000\">Commission, and not as it has been coined later by corporate types and policy-makers.'</span>,\n",
       "    <span style=\"color: #008000; text-decoration-color: #008000\">'In the words of Robert Solow [16]: If  sustainability  is anything more than a slogan or expression of </span>\n",
       "<span style=\"color: #008000; text-decoration-color: #008000\">emotion, it must amount to an injunction to preserve productive capacity for the indefinite future.'</span>,\n",
       "    <span style=\"color: #008000; text-decoration-color: #008000\">'Such a concept must be confronted with the socio-economic dimension of human aspirations for a better life: </span>\n",
       "<span style=\"color: #008000; text-decoration-color: #008000\">welfare, well-being, development or some similar concept.'</span>,\n",
       "    <span style=\"color: #008000; text-decoration-color: #008000\">'Which of these concepts it should be is the topic of the following section, before returning to our </span>\n",
       "<span style=\"color: #008000; text-decoration-color: #008000\">exploration of sustainability.'</span>,\n",
       "    <span style=\"color: #008000; text-decoration-color: #008000\">'Sustainability 2010, 2 3440 4.'</span>,\n",
       "    <span style=\"color: #008000; text-decoration-color: #008000\">'Happiness, Well-being and Welfare Any of the above words may be used to express a primary goal of government </span>\n",
       "<span style=\"color: #008000; text-decoration-color: #008000\">policy: to improve people s lives.'</span>,\n",
       "    <span style=\"color: #008000; text-decoration-color: #008000\">'In dictionaries (e.g., Merriam-Webster [17]), well-being, welfare and happiness are commonly seen as synonyms,</span>\n",
       "<span style=\"color: #008000; text-decoration-color: #008000\">and offering any one of these three words is deemed sufficient to explain the meaning of any other.'</span>,\n",
       "    <span style=\"color: #008000; text-decoration-color: #008000\">'We propose to consider happiness the broadest concept.'</span>,\n",
       "    <span style=\"color: #008000; text-decoration-color: #008000\">'A policy that would make everybody happy would surely be considered a good one.'</span>,\n",
       "    <span style=\"color: #008000; text-decoration-color: #008000\">'It would also generally be considered impossible to design.'</span>,\n",
       "    <span style=\"color: #008000; text-decoration-color: #008000\">'This is because it is very hard to know what makes people happy.'</span>,\n",
       "    <span style=\"color: #008000; text-decoration-color: #008000\">'Happiness is a subjective state of mind which only partially depends on objective conditions [18].'</span>,\n",
       "    <span style=\"color: #008000; text-decoration-color: #008000\">'It may even be at variance with those conditions: a person may live in objectively very unfortunate </span>\n",
       "<span style=\"color: #008000; text-decoration-color: #008000\">circumstances, yet manage to feel happy [19].'</span>,\n",
       "    <span style=\"color: #008000; text-decoration-color: #008000\">'That is why  gross national happiness  (a term coined by the former King of Bhutan) has to be measured either </span>\n",
       "<span style=\"color: #008000; text-decoration-color: #008000\">by asking people how they feel [20] which is difficult to connect with concrete policies; or, if measured by </span>\n",
       "<span style=\"color: #008000; text-decoration-color: #008000\">objective standards, turns out to be equivalent to what we call well-being [21].'</span>,\n",
       "    <span style=\"color: #008000; text-decoration-color: #008000\">'We propose to view happiness as a basic goal of human behaviour [22] but not of policy.'</span>,\n",
       "    <span style=\"color: #008000; text-decoration-color: #008000\">'Individuals are responsible for their own happiness.'</span>,\n",
       "    <span style=\"color: #008000; text-decoration-color: #008000\">'Governments cannot make people happy.'</span>,\n",
       "    <span style=\"color: #008000; text-decoration-color: #008000\">'However, to the extent that happiness does depend on objective conditions external to the individual, policy </span>\n",
       "<span style=\"color: #008000; text-decoration-color: #008000\">can and indeed should promote them [23].'</span>,\n",
       "    <span style=\"color: #008000; text-decoration-color: #008000\">'What, then, are those conditions and should we call them well-being or welfare? Of these two terms, well-being</span>\n",
       "<span style=\"color: #008000; text-decoration-color: #008000\">is commonly used in a broader sense than welfare [24].'</span>,\n",
       "    <span style=\"color: #008000; text-decoration-color: #008000\">'If happiness can be equated with  subjective well-being  [18,19], then well-being refers to the objective </span>\n",
       "<span style=\"color: #008000; text-decoration-color: #008000\">conditions that help to make people happy.'</span>,\n",
       "    <span style=\"color: #008000; text-decoration-color: #008000\">'It is equivalent to  livability of the environment  in Veenhoven s scheme of  qualities of life  [25], and it </span>\n",
       "<span style=\"color: #008000; text-decoration-color: #008000\">covers what policy can do to advance happiness.'</span>,\n",
       "    <span style=\"color: #008000; text-decoration-color: #008000\">'In Amartya Sen s view, well-being ought to be not about material goods or  basic needs , but about </span>\n",
       "<span style=\"color: #008000; text-decoration-color: #008000\">capabilities to achieve one s potential [26].'</span>,\n",
       "    <span style=\"color: #008000; text-decoration-color: #008000\">'If well-being is to be a policy goal, this means it should incorporate such intangible needs as freedom, </span>\n",
       "<span style=\"color: #008000; text-decoration-color: #008000\">education, security, democracy and justice.'</span>,\n",
       "    <span style=\"color: #008000; text-decoration-color: #008000\">'Welfare is then a more limited concept denoting prosperity in terms of material needs such as food, water, </span>\n",
       "<span style=\"color: #008000; text-decoration-color: #008000\">health, and shelter.'</span>,\n",
       "    <span style=\"color: #008000; text-decoration-color: #008000\">'It tends to be easier to measure than well-being and can therefore serve as a useful proxy as long as we keep </span>\n",
       "<span style=\"color: #008000; text-decoration-color: #008000\">in mind that it does not cover all aspects [27].'</span>,\n",
       "    <span style=\"color: #008000; text-decoration-color: #008000\">'Other  social  indicators, often harder to quantify, refer to issues such as participation and cultural values</span>\n",
       "<span style=\"color: #008000; text-decoration-color: #008000\">[28].'</span>,\n",
       "    <span style=\"color: #008000; text-decoration-color: #008000\">'These fit perfectly into the concept of well-being.'</span>,\n",
       "    <span style=\"color: #008000; text-decoration-color: #008000\">'Thus, we propose to replace the social and economic dimensions of sustainability as conventionally used with a</span>\n",
       "<span style=\"color: #008000; text-decoration-color: #008000\">single dimension called well-being, which is a policy goal that must be balanced with another one called </span>\n",
       "<span style=\"color: #008000; text-decoration-color: #008000\">sustainability.'</span>,\n",
       "    <span style=\"color: #008000; text-decoration-color: #008000\">'Measuring well-being and sustainability separately will enhance the transparency of the policy formulation </span>\n",
       "<span style=\"color: #008000; text-decoration-color: #008000\">process, by bringing out in the open the two issues and clarifying rather than obscuring the choices that have to </span>\n",
       "<span style=\"color: #008000; text-decoration-color: #008000\">be made.'</span>,\n",
       "    <span style=\"color: #008000; text-decoration-color: #008000\">'Of course this does not solve all problems of policy evaluation: well-being has many aspects that need to be </span>\n",
       "<span style=\"color: #008000; text-decoration-color: #008000\">weighed against one another.'</span>,\n",
       "    <span style=\"color: #008000; text-decoration-color: #008000\">'Sustainability 2010, 2 3441 5.'</span>,\n",
       "    <span style=\"color: #008000; text-decoration-color: #008000\">'Sustainability: Resources and the Future Sustainability may then be defined as maintaining well-being over a </span>\n",
       "<span style=\"color: #008000; text-decoration-color: #008000\">long, perhaps even an indefinite period.'</span>,\n",
       "    <span style=\"color: #008000; text-decoration-color: #008000\">'This covers largely the environmental dimension of the triple bottom line, but environment and sustainability </span>\n",
       "<span style=\"color: #008000; text-decoration-color: #008000\">are not synonymous.'</span>,\n",
       "    <span style=\"color: #008000; text-decoration-color: #008000\">'On the one hand, some forms of environmental degradation are both relatively easily reversed and highly </span>\n",
       "<span style=\"color: #008000; text-decoration-color: #008000\">noxious in the present many forms of air and water pollution, for instance.'</span>,\n",
       "    <span style=\"color: #008000; text-decoration-color: #008000\">'These have a strong well-being aspect.'</span>,\n",
       "    <span style=\"color: #008000; text-decoration-color: #008000\">'Indeed, in the EU Guidelines for Impact Assessment [10] they appear both under the environmental and the </span>\n",
       "<span style=\"color: #008000; text-decoration-color: #008000\">social dimension.'</span>,\n",
       "    <span style=\"color: #008000; text-decoration-color: #008000\">'On the other hand, what we bequeath to future generations also includes cultural heritage: art and cultural </span>\n",
       "<span style=\"color: #008000; text-decoration-color: #008000\">landscapes as well as infrastructure, technology and institutions.'</span>,\n",
       "    <span style=\"color: #008000; text-decoration-color: #008000\">'Some of this heritage consists of resources needed for production or, to put it differently, for our </span>\n",
       "<span style=\"color: #008000; text-decoration-color: #008000\">survival.'</span>,\n",
       "    <span style=\"color: #008000; text-decoration-color: #008000\">'It is not always easy to know which ones these are, as resources essential today may be substituted by others </span>\n",
       "<span style=\"color: #008000; text-decoration-color: #008000\">tomorrow; and genetic resources potentially useful for medicine may be lost before we have even identified them.'</span>,\n",
       "    <span style=\"color: #008000; text-decoration-color: #008000\">'Other resources are appreciated for their esthetic, scientific or  intrinsic  value (such as the existence of </span>\n",
       "<span style=\"color: #008000; text-decoration-color: #008000\">orangutans, Picasso paintings, or knowledge of black holes).'</span>,\n",
       "    <span style=\"color: #008000; text-decoration-color: #008000\">'Some of these are not easily lost or are well protected (knowledge, works of art); others are more difficult </span>\n",
       "<span style=\"color: #008000; text-decoration-color: #008000\">to preserve (cultural-historical landscapes).'</span>,\n",
       "    <span style=\"color: #008000; text-decoration-color: #008000\">'Since man does not live by bread alone, there is no fundamental reason to separate the two types.'</span>,\n",
       "    <span style=\"color: #008000; text-decoration-color: #008000\">'It makes more sense to distinguish between natural and man-made resources, and between renewable and </span>\n",
       "<span style=\"color: #008000; text-decoration-color: #008000\">non-renewable ones [29].'</span>,\n",
       "    <span style=\"color: #008000; text-decoration-color: #008000\">'Renewable man-made resources are equivalent to what economists call capital, and we shall use the term capital</span>\n",
       "<span style=\"color: #008000; text-decoration-color: #008000\">in that sense ().'</span>,\n",
       "    <span style=\"color: #008000; text-decoration-color: #008000\">'A Fourfold Classification of Natural and Cultural Resources.'</span>,\n",
       "    <span style=\"color: #008000; text-decoration-color: #008000\">'Non-renewable Renewable Natural e.g., soil, biodiversity, fossil fuels e.g., water, forest, clean air Man-made</span>\n",
       "<span style=\"color: #008000; text-decoration-color: #008000\">e.g., paintings, landscapes capital As Robert Solow [16] has pointed out, we cannot avoid using up some </span>\n",
       "<span style=\"color: #008000; text-decoration-color: #008000\">non-renewable natural resources, but this does not mean that these will necessarily become completely exhausted.'</span>,\n",
       "    <span style=\"color: #008000; text-decoration-color: #008000\">'In Solow s view, natural resources (whether renewable or non-renewable) can always be substituted by capital </span>\n",
       "<span style=\"color: #008000; text-decoration-color: #008000\">[30].'</span>,\n",
       "    <span style=\"color: #008000; text-decoration-color: #008000\">'This can take the form of new materials (say, plastic for steel) or smaller amounts of the natural resource </span>\n",
       "<span style=\"color: #008000; text-decoration-color: #008000\">for the same amount of end product (e.g., energy efficiency).'</span>,\n",
       "    <span style=\"color: #008000; text-decoration-color: #008000\">'New natural resources are harnessed while others become obsolete before they are depleted.'</span>,\n",
       "    <span style=\"color: #008000; text-decoration-color: #008000\">'An example is the substitution of coke for charcoal in the iron industry as wood for charcoal was becoming </span>\n",
       "<span style=\"color: #008000; text-decoration-color: #008000\">scarce, or the transition from hunting and gathering to agriculture in tandem with increasing population </span>\n",
       "<span style=\"color: #008000; text-decoration-color: #008000\">densities.'</span>,\n",
       "    <span style=\"color: #008000; text-decoration-color: #008000\">'In any case, capital continues to increase as natural resources become scarcer.'</span>,\n",
       "    <span style=\"color: #008000; text-decoration-color: #008000\">'We do not know, of course, whether technology will always be able to solve our resource problems, and moreover</span>\n",
       "<span style=\"color: #008000; text-decoration-color: #008000\">there are resources that we just do not want to lose such as the blue whale or the Amazon forest.'</span>,\n",
       "    <span style=\"color: #008000; text-decoration-color: #008000\">'The question is, how much of our natural resources can we sacrifice?'</span>,\n",
       "    <span style=\"color: #008000; text-decoration-color: #008000\">'More precisely, we should pose two questions: what resources should we preserve at all cost, and to what </span>\n",
       "<span style=\"color: #008000; text-decoration-color: #008000\">degree?'</span>,\n",
       "    <span style=\"color: #008000; text-decoration-color: #008000\">'And, for those that can be substituted for by capital, how much capital should be created to compensate for </span>\n",
       "<span style=\"color: #008000; text-decoration-color: #008000\">the loss of how much in terms of natural resources?'</span>,\n",
       "    <span style=\"color: #008000; text-decoration-color: #008000\">'Sustainability 2010, 2 3442 The first question is beyond the purview of the economist.'</span>,\n",
       "    <span style=\"color: #008000; text-decoration-color: #008000\">'It is a decision of society what resources are to be considered essential.'</span>,\n",
       "    <span style=\"color: #008000; text-decoration-color: #008000\">'Economic analysis can, of course, estimate the cost of their conservation in terms of well-being foregone, to </span>\n",
       "<span style=\"color: #008000; text-decoration-color: #008000\">help in the decision-making process.'</span>,\n",
       "    <span style=\"color: #008000; text-decoration-color: #008000\">'The second question was first analyzed by Harold Hotelling in 1931.'</span>,\n",
       "    <span style=\"color: #008000; text-decoration-color: #008000\">'Hotelling considered that the depletion of a natural resource may be too slow as well as too fast: the present</span>\n",
       "<span style=\"color: #008000; text-decoration-color: #008000\">generation would probably not be better off if our ancestors had limited the extraction of coal to 10% of what they</span>\n",
       "<span style=\"color: #008000; text-decoration-color: #008000\">actually used; the progress of manufacturing would have been much slower, and even as it is we are not short of </span>\n",
       "<span style=\"color: #008000; text-decoration-color: #008000\">coal for a couple of centuries yet.'</span>,\n",
       "    <span style=\"color: #008000; text-decoration-color: #008000\">'There is an optimum rate of exhaustion, in which the social cost of losing the resource is outweighed by the </span>\n",
       "<span style=\"color: #008000; text-decoration-color: #008000\">social benefit which it yields over the period of use.'</span>,\n",
       "    <span style=\"color: #008000; text-decoration-color: #008000\">'This benefit can be expressed as rent, which in economic theory means the payment for a production factor </span>\n",
       "<span style=\"color: #008000; text-decoration-color: #008000\">above what is needed to keep it operating.'</span>,\n",
       "    <span style=\"color: #008000; text-decoration-color: #008000\">'In an ideal situation, where a mineral is freely accessible, the rent is the excess of the price of the </span>\n",
       "<span style=\"color: #008000; text-decoration-color: #008000\">mineral over the cost of extracting it.'</span>,\n",
       "    <span style=\"color: #008000; text-decoration-color: #008000\">'Hotelling shows that this rent is maximized if the increase in rent is equal to the discount rate [6].'</span>,\n",
       "    <span style=\"color: #008000; text-decoration-color: #008000\">'That rate is an important quantity in welfare economics: it expresses how the value of a future benefit </span>\n",
       "<span style=\"color: #008000; text-decoration-color: #008000\">compares to the same benefit in the present.'</span>,\n",
       "    <span style=\"color: #008000; text-decoration-color: #008000\">'Social discount rates as used for public investments tend to be of the order of a few percentage points per </span>\n",
       "<span style=\"color: #008000; text-decoration-color: #008000\">year; if we place a high value on caring for the future, we would use a low discount rate.'</span>,\n",
       "    <span style=\"color: #008000; text-decoration-color: #008000\">'Hotelling s theory was taken up taken up by Robert Solow in a lecture in 1974, where he proposes that these </span>\n",
       "<span style=\"color: #008000; text-decoration-color: #008000\">resource rents (or Hotelling rents) must be invested in productive capital so as to compensate future generations </span>\n",
       "<span style=\"color: #008000; text-decoration-color: #008000\">for their loss of the natural resource.'</span>,\n",
       "    <span style=\"color: #008000; text-decoration-color: #008000\">'This is also known as Hartwick s rule [16].'</span>,\n",
       "    <span style=\"color: #008000; text-decoration-color: #008000\">'Such thoughts are at the basis of funds that some resource-rich countries set up to invest the proceeds of </span>\n",
       "<span style=\"color: #008000; text-decoration-color: #008000\">their resource for the future.'</span>,\n",
       "    <span style=\"color: #008000; text-decoration-color: #008000\">'The big unknown here is, of course, whether capital (including technical progress) can indeed substitute for </span>\n",
       "<span style=\"color: #008000; text-decoration-color: #008000\">natural resources indefinitely [31].'</span>,\n",
       "    <span style=\"color: #008000; text-decoration-color: #008000\">'While we do not know this, technical progress may provide us with an objective basis for the social discount </span>\n",
       "<span style=\"color: #008000; text-decoration-color: #008000\">rate, i.e., the rate that we should use as a society to discount future as compared to present well-being.'</span>,\n",
       "    <span style=\"color: #008000; text-decoration-color: #008000\">'That basis, according to Randall [31] should be the marginal efficiency of capital, which in the long run is </span>\n",
       "<span style=\"color: #008000; text-decoration-color: #008000\">equal to the productivity of society.'</span>,\n",
       "    <span style=\"color: #008000; text-decoration-color: #008000\">'That brings us closer to measuring sustainability but not close enough.'</span>,\n",
       "    <span style=\"color: #008000; text-decoration-color: #008000\">'The productivity of society can be measured only in terms of GDP, which as we saw is not a reliable indicator </span>\n",
       "<span style=\"color: #008000; text-decoration-color: #008000\">of well-being.'</span>,\n",
       "    <span style=\"color: #008000; text-decoration-color: #008000\">'However, Randall is right in pointing out that artificially keeping the discount rate low for the benefit of </span>\n",
       "<span style=\"color: #008000; text-decoration-color: #008000\">future generations may actually do those generations a disfavour by misallocating resources today and bequeathing </span>\n",
       "<span style=\"color: #008000; text-decoration-color: #008000\">them a lower standard of well-being than they might have enjoyed.'</span>,\n",
       "    <span style=\"color: #008000; text-decoration-color: #008000\">'It will by now be clear how crucial the discount rate is for intergenerational equity, which we propose to </span>\n",
       "<span style=\"color: #008000; text-decoration-color: #008000\">equate with sustainability.'</span>,\n",
       "    <span style=\"color: #008000; text-decoration-color: #008000\">'It could be argued that this rate should be zero, in which case the welfare of future generations would be of </span>\n",
       "<span style=\"color: #008000; text-decoration-color: #008000\">equal importance to our own.'</span>,\n",
       "    <span style=\"color: #008000; text-decoration-color: #008000\">'The difficulty with this view is that we do not know what the value of today s natural resources (or of some </span>\n",
       "<span style=\"color: #008000; text-decoration-color: #008000\">of them, in any case) will be in the future.'</span>,\n",
       "    <span style=\"color: #008000; text-decoration-color: #008000\">'A distinction should therefore be made between those resources which we are convinced will always be important</span>\n",
       "<span style=\"color: #008000; text-decoration-color: #008000\">(biodiversity is a case in point) and those which depend on the state of technology (for example, the need for </span>\n",
       "<span style=\"color: #008000; text-decoration-color: #008000\">oil).'</span>,\n",
       "    <span style=\"color: #008000; text-decoration-color: #008000\">'Sustainability can now loosely be defined as a state of affairs where the sum of natural and man-made </span>\n",
       "<span style=\"color: #008000; text-decoration-color: #008000\">resources remains at least constant for the foreseeable future, in order that the well-being of future generations </span>\n",
       "<span style=\"color: #008000; text-decoration-color: #008000\">does not decline.'</span>,\n",
       "    <span style=\"color: #008000; text-decoration-color: #008000\">'Ideally, when we assess the potential impact of a proposed policy, programme or project, it should both lead </span>\n",
       "<span style=\"color: #008000; text-decoration-color: #008000\">to higher well-being and to a positive or at least neutral Sustainability 2010, 2 3443 effect on the overall state </span>\n",
       "<span style=\"color: #008000; text-decoration-color: #008000\">of resources for the future in which case we can speak of sustainable development [32].'</span>,\n",
       "    <span style=\"color: #008000; text-decoration-color: #008000\">'6.'</span>,\n",
       "    <span style=\"color: #008000; text-decoration-color: #008000\">'Weak and Strong Sustainability Sustainability, then, is a matter of what resources natural resources, quality </span>\n",
       "<span style=\"color: #008000; text-decoration-color: #008000\">of the environment, and capital we bequeath to coming generations.'</span>,\n",
       "    <span style=\"color: #008000; text-decoration-color: #008000\">'As we saw, some loss of natural resources is inevitable, but this may be compensated for by increased capital </span>\n",
       "<span style=\"color: #008000; text-decoration-color: #008000\">at least in the view of Robert Solow and his ilk.'</span>,\n",
       "    <span style=\"color: #008000; text-decoration-color: #008000\">'Others, however, oppose the idea that capital can substitute for natural resources and feel that </span>\n",
       "<span style=\"color: #008000; text-decoration-color: #008000\">sustainability is a matter of preserving natural resources essential for our survival [33].'</span>,\n",
       "    <span style=\"color: #008000; text-decoration-color: #008000\">'The two views are eloquently stated in Pearce et al.'</span>,\n",
       "    <span style=\"color: #008000; text-decoration-color: #008000\">'[32]: (i) That the next generation should inherit a stock of wealth, comprising man-made assets and </span>\n",
       "<span style=\"color: #008000; text-decoration-color: #008000\">environmental assets, no less than the stock inherited by the previous generation; (ii) That the next generation </span>\n",
       "<span style=\"color: #008000; text-decoration-color: #008000\">should inherit a stock of environmental assets no less than the stock inherited by the previous generation.'</span>,\n",
       "    <span style=\"color: #008000; text-decoration-color: #008000\">'These two views have been called  weak  and  strong  sustainability, respectively [34].'</span>,\n",
       "    <span style=\"color: #008000; text-decoration-color: #008000\">'Although the difference between them led to a heated debate [35,36], there is a place for both of them.'</span>,\n",
       "    <span style=\"color: #008000; text-decoration-color: #008000\">'Some resources must fall under the requirement of strong sustainability, others under the weak variety.'</span>,\n",
       "    <span style=\"color: #008000; text-decoration-color: #008000\">'Which of the two it is will depend on the degree to which they can be substituted by capital.'</span>,\n",
       "    <span style=\"color: #008000; text-decoration-color: #008000\">'The depletion of fossil fuels, for instance, is an issue of weak sustainability: provided other sources of </span>\n",
       "<span style=\"color: #008000; text-decoration-color: #008000\">energy are developed instead, we are not obliged to leave our descendants an undiminished stock of petroleum.'</span>,\n",
       "    <span style=\"color: #008000; text-decoration-color: #008000\">'An extinct species, on the other hand, cannot, at the current state of scientific knowledge, be recovered, and</span>\n",
       "<span style=\"color: #008000; text-decoration-color: #008000\">must therefore be considered a loss in terms of strong sustainability.'</span>,\n",
       "    <span style=\"color: #008000; text-decoration-color: #008000\">'Strong sustainability can be seen as a series of thresholds that must not be crossed.'</span>,\n",
       "    <span style=\"color: #008000; text-decoration-color: #008000\">'In impact assessment, any outcome of a proposed intervention must fall within those thresholds.'</span>,\n",
       "    <span style=\"color: #008000; text-decoration-color: #008000\">'Setting such thresholds is largely a matter of socially and politically determined preferences, but also a </span>\n",
       "<span style=\"color: #008000; text-decoration-color: #008000\">matter of resilience: to what extent is a system (for instance an ecosystem) able to recover from shocks and </span>\n",
       "<span style=\"color: #008000; text-decoration-color: #008000\">stress?'</span>,\n",
       "    <span style=\"color: #008000; text-decoration-color: #008000\">'We may think of strong sustainability as a space delimited by such thresholds.'</span>,\n",
       "    <span style=\"color: #008000; text-decoration-color: #008000\">'Weak sustainability is then the yardstick by which policy outcomes within that space are judged.'</span>,\n",
       "    <span style=\"color: #008000; text-decoration-color: #008000\">'Given that the conditions of strong sustainability are met, the most sustainable outcome will be that which </span>\n",
       "<span style=\"color: #008000; text-decoration-color: #008000\">leads to the largest amount of both natural and man-made resources, i.e., environmental assets, valuable landscapes</span>\n",
       "<span style=\"color: #008000; text-decoration-color: #008000\">and other forms of cultural heritage, science and technology, infrastructure, etc.'</span>,\n",
       "    <span style=\"color: #008000; text-decoration-color: #008000\">'Such an approach is familiar to economists: in economic analysis, one of the constraints is always the legal </span>\n",
       "<span style=\"color: #008000; text-decoration-color: #008000\">system governing an economy, by whose rules an economic agent must play.'</span>,\n",
       "    <span style=\"color: #008000; text-decoration-color: #008000\">'Strong sustainability is an aspect of such rules.'</span>,\n",
       "    <span style=\"color: #008000; text-decoration-color: #008000\">'Thus weak and strong sustainability each have a role to play in impact assessment.'</span>,\n",
       "    <span style=\"color: #008000; text-decoration-color: #008000\">'However, having such a framework does not mean that there are no more disagreements.'</span>,\n",
       "    <span style=\"color: #008000; text-decoration-color: #008000\">'For each environmental issue there can be arguments about its substitutability.'</span>,\n",
       "    <span style=\"color: #008000; text-decoration-color: #008000\">'Generally, ecologists and other natural scientists will favour a larger role for strong sustainability </span>\n",
       "<span style=\"color: #008000; text-decoration-color: #008000\">(emphasizing non-substitutable ecosystem functions), whereas economists tend to like weak sustainability as this </span>\n",
       "<span style=\"color: #008000; text-decoration-color: #008000\">gives them leeway to use their models.'</span>,\n",
       "    <span style=\"color: #008000; text-decoration-color: #008000\">'Sustainability 2010, 2 3444 Strong sustainability puts them out of work.'</span>,\n",
       "    <span style=\"color: #008000; text-decoration-color: #008000\">'The strongest argument in favour of weak sustainability is that it allows the calculation of the cost of </span>\n",
       "<span style=\"color: #008000; text-decoration-color: #008000\">preserving an environmental asset as well as its benefit.'</span>,\n",
       "    <span style=\"color: #008000; text-decoration-color: #008000\">'For instance, if the cost of mitigating climate change is very high (say, hypothetically, sacrificing 1 </span>\n",
       "<span style=\"color: #008000; text-decoration-color: #008000\">percentage point of world economic growth annually in order to avoid 0.5  of temperature increase over 50 years), </span>\n",
       "<span style=\"color: #008000; text-decoration-color: #008000\">one might decide to allocate resources to buying land for nature reserves instead.'</span>,\n",
       "    <span style=\"color: #008000; text-decoration-color: #008000\">'The most crucial variables in sustainability assessment will be the thresholds of strong sustainability, the </span>\n",
       "<span style=\"color: #008000; text-decoration-color: #008000\">social discount rate to be used, and the valuation of material benefits versus those of  intrinsic  value.'</span>,\n",
       "    <span style=\"color: #008000; text-decoration-color: #008000\">'Strong sustainability has two principal arguments, which we may call ecosystem services and stewardship.'</span>,\n",
       "    <span style=\"color: #008000; text-decoration-color: #008000\">'According to the former, human life exists only by the grace of nature, which provides a number of essential </span>\n",
       "<span style=\"color: #008000; text-decoration-color: #008000\">services termed ecosystem services [37].'</span>,\n",
       "    <span style=\"color: #008000; text-decoration-color: #008000\">'We damage these systems at our peril.'</span>,\n",
       "    <span style=\"color: #008000; text-decoration-color: #008000\">'The second argument is an ethical one, namely that we do not have the right to destroy the right to life of </span>\n",
       "<span style=\"color: #008000; text-decoration-color: #008000\">other species, or that we must preserve the beauty and diversity of our natural environment for our own enjoyment </span>\n",
       "<span style=\"color: #008000; text-decoration-color: #008000\">as well as for future generations.'</span>,\n",
       "    <span style=\"color: #008000; text-decoration-color: #008000\">'It is of course not possible for any policy-maker to prevent completely the extinction of species, the </span>\n",
       "<span style=\"color: #008000; text-decoration-color: #008000\">decrease of natural habitats or the disappearance of valuable landscapes; but this is not the point of strong </span>\n",
       "<span style=\"color: #008000; text-decoration-color: #008000\">sustainability.'</span>,\n",
       "    <span style=\"color: #008000; text-decoration-color: #008000\">'The point is that any action the policy-maker considers can be assessed in advance for its impact on any </span>\n",
       "<span style=\"color: #008000; text-decoration-color: #008000\">aspect of natural resources.'</span>,\n",
       "    <span style=\"color: #008000; text-decoration-color: #008000\">'The policy-maker can decide in advance what types of impact are tolerable, and for those that are, to </span>\n",
       "<span style=\"color: #008000; text-decoration-color: #008000\">ascertain that a permissible negative impact is compensated for in terms of well-being [38].'</span>,\n",
       "    <span style=\"color: #008000; text-decoration-color: #008000\">'7.'</span>,\n",
       "    <span style=\"color: #008000; text-decoration-color: #008000\">'Conclusions Having reached this point, the reader may feel we have come no closer to solving the practical </span>\n",
       "<span style=\"color: #008000; text-decoration-color: #008000\">problem of how to measure sustainability. Indeed we have aimed more at exploring the theoretical basis for defining</span>\n",
       "<span style=\"color: #008000; text-decoration-color: #008000\">sustainability than providing a practical manual for measuring it. In spite of the large body of literature on </span>\n",
       "<span style=\"color: #008000; text-decoration-color: #008000\">sustainability, we feel that there is still need for clarifying the concept.'</span>,\n",
       "    <span style=\"color: #008000; text-decoration-color: #008000\">'Since sustainability is a topic of both policy appraisal and scientific study, its definition must be useful </span>\n",
       "<span style=\"color: #008000; text-decoration-color: #008000\">for both fields of work.'</span>,\n",
       "    <span style=\"color: #008000; text-decoration-color: #008000\">'We believe that separating the needs of the present from the needs of those who will come after us is a </span>\n",
       "<span style=\"color: #008000; text-decoration-color: #008000\">sensible way to analyze scenarios and assess the impact of policies, because it clarifies the choices that need to </span>\n",
       "<span style=\"color: #008000; text-decoration-color: #008000\">be made.'</span>,\n",
       "    <span style=\"color: #008000; text-decoration-color: #008000\">'We propose to call the former well-being and the latter sustainability.'</span>,\n",
       "    <span style=\"color: #008000; text-decoration-color: #008000\">'This prevents sustainability from becoming an empty phrase indistinguishable from  goodness .'</span>,\n",
       "    <span style=\"color: #008000; text-decoration-color: #008000\">'Well-being mostly corresponds with the social and economic dimensions of the  triple bottom line , </span>\n",
       "<span style=\"color: #008000; text-decoration-color: #008000\">sustainability with the environmental dimension.'</span>,\n",
       "    <span style=\"color: #008000; text-decoration-color: #008000\">'When assessing the impact of a policy on well-being, the distinction between social and economic dimensions is</span>\n",
       "<span style=\"color: #008000; text-decoration-color: #008000\">not helpful and often impossible to make in practice.'</span>,\n",
       "    <span style=\"color: #008000; text-decoration-color: #008000\">'It is better to use sociological insights to assign values to the different aspects of well-being, and </span>\n",
       "<span style=\"color: #008000; text-decoration-color: #008000\">economics to combine those values into an overall assessment.'</span>,\n",
       "    <span style=\"color: #008000; text-decoration-color: #008000\">'In arriving at actual measurements (inevitable for comparing different possible outcomes), some important but </span>\n",
       "<span style=\"color: #008000; text-decoration-color: #008000\">imponderable costs and benefits may have to be left out because they cannot be expressed in quantitative terms.'</span>,\n",
       "    <span style=\"color: #008000; text-decoration-color: #008000\">'However, they should be left out only from the measurement, not from the assessment.'</span>,\n",
       "    <span style=\"color: #008000; text-decoration-color: #008000\">'In this way, decision-makers can at least see how much an unmeasured benefit will cost, or what has to be </span>\n",
       "<span style=\"color: #008000; text-decoration-color: #008000\">sacrificed for a certain increase in measured well- Sustainability 2010, 2 3445 being.'</span>,\n",
       "    <span style=\"color: #008000; text-decoration-color: #008000\">'The concept of welfare may be useful as a subset of well-being namely, that part of well-being that can be </span>\n",
       "<span style=\"color: #008000; text-decoration-color: #008000\">quantified and valued in money terms.'</span>,\n",
       "    <span style=\"color: #008000; text-decoration-color: #008000\">'When assessing sustainability, a distinction should be made between strong and weak sustainability. Both can </span>\n",
       "<span style=\"color: #008000; text-decoration-color: #008000\">have a place in impact assessment: strong sustainability as thresholds that should not be crossed, weak </span>\n",
       "<span style=\"color: #008000; text-decoration-color: #008000\">sustainability for those environmental amenities, natural resources or ecosystem services (these three terms are </span>\n",
       "<span style=\"color: #008000; text-decoration-color: #008000\">more, or less, interchangeable) that are in principle substitutable for others.'</span>,\n",
       "    <span style=\"color: #008000; text-decoration-color: #008000\">'The setting of the thresholds is a matter of policy, but must be informed by scientific knowledge on the </span>\n",
       "<span style=\"color: #008000; text-decoration-color: #008000\">resilience of ecosystems.'</span>,\n",
       "    <span style=\"color: #008000; text-decoration-color: #008000\">'The thresholds can be set so restrictively that no sustainable outcome is possible, and all that policy can do</span>\n",
       "<span style=\"color: #008000; text-decoration-color: #008000\">is to minimize the extent by which thresholds are exceeded.'</span>,\n",
       "    <span style=\"color: #008000; text-decoration-color: #008000\">'The less restrictive they are, the larger the  sustainability space , within which analysts can model and </span>\n",
       "<span style=\"color: #008000; text-decoration-color: #008000\">compare different outcomes.'</span>,\n",
       "    <span style=\"color: #008000; text-decoration-color: #008000\">'Potschin s and Haines-Young s notion of sustainability choice space [39] is a way of articulating this.'</span>,\n",
       "    <span style=\"color: #008000; text-decoration-color: #008000\">'In such analysis the participation of natural and social scientists (including economists) is needed.'</span>,\n",
       "    <span style=\"color: #008000; text-decoration-color: #008000\">'We see this as a possible way to resolve the perennial conflict between economists and ecologists about </span>\n",
       "<span style=\"color: #008000; text-decoration-color: #008000\">sustainability, or at the very least a method to handle that conflict.'</span>,\n",
       "    <span style=\"color: #008000; text-decoration-color: #008000\">'The latter tend to baulk at cost-benefit analysis in which natural resources may be substituted by man-made </span>\n",
       "<span style=\"color: #008000; text-decoration-color: #008000\">ones, pointing out that natural resources can become lost forever and that such loss should therefore be prevented </span>\n",
       "<span style=\"color: #008000; text-decoration-color: #008000\">at all cost.'</span>,\n",
       "    <span style=\"color: #008000; text-decoration-color: #008000\">'They therefore tend to prefer other tools of decision support, such as multi-criteria analysis.'</span>,\n",
       "    <span style=\"color: #008000; text-decoration-color: #008000\">'Social cost-benefit analysis has one great advantage, however: once goals have been stated clearly, it shows </span>\n",
       "<span style=\"color: #008000; text-decoration-color: #008000\">up the best choice among alternatives.'</span>,\n",
       "    <span style=\"color: #008000; text-decoration-color: #008000\">'This forces policy-makers to show their hand and put their money where their mouth is, so to speak.'</span>,\n",
       "    <span style=\"color: #008000; text-decoration-color: #008000\">'Qualitative tools leave them the freedom to choose one alternative over another more or less arbitrarily, </span>\n",
       "<span style=\"color: #008000; text-decoration-color: #008000\">though there are of course examples of political decisions being made contrary to cost-benefit indications.'</span>,\n",
       "    <span style=\"color: #008000; text-decoration-color: #008000\">'The major disadvantages of cost-benefit analysis are our ignorance of the future (especially technical </span>\n",
       "<span style=\"color: #008000; text-decoration-color: #008000\">progress) and the difficulty of quantifying many variables.'</span>,\n",
       "    <span style=\"color: #008000; text-decoration-color: #008000\">'Hence we propose to identify some natural resources as belonging outside the domain of cost-benefit </span>\n",
       "<span style=\"color: #008000; text-decoration-color: #008000\">analysis.'</span>,\n",
       "    <span style=\"color: #008000; text-decoration-color: #008000\">'That tool should be restricted to those resources where substitutability is believed to be applicable.'</span>,\n",
       "    <span style=\"color: #008000; text-decoration-color: #008000\">'Which resources can be so treated remains, of course, a matter of debate and, ultimately, of politics.'</span>,\n",
       "    <span style=\"color: #008000; text-decoration-color: #008000\">'Those resources which we deem irreplaceable and which must therefore be preserved at all costs are the domain </span>\n",
       "<span style=\"color: #008000; text-decoration-color: #008000\">of strong sustainability.'</span>,\n",
       "    <span style=\"color: #008000; text-decoration-color: #008000\">'Here we must ask ourselves not only what degree of well-being we should bequeath to other generations, but </span>\n",
       "<span style=\"color: #008000; text-decoration-color: #008000\">even more profound questions relating to the long-term survival of our species as well as our responsibilities </span>\n",
       "<span style=\"color: #008000; text-decoration-color: #008000\">towards other species [40].'</span>,\n",
       "    <span style=\"color: #008000; text-decoration-color: #008000\">'This, however, is beyond the scope of this paper.'</span>,\n",
       "    <span style=\"color: #008000; text-decoration-color: #008000\">'The ideas advocated in this paper are not new.'</span>,\n",
       "    <span style=\"color: #008000; text-decoration-color: #008000\">'Indeed we have been inspired by the authors quoted, last but not least by the Brundtland Report [1], which in </span>\n",
       "<span style=\"color: #008000; text-decoration-color: #008000\">the literature is generally recognized as the initiator of the sustainability debate and to which we hark back.'</span>,\n",
       "    <span style=\"color: #008000; text-decoration-color: #008000\">'We believe, however, that the particular way we propose to combine the various dimensions into well-being and </span>\n",
       "<span style=\"color: #008000; text-decoration-color: #008000\">sustainability is more precise as well as more comprehensive than the way the concept of sustainability is commonly</span>\n",
       "<span style=\"color: #008000; text-decoration-color: #008000\">used at present.'</span>,\n",
       "    <span style=\"color: #008000; text-decoration-color: #008000\">'Ultimately, the point of sustainability appraisal must be that a balance is sought between the requirements of</span>\n",
       "<span style=\"color: #008000; text-decoration-color: #008000\">stewardship on the one hand and the desire for a better life on the other or even, the extent to which these can be</span>\n",
       "<span style=\"color: #008000; text-decoration-color: #008000\">reconciled.'</span>,\n",
       "    <span style=\"color: #008000; text-decoration-color: #008000\">'Sustainability 2010, 2 3446'</span>\n",
       "<span style=\"font-weight: bold\">]</span>\n",
       "</pre>\n"
      ],
      "text/plain": [
       "\u001b[1m[\u001b[0m\n",
       "    \u001b[32m'Title: None\\nDOI: 10.3390/su2113436\\nFullTextURL: http://creativecommons.org/licenses/by/3.0/\u001b[0m\u001b[32m)\u001b[0m\u001b[32m.'\u001b[0m,\n",
       "    \u001b[32m'FullTextContent:\\nSustainability 2010, 2, 3436-3448; doi:10.3390/su2113436 OPEN ACCESS sustainability ISSN \u001b[0m\n",
       "\u001b[32m2071-1050 www.mdpi.com/journal/sustainability Review What is Sustainability?'\u001b[0m,\n",
       "    \u001b[32m'Tom Kuhlman 1,* and John Farrington 2 1 Agricultural Economics Research Institute, Wageningen University, \u001b[0m\n",
       "\u001b[32mP.O.'\u001b[0m,\n",
       "    \u001b[32m'Box 29703, 2502LS The Hague, The Netherlands 2 Institute for Rural Research, Geography and Environment, \u001b[0m\n",
       "\u001b[32mUniversity of Aberdeen, Elphinstone Road, Aberdeen AB24 3UF, Scotland, UK; E-Mail: j.farrington@abdn.ac.uk * Author\u001b[0m\n",
       "\u001b[32mto whom correspondence should be addressed; E-Mail: tom.kuhlman@wur.nl; Tel.'\u001b[0m,\n",
       "    \u001b[32m': +31-70-3358-232; Fax: +31-70-3615-624.'\u001b[0m,\n",
       "    \u001b[32m'Received: 17 September 2010; in revised form: 15 October 2010 / Accepted: 19 October 2010 / Published: 1 \u001b[0m\n",
       "\u001b[32mNovember 2010 Abstract: Sustainability as a policy concept has its origin in the Brundtland Report of 1987.'\u001b[0m,\n",
       "    \u001b[32m'That document was concerned with the tension between the aspirations of mankind towards a better life on the \u001b[0m\n",
       "\u001b[32mone hand and the limitations imposed by nature on the other hand.'\u001b[0m,\n",
       "    \u001b[32m'In the course of time, the concept has been re-interpreted as encompassing three dimensions, namely social, \u001b[0m\n",
       "\u001b[32meconomic and environmental.'\u001b[0m,\n",
       "    \u001b[32m'The paper argues that this change in meaning \u001b[0m\u001b[32m(\u001b[0m\u001b[32ma\u001b[0m\u001b[32m)\u001b[0m\u001b[32m obscures the real contradiction between the aims of welfare \u001b[0m\n",
       "\u001b[32mfor all and environmental conservation; \u001b[0m\u001b[32m(\u001b[0m\u001b[32mb\u001b[0m\u001b[32m)\u001b[0m\u001b[32m risks diminishing the importance of the environmental dimension; and \u001b[0m\n",
       "\u001b[32m(\u001b[0m\u001b[32mc\u001b[0m\u001b[32m)\u001b[0m\u001b[32m separates social from economic aspects, which in reality are one and the same.'\u001b[0m,\n",
       "    \u001b[32m'It is proposed instead to return to the original meaning, where sustainability is concerned with the \u001b[0m\n",
       "\u001b[32mwell-being of future generations and in particular with irreplaceable natural resources as opposed to the \u001b[0m\n",
       "\u001b[32mgratification of present needs which we call well-being.'\u001b[0m,\n",
       "    \u001b[32m'A balance needs to be found between those two, but not by pretending they are three sides of the same coin.'\u001b[0m,\n",
       "    \u001b[32m'Although we use up natural resources at the expense of future generations, we also generate capital \u001b[0m\u001b[32m(\u001b[0m\u001b[32mincluding\u001b[0m\n",
       "\u001b[32mknowledge\u001b[0m\u001b[32m)\u001b[0m\u001b[32m which raises future well-being.'\u001b[0m,\n",
       "    \u001b[32m'A major question is to what extent the one compensates for the other.'\u001b[0m,\n",
       "    \u001b[32m'This debate centres around the problem of substitutability, which has been cast into a distinction between  \u001b[0m\n",
       "\u001b[32mweak  and  strong  sustainability.'\u001b[0m,\n",
       "    \u001b[32m'It is argued that these two do not need to be in opposition but complement one another.'\u001b[0m,\n",
       "    \u001b[32m'Sustainability 2010, 2 3437 Keywords: sustainability; well-being; welfare \\n\\n1.'\u001b[0m,\n",
       "    \u001b[32m'Introduction \\nThe term sustainability has become popular in policy-oriented research as an expression of what\u001b[0m\n",
       "\u001b[32mpublic policies ought to achieve.'\u001b[0m,\n",
       "    \u001b[32m'The principal inspiration came from the Brundtland Report of 1987 \u001b[0m\u001b[32m[\u001b[0m\u001b[32m1\u001b[0m\u001b[32m]\u001b[0m\u001b[32m.'\u001b[0m,\n",
       "    \u001b[32m'Since then the concept has shifted in meaning.'\u001b[0m,\n",
       "    \u001b[32m'This paper argues that the shift is unfortunate in that it obscures the real contradiction which exists \u001b[0m\n",
       "\u001b[32mbetween long-term sustainability and short-term welfare.'\u001b[0m,\n",
       "    \u001b[32m'Moreover, the distinction between three  pillars of sustainability is conceptually fuzzy.'\u001b[0m,\n",
       "    \u001b[32m'We propose a definition that reverts to the original sense in which the concept was intended.'\u001b[0m,\n",
       "    \u001b[32m'However, this paper does not pretend to offer a comprehensive view of the problem of sustainability.'\u001b[0m,\n",
       "    \u001b[32m'It presents a critical view of how the term is used in policy debate and in impact assessment the set of \u001b[0m\n",
       "\u001b[32mmethods used in applied research to appraise policies and projects.'\u001b[0m,\n",
       "    \u001b[32m'2.'\u001b[0m,\n",
       "    \u001b[32m'History of the Concept The concept of sustainability was originally coined in forestry, where it means never \u001b[0m\n",
       "\u001b[32mharvesting more than what the forest yields in new growth \u001b[0m\u001b[32m[\u001b[0m\u001b[32m2\u001b[0m\u001b[32m]\u001b[0m\u001b[32m.'\u001b[0m,\n",
       "    \u001b[32m'The word Nachhaltigkeit \u001b[0m\u001b[32m(\u001b[0m\u001b[32mthe German term for sustainability\u001b[0m\u001b[32m)\u001b[0m\u001b[32m was first used with this meaning in 1713 \u001b[0m\u001b[32m[\u001b[0m\u001b[32m3\u001b[0m\u001b[32m]\u001b[0m\u001b[32m.'\u001b[0m,\n",
       "    \u001b[32m'The concern with preserving natural resources for the future is perennial, of course: undoubtedly our \u001b[0m\n",
       "\u001b[32mPalaeolithic ancestors worried about their prey becoming extinct, and early farmers must have been apprehensive \u001b[0m\n",
       "\u001b[32mabout maintaining soil fertility.'\u001b[0m,\n",
       "    \u001b[32m'Traditional beliefs enjoined thinking in terms of stewardship and concern for future generations, as expressed\u001b[0m\n",
       "\u001b[32min the oft-quoted words of a Nigerian tribal chief who saw the community as consisting of  many dead, few living \u001b[0m\n",
       "\u001b[32mand countless others unborn  \u001b[0m\u001b[32m[\u001b[0m\u001b[32m4,5\u001b[0m\u001b[32m]\u001b[0m\u001b[32m.'\u001b[0m,\n",
       "    \u001b[32m'Perhaps there have always been two opposing views of the relation between humankind and nature: one which \u001b[0m\n",
       "\u001b[32mstresses adaptation and harmony, and another which sees nature as something to be conquered.'\u001b[0m,\n",
       "    \u001b[32m'While this latter view may have been rather dominant in Western civilization at least in recent centuries, its\u001b[0m\n",
       "\u001b[32mcounterpoint has never been absent.'\u001b[0m,\n",
       "    \u001b[32m'Sustainability \u001b[0m\u001b[32m(\u001b[0m\u001b[32mwithout necessarily using the word\u001b[0m\u001b[32m)\u001b[0m\u001b[32m is a natural topic of study for economists: after all, the\u001b[0m\n",
       "\u001b[32mscarcity of resources is of central concern to the dismal science.'\u001b[0m,\n",
       "    \u001b[32m'A famous example is the work of Thomas Malthus, who published his theory about looming mass starvation \u001b[0m\u001b[32m(\u001b[0m\u001b[32mdue to\u001b[0m\n",
       "\u001b[32mthe inability of available agricultural land to feed an expanding population\u001b[0m\u001b[32m)\u001b[0m\u001b[32m in 1798.'\u001b[0m,\n",
       "    \u001b[32m'A theory on the optimal rate of exploitation of non-renewable resource which is still relevant today was \u001b[0m\n",
       "\u001b[32mformulated by Harold Hotelling, an American economist, in 1931 \u001b[0m\u001b[32m[\u001b[0m\u001b[32m6\u001b[0m\u001b[32m]\u001b[0m\u001b[32m.'\u001b[0m,\n",
       "    \u001b[32m'We shall have more to say about his views later.'\u001b[0m,\n",
       "    \u001b[32m'A milestone in capturing the attention of global public policy was the report of the Club of Rome \u001b[0m\u001b[32m[\u001b[0m\u001b[32m7\u001b[0m\u001b[32m]\u001b[0m\u001b[32m, which \u001b[0m\n",
       "\u001b[32mpredicted that many natural resources crucial to our survival would be exhausted within one or two generations.'\u001b[0m,\n",
       "    \u001b[32m'Such pessimism is unbecoming in public policy which is, after all, supposed to be about improving things.'\u001b[0m,\n",
       "    \u001b[32m'Therefore, the report of the UN World Commission on Environment and Development, better known as the \u001b[0m\n",
       "\u001b[32mBrundtland Report after its chairperson, was welcomed for showing a way out of impending doom.'\u001b[0m,\n",
       "    \u001b[32m'It was this report which adopted the concept of sustainability and gave it the widespread recognition it \u001b[0m\n",
       "\u001b[32menjoys today.'\u001b[0m,\n",
       "    \u001b[32m'Sustainability 2010, 2 3438 The question which Brundtland and her colleagues posed themselves was: how can the\u001b[0m\n",
       "\u001b[32maspirations of the world s nations for a better life be reconciled with limited natural resources and the dangers \u001b[0m\n",
       "\u001b[32mof environmental degradation?'\u001b[0m,\n",
       "    \u001b[32m'Their answer is sustainable development, in the Commission s words: development that meets the needs of the \u001b[0m\n",
       "\u001b[32mpresent without compromising the ability of future generations to meet their own needs \u001b[0m\u001b[32m[\u001b[0m\u001b[32m1\u001b[0m\u001b[32m]\u001b[0m\u001b[32m.'\u001b[0m,\n",
       "    \u001b[32m'Thus, environmental concerns are important, but the basic argument is one of welfare, seen in a context of \u001b[0m\n",
       "\u001b[32minter-generational equity.'\u001b[0m,\n",
       "    \u001b[32m'We should care for the environment not because of its intrinsic value, but in order to preserve resources for \u001b[0m\n",
       "\u001b[32mour children.'\u001b[0m,\n",
       "    \u001b[32m'Since that time, there have been two major developments in the concept of sustainability: one, its \u001b[0m\n",
       "\u001b[32minterpretation in terms of three dimensions, which must be in harmony: social, economic and environmental.'\u001b[0m,\n",
       "    \u001b[32m'Two, the distinction between  strong  and  weak  sustainability.'\u001b[0m,\n",
       "    \u001b[32m'These two developments are discussed critically in the Sections 3 4 and 5 6, respectively.'\u001b[0m,\n",
       "    \u001b[32m'3.'\u001b[0m,\n",
       "    \u001b[32m'People, Planet, Profit The Brundtland report speaks of two concerns that should be reconciled: development and\u001b[0m\n",
       "\u001b[32mthe environment.'\u001b[0m,\n",
       "    \u001b[32m'They can also be interpreted as needs versus resources, or as the short versus the long term.'\u001b[0m,\n",
       "    \u001b[32m'Today, however, sustainability is almost always seen in terms of three dimensions: social, economic and \u001b[0m\n",
       "\u001b[32menvironmental \u001b[0m\u001b[32m[\u001b[0m\u001b[32m8-11\u001b[0m\u001b[32m]\u001b[0m\u001b[32m.'\u001b[0m,\n",
       "    \u001b[32m'This is embodied in the definition of sustainability adopted by the United Nations in its Agenda for \u001b[0m\n",
       "\u001b[32mDevelopment: Development is a multidimensional undertaking to achieve a higher quality of life for all people.'\u001b[0m,\n",
       "    \u001b[32m'Economic development, social development and environmental protection are interdependent and mutually \u001b[0m\n",
       "\u001b[32mreinforcing components of sustainable development \u001b[0m\u001b[32m[\u001b[0m\u001b[32m12\u001b[0m\u001b[32m]\u001b[0m\u001b[32m.'\u001b[0m,\n",
       "    \u001b[32m'But what are economic and social development and how are they different?'\u001b[0m,\n",
       "    \u001b[32m'Robert Gibson, a political scientist, says that the distinction is needed because  material gains are not \u001b[0m\n",
       "\u001b[32msufficient measures or preservers of human well-being  \u001b[0m\u001b[32m[\u001b[0m\u001b[32m13\u001b[0m\u001b[32m]\u001b[0m\u001b[32m.'\u001b[0m,\n",
       "    \u001b[32m'The same author also suggests that the three dimensions or  pillars  reflect the disciplines of those who \u001b[0m\n",
       "\u001b[32mstudy sustainability, adding for good measure that a cultural and a political pillar could also be included \u001b[0m\u001b[32m[\u001b[0m\u001b[32m13\u001b[0m\u001b[32m]\u001b[0m\u001b[32m.'\u001b[0m,\n",
       "    \u001b[32m'Gibson himself, by the way, rejects the idea of pillars altogether and instead formulates seven principles on \u001b[0m\n",
       "\u001b[32mwhich sustainability could be based.'\u001b[0m,\n",
       "    \u001b[32m'The idea of sustainability having three dimensions stems from the Triple Bottom Line concept, coined by \u001b[0m\n",
       "\u001b[32mElkington \u001b[0m\u001b[32m[\u001b[0m\u001b[32m14\u001b[0m\u001b[32m]\u001b[0m\u001b[32m.'\u001b[0m,\n",
       "    \u001b[32m'As the term bottom line suggests, it originates from the world of management science, and Elkington intended \u001b[0m\n",
       "\u001b[32mit as a way to operationalize corporate social responsibility.'\u001b[0m,\n",
       "    \u001b[32m'To the conventional bottom line \u001b[0m\u001b[32m(\u001b[0m\u001b[32mprofit\u001b[0m\u001b[32m)\u001b[0m\u001b[32m should be added care for the environment \u001b[0m\u001b[32m(\u001b[0m\u001b[32mthe planet\u001b[0m\u001b[32m)\u001b[0m\u001b[32m as well as \u001b[0m\n",
       "\u001b[32mbeing good to people, for instance by providing facilities for the handicapped and hiring minorities \u001b[0m\u001b[32m(\u001b[0m\u001b[32mthe social \u001b[0m\n",
       "\u001b[32mdimension\u001b[0m\u001b[32m)\u001b[0m\u001b[32m.'\u001b[0m,\n",
       "    \u001b[32m'The goals of business, however, are very different from those of public policy.'\u001b[0m,\n",
       "    \u001b[32m'Although, as in business, revenue is needed to cover government expenditure, maximizing the excess of revenue \u001b[0m\n",
       "\u001b[32mover expenditure is not normally considered an appropriate goal for government policy.'\u001b[0m,\n",
       "    \u001b[32m'Government is not supposed to be a profit-making venture.'\u001b[0m,\n",
       "    \u001b[32m'The  profit  pillar is therefore translated as the money made by the entire country, expressed as gross \u001b[0m\n",
       "\u001b[32mdomestic product \u001b[0m\u001b[32m(\u001b[0m\u001b[32mGDP\u001b[0m\u001b[32m)\u001b[0m\u001b[32m.'\u001b[0m,\n",
       "    \u001b[32m'This then is the economic dimension, and the social dimension \u001b[0m\u001b[32m(\u001b[0m\u001b[32m people \u001b[0m\u001b[32m)\u001b[0m\u001b[32m is everything else connected with \u001b[0m\n",
       "\u001b[32mhuman aspirations: equity Sustainability 2010, 2 3439 \u001b[0m\u001b[32m(\u001b[0m\u001b[32mtranslated as income distribution\u001b[0m\u001b[32m)\u001b[0m\u001b[32m, inclusion \u001b[0m\u001b[32m(\u001b[0m\u001b[32mcommonly \u001b[0m\n",
       "\u001b[32moperationalized as employment\u001b[0m\u001b[32m)\u001b[0m\u001b[32m and health \u001b[0m\u001b[32m(\u001b[0m\u001b[32mexpressed by an indicator such as life expectancy or access to medical \u001b[0m\n",
       "\u001b[32mservices\u001b[0m\u001b[32m)\u001b[0m\u001b[32m.'\u001b[0m,\n",
       "    \u001b[32m'However, the equation of  economic  with money is a very limited view of economics.'\u001b[0m,\n",
       "    \u001b[32m'Moreover, the view is further restricted if we confine ourselves to the aggregate amount, and not with its \u001b[0m\n",
       "\u001b[32mdistribution or with what the money can buy.'\u001b[0m,\n",
       "    \u001b[32m'GDP is intended as a measure of welfare, and as such it is a very useful but also a very incomplete and biased\u001b[0m\n",
       "\u001b[32mone.'\u001b[0m,\n",
       "    \u001b[32m'It is useful for measuring the amount of economic activity and because there are relatively good data for it; \u001b[0m\n",
       "\u001b[32mbut it needs to complemented by other indices, such as the Human Development Index.'\u001b[0m,\n",
       "    \u001b[32m'These are subjects of study for both economics and sociology, and there is no good reason to call one aspect \u001b[0m\n",
       "\u001b[32meconomic and the others social.'\u001b[0m,\n",
       "    \u001b[32m'The sociologist would ask what welfare is and how it can be measured \u001b[0m\u001b[32m(\u001b[0m\u001b[32man issue discussed in the next section\u001b[0m\u001b[32m)\u001b[0m\u001b[32m,\u001b[0m\n",
       "\u001b[32mwhereas the economist s task would be to assess, given human aspirations and the scarcity of resources, what course\u001b[0m\n",
       "\u001b[32mof action is likely to produce the highest degree of satisfaction of those aspirations.'\u001b[0m,\n",
       "    \u001b[32m'If there is good reason from a conceptual point of view to prefer a single socio-economic dimension, what of \u001b[0m\n",
       "\u001b[32mits usefulness to policy analysts?'\u001b[0m,\n",
       "    \u001b[32m'Let us consider a hypothetical project which scores very well on the environmental dimension but rather poorly\u001b[0m\n",
       "\u001b[32mon both the social and the economic one.'\u001b[0m,\n",
       "    \u001b[32m'This might easily lead a policy-maker to conclude that the project is, on the whole, not a good idea.'\u001b[0m,\n",
       "    \u001b[32m'A two-dimensional approach might bring about the opposite judgment: its environmental benefits come at a cost \u001b[0m\n",
       "\u001b[32min terms of welfare.'\u001b[0m,\n",
       "    \u001b[32m'The environmental dimension may thus receive less weight in a three-dimensional approach.'\u001b[0m,\n",
       "    \u001b[32m'Indeed, some authors explicitly state that the three dimensions should receive equal weight \u001b[0m\u001b[32m[\u001b[0m\u001b[32m15\u001b[0m\u001b[32m]\u001b[0m\u001b[32m.'\u001b[0m,\n",
       "    \u001b[32m'Since socio-economic aspects are mostly about the well-being of the present generation and environmental ones \u001b[0m\n",
       "\u001b[32mare about caring for the future, this means the former become twice as important as the latter which violates the \u001b[0m\n",
       "\u001b[32mBrundtland requirement that development should not take place at the expense of future generations.'\u001b[0m,\n",
       "    \u001b[32m'Worse, perhaps, is that the contradiction between our desire for a better life and our concern for what this \u001b[0m\n",
       "\u001b[32mmay do to the environment is obscured by conceptualizing these two concerns into three dimensions, and then \u001b[0m\n",
       "\u001b[32msuggesting that a solution is possible where all three are in harmony.'\u001b[0m,\n",
       "    \u001b[32m'Sustainability then becomes a concept that is equivalent to  good  and thus devoid of any specific meaning a \u001b[0m\n",
       "\u001b[32mblanket concept to assure stakeholders of the policy s good intentions.'\u001b[0m,\n",
       "    \u001b[32m'The strength and relevance of the original Brundtland concept was precisely that it posed the question of how \u001b[0m\n",
       "\u001b[32mto reconcile one goal  development  with another  sustainability .'\u001b[0m,\n",
       "    \u001b[32m'The two goals are often in tension.'\u001b[0m,\n",
       "    \u001b[32m'Therefore, we propose to use the word sustainability in the sense as it was intended by the Brundtland \u001b[0m\n",
       "\u001b[32mCommission, and not as it has been coined later by corporate types and policy-makers.'\u001b[0m,\n",
       "    \u001b[32m'In the words of Robert Solow \u001b[0m\u001b[32m[\u001b[0m\u001b[32m16\u001b[0m\u001b[32m]\u001b[0m\u001b[32m: If  sustainability  is anything more than a slogan or expression of \u001b[0m\n",
       "\u001b[32memotion, it must amount to an injunction to preserve productive capacity for the indefinite future.'\u001b[0m,\n",
       "    \u001b[32m'Such a concept must be confronted with the socio-economic dimension of human aspirations for a better life: \u001b[0m\n",
       "\u001b[32mwelfare, well-being, development or some similar concept.'\u001b[0m,\n",
       "    \u001b[32m'Which of these concepts it should be is the topic of the following section, before returning to our \u001b[0m\n",
       "\u001b[32mexploration of sustainability.'\u001b[0m,\n",
       "    \u001b[32m'Sustainability 2010, 2 3440 4.'\u001b[0m,\n",
       "    \u001b[32m'Happiness, Well-being and Welfare Any of the above words may be used to express a primary goal of government \u001b[0m\n",
       "\u001b[32mpolicy: to improve people s lives.'\u001b[0m,\n",
       "    \u001b[32m'In dictionaries \u001b[0m\u001b[32m(\u001b[0m\u001b[32me.g., Merriam-Webster \u001b[0m\u001b[32m[\u001b[0m\u001b[32m17\u001b[0m\u001b[32m]\u001b[0m\u001b[32m)\u001b[0m\u001b[32m, well-being, welfare and happiness are commonly seen as synonyms,\u001b[0m\n",
       "\u001b[32mand offering any one of these three words is deemed sufficient to explain the meaning of any other.'\u001b[0m,\n",
       "    \u001b[32m'We propose to consider happiness the broadest concept.'\u001b[0m,\n",
       "    \u001b[32m'A policy that would make everybody happy would surely be considered a good one.'\u001b[0m,\n",
       "    \u001b[32m'It would also generally be considered impossible to design.'\u001b[0m,\n",
       "    \u001b[32m'This is because it is very hard to know what makes people happy.'\u001b[0m,\n",
       "    \u001b[32m'Happiness is a subjective state of mind which only partially depends on objective conditions \u001b[0m\u001b[32m[\u001b[0m\u001b[32m18\u001b[0m\u001b[32m]\u001b[0m\u001b[32m.'\u001b[0m,\n",
       "    \u001b[32m'It may even be at variance with those conditions: a person may live in objectively very unfortunate \u001b[0m\n",
       "\u001b[32mcircumstances, yet manage to feel happy \u001b[0m\u001b[32m[\u001b[0m\u001b[32m19\u001b[0m\u001b[32m]\u001b[0m\u001b[32m.'\u001b[0m,\n",
       "    \u001b[32m'That is why  gross national happiness  \u001b[0m\u001b[32m(\u001b[0m\u001b[32ma term coined by the former King of Bhutan\u001b[0m\u001b[32m)\u001b[0m\u001b[32m has to be measured either \u001b[0m\n",
       "\u001b[32mby asking people how they feel \u001b[0m\u001b[32m[\u001b[0m\u001b[32m20\u001b[0m\u001b[32m]\u001b[0m\u001b[32m which is difficult to connect with concrete policies; or, if measured by \u001b[0m\n",
       "\u001b[32mobjective standards, turns out to be equivalent to what we call well-being \u001b[0m\u001b[32m[\u001b[0m\u001b[32m21\u001b[0m\u001b[32m]\u001b[0m\u001b[32m.'\u001b[0m,\n",
       "    \u001b[32m'We propose to view happiness as a basic goal of human behaviour \u001b[0m\u001b[32m[\u001b[0m\u001b[32m22\u001b[0m\u001b[32m]\u001b[0m\u001b[32m but not of policy.'\u001b[0m,\n",
       "    \u001b[32m'Individuals are responsible for their own happiness.'\u001b[0m,\n",
       "    \u001b[32m'Governments cannot make people happy.'\u001b[0m,\n",
       "    \u001b[32m'However, to the extent that happiness does depend on objective conditions external to the individual, policy \u001b[0m\n",
       "\u001b[32mcan and indeed should promote them \u001b[0m\u001b[32m[\u001b[0m\u001b[32m23\u001b[0m\u001b[32m]\u001b[0m\u001b[32m.'\u001b[0m,\n",
       "    \u001b[32m'What, then, are those conditions and should we call them well-being or welfare? Of these two terms, well-being\u001b[0m\n",
       "\u001b[32mis commonly used in a broader sense than welfare \u001b[0m\u001b[32m[\u001b[0m\u001b[32m24\u001b[0m\u001b[32m]\u001b[0m\u001b[32m.'\u001b[0m,\n",
       "    \u001b[32m'If happiness can be equated with  subjective well-being  \u001b[0m\u001b[32m[\u001b[0m\u001b[32m18,19\u001b[0m\u001b[32m]\u001b[0m\u001b[32m, then well-being refers to the objective \u001b[0m\n",
       "\u001b[32mconditions that help to make people happy.'\u001b[0m,\n",
       "    \u001b[32m'It is equivalent to  livability of the environment  in Veenhoven s scheme of  qualities of life  \u001b[0m\u001b[32m[\u001b[0m\u001b[32m25\u001b[0m\u001b[32m]\u001b[0m\u001b[32m, and it \u001b[0m\n",
       "\u001b[32mcovers what policy can do to advance happiness.'\u001b[0m,\n",
       "    \u001b[32m'In Amartya Sen s view, well-being ought to be not about material goods or  basic needs , but about \u001b[0m\n",
       "\u001b[32mcapabilities to achieve one s potential \u001b[0m\u001b[32m[\u001b[0m\u001b[32m26\u001b[0m\u001b[32m]\u001b[0m\u001b[32m.'\u001b[0m,\n",
       "    \u001b[32m'If well-being is to be a policy goal, this means it should incorporate such intangible needs as freedom, \u001b[0m\n",
       "\u001b[32meducation, security, democracy and justice.'\u001b[0m,\n",
       "    \u001b[32m'Welfare is then a more limited concept denoting prosperity in terms of material needs such as food, water, \u001b[0m\n",
       "\u001b[32mhealth, and shelter.'\u001b[0m,\n",
       "    \u001b[32m'It tends to be easier to measure than well-being and can therefore serve as a useful proxy as long as we keep \u001b[0m\n",
       "\u001b[32min mind that it does not cover all aspects \u001b[0m\u001b[32m[\u001b[0m\u001b[32m27\u001b[0m\u001b[32m]\u001b[0m\u001b[32m.'\u001b[0m,\n",
       "    \u001b[32m'Other  social  indicators, often harder to quantify, refer to issues such as participation and cultural values\u001b[0m\n",
       "\u001b[32m[\u001b[0m\u001b[32m28\u001b[0m\u001b[32m]\u001b[0m\u001b[32m.'\u001b[0m,\n",
       "    \u001b[32m'These fit perfectly into the concept of well-being.'\u001b[0m,\n",
       "    \u001b[32m'Thus, we propose to replace the social and economic dimensions of sustainability as conventionally used with a\u001b[0m\n",
       "\u001b[32msingle dimension called well-being, which is a policy goal that must be balanced with another one called \u001b[0m\n",
       "\u001b[32msustainability.'\u001b[0m,\n",
       "    \u001b[32m'Measuring well-being and sustainability separately will enhance the transparency of the policy formulation \u001b[0m\n",
       "\u001b[32mprocess, by bringing out in the open the two issues and clarifying rather than obscuring the choices that have to \u001b[0m\n",
       "\u001b[32mbe made.'\u001b[0m,\n",
       "    \u001b[32m'Of course this does not solve all problems of policy evaluation: well-being has many aspects that need to be \u001b[0m\n",
       "\u001b[32mweighed against one another.'\u001b[0m,\n",
       "    \u001b[32m'Sustainability 2010, 2 3441 5.'\u001b[0m,\n",
       "    \u001b[32m'Sustainability: Resources and the Future Sustainability may then be defined as maintaining well-being over a \u001b[0m\n",
       "\u001b[32mlong, perhaps even an indefinite period.'\u001b[0m,\n",
       "    \u001b[32m'This covers largely the environmental dimension of the triple bottom line, but environment and sustainability \u001b[0m\n",
       "\u001b[32mare not synonymous.'\u001b[0m,\n",
       "    \u001b[32m'On the one hand, some forms of environmental degradation are both relatively easily reversed and highly \u001b[0m\n",
       "\u001b[32mnoxious in the present many forms of air and water pollution, for instance.'\u001b[0m,\n",
       "    \u001b[32m'These have a strong well-being aspect.'\u001b[0m,\n",
       "    \u001b[32m'Indeed, in the EU Guidelines for Impact Assessment \u001b[0m\u001b[32m[\u001b[0m\u001b[32m10\u001b[0m\u001b[32m]\u001b[0m\u001b[32m they appear both under the environmental and the \u001b[0m\n",
       "\u001b[32msocial dimension.'\u001b[0m,\n",
       "    \u001b[32m'On the other hand, what we bequeath to future generations also includes cultural heritage: art and cultural \u001b[0m\n",
       "\u001b[32mlandscapes as well as infrastructure, technology and institutions.'\u001b[0m,\n",
       "    \u001b[32m'Some of this heritage consists of resources needed for production or, to put it differently, for our \u001b[0m\n",
       "\u001b[32msurvival.'\u001b[0m,\n",
       "    \u001b[32m'It is not always easy to know which ones these are, as resources essential today may be substituted by others \u001b[0m\n",
       "\u001b[32mtomorrow; and genetic resources potentially useful for medicine may be lost before we have even identified them.'\u001b[0m,\n",
       "    \u001b[32m'Other resources are appreciated for their esthetic, scientific or  intrinsic  value \u001b[0m\u001b[32m(\u001b[0m\u001b[32msuch as the existence of \u001b[0m\n",
       "\u001b[32morangutans, Picasso paintings, or knowledge of black holes\u001b[0m\u001b[32m)\u001b[0m\u001b[32m.'\u001b[0m,\n",
       "    \u001b[32m'Some of these are not easily lost or are well protected \u001b[0m\u001b[32m(\u001b[0m\u001b[32mknowledge, works of art\u001b[0m\u001b[32m)\u001b[0m\u001b[32m; others are more difficult \u001b[0m\n",
       "\u001b[32mto preserve \u001b[0m\u001b[32m(\u001b[0m\u001b[32mcultural-historical landscapes\u001b[0m\u001b[32m)\u001b[0m\u001b[32m.'\u001b[0m,\n",
       "    \u001b[32m'Since man does not live by bread alone, there is no fundamental reason to separate the two types.'\u001b[0m,\n",
       "    \u001b[32m'It makes more sense to distinguish between natural and man-made resources, and between renewable and \u001b[0m\n",
       "\u001b[32mnon-renewable ones \u001b[0m\u001b[32m[\u001b[0m\u001b[32m29\u001b[0m\u001b[32m]\u001b[0m\u001b[32m.'\u001b[0m,\n",
       "    \u001b[32m'Renewable man-made resources are equivalent to what economists call capital, and we shall use the term capital\u001b[0m\n",
       "\u001b[32min that sense \u001b[0m\u001b[32m(\u001b[0m\u001b[32m)\u001b[0m\u001b[32m.'\u001b[0m,\n",
       "    \u001b[32m'A Fourfold Classification of Natural and Cultural Resources.'\u001b[0m,\n",
       "    \u001b[32m'Non-renewable Renewable Natural e.g., soil, biodiversity, fossil fuels e.g., water, forest, clean air Man-made\u001b[0m\n",
       "\u001b[32me.g., paintings, landscapes capital As Robert Solow \u001b[0m\u001b[32m[\u001b[0m\u001b[32m16\u001b[0m\u001b[32m]\u001b[0m\u001b[32m has pointed out, we cannot avoid using up some \u001b[0m\n",
       "\u001b[32mnon-renewable natural resources, but this does not mean that these will necessarily become completely exhausted.'\u001b[0m,\n",
       "    \u001b[32m'In Solow s view, natural resources \u001b[0m\u001b[32m(\u001b[0m\u001b[32mwhether renewable or non-renewable\u001b[0m\u001b[32m)\u001b[0m\u001b[32m can always be substituted by capital \u001b[0m\n",
       "\u001b[32m[\u001b[0m\u001b[32m30\u001b[0m\u001b[32m]\u001b[0m\u001b[32m.'\u001b[0m,\n",
       "    \u001b[32m'This can take the form of new materials \u001b[0m\u001b[32m(\u001b[0m\u001b[32msay, plastic for steel\u001b[0m\u001b[32m)\u001b[0m\u001b[32m or smaller amounts of the natural resource \u001b[0m\n",
       "\u001b[32mfor the same amount of end product \u001b[0m\u001b[32m(\u001b[0m\u001b[32me.g., energy efficiency\u001b[0m\u001b[32m)\u001b[0m\u001b[32m.'\u001b[0m,\n",
       "    \u001b[32m'New natural resources are harnessed while others become obsolete before they are depleted.'\u001b[0m,\n",
       "    \u001b[32m'An example is the substitution of coke for charcoal in the iron industry as wood for charcoal was becoming \u001b[0m\n",
       "\u001b[32mscarce, or the transition from hunting and gathering to agriculture in tandem with increasing population \u001b[0m\n",
       "\u001b[32mdensities.'\u001b[0m,\n",
       "    \u001b[32m'In any case, capital continues to increase as natural resources become scarcer.'\u001b[0m,\n",
       "    \u001b[32m'We do not know, of course, whether technology will always be able to solve our resource problems, and moreover\u001b[0m\n",
       "\u001b[32mthere are resources that we just do not want to lose such as the blue whale or the Amazon forest.'\u001b[0m,\n",
       "    \u001b[32m'The question is, how much of our natural resources can we sacrifice?'\u001b[0m,\n",
       "    \u001b[32m'More precisely, we should pose two questions: what resources should we preserve at all cost, and to what \u001b[0m\n",
       "\u001b[32mdegree?'\u001b[0m,\n",
       "    \u001b[32m'And, for those that can be substituted for by capital, how much capital should be created to compensate for \u001b[0m\n",
       "\u001b[32mthe loss of how much in terms of natural resources?'\u001b[0m,\n",
       "    \u001b[32m'Sustainability 2010, 2 3442 The first question is beyond the purview of the economist.'\u001b[0m,\n",
       "    \u001b[32m'It is a decision of society what resources are to be considered essential.'\u001b[0m,\n",
       "    \u001b[32m'Economic analysis can, of course, estimate the cost of their conservation in terms of well-being foregone, to \u001b[0m\n",
       "\u001b[32mhelp in the decision-making process.'\u001b[0m,\n",
       "    \u001b[32m'The second question was first analyzed by Harold Hotelling in 1931.'\u001b[0m,\n",
       "    \u001b[32m'Hotelling considered that the depletion of a natural resource may be too slow as well as too fast: the present\u001b[0m\n",
       "\u001b[32mgeneration would probably not be better off if our ancestors had limited the extraction of coal to 10% of what they\u001b[0m\n",
       "\u001b[32mactually used; the progress of manufacturing would have been much slower, and even as it is we are not short of \u001b[0m\n",
       "\u001b[32mcoal for a couple of centuries yet.'\u001b[0m,\n",
       "    \u001b[32m'There is an optimum rate of exhaustion, in which the social cost of losing the resource is outweighed by the \u001b[0m\n",
       "\u001b[32msocial benefit which it yields over the period of use.'\u001b[0m,\n",
       "    \u001b[32m'This benefit can be expressed as rent, which in economic theory means the payment for a production factor \u001b[0m\n",
       "\u001b[32mabove what is needed to keep it operating.'\u001b[0m,\n",
       "    \u001b[32m'In an ideal situation, where a mineral is freely accessible, the rent is the excess of the price of the \u001b[0m\n",
       "\u001b[32mmineral over the cost of extracting it.'\u001b[0m,\n",
       "    \u001b[32m'Hotelling shows that this rent is maximized if the increase in rent is equal to the discount rate \u001b[0m\u001b[32m[\u001b[0m\u001b[32m6\u001b[0m\u001b[32m]\u001b[0m\u001b[32m.'\u001b[0m,\n",
       "    \u001b[32m'That rate is an important quantity in welfare economics: it expresses how the value of a future benefit \u001b[0m\n",
       "\u001b[32mcompares to the same benefit in the present.'\u001b[0m,\n",
       "    \u001b[32m'Social discount rates as used for public investments tend to be of the order of a few percentage points per \u001b[0m\n",
       "\u001b[32myear; if we place a high value on caring for the future, we would use a low discount rate.'\u001b[0m,\n",
       "    \u001b[32m'Hotelling s theory was taken up taken up by Robert Solow in a lecture in 1974, where he proposes that these \u001b[0m\n",
       "\u001b[32mresource rents \u001b[0m\u001b[32m(\u001b[0m\u001b[32mor Hotelling rents\u001b[0m\u001b[32m)\u001b[0m\u001b[32m must be invested in productive capital so as to compensate future generations \u001b[0m\n",
       "\u001b[32mfor their loss of the natural resource.'\u001b[0m,\n",
       "    \u001b[32m'This is also known as Hartwick s rule \u001b[0m\u001b[32m[\u001b[0m\u001b[32m16\u001b[0m\u001b[32m]\u001b[0m\u001b[32m.'\u001b[0m,\n",
       "    \u001b[32m'Such thoughts are at the basis of funds that some resource-rich countries set up to invest the proceeds of \u001b[0m\n",
       "\u001b[32mtheir resource for the future.'\u001b[0m,\n",
       "    \u001b[32m'The big unknown here is, of course, whether capital \u001b[0m\u001b[32m(\u001b[0m\u001b[32mincluding technical progress\u001b[0m\u001b[32m)\u001b[0m\u001b[32m can indeed substitute for \u001b[0m\n",
       "\u001b[32mnatural resources indefinitely \u001b[0m\u001b[32m[\u001b[0m\u001b[32m31\u001b[0m\u001b[32m]\u001b[0m\u001b[32m.'\u001b[0m,\n",
       "    \u001b[32m'While we do not know this, technical progress may provide us with an objective basis for the social discount \u001b[0m\n",
       "\u001b[32mrate, i.e., the rate that we should use as a society to discount future as compared to present well-being.'\u001b[0m,\n",
       "    \u001b[32m'That basis, according to Randall \u001b[0m\u001b[32m[\u001b[0m\u001b[32m31\u001b[0m\u001b[32m]\u001b[0m\u001b[32m should be the marginal efficiency of capital, which in the long run is \u001b[0m\n",
       "\u001b[32mequal to the productivity of society.'\u001b[0m,\n",
       "    \u001b[32m'That brings us closer to measuring sustainability but not close enough.'\u001b[0m,\n",
       "    \u001b[32m'The productivity of society can be measured only in terms of GDP, which as we saw is not a reliable indicator \u001b[0m\n",
       "\u001b[32mof well-being.'\u001b[0m,\n",
       "    \u001b[32m'However, Randall is right in pointing out that artificially keeping the discount rate low for the benefit of \u001b[0m\n",
       "\u001b[32mfuture generations may actually do those generations a disfavour by misallocating resources today and bequeathing \u001b[0m\n",
       "\u001b[32mthem a lower standard of well-being than they might have enjoyed.'\u001b[0m,\n",
       "    \u001b[32m'It will by now be clear how crucial the discount rate is for intergenerational equity, which we propose to \u001b[0m\n",
       "\u001b[32mequate with sustainability.'\u001b[0m,\n",
       "    \u001b[32m'It could be argued that this rate should be zero, in which case the welfare of future generations would be of \u001b[0m\n",
       "\u001b[32mequal importance to our own.'\u001b[0m,\n",
       "    \u001b[32m'The difficulty with this view is that we do not know what the value of today s natural resources \u001b[0m\u001b[32m(\u001b[0m\u001b[32mor of some \u001b[0m\n",
       "\u001b[32mof them, in any case\u001b[0m\u001b[32m)\u001b[0m\u001b[32m will be in the future.'\u001b[0m,\n",
       "    \u001b[32m'A distinction should therefore be made between those resources which we are convinced will always be important\u001b[0m\n",
       "\u001b[32m(\u001b[0m\u001b[32mbiodiversity is a case in point\u001b[0m\u001b[32m)\u001b[0m\u001b[32m and those which depend on the state of technology \u001b[0m\u001b[32m(\u001b[0m\u001b[32mfor example, the need for \u001b[0m\n",
       "\u001b[32moil\u001b[0m\u001b[32m)\u001b[0m\u001b[32m.'\u001b[0m,\n",
       "    \u001b[32m'Sustainability can now loosely be defined as a state of affairs where the sum of natural and man-made \u001b[0m\n",
       "\u001b[32mresources remains at least constant for the foreseeable future, in order that the well-being of future generations \u001b[0m\n",
       "\u001b[32mdoes not decline.'\u001b[0m,\n",
       "    \u001b[32m'Ideally, when we assess the potential impact of a proposed policy, programme or project, it should both lead \u001b[0m\n",
       "\u001b[32mto higher well-being and to a positive or at least neutral Sustainability 2010, 2 3443 effect on the overall state \u001b[0m\n",
       "\u001b[32mof resources for the future in which case we can speak of sustainable development \u001b[0m\u001b[32m[\u001b[0m\u001b[32m32\u001b[0m\u001b[32m]\u001b[0m\u001b[32m.'\u001b[0m,\n",
       "    \u001b[32m'6.'\u001b[0m,\n",
       "    \u001b[32m'Weak and Strong Sustainability Sustainability, then, is a matter of what resources natural resources, quality \u001b[0m\n",
       "\u001b[32mof the environment, and capital we bequeath to coming generations.'\u001b[0m,\n",
       "    \u001b[32m'As we saw, some loss of natural resources is inevitable, but this may be compensated for by increased capital \u001b[0m\n",
       "\u001b[32mat least in the view of Robert Solow and his ilk.'\u001b[0m,\n",
       "    \u001b[32m'Others, however, oppose the idea that capital can substitute for natural resources and feel that \u001b[0m\n",
       "\u001b[32msustainability is a matter of preserving natural resources essential for our survival \u001b[0m\u001b[32m[\u001b[0m\u001b[32m33\u001b[0m\u001b[32m]\u001b[0m\u001b[32m.'\u001b[0m,\n",
       "    \u001b[32m'The two views are eloquently stated in Pearce et al.'\u001b[0m,\n",
       "    \u001b[32m'\u001b[0m\u001b[32m[\u001b[0m\u001b[32m32\u001b[0m\u001b[32m]\u001b[0m\u001b[32m: \u001b[0m\u001b[32m(\u001b[0m\u001b[32mi\u001b[0m\u001b[32m)\u001b[0m\u001b[32m That the next generation should inherit a stock of wealth, comprising man-made assets and \u001b[0m\n",
       "\u001b[32menvironmental assets, no less than the stock inherited by the previous generation; \u001b[0m\u001b[32m(\u001b[0m\u001b[32mii\u001b[0m\u001b[32m)\u001b[0m\u001b[32m That the next generation \u001b[0m\n",
       "\u001b[32mshould inherit a stock of environmental assets no less than the stock inherited by the previous generation.'\u001b[0m,\n",
       "    \u001b[32m'These two views have been called  weak  and  strong  sustainability, respectively \u001b[0m\u001b[32m[\u001b[0m\u001b[32m34\u001b[0m\u001b[32m]\u001b[0m\u001b[32m.'\u001b[0m,\n",
       "    \u001b[32m'Although the difference between them led to a heated debate \u001b[0m\u001b[32m[\u001b[0m\u001b[32m35,36\u001b[0m\u001b[32m]\u001b[0m\u001b[32m, there is a place for both of them.'\u001b[0m,\n",
       "    \u001b[32m'Some resources must fall under the requirement of strong sustainability, others under the weak variety.'\u001b[0m,\n",
       "    \u001b[32m'Which of the two it is will depend on the degree to which they can be substituted by capital.'\u001b[0m,\n",
       "    \u001b[32m'The depletion of fossil fuels, for instance, is an issue of weak sustainability: provided other sources of \u001b[0m\n",
       "\u001b[32menergy are developed instead, we are not obliged to leave our descendants an undiminished stock of petroleum.'\u001b[0m,\n",
       "    \u001b[32m'An extinct species, on the other hand, cannot, at the current state of scientific knowledge, be recovered, and\u001b[0m\n",
       "\u001b[32mmust therefore be considered a loss in terms of strong sustainability.'\u001b[0m,\n",
       "    \u001b[32m'Strong sustainability can be seen as a series of thresholds that must not be crossed.'\u001b[0m,\n",
       "    \u001b[32m'In impact assessment, any outcome of a proposed intervention must fall within those thresholds.'\u001b[0m,\n",
       "    \u001b[32m'Setting such thresholds is largely a matter of socially and politically determined preferences, but also a \u001b[0m\n",
       "\u001b[32mmatter of resilience: to what extent is a system \u001b[0m\u001b[32m(\u001b[0m\u001b[32mfor instance an ecosystem\u001b[0m\u001b[32m)\u001b[0m\u001b[32m able to recover from shocks and \u001b[0m\n",
       "\u001b[32mstress?'\u001b[0m,\n",
       "    \u001b[32m'We may think of strong sustainability as a space delimited by such thresholds.'\u001b[0m,\n",
       "    \u001b[32m'Weak sustainability is then the yardstick by which policy outcomes within that space are judged.'\u001b[0m,\n",
       "    \u001b[32m'Given that the conditions of strong sustainability are met, the most sustainable outcome will be that which \u001b[0m\n",
       "\u001b[32mleads to the largest amount of both natural and man-made resources, i.e., environmental assets, valuable landscapes\u001b[0m\n",
       "\u001b[32mand other forms of cultural heritage, science and technology, infrastructure, etc.'\u001b[0m,\n",
       "    \u001b[32m'Such an approach is familiar to economists: in economic analysis, one of the constraints is always the legal \u001b[0m\n",
       "\u001b[32msystem governing an economy, by whose rules an economic agent must play.'\u001b[0m,\n",
       "    \u001b[32m'Strong sustainability is an aspect of such rules.'\u001b[0m,\n",
       "    \u001b[32m'Thus weak and strong sustainability each have a role to play in impact assessment.'\u001b[0m,\n",
       "    \u001b[32m'However, having such a framework does not mean that there are no more disagreements.'\u001b[0m,\n",
       "    \u001b[32m'For each environmental issue there can be arguments about its substitutability.'\u001b[0m,\n",
       "    \u001b[32m'Generally, ecologists and other natural scientists will favour a larger role for strong sustainability \u001b[0m\n",
       "\u001b[32m(\u001b[0m\u001b[32memphasizing non-substitutable ecosystem functions\u001b[0m\u001b[32m)\u001b[0m\u001b[32m, whereas economists tend to like weak sustainability as this \u001b[0m\n",
       "\u001b[32mgives them leeway to use their models.'\u001b[0m,\n",
       "    \u001b[32m'Sustainability 2010, 2 3444 Strong sustainability puts them out of work.'\u001b[0m,\n",
       "    \u001b[32m'The strongest argument in favour of weak sustainability is that it allows the calculation of the cost of \u001b[0m\n",
       "\u001b[32mpreserving an environmental asset as well as its benefit.'\u001b[0m,\n",
       "    \u001b[32m'For instance, if the cost of mitigating climate change is very high \u001b[0m\u001b[32m(\u001b[0m\u001b[32msay, hypothetically, sacrificing 1 \u001b[0m\n",
       "\u001b[32mpercentage point of world economic growth annually in order to avoid 0.5  of temperature increase over 50 years\u001b[0m\u001b[32m)\u001b[0m\u001b[32m, \u001b[0m\n",
       "\u001b[32mone might decide to allocate resources to buying land for nature reserves instead.'\u001b[0m,\n",
       "    \u001b[32m'The most crucial variables in sustainability assessment will be the thresholds of strong sustainability, the \u001b[0m\n",
       "\u001b[32msocial discount rate to be used, and the valuation of material benefits versus those of  intrinsic  value.'\u001b[0m,\n",
       "    \u001b[32m'Strong sustainability has two principal arguments, which we may call ecosystem services and stewardship.'\u001b[0m,\n",
       "    \u001b[32m'According to the former, human life exists only by the grace of nature, which provides a number of essential \u001b[0m\n",
       "\u001b[32mservices termed ecosystem services \u001b[0m\u001b[32m[\u001b[0m\u001b[32m37\u001b[0m\u001b[32m]\u001b[0m\u001b[32m.'\u001b[0m,\n",
       "    \u001b[32m'We damage these systems at our peril.'\u001b[0m,\n",
       "    \u001b[32m'The second argument is an ethical one, namely that we do not have the right to destroy the right to life of \u001b[0m\n",
       "\u001b[32mother species, or that we must preserve the beauty and diversity of our natural environment for our own enjoyment \u001b[0m\n",
       "\u001b[32mas well as for future generations.'\u001b[0m,\n",
       "    \u001b[32m'It is of course not possible for any policy-maker to prevent completely the extinction of species, the \u001b[0m\n",
       "\u001b[32mdecrease of natural habitats or the disappearance of valuable landscapes; but this is not the point of strong \u001b[0m\n",
       "\u001b[32msustainability.'\u001b[0m,\n",
       "    \u001b[32m'The point is that any action the policy-maker considers can be assessed in advance for its impact on any \u001b[0m\n",
       "\u001b[32maspect of natural resources.'\u001b[0m,\n",
       "    \u001b[32m'The policy-maker can decide in advance what types of impact are tolerable, and for those that are, to \u001b[0m\n",
       "\u001b[32mascertain that a permissible negative impact is compensated for in terms of well-being \u001b[0m\u001b[32m[\u001b[0m\u001b[32m38\u001b[0m\u001b[32m]\u001b[0m\u001b[32m.'\u001b[0m,\n",
       "    \u001b[32m'7.'\u001b[0m,\n",
       "    \u001b[32m'Conclusions Having reached this point, the reader may feel we have come no closer to solving the practical \u001b[0m\n",
       "\u001b[32mproblem of how to measure sustainability. Indeed we have aimed more at exploring the theoretical basis for defining\u001b[0m\n",
       "\u001b[32msustainability than providing a practical manual for measuring it. In spite of the large body of literature on \u001b[0m\n",
       "\u001b[32msustainability, we feel that there is still need for clarifying the concept.'\u001b[0m,\n",
       "    \u001b[32m'Since sustainability is a topic of both policy appraisal and scientific study, its definition must be useful \u001b[0m\n",
       "\u001b[32mfor both fields of work.'\u001b[0m,\n",
       "    \u001b[32m'We believe that separating the needs of the present from the needs of those who will come after us is a \u001b[0m\n",
       "\u001b[32msensible way to analyze scenarios and assess the impact of policies, because it clarifies the choices that need to \u001b[0m\n",
       "\u001b[32mbe made.'\u001b[0m,\n",
       "    \u001b[32m'We propose to call the former well-being and the latter sustainability.'\u001b[0m,\n",
       "    \u001b[32m'This prevents sustainability from becoming an empty phrase indistinguishable from  goodness .'\u001b[0m,\n",
       "    \u001b[32m'Well-being mostly corresponds with the social and economic dimensions of the  triple bottom line , \u001b[0m\n",
       "\u001b[32msustainability with the environmental dimension.'\u001b[0m,\n",
       "    \u001b[32m'When assessing the impact of a policy on well-being, the distinction between social and economic dimensions is\u001b[0m\n",
       "\u001b[32mnot helpful and often impossible to make in practice.'\u001b[0m,\n",
       "    \u001b[32m'It is better to use sociological insights to assign values to the different aspects of well-being, and \u001b[0m\n",
       "\u001b[32meconomics to combine those values into an overall assessment.'\u001b[0m,\n",
       "    \u001b[32m'In arriving at actual measurements \u001b[0m\u001b[32m(\u001b[0m\u001b[32minevitable for comparing different possible outcomes\u001b[0m\u001b[32m)\u001b[0m\u001b[32m, some important but \u001b[0m\n",
       "\u001b[32mimponderable costs and benefits may have to be left out because they cannot be expressed in quantitative terms.'\u001b[0m,\n",
       "    \u001b[32m'However, they should be left out only from the measurement, not from the assessment.'\u001b[0m,\n",
       "    \u001b[32m'In this way, decision-makers can at least see how much an unmeasured benefit will cost, or what has to be \u001b[0m\n",
       "\u001b[32msacrificed for a certain increase in measured well- Sustainability 2010, 2 3445 being.'\u001b[0m,\n",
       "    \u001b[32m'The concept of welfare may be useful as a subset of well-being namely, that part of well-being that can be \u001b[0m\n",
       "\u001b[32mquantified and valued in money terms.'\u001b[0m,\n",
       "    \u001b[32m'When assessing sustainability, a distinction should be made between strong and weak sustainability. Both can \u001b[0m\n",
       "\u001b[32mhave a place in impact assessment: strong sustainability as thresholds that should not be crossed, weak \u001b[0m\n",
       "\u001b[32msustainability for those environmental amenities, natural resources or ecosystem services \u001b[0m\u001b[32m(\u001b[0m\u001b[32mthese three terms are \u001b[0m\n",
       "\u001b[32mmore, or less, interchangeable\u001b[0m\u001b[32m)\u001b[0m\u001b[32m that are in principle substitutable for others.'\u001b[0m,\n",
       "    \u001b[32m'The setting of the thresholds is a matter of policy, but must be informed by scientific knowledge on the \u001b[0m\n",
       "\u001b[32mresilience of ecosystems.'\u001b[0m,\n",
       "    \u001b[32m'The thresholds can be set so restrictively that no sustainable outcome is possible, and all that policy can do\u001b[0m\n",
       "\u001b[32mis to minimize the extent by which thresholds are exceeded.'\u001b[0m,\n",
       "    \u001b[32m'The less restrictive they are, the larger the  sustainability space , within which analysts can model and \u001b[0m\n",
       "\u001b[32mcompare different outcomes.'\u001b[0m,\n",
       "    \u001b[32m'Potschin s and Haines-Young s notion of sustainability choice space \u001b[0m\u001b[32m[\u001b[0m\u001b[32m39\u001b[0m\u001b[32m]\u001b[0m\u001b[32m is a way of articulating this.'\u001b[0m,\n",
       "    \u001b[32m'In such analysis the participation of natural and social scientists \u001b[0m\u001b[32m(\u001b[0m\u001b[32mincluding economists\u001b[0m\u001b[32m)\u001b[0m\u001b[32m is needed.'\u001b[0m,\n",
       "    \u001b[32m'We see this as a possible way to resolve the perennial conflict between economists and ecologists about \u001b[0m\n",
       "\u001b[32msustainability, or at the very least a method to handle that conflict.'\u001b[0m,\n",
       "    \u001b[32m'The latter tend to baulk at cost-benefit analysis in which natural resources may be substituted by man-made \u001b[0m\n",
       "\u001b[32mones, pointing out that natural resources can become lost forever and that such loss should therefore be prevented \u001b[0m\n",
       "\u001b[32mat all cost.'\u001b[0m,\n",
       "    \u001b[32m'They therefore tend to prefer other tools of decision support, such as multi-criteria analysis.'\u001b[0m,\n",
       "    \u001b[32m'Social cost-benefit analysis has one great advantage, however: once goals have been stated clearly, it shows \u001b[0m\n",
       "\u001b[32mup the best choice among alternatives.'\u001b[0m,\n",
       "    \u001b[32m'This forces policy-makers to show their hand and put their money where their mouth is, so to speak.'\u001b[0m,\n",
       "    \u001b[32m'Qualitative tools leave them the freedom to choose one alternative over another more or less arbitrarily, \u001b[0m\n",
       "\u001b[32mthough there are of course examples of political decisions being made contrary to cost-benefit indications.'\u001b[0m,\n",
       "    \u001b[32m'The major disadvantages of cost-benefit analysis are our ignorance of the future \u001b[0m\u001b[32m(\u001b[0m\u001b[32mespecially technical \u001b[0m\n",
       "\u001b[32mprogress\u001b[0m\u001b[32m)\u001b[0m\u001b[32m and the difficulty of quantifying many variables.'\u001b[0m,\n",
       "    \u001b[32m'Hence we propose to identify some natural resources as belonging outside the domain of cost-benefit \u001b[0m\n",
       "\u001b[32manalysis.'\u001b[0m,\n",
       "    \u001b[32m'That tool should be restricted to those resources where substitutability is believed to be applicable.'\u001b[0m,\n",
       "    \u001b[32m'Which resources can be so treated remains, of course, a matter of debate and, ultimately, of politics.'\u001b[0m,\n",
       "    \u001b[32m'Those resources which we deem irreplaceable and which must therefore be preserved at all costs are the domain \u001b[0m\n",
       "\u001b[32mof strong sustainability.'\u001b[0m,\n",
       "    \u001b[32m'Here we must ask ourselves not only what degree of well-being we should bequeath to other generations, but \u001b[0m\n",
       "\u001b[32meven more profound questions relating to the long-term survival of our species as well as our responsibilities \u001b[0m\n",
       "\u001b[32mtowards other species \u001b[0m\u001b[32m[\u001b[0m\u001b[32m40\u001b[0m\u001b[32m]\u001b[0m\u001b[32m.'\u001b[0m,\n",
       "    \u001b[32m'This, however, is beyond the scope of this paper.'\u001b[0m,\n",
       "    \u001b[32m'The ideas advocated in this paper are not new.'\u001b[0m,\n",
       "    \u001b[32m'Indeed we have been inspired by the authors quoted, last but not least by the Brundtland Report \u001b[0m\u001b[32m[\u001b[0m\u001b[32m1\u001b[0m\u001b[32m]\u001b[0m\u001b[32m, which in \u001b[0m\n",
       "\u001b[32mthe literature is generally recognized as the initiator of the sustainability debate and to which we hark back.'\u001b[0m,\n",
       "    \u001b[32m'We believe, however, that the particular way we propose to combine the various dimensions into well-being and \u001b[0m\n",
       "\u001b[32msustainability is more precise as well as more comprehensive than the way the concept of sustainability is commonly\u001b[0m\n",
       "\u001b[32mused at present.'\u001b[0m,\n",
       "    \u001b[32m'Ultimately, the point of sustainability appraisal must be that a balance is sought between the requirements of\u001b[0m\n",
       "\u001b[32mstewardship on the one hand and the desire for a better life on the other or even, the extent to which these can be\u001b[0m\n",
       "\u001b[32mreconciled.'\u001b[0m,\n",
       "    \u001b[32m'Sustainability 2010, 2 3446'\u001b[0m\n",
       "\u001b[1m]\u001b[0m\n"
      ]
     },
     "metadata": {},
     "output_type": "display_data"
    }
   ],
   "source": [
    "# --- Second pass: merge chunks if they are still semantically close ---\n",
    "merged_chunks = []\n",
    "i = 0\n",
    "while i < len(chunks):\n",
    "    if i < len(chunks) - 1:\n",
    "        # Embed the current and next chunk\n",
    "        emb1 = model.encode(chunks[i], convert_to_tensor=True)\n",
    "        emb2 = model.encode(chunks[i+1], convert_to_tensor=True)\n",
    "        sim = util.cos_sim(emb1, emb2).item()\n",
    "\n",
    "        if sim >= 0.80:  # merge threshold (slightly higher)\n",
    "            merged_chunks.append(chunks[i] + \" \" + chunks[i+1])\n",
    "            i += 2\n",
    "            continue\n",
    "    merged_chunks.append(chunks[i])\n",
    "    i += 1\n",
    "\n",
    "print(merged_chunks)"
   ]
  },
  {
   "cell_type": "code",
   "execution_count": null,
   "id": "c8338ee3",
   "metadata": {},
   "outputs": [],
   "source": []
  }
 ],
 "metadata": {
  "kernelspec": {
   "display_name": "textract-tiquu (3.10.12)",
   "language": "python",
   "name": "python3"
  },
  "language_info": {
   "codemirror_mode": {
    "name": "ipython",
    "version": 3
   },
   "file_extension": ".py",
   "mimetype": "text/x-python",
   "name": "python",
   "nbconvert_exporter": "python",
   "pygments_lexer": "ipython3",
   "version": "3.10.12"
  }
 },
 "nbformat": 4,
 "nbformat_minor": 5
}
